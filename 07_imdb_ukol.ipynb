{
 "cells": [
  {
   "cell_type": "markdown",
   "metadata": {},
   "source": [
    "### Načteme data"
   ]
  },
  {
   "cell_type": "code",
   "execution_count": 1,
   "metadata": {},
   "outputs": [],
   "source": [
    "import numpy as np\n",
    "import os\n",
    "\n",
    "PATH = os.path.join(\"datasets\", \"07\", \"imdb\")"
   ]
  },
  {
   "cell_type": "code",
   "execution_count": 2,
   "metadata": {},
   "outputs": [],
   "source": [
    "import pandas as pd\n",
    "\n",
    "def load_data(file, path=PATH):\n",
    "    csv = os.path.join(path, file)\n",
    "    return pd.read_csv(csv)"
   ]
  },
  {
   "cell_type": "code",
   "execution_count": 3,
   "metadata": {},
   "outputs": [],
   "source": [
    "data = load_data(\"IMDB Dataset.csv\")"
   ]
  },
  {
   "cell_type": "markdown",
   "metadata": {},
   "source": [
    "### Prozkoumáme a předpřipravíme data"
   ]
  },
  {
   "cell_type": "code",
   "execution_count": 4,
   "metadata": {},
   "outputs": [
    {
     "data": {
      "text/html": [
       "<div>\n",
       "<style scoped>\n",
       "    .dataframe tbody tr th:only-of-type {\n",
       "        vertical-align: middle;\n",
       "    }\n",
       "\n",
       "    .dataframe tbody tr th {\n",
       "        vertical-align: top;\n",
       "    }\n",
       "\n",
       "    .dataframe thead th {\n",
       "        text-align: right;\n",
       "    }\n",
       "</style>\n",
       "<table border=\"1\" class=\"dataframe\">\n",
       "  <thead>\n",
       "    <tr style=\"text-align: right;\">\n",
       "      <th></th>\n",
       "      <th>review</th>\n",
       "      <th>sentiment</th>\n",
       "    </tr>\n",
       "  </thead>\n",
       "  <tbody>\n",
       "    <tr>\n",
       "      <th>0</th>\n",
       "      <td>One of the other reviewers has mentioned that ...</td>\n",
       "      <td>positive</td>\n",
       "    </tr>\n",
       "    <tr>\n",
       "      <th>1</th>\n",
       "      <td>A wonderful little production. &lt;br /&gt;&lt;br /&gt;The...</td>\n",
       "      <td>positive</td>\n",
       "    </tr>\n",
       "    <tr>\n",
       "      <th>2</th>\n",
       "      <td>I thought this was a wonderful way to spend ti...</td>\n",
       "      <td>positive</td>\n",
       "    </tr>\n",
       "    <tr>\n",
       "      <th>3</th>\n",
       "      <td>Basically there's a family where a little boy ...</td>\n",
       "      <td>negative</td>\n",
       "    </tr>\n",
       "    <tr>\n",
       "      <th>4</th>\n",
       "      <td>Petter Mattei's \"Love in the Time of Money\" is...</td>\n",
       "      <td>positive</td>\n",
       "    </tr>\n",
       "  </tbody>\n",
       "</table>\n",
       "</div>"
      ],
      "text/plain": [
       "                                              review sentiment\n",
       "0  One of the other reviewers has mentioned that ...  positive\n",
       "1  A wonderful little production. <br /><br />The...  positive\n",
       "2  I thought this was a wonderful way to spend ti...  positive\n",
       "3  Basically there's a family where a little boy ...  negative\n",
       "4  Petter Mattei's \"Love in the Time of Money\" is...  positive"
      ]
     },
     "execution_count": 4,
     "metadata": {},
     "output_type": "execute_result"
    }
   ],
   "source": [
    "data.head()"
   ]
  },
  {
   "cell_type": "code",
   "execution_count": 5,
   "metadata": {},
   "outputs": [
    {
     "name": "stdout",
     "output_type": "stream",
     "text": [
      "<class 'pandas.core.frame.DataFrame'>\n",
      "RangeIndex: 50000 entries, 0 to 49999\n",
      "Data columns (total 2 columns):\n",
      " #   Column     Non-Null Count  Dtype \n",
      "---  ------     --------------  ----- \n",
      " 0   review     50000 non-null  object\n",
      " 1   sentiment  50000 non-null  object\n",
      "dtypes: object(2)\n",
      "memory usage: 781.4+ KB\n"
     ]
    }
   ],
   "source": [
    "data.info()"
   ]
  },
  {
   "cell_type": "code",
   "execution_count": 6,
   "metadata": {},
   "outputs": [],
   "source": [
    "data[\"label\"] = (data[\"sentiment\"] == \"positive\").astype(int)\n",
    "data = data.rename(columns={\"review\":\"text\"})"
   ]
  },
  {
   "cell_type": "code",
   "execution_count": 7,
   "metadata": {},
   "outputs": [
    {
     "data": {
      "text/html": [
       "<div>\n",
       "<style scoped>\n",
       "    .dataframe tbody tr th:only-of-type {\n",
       "        vertical-align: middle;\n",
       "    }\n",
       "\n",
       "    .dataframe tbody tr th {\n",
       "        vertical-align: top;\n",
       "    }\n",
       "\n",
       "    .dataframe thead th {\n",
       "        text-align: right;\n",
       "    }\n",
       "</style>\n",
       "<table border=\"1\" class=\"dataframe\">\n",
       "  <thead>\n",
       "    <tr style=\"text-align: right;\">\n",
       "      <th></th>\n",
       "      <th>text</th>\n",
       "      <th>sentiment</th>\n",
       "      <th>label</th>\n",
       "    </tr>\n",
       "  </thead>\n",
       "  <tbody>\n",
       "    <tr>\n",
       "      <th>0</th>\n",
       "      <td>One of the other reviewers has mentioned that ...</td>\n",
       "      <td>positive</td>\n",
       "      <td>1</td>\n",
       "    </tr>\n",
       "    <tr>\n",
       "      <th>1</th>\n",
       "      <td>A wonderful little production. &lt;br /&gt;&lt;br /&gt;The...</td>\n",
       "      <td>positive</td>\n",
       "      <td>1</td>\n",
       "    </tr>\n",
       "    <tr>\n",
       "      <th>2</th>\n",
       "      <td>I thought this was a wonderful way to spend ti...</td>\n",
       "      <td>positive</td>\n",
       "      <td>1</td>\n",
       "    </tr>\n",
       "    <tr>\n",
       "      <th>3</th>\n",
       "      <td>Basically there's a family where a little boy ...</td>\n",
       "      <td>negative</td>\n",
       "      <td>0</td>\n",
       "    </tr>\n",
       "    <tr>\n",
       "      <th>4</th>\n",
       "      <td>Petter Mattei's \"Love in the Time of Money\" is...</td>\n",
       "      <td>positive</td>\n",
       "      <td>1</td>\n",
       "    </tr>\n",
       "  </tbody>\n",
       "</table>\n",
       "</div>"
      ],
      "text/plain": [
       "                                                text sentiment  label\n",
       "0  One of the other reviewers has mentioned that ...  positive      1\n",
       "1  A wonderful little production. <br /><br />The...  positive      1\n",
       "2  I thought this was a wonderful way to spend ti...  positive      1\n",
       "3  Basically there's a family where a little boy ...  negative      0\n",
       "4  Petter Mattei's \"Love in the Time of Money\" is...  positive      1"
      ]
     },
     "execution_count": 7,
     "metadata": {},
     "output_type": "execute_result"
    }
   ],
   "source": [
    "data.head()"
   ]
  },
  {
   "cell_type": "markdown",
   "metadata": {},
   "source": [
    "### Rozdělíme dataset na trénovací, testovací a validační"
   ]
  },
  {
   "cell_type": "code",
   "execution_count": 8,
   "metadata": {},
   "outputs": [],
   "source": [
    "from sklearn.model_selection import train_test_split\n",
    "train_full, test = train_test_split(data, test_size=0.2, random_state=42)"
   ]
  },
  {
   "cell_type": "code",
   "execution_count": 9,
   "metadata": {},
   "outputs": [],
   "source": [
    "train, valid = train_test_split(train_full, test_size=0.2, random_state=42)"
   ]
  },
  {
   "cell_type": "code",
   "execution_count": 10,
   "metadata": {},
   "outputs": [
    {
     "data": {
      "text/plain": [
       "(32000, 3)"
      ]
     },
     "execution_count": 10,
     "metadata": {},
     "output_type": "execute_result"
    }
   ],
   "source": [
    "train.shape"
   ]
  },
  {
   "cell_type": "code",
   "execution_count": 11,
   "metadata": {},
   "outputs": [
    {
     "data": {
      "text/plain": [
       "(8000, 3)"
      ]
     },
     "execution_count": 11,
     "metadata": {},
     "output_type": "execute_result"
    }
   ],
   "source": [
    "valid.shape"
   ]
  },
  {
   "cell_type": "code",
   "execution_count": 12,
   "metadata": {},
   "outputs": [
    {
     "data": {
      "text/plain": [
       "(10000, 3)"
      ]
     },
     "execution_count": 12,
     "metadata": {},
     "output_type": "execute_result"
    }
   ],
   "source": [
    "test.shape"
   ]
  },
  {
   "cell_type": "markdown",
   "metadata": {},
   "source": [
    "### Převod textu na vektor"
   ]
  },
  {
   "cell_type": "code",
   "execution_count": 13,
   "metadata": {},
   "outputs": [],
   "source": [
    "from sklearn.feature_extraction.text import CountVectorizer\n",
    "from sklearn.feature_extraction.text import TfidfTransformer\n",
    "from sklearn.pipeline import Pipeline"
   ]
  },
  {
   "cell_type": "code",
   "execution_count": 14,
   "metadata": {},
   "outputs": [],
   "source": [
    "pipeline = Pipeline([\n",
    "    ('bow', CountVectorizer(max_features=10000)),\n",
    "    ('tfidf', TfidfTransformer()),\n",
    "])"
   ]
  },
  {
   "cell_type": "code",
   "execution_count": 15,
   "metadata": {},
   "outputs": [],
   "source": [
    "X_train = pipeline.fit_transform(train[\"text\"]).todense()\n",
    "y_train = train[\"label\"]"
   ]
  },
  {
   "cell_type": "code",
   "execution_count": 16,
   "metadata": {},
   "outputs": [],
   "source": [
    "X_valid = pipeline.transform(valid[\"text\"]).todense()\n",
    "y_valid = valid[\"label\"]"
   ]
  },
  {
   "cell_type": "code",
   "execution_count": 17,
   "metadata": {},
   "outputs": [],
   "source": [
    "X_test = pipeline.transform(test[\"text\"]).todense()\n",
    "y_test = test[\"label\"]"
   ]
  },
  {
   "cell_type": "markdown",
   "metadata": {},
   "source": [
    "### Vytvoření modelu"
   ]
  },
  {
   "cell_type": "code",
   "execution_count": 18,
   "metadata": {},
   "outputs": [],
   "source": [
    "import tensorflow as tf\n",
    "from tensorflow import keras\n",
    "from tensorflow.keras import layers"
   ]
  },
  {
   "cell_type": "code",
   "execution_count": 19,
   "metadata": {},
   "outputs": [],
   "source": [
    "model = keras.models.Sequential([\n",
    "  layers.Dense(16, activation='relu'),\n",
    "  layers.Dense(16, activation='relu'),\n",
    "  layers.Dense(1, activation='sigmoid'),  \n",
    "])\n"
   ]
  },
  {
   "cell_type": "code",
   "execution_count": 20,
   "metadata": {},
   "outputs": [],
   "source": [
    "model.compile(optimizer=keras.optimizers.RMSprop(lr=0.0005),\n",
    "              loss='binary_crossentropy',\n",
    "              metrics=['accuracy'])"
   ]
  },
  {
   "cell_type": "code",
   "execution_count": 21,
   "metadata": {},
   "outputs": [],
   "source": [
    "early_stopping = keras.callbacks.EarlyStopping(patience=20, restore_best_weights=True)"
   ]
  },
  {
   "cell_type": "code",
   "execution_count": 22,
   "metadata": {},
   "outputs": [
    {
     "name": "stdout",
     "output_type": "stream",
     "text": [
      "Epoch 1/100\n",
      "63/63 [==============================] - 3s 27ms/step - loss: 0.6753 - accuracy: 0.7258 - val_loss: 0.6192 - val_accuracy: 0.8625\n",
      "Epoch 2/100\n",
      "63/63 [==============================] - 1s 13ms/step - loss: 0.5981 - accuracy: 0.8655 - val_loss: 0.5388 - val_accuracy: 0.8702\n",
      "Epoch 3/100\n",
      "63/63 [==============================] - 1s 13ms/step - loss: 0.5124 - accuracy: 0.8789 - val_loss: 0.4576 - val_accuracy: 0.8786\n",
      "Epoch 4/100\n",
      "63/63 [==============================] - 1s 14ms/step - loss: 0.4289 - accuracy: 0.8883 - val_loss: 0.3886 - val_accuracy: 0.8870\n",
      "Epoch 5/100\n",
      "63/63 [==============================] - 1s 13ms/step - loss: 0.3608 - accuracy: 0.8962 - val_loss: 0.3358 - val_accuracy: 0.8917\n",
      "Epoch 6/100\n",
      "63/63 [==============================] - 1s 13ms/step - loss: 0.3048 - accuracy: 0.9067 - val_loss: 0.2986 - val_accuracy: 0.8956\n",
      "Epoch 7/100\n",
      "63/63 [==============================] - 1s 13ms/step - loss: 0.2663 - accuracy: 0.9123 - val_loss: 0.2743 - val_accuracy: 0.8984\n",
      "Epoch 8/100\n",
      "63/63 [==============================] - 1s 13ms/step - loss: 0.2321 - accuracy: 0.9224 - val_loss: 0.2591 - val_accuracy: 0.9015\n",
      "Epoch 9/100\n",
      "63/63 [==============================] - 1s 14ms/step - loss: 0.2102 - accuracy: 0.9272 - val_loss: 0.2486 - val_accuracy: 0.9007\n",
      "Epoch 10/100\n",
      "63/63 [==============================] - 1s 14ms/step - loss: 0.1956 - accuracy: 0.9309 - val_loss: 0.2444 - val_accuracy: 0.9039\n",
      "Epoch 11/100\n",
      "63/63 [==============================] - 1s 14ms/step - loss: 0.1775 - accuracy: 0.9360 - val_loss: 0.2437 - val_accuracy: 0.9029\n",
      "Epoch 12/100\n",
      "63/63 [==============================] - 1s 13ms/step - loss: 0.1678 - accuracy: 0.9396 - val_loss: 0.2440 - val_accuracy: 0.9036\n",
      "Epoch 13/100\n",
      "63/63 [==============================] - 1s 13ms/step - loss: 0.1609 - accuracy: 0.9416 - val_loss: 0.2449 - val_accuracy: 0.9025\n",
      "Epoch 14/100\n",
      "63/63 [==============================] - 1s 16ms/step - loss: 0.1562 - accuracy: 0.9436 - val_loss: 0.2479 - val_accuracy: 0.9014\n",
      "Epoch 15/100\n",
      "63/63 [==============================] - 1s 22ms/step - loss: 0.1464 - accuracy: 0.9476 - val_loss: 0.2514 - val_accuracy: 0.9001\n",
      "Epoch 16/100\n",
      "63/63 [==============================] - 1s 22ms/step - loss: 0.1390 - accuracy: 0.9525 - val_loss: 0.2546 - val_accuracy: 0.8997\n",
      "Epoch 17/100\n",
      "63/63 [==============================] - 1s 22ms/step - loss: 0.1348 - accuracy: 0.9529 - val_loss: 0.2594 - val_accuracy: 0.8988\n",
      "Epoch 18/100\n",
      "63/63 [==============================] - 1s 22ms/step - loss: 0.1296 - accuracy: 0.9565 - val_loss: 0.2647 - val_accuracy: 0.8990\n",
      "Epoch 19/100\n",
      "63/63 [==============================] - 1s 17ms/step - loss: 0.1280 - accuracy: 0.9575 - val_loss: 0.2692 - val_accuracy: 0.8981\n",
      "Epoch 20/100\n",
      "63/63 [==============================] - 1s 13ms/step - loss: 0.1271 - accuracy: 0.9575 - val_loss: 0.2745 - val_accuracy: 0.8989\n",
      "Epoch 21/100\n",
      "63/63 [==============================] - 1s 13ms/step - loss: 0.1187 - accuracy: 0.9596 - val_loss: 0.2810 - val_accuracy: 0.8980\n",
      "Epoch 22/100\n",
      "63/63 [==============================] - 1s 13ms/step - loss: 0.1183 - accuracy: 0.9609 - val_loss: 0.2902 - val_accuracy: 0.8970\n",
      "Epoch 23/100\n",
      "63/63 [==============================] - 1s 13ms/step - loss: 0.1089 - accuracy: 0.9645 - val_loss: 0.2943 - val_accuracy: 0.8964\n",
      "Epoch 24/100\n",
      "63/63 [==============================] - 1s 14ms/step - loss: 0.1040 - accuracy: 0.9669 - val_loss: 0.2988 - val_accuracy: 0.8956\n",
      "Epoch 25/100\n",
      "63/63 [==============================] - 1s 13ms/step - loss: 0.0986 - accuracy: 0.9685 - val_loss: 0.3079 - val_accuracy: 0.8942\n",
      "Epoch 26/100\n",
      "63/63 [==============================] - 1s 13ms/step - loss: 0.1029 - accuracy: 0.9670 - val_loss: 0.3119 - val_accuracy: 0.8931\n",
      "Epoch 27/100\n",
      "63/63 [==============================] - 1s 14ms/step - loss: 0.0957 - accuracy: 0.9715 - val_loss: 0.3212 - val_accuracy: 0.8920\n",
      "Epoch 28/100\n",
      "63/63 [==============================] - 1s 13ms/step - loss: 0.0937 - accuracy: 0.9718 - val_loss: 0.3261 - val_accuracy: 0.8911\n",
      "Epoch 29/100\n",
      "63/63 [==============================] - 1s 13ms/step - loss: 0.0934 - accuracy: 0.9710 - val_loss: 0.3331 - val_accuracy: 0.8904\n",
      "Epoch 30/100\n",
      "63/63 [==============================] - 1s 14ms/step - loss: 0.0879 - accuracy: 0.9744 - val_loss: 0.3411 - val_accuracy: 0.8890\n",
      "Epoch 31/100\n",
      "63/63 [==============================] - 1s 13ms/step - loss: 0.0826 - accuracy: 0.9757 - val_loss: 0.3487 - val_accuracy: 0.8882\n"
     ]
    }
   ],
   "source": [
    "history = model.fit(X_train,\n",
    "                    y_train,\n",
    "                    batch_size=512,\n",
    "                    epochs=100,\n",
    "                    validation_data=(X_valid, y_valid),\n",
    "                    callbacks=[early_stopping])"
   ]
  },
  {
   "cell_type": "markdown",
   "metadata": {},
   "source": [
    "### Zobrazíme křivky "
   ]
  },
  {
   "cell_type": "code",
   "execution_count": 23,
   "metadata": {
    "scrolled": true
   },
   "outputs": [
    {
     "data": {
      "image/png": "[encoded data removed]",
      "text/plain": [
       "<Figure size 432x288 with 1 Axes>"
      ]
     },
     "metadata": {
      "needs_background": "light"
     },
     "output_type": "display_data"
    }
   ],
   "source": [
    "import matplotlib.pyplot as plt\n",
    "import pandas as pd\n",
    "pd.DataFrame(history.history)[['loss', 'val_loss']].plot()\n",
    "plt.grid(True)"
   ]
  },
  {
   "cell_type": "code",
   "execution_count": 24,
   "metadata": {},
   "outputs": [
    {
     "data": {
      "image/png": "[encoded data removed]",
      "text/plain": [
       "<Figure size 432x288 with 1 Axes>"
      ]
     },
     "metadata": {
      "needs_background": "light"
     },
     "output_type": "display_data"
    }
   ],
   "source": [
    "pd.DataFrame(history.history)[['accuracy', 'val_accuracy']].plot()\n",
    "plt.grid(True)"
   ]
  },
  {
   "cell_type": "markdown",
   "metadata": {},
   "source": [
    "### Vyzkoušíme na testovacích datech"
   ]
  },
  {
   "cell_type": "code",
   "execution_count": 25,
   "metadata": {},
   "outputs": [
    {
     "name": "stdout",
     "output_type": "stream",
     "text": [
      "313/313 [==============================] - 1s 2ms/step - loss: 0.2420 - accuracy: 0.8962\n"
     ]
    },
    {
     "data": {
      "text/plain": [
       "[0.24204343557357788, 0.8962000012397766]"
      ]
     },
     "execution_count": 25,
     "metadata": {},
     "output_type": "execute_result"
    }
   ],
   "source": [
    "model.evaluate(X_test, y_test)"
   ]
  },
  {
   "cell_type": "code",
   "execution_count": null,
   "metadata": {},
   "outputs": [],
   "source": []
  }
 ],
 "metadata": {
  "kernelspec": {
   "display_name": "Python 3",
   "language": "python",
   "name": "python3"
  },
  "language_info": {
   "codemirror_mode": {
    "name": "ipython",
    "version": 3
   },
   "file_extension": ".py",
   "mimetype": "text/x-python",
   "name": "python",
   "nbconvert_exporter": "python",
   "pygments_lexer": "ipython3",
   "version": "3.8.7"
  }
 },
 "nbformat": 4,
 "nbformat_minor": 4
}
