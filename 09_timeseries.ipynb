{
 "cells": [
  {
   "cell_type": "code",
   "execution_count": 1,
   "metadata": {},
   "outputs": [],
   "source": [
    "import tensorflow as tf\n",
    "from tensorflow import keras\n",
    "from tensorflow.keras import layers"
   ]
  },
  {
   "cell_type": "code",
   "execution_count": 2,
   "metadata": {},
   "outputs": [],
   "source": [
    "# Hack pro GPU na Windows\n",
    "for gpu in tf.config.experimental.list_physical_devices('GPU'):\n",
    "    tf.config.experimental.set_memory_growth(gpu, True)"
   ]
  },
  {
   "cell_type": "markdown",
   "metadata": {},
   "source": [
    "### Načteme data"
   ]
  },
  {
   "cell_type": "code",
   "execution_count": 3,
   "metadata": {},
   "outputs": [],
   "source": [
    "import numpy as np\n",
    "import os\n",
    "\n",
    "PATH = os.path.join(\"datasets\", \"09\", \"jena\")"
   ]
  },
  {
   "cell_type": "code",
   "execution_count": 4,
   "metadata": {},
   "outputs": [],
   "source": [
    "import pandas as pd\n",
    "\n",
    "def load_data(file, path=PATH):\n",
    "    csv = os.path.join(path, file)\n",
    "    return pd.read_csv(csv)"
   ]
  },
  {
   "cell_type": "code",
   "execution_count": 5,
   "metadata": {},
   "outputs": [],
   "source": [
    "data = load_data(\"jena_climate_2009_2016.csv\")"
   ]
  },
  {
   "cell_type": "markdown",
   "metadata": {},
   "source": [
    "### Prozkoumáme data"
   ]
  },
  {
   "cell_type": "code",
   "execution_count": 6,
   "metadata": {},
   "outputs": [
    {
     "data": {
      "text/html": [
       "<div>\n",
       "<style scoped>\n",
       "    .dataframe tbody tr th:only-of-type {\n",
       "        vertical-align: middle;\n",
       "    }\n",
       "\n",
       "    .dataframe tbody tr th {\n",
       "        vertical-align: top;\n",
       "    }\n",
       "\n",
       "    .dataframe thead th {\n",
       "        text-align: right;\n",
       "    }\n",
       "</style>\n",
       "<table border=\"1\" class=\"dataframe\">\n",
       "  <thead>\n",
       "    <tr style=\"text-align: right;\">\n",
       "      <th></th>\n",
       "      <th>Date Time</th>\n",
       "      <th>p (mbar)</th>\n",
       "      <th>T (degC)</th>\n",
       "      <th>Tpot (K)</th>\n",
       "      <th>Tdew (degC)</th>\n",
       "      <th>rh (%)</th>\n",
       "      <th>VPmax (mbar)</th>\n",
       "      <th>VPact (mbar)</th>\n",
       "      <th>VPdef (mbar)</th>\n",
       "      <th>sh (g/kg)</th>\n",
       "      <th>H2OC (mmol/mol)</th>\n",
       "      <th>rho (g/m**3)</th>\n",
       "      <th>wv (m/s)</th>\n",
       "      <th>max. wv (m/s)</th>\n",
       "      <th>wd (deg)</th>\n",
       "    </tr>\n",
       "  </thead>\n",
       "  <tbody>\n",
       "    <tr>\n",
       "      <th>0</th>\n",
       "      <td>01.01.2009 00:10:00</td>\n",
       "      <td>996.52</td>\n",
       "      <td>-8.02</td>\n",
       "      <td>265.40</td>\n",
       "      <td>-8.90</td>\n",
       "      <td>93.3</td>\n",
       "      <td>3.33</td>\n",
       "      <td>3.11</td>\n",
       "      <td>0.22</td>\n",
       "      <td>1.94</td>\n",
       "      <td>3.12</td>\n",
       "      <td>1307.75</td>\n",
       "      <td>1.03</td>\n",
       "      <td>1.75</td>\n",
       "      <td>152.3</td>\n",
       "    </tr>\n",
       "    <tr>\n",
       "      <th>1</th>\n",
       "      <td>01.01.2009 00:20:00</td>\n",
       "      <td>996.57</td>\n",
       "      <td>-8.41</td>\n",
       "      <td>265.01</td>\n",
       "      <td>-9.28</td>\n",
       "      <td>93.4</td>\n",
       "      <td>3.23</td>\n",
       "      <td>3.02</td>\n",
       "      <td>0.21</td>\n",
       "      <td>1.89</td>\n",
       "      <td>3.03</td>\n",
       "      <td>1309.80</td>\n",
       "      <td>0.72</td>\n",
       "      <td>1.50</td>\n",
       "      <td>136.1</td>\n",
       "    </tr>\n",
       "    <tr>\n",
       "      <th>2</th>\n",
       "      <td>01.01.2009 00:30:00</td>\n",
       "      <td>996.53</td>\n",
       "      <td>-8.51</td>\n",
       "      <td>264.91</td>\n",
       "      <td>-9.31</td>\n",
       "      <td>93.9</td>\n",
       "      <td>3.21</td>\n",
       "      <td>3.01</td>\n",
       "      <td>0.20</td>\n",
       "      <td>1.88</td>\n",
       "      <td>3.02</td>\n",
       "      <td>1310.24</td>\n",
       "      <td>0.19</td>\n",
       "      <td>0.63</td>\n",
       "      <td>171.6</td>\n",
       "    </tr>\n",
       "    <tr>\n",
       "      <th>3</th>\n",
       "      <td>01.01.2009 00:40:00</td>\n",
       "      <td>996.51</td>\n",
       "      <td>-8.31</td>\n",
       "      <td>265.12</td>\n",
       "      <td>-9.07</td>\n",
       "      <td>94.2</td>\n",
       "      <td>3.26</td>\n",
       "      <td>3.07</td>\n",
       "      <td>0.19</td>\n",
       "      <td>1.92</td>\n",
       "      <td>3.08</td>\n",
       "      <td>1309.19</td>\n",
       "      <td>0.34</td>\n",
       "      <td>0.50</td>\n",
       "      <td>198.0</td>\n",
       "    </tr>\n",
       "    <tr>\n",
       "      <th>4</th>\n",
       "      <td>01.01.2009 00:50:00</td>\n",
       "      <td>996.51</td>\n",
       "      <td>-8.27</td>\n",
       "      <td>265.15</td>\n",
       "      <td>-9.04</td>\n",
       "      <td>94.1</td>\n",
       "      <td>3.27</td>\n",
       "      <td>3.08</td>\n",
       "      <td>0.19</td>\n",
       "      <td>1.92</td>\n",
       "      <td>3.09</td>\n",
       "      <td>1309.00</td>\n",
       "      <td>0.32</td>\n",
       "      <td>0.63</td>\n",
       "      <td>214.3</td>\n",
       "    </tr>\n",
       "    <tr>\n",
       "      <th>5</th>\n",
       "      <td>01.01.2009 01:00:00</td>\n",
       "      <td>996.50</td>\n",
       "      <td>-8.05</td>\n",
       "      <td>265.38</td>\n",
       "      <td>-8.78</td>\n",
       "      <td>94.4</td>\n",
       "      <td>3.33</td>\n",
       "      <td>3.14</td>\n",
       "      <td>0.19</td>\n",
       "      <td>1.96</td>\n",
       "      <td>3.15</td>\n",
       "      <td>1307.86</td>\n",
       "      <td>0.21</td>\n",
       "      <td>0.63</td>\n",
       "      <td>192.7</td>\n",
       "    </tr>\n",
       "    <tr>\n",
       "      <th>6</th>\n",
       "      <td>01.01.2009 01:10:00</td>\n",
       "      <td>996.50</td>\n",
       "      <td>-7.62</td>\n",
       "      <td>265.81</td>\n",
       "      <td>-8.30</td>\n",
       "      <td>94.8</td>\n",
       "      <td>3.44</td>\n",
       "      <td>3.26</td>\n",
       "      <td>0.18</td>\n",
       "      <td>2.04</td>\n",
       "      <td>3.27</td>\n",
       "      <td>1305.68</td>\n",
       "      <td>0.18</td>\n",
       "      <td>0.63</td>\n",
       "      <td>166.5</td>\n",
       "    </tr>\n",
       "    <tr>\n",
       "      <th>7</th>\n",
       "      <td>01.01.2009 01:20:00</td>\n",
       "      <td>996.50</td>\n",
       "      <td>-7.62</td>\n",
       "      <td>265.81</td>\n",
       "      <td>-8.36</td>\n",
       "      <td>94.4</td>\n",
       "      <td>3.44</td>\n",
       "      <td>3.25</td>\n",
       "      <td>0.19</td>\n",
       "      <td>2.03</td>\n",
       "      <td>3.26</td>\n",
       "      <td>1305.69</td>\n",
       "      <td>0.19</td>\n",
       "      <td>0.50</td>\n",
       "      <td>118.6</td>\n",
       "    </tr>\n",
       "    <tr>\n",
       "      <th>8</th>\n",
       "      <td>01.01.2009 01:30:00</td>\n",
       "      <td>996.50</td>\n",
       "      <td>-7.91</td>\n",
       "      <td>265.52</td>\n",
       "      <td>-8.73</td>\n",
       "      <td>93.8</td>\n",
       "      <td>3.36</td>\n",
       "      <td>3.15</td>\n",
       "      <td>0.21</td>\n",
       "      <td>1.97</td>\n",
       "      <td>3.16</td>\n",
       "      <td>1307.17</td>\n",
       "      <td>0.28</td>\n",
       "      <td>0.75</td>\n",
       "      <td>188.5</td>\n",
       "    </tr>\n",
       "    <tr>\n",
       "      <th>9</th>\n",
       "      <td>01.01.2009 01:40:00</td>\n",
       "      <td>996.53</td>\n",
       "      <td>-8.43</td>\n",
       "      <td>264.99</td>\n",
       "      <td>-9.34</td>\n",
       "      <td>93.1</td>\n",
       "      <td>3.23</td>\n",
       "      <td>3.00</td>\n",
       "      <td>0.22</td>\n",
       "      <td>1.88</td>\n",
       "      <td>3.02</td>\n",
       "      <td>1309.85</td>\n",
       "      <td>0.59</td>\n",
       "      <td>0.88</td>\n",
       "      <td>185.0</td>\n",
       "    </tr>\n",
       "    <tr>\n",
       "      <th>10</th>\n",
       "      <td>01.01.2009 01:50:00</td>\n",
       "      <td>996.62</td>\n",
       "      <td>-8.76</td>\n",
       "      <td>264.66</td>\n",
       "      <td>-9.66</td>\n",
       "      <td>93.1</td>\n",
       "      <td>3.14</td>\n",
       "      <td>2.93</td>\n",
       "      <td>0.22</td>\n",
       "      <td>1.83</td>\n",
       "      <td>2.94</td>\n",
       "      <td>1311.64</td>\n",
       "      <td>0.45</td>\n",
       "      <td>0.88</td>\n",
       "      <td>183.2</td>\n",
       "    </tr>\n",
       "    <tr>\n",
       "      <th>11</th>\n",
       "      <td>01.01.2009 02:00:00</td>\n",
       "      <td>996.62</td>\n",
       "      <td>-8.88</td>\n",
       "      <td>264.54</td>\n",
       "      <td>-9.77</td>\n",
       "      <td>93.2</td>\n",
       "      <td>3.12</td>\n",
       "      <td>2.90</td>\n",
       "      <td>0.21</td>\n",
       "      <td>1.81</td>\n",
       "      <td>2.91</td>\n",
       "      <td>1312.25</td>\n",
       "      <td>0.25</td>\n",
       "      <td>0.63</td>\n",
       "      <td>190.3</td>\n",
       "    </tr>\n",
       "    <tr>\n",
       "      <th>12</th>\n",
       "      <td>01.01.2009 02:10:00</td>\n",
       "      <td>996.63</td>\n",
       "      <td>-8.85</td>\n",
       "      <td>264.57</td>\n",
       "      <td>-9.70</td>\n",
       "      <td>93.5</td>\n",
       "      <td>3.12</td>\n",
       "      <td>2.92</td>\n",
       "      <td>0.20</td>\n",
       "      <td>1.82</td>\n",
       "      <td>2.93</td>\n",
       "      <td>1312.11</td>\n",
       "      <td>0.16</td>\n",
       "      <td>0.50</td>\n",
       "      <td>158.3</td>\n",
       "    </tr>\n",
       "    <tr>\n",
       "      <th>13</th>\n",
       "      <td>01.01.2009 02:20:00</td>\n",
       "      <td>996.74</td>\n",
       "      <td>-8.83</td>\n",
       "      <td>264.58</td>\n",
       "      <td>-9.68</td>\n",
       "      <td>93.5</td>\n",
       "      <td>3.13</td>\n",
       "      <td>2.92</td>\n",
       "      <td>0.20</td>\n",
       "      <td>1.83</td>\n",
       "      <td>2.93</td>\n",
       "      <td>1312.15</td>\n",
       "      <td>0.36</td>\n",
       "      <td>0.63</td>\n",
       "      <td>184.8</td>\n",
       "    </tr>\n",
       "    <tr>\n",
       "      <th>14</th>\n",
       "      <td>01.01.2009 02:30:00</td>\n",
       "      <td>996.81</td>\n",
       "      <td>-8.66</td>\n",
       "      <td>264.74</td>\n",
       "      <td>-9.46</td>\n",
       "      <td>93.9</td>\n",
       "      <td>3.17</td>\n",
       "      <td>2.98</td>\n",
       "      <td>0.19</td>\n",
       "      <td>1.86</td>\n",
       "      <td>2.99</td>\n",
       "      <td>1311.37</td>\n",
       "      <td>0.33</td>\n",
       "      <td>0.75</td>\n",
       "      <td>155.9</td>\n",
       "    </tr>\n",
       "    <tr>\n",
       "      <th>15</th>\n",
       "      <td>01.01.2009 02:40:00</td>\n",
       "      <td>996.81</td>\n",
       "      <td>-8.66</td>\n",
       "      <td>264.74</td>\n",
       "      <td>-9.50</td>\n",
       "      <td>93.6</td>\n",
       "      <td>3.17</td>\n",
       "      <td>2.97</td>\n",
       "      <td>0.20</td>\n",
       "      <td>1.85</td>\n",
       "      <td>2.98</td>\n",
       "      <td>1311.38</td>\n",
       "      <td>0.07</td>\n",
       "      <td>0.50</td>\n",
       "      <td>272.4</td>\n",
       "    </tr>\n",
       "    <tr>\n",
       "      <th>16</th>\n",
       "      <td>01.01.2009 02:50:00</td>\n",
       "      <td>996.86</td>\n",
       "      <td>-8.70</td>\n",
       "      <td>264.70</td>\n",
       "      <td>-9.55</td>\n",
       "      <td>93.5</td>\n",
       "      <td>3.16</td>\n",
       "      <td>2.95</td>\n",
       "      <td>0.21</td>\n",
       "      <td>1.85</td>\n",
       "      <td>2.96</td>\n",
       "      <td>1311.64</td>\n",
       "      <td>0.32</td>\n",
       "      <td>0.63</td>\n",
       "      <td>219.2</td>\n",
       "    </tr>\n",
       "    <tr>\n",
       "      <th>17</th>\n",
       "      <td>01.01.2009 03:00:00</td>\n",
       "      <td>996.84</td>\n",
       "      <td>-8.81</td>\n",
       "      <td>264.59</td>\n",
       "      <td>-9.66</td>\n",
       "      <td>93.5</td>\n",
       "      <td>3.13</td>\n",
       "      <td>2.93</td>\n",
       "      <td>0.20</td>\n",
       "      <td>1.83</td>\n",
       "      <td>2.94</td>\n",
       "      <td>1312.18</td>\n",
       "      <td>0.18</td>\n",
       "      <td>0.63</td>\n",
       "      <td>167.2</td>\n",
       "    </tr>\n",
       "    <tr>\n",
       "      <th>18</th>\n",
       "      <td>01.01.2009 03:10:00</td>\n",
       "      <td>996.87</td>\n",
       "      <td>-8.84</td>\n",
       "      <td>264.56</td>\n",
       "      <td>-9.69</td>\n",
       "      <td>93.5</td>\n",
       "      <td>3.13</td>\n",
       "      <td>2.92</td>\n",
       "      <td>0.20</td>\n",
       "      <td>1.83</td>\n",
       "      <td>2.93</td>\n",
       "      <td>1312.37</td>\n",
       "      <td>0.07</td>\n",
       "      <td>0.25</td>\n",
       "      <td>129.3</td>\n",
       "    </tr>\n",
       "    <tr>\n",
       "      <th>19</th>\n",
       "      <td>01.01.2009 03:20:00</td>\n",
       "      <td>996.97</td>\n",
       "      <td>-8.94</td>\n",
       "      <td>264.45</td>\n",
       "      <td>-9.82</td>\n",
       "      <td>93.3</td>\n",
       "      <td>3.10</td>\n",
       "      <td>2.89</td>\n",
       "      <td>0.21</td>\n",
       "      <td>1.81</td>\n",
       "      <td>2.90</td>\n",
       "      <td>1313.01</td>\n",
       "      <td>0.10</td>\n",
       "      <td>0.63</td>\n",
       "      <td>115.3</td>\n",
       "    </tr>\n",
       "  </tbody>\n",
       "</table>\n",
       "</div>"
      ],
      "text/plain": [
       "              Date Time  p (mbar)  T (degC)  Tpot (K)  Tdew (degC)  rh (%)  \\\n",
       "0   01.01.2009 00:10:00    996.52     -8.02    265.40        -8.90    93.3   \n",
       "1   01.01.2009 00:20:00    996.57     -8.41    265.01        -9.28    93.4   \n",
       "2   01.01.2009 00:30:00    996.53     -8.51    264.91        -9.31    93.9   \n",
       "3   01.01.2009 00:40:00    996.51     -8.31    265.12        -9.07    94.2   \n",
       "4   01.01.2009 00:50:00    996.51     -8.27    265.15        -9.04    94.1   \n",
       "5   01.01.2009 01:00:00    996.50     -8.05    265.38        -8.78    94.4   \n",
       "6   01.01.2009 01:10:00    996.50     -7.62    265.81        -8.30    94.8   \n",
       "7   01.01.2009 01:20:00    996.50     -7.62    265.81        -8.36    94.4   \n",
       "8   01.01.2009 01:30:00    996.50     -7.91    265.52        -8.73    93.8   \n",
       "9   01.01.2009 01:40:00    996.53     -8.43    264.99        -9.34    93.1   \n",
       "10  01.01.2009 01:50:00    996.62     -8.76    264.66        -9.66    93.1   \n",
       "11  01.01.2009 02:00:00    996.62     -8.88    264.54        -9.77    93.2   \n",
       "12  01.01.2009 02:10:00    996.63     -8.85    264.57        -9.70    93.5   \n",
       "13  01.01.2009 02:20:00    996.74     -8.83    264.58        -9.68    93.5   \n",
       "14  01.01.2009 02:30:00    996.81     -8.66    264.74        -9.46    93.9   \n",
       "15  01.01.2009 02:40:00    996.81     -8.66    264.74        -9.50    93.6   \n",
       "16  01.01.2009 02:50:00    996.86     -8.70    264.70        -9.55    93.5   \n",
       "17  01.01.2009 03:00:00    996.84     -8.81    264.59        -9.66    93.5   \n",
       "18  01.01.2009 03:10:00    996.87     -8.84    264.56        -9.69    93.5   \n",
       "19  01.01.2009 03:20:00    996.97     -8.94    264.45        -9.82    93.3   \n",
       "\n",
       "    VPmax (mbar)  VPact (mbar)  VPdef (mbar)  sh (g/kg)  H2OC (mmol/mol)  \\\n",
       "0           3.33          3.11          0.22       1.94             3.12   \n",
       "1           3.23          3.02          0.21       1.89             3.03   \n",
       "2           3.21          3.01          0.20       1.88             3.02   \n",
       "3           3.26          3.07          0.19       1.92             3.08   \n",
       "4           3.27          3.08          0.19       1.92             3.09   \n",
       "5           3.33          3.14          0.19       1.96             3.15   \n",
       "6           3.44          3.26          0.18       2.04             3.27   \n",
       "7           3.44          3.25          0.19       2.03             3.26   \n",
       "8           3.36          3.15          0.21       1.97             3.16   \n",
       "9           3.23          3.00          0.22       1.88             3.02   \n",
       "10          3.14          2.93          0.22       1.83             2.94   \n",
       "11          3.12          2.90          0.21       1.81             2.91   \n",
       "12          3.12          2.92          0.20       1.82             2.93   \n",
       "13          3.13          2.92          0.20       1.83             2.93   \n",
       "14          3.17          2.98          0.19       1.86             2.99   \n",
       "15          3.17          2.97          0.20       1.85             2.98   \n",
       "16          3.16          2.95          0.21       1.85             2.96   \n",
       "17          3.13          2.93          0.20       1.83             2.94   \n",
       "18          3.13          2.92          0.20       1.83             2.93   \n",
       "19          3.10          2.89          0.21       1.81             2.90   \n",
       "\n",
       "    rho (g/m**3)  wv (m/s)  max. wv (m/s)  wd (deg)  \n",
       "0        1307.75      1.03           1.75     152.3  \n",
       "1        1309.80      0.72           1.50     136.1  \n",
       "2        1310.24      0.19           0.63     171.6  \n",
       "3        1309.19      0.34           0.50     198.0  \n",
       "4        1309.00      0.32           0.63     214.3  \n",
       "5        1307.86      0.21           0.63     192.7  \n",
       "6        1305.68      0.18           0.63     166.5  \n",
       "7        1305.69      0.19           0.50     118.6  \n",
       "8        1307.17      0.28           0.75     188.5  \n",
       "9        1309.85      0.59           0.88     185.0  \n",
       "10       1311.64      0.45           0.88     183.2  \n",
       "11       1312.25      0.25           0.63     190.3  \n",
       "12       1312.11      0.16           0.50     158.3  \n",
       "13       1312.15      0.36           0.63     184.8  \n",
       "14       1311.37      0.33           0.75     155.9  \n",
       "15       1311.38      0.07           0.50     272.4  \n",
       "16       1311.64      0.32           0.63     219.2  \n",
       "17       1312.18      0.18           0.63     167.2  \n",
       "18       1312.37      0.07           0.25     129.3  \n",
       "19       1313.01      0.10           0.63     115.3  "
      ]
     },
     "execution_count": 6,
     "metadata": {},
     "output_type": "execute_result"
    }
   ],
   "source": [
    "data.head(20)"
   ]
  },
  {
   "cell_type": "markdown",
   "metadata": {},
   "source": [
    "Prozkoumáme, jak se vyvíjela teplota, kterou se také budeme snažit predikovat"
   ]
  },
  {
   "cell_type": "code",
   "execution_count": 7,
   "metadata": {},
   "outputs": [
    {
     "data": {
      "text/plain": [
       "<AxesSubplot:>"
      ]
     },
     "execution_count": 7,
     "metadata": {},
     "output_type": "execute_result"
    },
    {
     "data": {
      "image/png": "[encoded data removed]",
      "text/plain": [
       "<Figure size 1440x720 with 1 Axes>"
      ]
     },
     "metadata": {
      "needs_background": "light"
     },
     "output_type": "display_data"
    }
   ],
   "source": [
    "data[\"T (degC)\"].plot(figsize=(20,10))"
   ]
  },
  {
   "cell_type": "markdown",
   "metadata": {},
   "source": [
    "Zde je dobře vidět roční periodicita vývoje teplot"
   ]
  },
  {
   "cell_type": "markdown",
   "metadata": {},
   "source": [
    "Podíváme se ještě na záznamy za prvních 10 dnů (6x24x10 = 1440 záznamů)"
   ]
  },
  {
   "cell_type": "code",
   "execution_count": 8,
   "metadata": {},
   "outputs": [
    {
     "data": {
      "text/plain": [
       "<AxesSubplot:>"
      ]
     },
     "execution_count": 8,
     "metadata": {},
     "output_type": "execute_result"
    },
    {
     "data": {
      "image/png": "[encoded data removed]",
      "text/plain": [
       "<Figure size 1440x720 with 1 Axes>"
      ]
     },
     "metadata": {
      "needs_background": "light"
     },
     "output_type": "display_data"
    }
   ],
   "source": [
    "data[\"T (degC)\"][0:1440].plot(figsize=(20,10))"
   ]
  },
  {
   "cell_type": "markdown",
   "metadata": {},
   "source": [
    "Na posledních 4 dnech v tomto grafu je dobře vidět denní periodicita teplot, ale zároveň je zřejmé, že údaje jsou hodně \"rozházené\" a predikovat je nebude jednoduché."
   ]
  },
  {
   "cell_type": "markdown",
   "metadata": {},
   "source": [
    "### Předpřipravíme data"
   ]
  },
  {
   "cell_type": "markdown",
   "metadata": {},
   "source": [
    "Potřebujeme si nachystat data tak, aby s nimi šlo pracovat v této regresní úloze.\n",
    "\n",
    "Konkrétně potřebujeme mít ke zvolenému okamžiku datové body pro X dní zpátky a jako cílovou hodnotu teplotu +24 hodin."
   ]
  },
  {
   "cell_type": "markdown",
   "metadata": {},
   "source": [
    "Dále potřebujeme data škálovat, čímž začneme"
   ]
  },
  {
   "cell_type": "code",
   "execution_count": 8,
   "metadata": {},
   "outputs": [],
   "source": [
    "data.drop(columns=['Date Time'], inplace=True)"
   ]
  },
  {
   "cell_type": "code",
   "execution_count": 79,
   "metadata": {},
   "outputs": [],
   "source": [
    "np_data = data.to_numpy()"
   ]
  },
  {
   "cell_type": "markdown",
   "metadata": {},
   "source": [
    "Ukázka, jak ručně a rychle naškálovat číselná data (tj. to, co dělá StandardScaler): odečíst průměr a vydělit směrodatnou odchylkou."
   ]
  },
  {
   "cell_type": "code",
   "execution_count": 80,
   "metadata": {},
   "outputs": [],
   "source": [
    "mean = np_data[:200000].mean(axis=0)\n",
    "np_data -= mean\n",
    "std = np_data[:200000].std(axis=0)\n",
    "np_data /= std"
   ]
  },
  {
   "cell_type": "markdown",
   "metadata": {},
   "source": [
    "Zkontrolujeme jen pro zajímavost:"
   ]
  },
  {
   "cell_type": "code",
   "execution_count": 13,
   "metadata": {},
   "outputs": [
    {
     "data": {
      "text/plain": [
       "array([ 1.75526793e-14,  1.05728759e-16,  2.24247287e-15, -9.72022463e-17,\n",
       "        1.13288934e-15,  3.44186901e-16, -2.61479727e-16,  9.36495326e-17,\n",
       "       -5.11590770e-16, -2.16573426e-16,  1.75077730e-15,  3.16617843e-16,\n",
       "        1.70530257e-16,  3.71755959e-16])"
      ]
     },
     "execution_count": 13,
     "metadata": {},
     "output_type": "execute_result"
    }
   ],
   "source": [
    "np_data[:200000].mean(axis=0)"
   ]
  },
  {
   "cell_type": "code",
   "execution_count": 14,
   "metadata": {},
   "outputs": [
    {
     "data": {
      "text/plain": [
       "array([1., 1., 1., 1., 1., 1., 1., 1., 1., 1., 1., 1., 1., 1.])"
      ]
     },
     "execution_count": 14,
     "metadata": {},
     "output_type": "execute_result"
    }
   ],
   "source": [
    "np_data[:200000].std(axis=0)"
   ]
  },
  {
   "cell_type": "markdown",
   "metadata": {},
   "source": [
    "**Nyní potřebujeme nachystat trénovací data**\n",
    "\n",
    "Trénovací data chceme mít např. v této podobě: \n",
    "- features: údaje za X dní zpátky od zvoleného bodu\n",
    "- label: údaj za 24 hodin do budoucna od zvoleného bodu\n",
    "\n",
    "Protože by bylo velmi neúsporné chystat takto postupně všechny posloupnosti dat, nachystáme si na to generátor, který bude trénovací data vytvářet za běhu.  "
   ]
  },
  {
   "cell_type": "markdown",
   "metadata": {},
   "source": [
    "* `data`\n",
    "* `lookback`: kolik časových kroků zpátky chceme jít\n",
    "* `future`: kolik časových kroků do budoucna má být label\n",
    "* `min_index`, `max_index`: v jaké oblasti dat se chceme pohybovat (důležité, abychom nedostali testovací data do trénovacích)\n",
    "* `shuffle`: jestli se mají data vybírat náhodně z definované oblasti\n",
    "* `batch_size`\n",
    "* `step`: po kolika krocích vybírat data. 6 = 6x10 minut = hodina"
   ]
  },
  {
   "cell_type": "code",
   "execution_count": 81,
   "metadata": {},
   "outputs": [],
   "source": [
    "def generator(data, lookback, future, min_index, max_index, shuffle=False, batch_size=128, step=6):\n",
    "    if max_index is None:\n",
    "        max_index = len(data) - future - 1\n",
    "    i = min_index + lookback\n",
    "    while 1:\n",
    "        if shuffle:\n",
    "            rows = np.random.randint(min_index + lookback, max_index, size=batch_size)\n",
    "        else:\n",
    "            if i + batch_size >= max_index:\n",
    "                i = min_index + lookback\n",
    "            rows = np.arange(i, min(i + batch_size, max_index))\n",
    "            i += len(rows)\n",
    "\n",
    "        samples = np.zeros((len(rows),\n",
    "                           lookback // step,\n",
    "                           data.shape[-1]))\n",
    "        targets = np.zeros((len(rows),))\n",
    "        for j, row in enumerate(rows):\n",
    "            indices = range(rows[j] - lookback, rows[j], step)\n",
    "            samples[j] = data[indices]\n",
    "            targets[j] = data[rows[j] + future][1]\n",
    "        yield samples, targets"
   ]
  },
  {
   "cell_type": "markdown",
   "metadata": {},
   "source": [
    "Nyní si nachystáme generátory trénovacích, validačních a testovacích dat"
   ]
  },
  {
   "cell_type": "code",
   "execution_count": 82,
   "metadata": {},
   "outputs": [],
   "source": [
    "lookback = 1440 # 10 dní zpátky \n",
    "step = 6  # po kolika krocích vybírat časové body\n",
    "future = 144 # 6 x 24 = 24 hodin dopředu\n",
    "batch_size = 128 \n"
   ]
  },
  {
   "cell_type": "code",
   "execution_count": 83,
   "metadata": {},
   "outputs": [],
   "source": [
    "train_gen = generator(np_data,\n",
    "                      lookback=lookback,\n",
    "                      future=future,\n",
    "                      min_index=0,\n",
    "                      max_index=200000,\n",
    "                      shuffle=True,\n",
    "                      step=step, \n",
    "                      batch_size=batch_size)\n",
    "\n",
    "valid_gen = generator(np_data,\n",
    "                    lookback=lookback,\n",
    "                    future=future,\n",
    "                    min_index=200001,\n",
    "                    max_index=300000,\n",
    "                    step=step,\n",
    "                    batch_size=batch_size)\n",
    "\n",
    "test_gen = generator(np_data,\n",
    "                     lookback=lookback,\n",
    "                     future=future,\n",
    "                     min_index=300001,\n",
    "                     max_index=None,\n",
    "                     step=step,\n",
    "                     batch_size=batch_size)\n",
    "\n",
    "train_steps = (200000 - lookback) // batch_size\n",
    "valid_steps = (300000 - 200001 - lookback) // batch_size\n",
    "test_steps = (len(np_data) - 300001 - lookback) // batch_size"
   ]
  },
  {
   "cell_type": "code",
   "execution_count": 84,
   "metadata": {},
   "outputs": [
    {
     "data": {
      "text/plain": [
       "(1551, 769, 930)"
      ]
     },
     "execution_count": 84,
     "metadata": {},
     "output_type": "execute_result"
    }
   ],
   "source": [
    "train_steps, valid_steps, test_steps"
   ]
  },
  {
   "cell_type": "code",
   "execution_count": 50,
   "metadata": {},
   "outputs": [],
   "source": [
    "(X, y) = next(train_gen)"
   ]
  },
  {
   "cell_type": "code",
   "execution_count": 51,
   "metadata": {},
   "outputs": [
    {
     "data": {
      "text/plain": [
       "(128, 240, 14)"
      ]
     },
     "execution_count": 51,
     "metadata": {},
     "output_type": "execute_result"
    }
   ],
   "source": [
    "X.shape"
   ]
  },
  {
   "cell_type": "code",
   "execution_count": 52,
   "metadata": {},
   "outputs": [
    {
     "data": {
      "text/plain": [
       "(128,)"
      ]
     },
     "execution_count": 52,
     "metadata": {},
     "output_type": "execute_result"
    }
   ],
   "source": [
    "y.shape"
   ]
  },
  {
   "cell_type": "code",
   "execution_count": 53,
   "metadata": {},
   "outputs": [
    {
     "data": {
      "text/plain": [
       "array([[ 0.30230071, -1.21630614, -1.22931041, ...,  0.82581221,\n",
       "         0.4807585 , -1.76459224],\n",
       "       [ 0.34593055, -1.25810224, -1.27398697, ...,  1.00802505,\n",
       "         0.70387003, -1.64682732],\n",
       "       [ 0.41196491, -1.34960183, -1.37004156, ...,  1.40498873,\n",
       "         0.8926567 , -1.75524032],\n",
       "       ...,\n",
       "       [-2.29898129, -1.49193452, -1.3086113 , ..., -0.17635841,\n",
       "        -0.36449092,  0.87149465],\n",
       "       [-2.22705101, -1.48854564, -1.30972821, ...,  0.3117117 ,\n",
       "         0.29197183,  0.89574037],\n",
       "       [-2.13979132, -1.4772494 , -1.30637747, ...,  0.23362048,\n",
       "         0.15467243,  0.9142133 ]])"
      ]
     },
     "execution_count": 53,
     "metadata": {},
     "output_type": "execute_result"
    }
   ],
   "source": [
    "X[0]"
   ]
  },
  {
   "cell_type": "code",
   "execution_count": 54,
   "metadata": {
    "scrolled": false
   },
   "outputs": [
    {
     "data": {
      "text/plain": [
       "-1.6376560805459657"
      ]
     },
     "execution_count": 54,
     "metadata": {},
     "output_type": "execute_result"
    }
   ],
   "source": [
    "y[0]"
   ]
  },
  {
   "cell_type": "markdown",
   "metadata": {},
   "source": [
    "**Než se pustíme do trénování modelu, měli bychom si dokázat říct, kam se musí výkon modelu dostat, aby měl vůbec smysl**"
   ]
  },
  {
   "cell_type": "markdown",
   "metadata": {},
   "source": [
    "Např. u binárního klasifikátoru pro MNIST jsme se potřebovali dostat nad 90 %. Někdy může být velmi těžké vytvořit model, který dokáže překonat výkon \"selského rozumu\". \n",
    "\n",
    "V případě predikce teplot bychom patrně mohli uvažovat, že teploty mají standardně jednodenní periodicitu a jsou spojité. Takže selským rozumem bychom mohli říct, že teplota za 24 hodin bude stejná jako teplota nyní. Můžeme zkusit vyhodnotit, jaký by takový \"model\" měl chybu MAE (průměrná absolutní chyba)."
   ]
  },
  {
   "cell_type": "markdown",
   "metadata": {},
   "source": [
    "Výpočet MAE na validačních datech podle selského rozumu:"
   ]
  },
  {
   "cell_type": "code",
   "execution_count": 56,
   "metadata": {},
   "outputs": [
    {
     "name": "stdout",
     "output_type": "stream",
     "text": [
      "0.28973597299054815\n"
     ]
    }
   ],
   "source": [
    "maes = []\n",
    "for step in range(valid_steps):\n",
    "    samples, targets = next(valid_gen)\n",
    "    preds = samples[:, -1, 1]\n",
    "    mae = np.mean(np.abs(preds - targets))\n",
    "    maes.append(mae)\n",
    "    \n",
    "print(np.mean(maes))"
   ]
  },
  {
   "cell_type": "markdown",
   "metadata": {},
   "source": [
    "Náš model by měl tedy mít MAE menší než 0.29, aby byl alespoň trochu užitečný. Pokud by nás zajímalo, jak velká chyba to je ve stupních Celsia, musíme MAE vynásobit směrodatnou odchylkou teploty."
   ]
  },
  {
   "cell_type": "code",
   "execution_count": 60,
   "metadata": {},
   "outputs": [
    {
     "data": {
      "text/plain": [
       "2.564887434980494"
      ]
     },
     "execution_count": 60,
     "metadata": {},
     "output_type": "execute_result"
    }
   ],
   "source": [
    "mae_c = np.mean(maes) * std[1]\n",
    "mae_c"
   ]
  },
  {
   "cell_type": "markdown",
   "metadata": {},
   "source": [
    "Průměrná absolutní chyba při aplikaci selského rozumu by tedy byla 2.56°C."
   ]
  },
  {
   "cell_type": "markdown",
   "metadata": {},
   "source": [
    "### Začneme jednoduchým, \"levným\" modelem, než se pustíme do výpočetně náročných RNN"
   ]
  },
  {
   "cell_type": "code",
   "execution_count": 121,
   "metadata": {},
   "outputs": [],
   "source": [
    "from keras import layers\n",
    "\n",
    "model = keras.models.Sequential([\n",
    "    layers.Flatten(),\n",
    "    layers.Dense(32, activation='relu'),\n",
    "    layers.Dense(1),\n",
    "])"
   ]
  },
  {
   "cell_type": "code",
   "execution_count": 122,
   "metadata": {},
   "outputs": [],
   "source": [
    "model.compile(optimizer='rmsprop', loss='mae')"
   ]
  },
  {
   "cell_type": "code",
   "execution_count": 123,
   "metadata": {},
   "outputs": [],
   "source": [
    "early_stopping = keras.callbacks.EarlyStopping(patience=5, restore_best_weights=True)"
   ]
  },
  {
   "cell_type": "code",
   "execution_count": 124,
   "metadata": {
    "scrolled": true
   },
   "outputs": [
    {
     "name": "stdout",
     "output_type": "stream",
     "text": [
      "Epoch 1/20\n",
      "1551/1551 [==============================] - 18s 11ms/step - loss: 1.3407 - val_loss: 0.2999\n",
      "Epoch 2/20\n",
      "1551/1551 [==============================] - 18s 11ms/step - loss: 0.2742 - val_loss: 0.3050\n",
      "Epoch 3/20\n",
      "1551/1551 [==============================] - 18s 12ms/step - loss: 0.2418 - val_loss: 0.3181\n",
      "Epoch 4/20\n",
      "1551/1551 [==============================] - 18s 11ms/step - loss: 0.2243 - val_loss: 0.3790\n",
      "Epoch 5/20\n",
      "1551/1551 [==============================] - 17s 11ms/step - loss: 0.2150 - val_loss: 0.3383\n",
      "Epoch 6/20\n",
      "1551/1551 [==============================] - 17s 11ms/step - loss: 0.2061 - val_loss: 0.3323\n"
     ]
    }
   ],
   "source": [
    "history = model.fit(train_gen,\n",
    "                    steps_per_epoch=train_steps,\n",
    "                    epochs=20,\n",
    "                    validation_data=valid_gen,\n",
    "                    validation_steps=valid_steps,\n",
    "                    callbacks=[early_stopping])"
   ]
  },
  {
   "cell_type": "code",
   "execution_count": 125,
   "metadata": {},
   "outputs": [
    {
     "data": {
      "image/png": "[encoded data removed]",
      "text/plain": [
       "<Figure size 432x288 with 1 Axes>"
      ]
     },
     "metadata": {
      "needs_background": "light"
     },
     "output_type": "display_data"
    }
   ],
   "source": [
    "import matplotlib.pyplot as plt\n",
    "import pandas as pd\n",
    "pd.DataFrame(history.history)[['loss', 'val_loss']].plot()\n",
    "plt.grid(True)"
   ]
  },
  {
   "cell_type": "code",
   "execution_count": 126,
   "metadata": {},
   "outputs": [
    {
     "data": {
      "text/plain": [
       "0.299949586391449"
      ]
     },
     "execution_count": 126,
     "metadata": {},
     "output_type": "execute_result"
    }
   ],
   "source": [
    "np.min(history.history['val_loss'])"
   ]
  },
  {
   "cell_type": "markdown",
   "metadata": {},
   "source": [
    "Vidíme, že překonat model \"selského rozumu\" nebude až tak jednoduché - hustě propojená neuronová síť se dvěma vrstvami na to nestačí. Není to ale tak překvapivé - vrstva Flatten() splácla všechna data vedle sebe, takže ze vstupních dat byl tím pádem odstraněn pojem času. "
   ]
  },
  {
   "cell_type": "markdown",
   "metadata": {},
   "source": [
    "### Vyzkoušíme tedy RNN ###"
   ]
  },
  {
   "cell_type": "code",
   "execution_count": 115,
   "metadata": {},
   "outputs": [],
   "source": [
    "model = keras.models.Sequential([\n",
    "    layers.GRU(32),\n",
    "    layers.Dense(1),\n",
    "])"
   ]
  },
  {
   "cell_type": "code",
   "execution_count": 116,
   "metadata": {},
   "outputs": [],
   "source": [
    "model.compile(optimizer='rmsprop', loss='mae')"
   ]
  },
  {
   "cell_type": "code",
   "execution_count": 117,
   "metadata": {},
   "outputs": [
    {
     "name": "stdout",
     "output_type": "stream",
     "text": [
      "Epoch 1/20\n",
      "1551/1551 [==============================] - 23s 14ms/step - loss: 0.3090 - val_loss: 0.2697\n",
      "Epoch 2/20\n",
      "1551/1551 [==============================] - 20s 13ms/step - loss: 0.2705 - val_loss: 0.2739\n",
      "Epoch 3/20\n",
      "1551/1551 [==============================] - 20s 13ms/step - loss: 0.2571 - val_loss: 0.2822\n",
      "Epoch 4/20\n",
      "1551/1551 [==============================] - 20s 13ms/step - loss: 0.2432 - val_loss: 0.2904\n",
      "Epoch 5/20\n",
      "1551/1551 [==============================] - 20s 13ms/step - loss: 0.2307 - val_loss: 0.3010\n",
      "Epoch 6/20\n",
      "1551/1551 [==============================] - 21s 14ms/step - loss: 0.2187 - val_loss: 0.3142\n"
     ]
    }
   ],
   "source": [
    "history = model.fit(train_gen,\n",
    "                    steps_per_epoch=train_steps,\n",
    "                    epochs=20,\n",
    "                    validation_data=valid_gen,\n",
    "                    validation_steps=valid_steps,\n",
    "                    callbacks=[early_stopping])"
   ]
  },
  {
   "cell_type": "code",
   "execution_count": 119,
   "metadata": {},
   "outputs": [
    {
     "data": {
      "image/png": "[encoded data removed]",
      "text/plain": [
       "<Figure size 432x288 with 1 Axes>"
      ]
     },
     "metadata": {
      "needs_background": "light"
     },
     "output_type": "display_data"
    }
   ],
   "source": [
    "import matplotlib.pyplot as plt\n",
    "import pandas as pd\n",
    "pd.DataFrame(history.history)[['loss', 'val_loss']].plot()\n",
    "plt.grid(True)"
   ]
  },
  {
   "cell_type": "code",
   "execution_count": 120,
   "metadata": {},
   "outputs": [
    {
     "data": {
      "text/plain": [
       "0.2696911692619324"
      ]
     },
     "execution_count": 120,
     "metadata": {},
     "output_type": "execute_result"
    }
   ],
   "source": [
    "np.min(history.history['val_loss'])"
   ]
  },
  {
   "cell_type": "markdown",
   "metadata": {},
   "source": [
    "Vidíme, že s jednoduchým modelem RNN jsme již schopni vcelku výrazně překonat selský rozum."
   ]
  },
  {
   "cell_type": "markdown",
   "metadata": {},
   "source": [
    "Zároveň ale vidíme, že model se nám okamžitě od začátku přeučuje. "
   ]
  },
  {
   "cell_type": "markdown",
   "metadata": {},
   "source": [
    "**Můžeme si zkusit trochu pohrát s rychlostí učení**"
   ]
  },
  {
   "cell_type": "code",
   "execution_count": 129,
   "metadata": {},
   "outputs": [],
   "source": [
    "model = keras.models.Sequential([\n",
    "    layers.GRU(32),\n",
    "    layers.Dense(1),\n",
    "])"
   ]
  },
  {
   "cell_type": "code",
   "execution_count": 130,
   "metadata": {},
   "outputs": [],
   "source": [
    "model.compile(optimizer=keras.optimizers.RMSprop(lr=0.0001), loss='mae')"
   ]
  },
  {
   "cell_type": "code",
   "execution_count": 131,
   "metadata": {
    "scrolled": true
   },
   "outputs": [
    {
     "name": "stdout",
     "output_type": "stream",
     "text": [
      "Epoch 1/20\n",
      "1551/1551 [==============================] - 22s 13ms/step - loss: 0.4279 - val_loss: 0.2782\n",
      "Epoch 2/20\n",
      "1551/1551 [==============================] - 20s 13ms/step - loss: 0.2946 - val_loss: 0.2716\n",
      "Epoch 3/20\n",
      "1551/1551 [==============================] - 20s 13ms/step - loss: 0.2862 - val_loss: 0.2686\n",
      "Epoch 4/20\n",
      "1551/1551 [==============================] - 20s 13ms/step - loss: 0.2840 - val_loss: 0.2676\n",
      "Epoch 5/20\n",
      "1551/1551 [==============================] - 20s 13ms/step - loss: 0.2803 - val_loss: 0.2672\n",
      "Epoch 6/20\n",
      "1551/1551 [==============================] - 21s 14ms/step - loss: 0.2798 - val_loss: 0.2658\n",
      "Epoch 7/20\n",
      "1551/1551 [==============================] - 20s 13ms/step - loss: 0.2759 - val_loss: 0.2664\n",
      "Epoch 8/20\n",
      "1551/1551 [==============================] - 20s 13ms/step - loss: 0.2732 - val_loss: 0.2643\n",
      "Epoch 9/20\n",
      "1551/1551 [==============================] - 20s 13ms/step - loss: 0.2746 - val_loss: 0.2641\n",
      "Epoch 10/20\n",
      "1551/1551 [==============================] - 20s 13ms/step - loss: 0.2715 - val_loss: 0.2628\n",
      "Epoch 11/20\n",
      "1551/1551 [==============================] - 21s 13ms/step - loss: 0.2696 - val_loss: 0.2629\n",
      "Epoch 12/20\n",
      "1551/1551 [==============================] - 21s 14ms/step - loss: 0.2671 - val_loss: 0.2618\n",
      "Epoch 13/20\n",
      "1551/1551 [==============================] - 20s 13ms/step - loss: 0.2670 - val_loss: 0.2619\n",
      "Epoch 14/20\n",
      "1551/1551 [==============================] - 20s 13ms/step - loss: 0.2660 - val_loss: 0.2626\n",
      "Epoch 15/20\n",
      "1551/1551 [==============================] - 20s 13ms/step - loss: 0.2649 - val_loss: 0.2649\n",
      "Epoch 16/20\n",
      "1551/1551 [==============================] - 20s 13ms/step - loss: 0.2632 - val_loss: 0.2625\n",
      "Epoch 17/20\n",
      "1551/1551 [==============================] - 21s 13ms/step - loss: 0.2615 - val_loss: 0.2644\n"
     ]
    }
   ],
   "source": [
    "history = model.fit(train_gen,\n",
    "                    steps_per_epoch=train_steps,\n",
    "                    epochs=20,\n",
    "                    validation_data=valid_gen,\n",
    "                    validation_steps=valid_steps,\n",
    "                    callbacks=[early_stopping])"
   ]
  },
  {
   "cell_type": "code",
   "execution_count": 132,
   "metadata": {},
   "outputs": [
    {
     "data": {
      "image/png": "[encoded data removed]",
      "text/plain": [
       "<Figure size 432x288 with 1 Axes>"
      ]
     },
     "metadata": {
      "needs_background": "light"
     },
     "output_type": "display_data"
    }
   ],
   "source": [
    "pd.DataFrame(history.history)[['loss', 'val_loss']].plot()\n",
    "plt.grid(True)"
   ]
  },
  {
   "cell_type": "code",
   "execution_count": 134,
   "metadata": {},
   "outputs": [
    {
     "data": {
      "text/plain": [
       "0.26181384921073914"
      ]
     },
     "execution_count": 134,
     "metadata": {},
     "output_type": "execute_result"
    }
   ],
   "source": [
    "np.min(history.history['val_loss'])"
   ]
  },
  {
   "cell_type": "markdown",
   "metadata": {},
   "source": [
    "Vidíme, že jsme dokázali chybu opět o něco snížit. "
   ]
  },
  {
   "cell_type": "markdown",
   "metadata": {},
   "source": [
    "### Zkusíme využít další techniky proti přeučení ###"
   ]
  },
  {
   "cell_type": "markdown",
   "metadata": {},
   "source": [
    "Dropout není úplně jednoduché použít v případě rekurentní sítí. Klasická Dropout vrstva zde nefunguje příliš dobře, musíme využít vestavěných vlastností přímo v rekurentní vrstvě. \n",
    "\n",
    "Rekurentní vrstvy v Kerasu mají tedy dva nové parametry:\n",
    "- dropout (platí pro vstupní jednotky vrstvy)\n",
    "- recurrent_dropout (platí pro rekurentní jednotky vrstvy)\n",
    "\n",
    "\n",
    "Problém je v tom, že pokud změníme hodnoty recurrent_dropout na nenulové, tak nelze využít podpora GPU a čas potřebný pro zpracování se rapidně prodlouží. \n",
    "\n",
    "Výsledek by měl být o něco málo lepší než v minulém případě, ale asi nestojí za to na něj čekat (jedna epocha skoro 50 minut). "
   ]
  },
  {
   "cell_type": "code",
   "execution_count": 141,
   "metadata": {},
   "outputs": [],
   "source": [
    "model = keras.models.Sequential([\n",
    "    layers.GRU(32, dropout=0.2, recurrent_dropout=0,),\n",
    "    layers.Dense(1),\n",
    "])"
   ]
  },
  {
   "cell_type": "code",
   "execution_count": 142,
   "metadata": {},
   "outputs": [],
   "source": [
    "model.compile(optimizer=keras.optimizers.RMSprop(lr=0.0001), loss='mae')"
   ]
  },
  {
   "cell_type": "code",
   "execution_count": 143,
   "metadata": {},
   "outputs": [
    {
     "name": "stdout",
     "output_type": "stream",
     "text": [
      "Epoch 1/20\n",
      "1551/1551 [==============================] - 24s 14ms/step - loss: 0.4747 - val_loss: 0.2853\n",
      "Epoch 2/20\n",
      "1551/1551 [==============================] - 21s 14ms/step - loss: 0.3129 - val_loss: 0.2781\n",
      "Epoch 3/20\n",
      "1551/1551 [==============================] - 22s 14ms/step - loss: 0.3071 - val_loss: 0.2756\n",
      "Epoch 4/20\n",
      "1551/1551 [==============================] - 21s 13ms/step - loss: 0.3024 - val_loss: 0.2737\n",
      "Epoch 5/20\n",
      "1551/1551 [==============================] - 20s 13ms/step - loss: 0.2978 - val_loss: 0.2722\n",
      "Epoch 6/20\n",
      "1551/1551 [==============================] - 20s 13ms/step - loss: 0.2954 - val_loss: 0.2716\n",
      "Epoch 7/20\n",
      "1551/1551 [==============================] - 20s 13ms/step - loss: 0.2943 - val_loss: 0.2708\n",
      "Epoch 8/20\n",
      "1551/1551 [==============================] - 21s 14ms/step - loss: 0.2932 - val_loss: 0.2705\n",
      "Epoch 9/20\n",
      "1551/1551 [==============================] - 21s 14ms/step - loss: 0.2911 - val_loss: 0.2698\n",
      "Epoch 10/20\n",
      "1551/1551 [==============================] - 20s 13ms/step - loss: 0.2896 - val_loss: 0.2706\n",
      "Epoch 11/20\n",
      "1551/1551 [==============================] - 20s 13ms/step - loss: 0.2882 - val_loss: 0.2696\n",
      "Epoch 12/20\n",
      "1551/1551 [==============================] - 21s 13ms/step - loss: 0.2862 - val_loss: 0.2710\n",
      "Epoch 13/20\n",
      "1551/1551 [==============================] - 23s 15ms/step - loss: 0.2850 - val_loss: 0.2695\n",
      "Epoch 14/20\n",
      "1551/1551 [==============================] - 22s 14ms/step - loss: 0.2833 - val_loss: 0.2700\n",
      "Epoch 15/20\n",
      "1551/1551 [==============================] - 21s 14ms/step - loss: 0.2812 - val_loss: 0.2688\n",
      "Epoch 16/20\n",
      "1551/1551 [==============================] - 21s 14ms/step - loss: 0.2820 - val_loss: 0.2700\n",
      "Epoch 17/20\n",
      "1551/1551 [==============================] - 20s 13ms/step - loss: 0.2790 - val_loss: 0.2706\n",
      "Epoch 18/20\n",
      "1551/1551 [==============================] - 21s 13ms/step - loss: 0.2786 - val_loss: 0.2706\n",
      "Epoch 19/20\n",
      "1551/1551 [==============================] - 21s 13ms/step - loss: 0.2772 - val_loss: 0.2702\n",
      "Epoch 20/20\n",
      "1551/1551 [==============================] - 22s 14ms/step - loss: 0.2759 - val_loss: 0.2726\n"
     ]
    }
   ],
   "source": [
    "history = model.fit(train_gen,\n",
    "                    steps_per_epoch=train_steps,\n",
    "                    epochs=20,\n",
    "                    validation_data=valid_gen,\n",
    "                    validation_steps=valid_steps,\n",
    "                    callbacks=[early_stopping])"
   ]
  },
  {
   "cell_type": "code",
   "execution_count": 147,
   "metadata": {},
   "outputs": [
    {
     "data": {
      "image/png": "[encoded data removed]",
      "text/plain": [
       "<Figure size 432x288 with 1 Axes>"
      ]
     },
     "metadata": {
      "needs_background": "light"
     },
     "output_type": "display_data"
    }
   ],
   "source": [
    "pd.DataFrame(history.history)[['loss', 'val_loss']].plot()\n",
    "plt.grid(True)"
   ]
  },
  {
   "cell_type": "code",
   "execution_count": 148,
   "metadata": {},
   "outputs": [
    {
     "data": {
      "text/plain": [
       "0.2688147723674774"
      ]
     },
     "execution_count": 148,
     "metadata": {},
     "output_type": "execute_result"
    }
   ],
   "source": [
    "np.min(history.history['val_loss'])"
   ]
  },
  {
   "cell_type": "markdown",
   "metadata": {},
   "source": [
    "### Zkusíme přidat více vrstev pro zvýšení reprezentačních schopností sítě"
   ]
  },
  {
   "cell_type": "code",
   "execution_count": 149,
   "metadata": {},
   "outputs": [],
   "source": [
    "model = keras.models.Sequential([\n",
    "    layers.GRU(32, dropout=0.2, recurrent_dropout=0, return_sequences=True),\n",
    "    layers.GRU(64, dropout=0.2, recurrent_dropout=0,),\n",
    "    layers.Dense(1),\n",
    "])"
   ]
  },
  {
   "cell_type": "code",
   "execution_count": 150,
   "metadata": {},
   "outputs": [],
   "source": [
    "model.compile(optimizer=keras.optimizers.RMSprop(lr=0.0001), loss='mae')"
   ]
  },
  {
   "cell_type": "code",
   "execution_count": 151,
   "metadata": {},
   "outputs": [
    {
     "name": "stdout",
     "output_type": "stream",
     "text": [
      "Epoch 1/20\n",
      "1551/1551 [==============================] - 39s 23ms/step - loss: 0.3739 - val_loss: 0.2857\n",
      "Epoch 2/20\n",
      "1551/1551 [==============================] - 37s 24ms/step - loss: 0.3146 - val_loss: 0.2832\n",
      "Epoch 3/20\n",
      "1551/1551 [==============================] - 37s 24ms/step - loss: 0.3062 - val_loss: 0.2741\n",
      "Epoch 4/20\n",
      "1551/1551 [==============================] - 35s 23ms/step - loss: 0.2996 - val_loss: 0.2727\n",
      "Epoch 5/20\n",
      "1551/1551 [==============================] - 36s 23ms/step - loss: 0.2971 - val_loss: 0.2722\n",
      "Epoch 6/20\n",
      "1551/1551 [==============================] - 35s 23ms/step - loss: 0.2908 - val_loss: 0.2779\n",
      "Epoch 7/20\n",
      "1551/1551 [==============================] - 35s 22ms/step - loss: 0.2873 - val_loss: 0.2766\n",
      "Epoch 8/20\n",
      "1551/1551 [==============================] - 35s 23ms/step - loss: 0.2848 - val_loss: 0.2765\n",
      "Epoch 9/20\n",
      "1551/1551 [==============================] - 35s 22ms/step - loss: 0.2808 - val_loss: 0.2740\n",
      "Epoch 10/20\n",
      "1551/1551 [==============================] - 35s 22ms/step - loss: 0.2758 - val_loss: 0.2826\n"
     ]
    }
   ],
   "source": [
    "history = model.fit(train_gen,\n",
    "                    steps_per_epoch=train_steps,\n",
    "                    epochs=20,\n",
    "                    validation_data=valid_gen,\n",
    "                    validation_steps=valid_steps,\n",
    "                    callbacks=[early_stopping])"
   ]
  },
  {
   "cell_type": "code",
   "execution_count": 152,
   "metadata": {},
   "outputs": [
    {
     "data": {
      "image/png": "[encoded data removed]",
      "text/plain": [
       "<Figure size 432x288 with 1 Axes>"
      ]
     },
     "metadata": {
      "needs_background": "light"
     },
     "output_type": "display_data"
    }
   ],
   "source": [
    "pd.DataFrame(history.history)[['loss', 'val_loss']].plot()\n",
    "plt.grid(True)"
   ]
  },
  {
   "cell_type": "code",
   "execution_count": 153,
   "metadata": {},
   "outputs": [
    {
     "data": {
      "text/plain": [
       "0.2722213566303253"
      ]
     },
     "execution_count": 153,
     "metadata": {},
     "output_type": "execute_result"
    }
   ],
   "source": [
    "np.min(history.history['val_loss'])"
   ]
  }
 ],
 "metadata": {
  "kernelspec": {
   "display_name": "Python 3",
   "language": "python",
   "name": "python3"
  },
  "language_info": {
   "codemirror_mode": {
    "name": "ipython",
    "version": 3
   },
   "file_extension": ".py",
   "mimetype": "text/x-python",
   "name": "python",
   "nbconvert_exporter": "python",
   "pygments_lexer": "ipython3",
   "version": "3.8.7"
  }
 },
 "nbformat": 4,
 "nbformat_minor": 4
}
