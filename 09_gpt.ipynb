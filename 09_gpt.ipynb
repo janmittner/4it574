{
 "cells": [
  {
   "cell_type": "markdown",
   "metadata": {},
   "source": [
    "https://huggingface.co/transformers/"
   ]
  },
  {
   "cell_type": "markdown",
   "metadata": {},
   "source": [
    "pip install transformers"
   ]
  },
  {
   "cell_type": "code",
   "execution_count": 1,
   "metadata": {},
   "outputs": [],
   "source": [
    "import tensorflow as tf\n",
    "# Hack pro GPU na Windows\n",
    "for gpu in tf.config.experimental.list_physical_devices('GPU'):\n",
    "    tf.config.experimental.set_memory_growth(gpu, True)"
   ]
  },
  {
   "cell_type": "code",
   "execution_count": 18,
   "metadata": {},
   "outputs": [
    {
     "data": {
      "application/vnd.jupyter.widget-view+json": {
       "model_id": "8c81603bdc0847ccbb7cd2f852a7bdbc",
       "version_major": 2,
       "version_minor": 0
      },
      "text/plain": [
       "Downloading:   0%|          | 0.00/665 [00:00<?, ?B/s]"
      ]
     },
     "metadata": {},
     "output_type": "display_data"
    },
    {
     "data": {
      "application/vnd.jupyter.widget-view+json": {
       "model_id": "ae6e94bfdf9742d59b6362defa22ba98",
       "version_major": 2,
       "version_minor": 0
      },
      "text/plain": [
       "Downloading:   0%|          | 0.00/498M [00:00<?, ?B/s]"
      ]
     },
     "metadata": {},
     "output_type": "display_data"
    },
    {
     "name": "stderr",
     "output_type": "stream",
     "text": [
      "All model checkpoint layers were used when initializing TFGPT2LMHeadModel.\n",
      "\n",
      "All the layers of TFGPT2LMHeadModel were initialized from the model checkpoint at gpt2.\n",
      "If your task is similar to the task the model of the checkpoint was trained on, you can already use TFGPT2LMHeadModel for predictions without further training.\n"
     ]
    }
   ],
   "source": [
    "from transformers import TFGPT2LMHeadModel\n",
    "\n",
    "model = TFGPT2LMHeadModel.from_pretrained(\"gpt2\")"
   ]
  },
  {
   "cell_type": "code",
   "execution_count": 19,
   "metadata": {},
   "outputs": [
    {
     "data": {
      "application/vnd.jupyter.widget-view+json": {
       "model_id": "c2bc1556e1504e5d8939f4de4ae5085c",
       "version_major": 2,
       "version_minor": 0
      },
      "text/plain": [
       "Downloading:   0%|          | 0.00/1.04M [00:00<?, ?B/s]"
      ]
     },
     "metadata": {},
     "output_type": "display_data"
    },
    {
     "data": {
      "application/vnd.jupyter.widget-view+json": {
       "model_id": "24086fd48ee7429ba47abb5139202363",
       "version_major": 2,
       "version_minor": 0
      },
      "text/plain": [
       "Downloading:   0%|          | 0.00/456k [00:00<?, ?B/s]"
      ]
     },
     "metadata": {},
     "output_type": "display_data"
    },
    {
     "data": {
      "application/vnd.jupyter.widget-view+json": {
       "model_id": "ea270592f5284c44ab35c8e078a547c4",
       "version_major": 2,
       "version_minor": 0
      },
      "text/plain": [
       "Downloading:   0%|          | 0.00/1.36M [00:00<?, ?B/s]"
      ]
     },
     "metadata": {},
     "output_type": "display_data"
    }
   ],
   "source": [
    "from transformers import GPT2Tokenizer\n",
    "\n",
    "tokenizer = GPT2Tokenizer.from_pretrained(\"gpt2\")"
   ]
  },
  {
   "cell_type": "code",
   "execution_count": 26,
   "metadata": {},
   "outputs": [
    {
     "data": {
      "text/plain": [
       "<tf.Tensor: shape=(1, 12), dtype=int32, numpy=\n",
       "array([[  818,  4572,  4673,    11,  1104,    12, 31364,  8217,   389,\n",
       "        28679,  4673,  4981]])>"
      ]
     },
     "execution_count": 26,
     "metadata": {},
     "output_type": "execute_result"
    }
   ],
   "source": [
    "prompt_text = \"In machine learning, support-vector machines are supervised learning models\"\n",
    "encoded_prompt = tokenizer.encode(prompt_text,\n",
    "                                  add_special_tokens=False,\n",
    "                                  return_tensors=\"tf\")\n",
    "encoded_prompt"
   ]
  },
  {
   "cell_type": "code",
   "execution_count": 29,
   "metadata": {},
   "outputs": [
    {
     "name": "stderr",
     "output_type": "stream",
     "text": [
      "Setting `pad_token_id` to 50256 (first `eos_token_id`) to generate sequence\n"
     ]
    },
    {
     "data": {
      "text/plain": [
       "<tf.Tensor: shape=(5, 52), dtype=int32, numpy=\n",
       "array([[  818,  4572,  4673,    11,  1104,    12, 31364,  8217,   389,\n",
       "        28679,  4673,  4981,   326,  6032,   423,   257,  3161,    72,\n",
       "         1895,   284,   262,   900,   286,  2274,  1366,    13,  1114,\n",
       "         1672,    11,   611,   356,   423,   257,  7885,   326,  3407,\n",
       "          281, 18253,  1988,    11,   356,   460,  1607,   284,   760,\n",
       "          262,  1988,   286,   262, 11188,  5408,   287],\n",
       "       [  818,  4572,  4673,    11,  1104,    12, 31364,  8217,   389,\n",
       "        28679,  4673,  4981,  1912,   319,   617, 10238, 16113,    11,\n",
       "          617,  6087,   286,   262,  6678,   327,  3033,    11,   290,\n",
       "          617,  1366,  3858,    13,  1119,  2148, 28679,  4673,   351,\n",
       "        35582,  7587,   290,  3105,    11,   362,    12, 19577, 35847,\n",
       "         1231,   262, 13357,   286, 35582,  7587,    13],\n",
       "       [  818,  4572,  4673,    11,  1104,    12, 31364,  8217,   389,\n",
       "        28679,  4673,  4981,  1912,   319,   262, 12531,   507,   290,\n",
       "         4981,   286,  1430,  2438, 14553,   287,   262,  3303,    13,\n",
       "          383,  2746,    12,  3106,  3725,  2346,  2476,   284,   307,\n",
       "         2570,   876,    11,   475,   340,   635,   761,   407,   307,\n",
       "         3612,   546,   644,  2099,   286,  1321,   262],\n",
       "       [  818,  4572,  4673,    11,  1104,    12, 31364,  8217,   389,\n",
       "        28679,  4673,  4981,   329,  4673,  3519,   284,  3033,   287,\n",
       "          257,  4572,    13,  2312,  4981,   423,   262,  2785,   284,\n",
       "         2298,   422,   262,  5128,  1366,    11,  3328,   262,  5128,\n",
       "         1366,  1262, 11507,  6356,    11,   290,   307,  1498,   284,\n",
       "         5678,   290,  1441,   422,   262,  1366,   262],\n",
       "       [  818,  4572,  4673,    11,  1104,    12, 31364,  8217,   389,\n",
       "        28679,  4673,  4981,   351,  1029,  2854,   543, 11005,   262,\n",
       "          761,   329,  2854,  3781,    13,   198,   198,    32,  3047,\n",
       "          900,   318,  7560,   416,   257,  1448,   286,  3063,  2122,\n",
       "          282, 17019,  7686,   319,   257,  2330,    12, 13200,  4823,\n",
       "           13,   383,  3063,  2122,   282,  7686,   389]])>"
      ]
     },
     "execution_count": 29,
     "metadata": {},
     "output_type": "execute_result"
    }
   ],
   "source": [
    "num_sequences = 5\n",
    "length = 40\n",
    "\n",
    "generated_sequences = model.generate(\n",
    "    input_ids=encoded_prompt,\n",
    "    do_sample=True,\n",
    "    max_length=length + len(encoded_prompt[0]),\n",
    "    temperature=1.0,\n",
    "    top_k=0,\n",
    "    top_p=0.9,\n",
    "    repetition_penalty=1.0,\n",
    "    num_return_sequences=num_sequences,\n",
    ")\n",
    "\n",
    "generated_sequences"
   ]
  },
  {
   "cell_type": "code",
   "execution_count": 30,
   "metadata": {},
   "outputs": [
    {
     "name": "stdout",
     "output_type": "stream",
     "text": [
      "In machine learning, support-vector machines are supervised learning models that typically have a priori access to the set of recent data. For example, if we have a variable that includes an integer value, we can expect to know the value of the corresponding expression in\n",
      "--------------------------------------------------------------------------------\n",
      "In machine learning, support-vector machines are supervised learning models based on some underlying algorithms, some combination of the usual C features, and some data types. They provide supervised learning with sequential processing and slow, 2-dimensional lookup without the complexity of sequential processing.\n",
      "--------------------------------------------------------------------------------\n",
      "In machine learning, support-vector machines are supervised learning models based on the abstractions and models of program code embedded in the language. The model-based knowledge itself needs to be associative, but it also need not be thinking about what type of information the\n",
      "--------------------------------------------------------------------------------\n",
      "In machine learning, support-vector machines are supervised learning models for learning related to features in a machine. These models have the potential to pick from the input data, receive the input data using parameter selection, and be able to construct and return from the data the\n",
      "--------------------------------------------------------------------------------\n",
      "In machine learning, support-vector machines are supervised learning models with high performance which eliminate the need for performance analysis.\n",
      "\n",
      "A training set is generated by a group of convolutional neural networks on a white-space graph. The convolutional networks are\n",
      "--------------------------------------------------------------------------------\n"
     ]
    }
   ],
   "source": [
    "for sequence in generated_sequences:\n",
    "    text = tokenizer.decode(sequence, clean_up_tokenization_spaces=True)\n",
    "    print(text)\n",
    "    print(\"-\" * 80)"
   ]
  },
  {
   "cell_type": "code",
   "execution_count": null,
   "metadata": {},
   "outputs": [],
   "source": []
  }
 ],
 "metadata": {
  "kernelspec": {
   "display_name": "Python 3",
   "language": "python",
   "name": "python3"
  },
  "language_info": {
   "codemirror_mode": {
    "name": "ipython",
    "version": 3
   },
   "file_extension": ".py",
   "mimetype": "text/x-python",
   "name": "python",
   "nbconvert_exporter": "python",
   "pygments_lexer": "ipython3",
   "version": "3.8.7"
  }
 },
 "nbformat": 4,
 "nbformat_minor": 4
}
