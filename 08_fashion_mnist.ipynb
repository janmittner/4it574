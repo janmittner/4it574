{
 "cells": [
  {
   "cell_type": "code",
   "execution_count": 1,
   "metadata": {},
   "outputs": [],
   "source": [
    "import tensorflow as tf\n",
    "from tensorflow import keras"
   ]
  },
  {
   "cell_type": "markdown",
   "metadata": {},
   "source": [
    "Hack pro GPU na Windows"
   ]
  },
  {
   "cell_type": "code",
   "execution_count": 2,
   "metadata": {},
   "outputs": [],
   "source": [
    "for gpu in tf.config.experimental.list_physical_devices('GPU'):\n",
    "    tf.config.experimental.set_memory_growth(gpu, True)"
   ]
  },
  {
   "cell_type": "markdown",
   "metadata": {},
   "source": [
    "### Načteme data"
   ]
  },
  {
   "cell_type": "code",
   "execution_count": 3,
   "metadata": {},
   "outputs": [],
   "source": [
    "(X_train_full, y_train_full), (X_test, y_test) = keras.datasets.fashion_mnist.load_data()"
   ]
  },
  {
   "cell_type": "code",
   "execution_count": 4,
   "metadata": {},
   "outputs": [],
   "source": [
    "X_valid, X_train = X_train_full[:5000], X_train_full[5000:]\n",
    "y_valid, y_train = y_train_full[:5000], y_train_full[5000:]"
   ]
  },
  {
   "cell_type": "code",
   "execution_count": 5,
   "metadata": {},
   "outputs": [
    {
     "data": {
      "text/plain": [
       "(28, 28)"
      ]
     },
     "execution_count": 5,
     "metadata": {},
     "output_type": "execute_result"
    }
   ],
   "source": [
    "X_train[0].shape"
   ]
  },
  {
   "cell_type": "code",
   "execution_count": 6,
   "metadata": {},
   "outputs": [
    {
     "data": {
      "text/plain": [
       "<matplotlib.image.AxesImage at 0x231d4043580>"
      ]
     },
     "execution_count": 6,
     "metadata": {},
     "output_type": "execute_result"
    },
    {
     "data": {
      "image/png": "[encoded data removed]",
      "text/plain": [
       "<Figure size 432x288 with 1 Axes>"
      ]
     },
     "metadata": {
      "needs_background": "light"
     },
     "output_type": "display_data"
    }
   ],
   "source": [
    "from matplotlib import pyplot as plt\n",
    "plt.imshow(X_train[0])"
   ]
  },
  {
   "cell_type": "markdown",
   "metadata": {},
   "source": [
    "### Připravíme data"
   ]
  },
  {
   "cell_type": "markdown",
   "metadata": {},
   "source": [
    "Potřebujeme hodnoty 0-255 škálovat. Kromě StandardScaler(), který jsme si ukazovali, lze prostě a jednoduše hodnoty vydělit 255 a bude to také fungovat."
   ]
  },
  {
   "cell_type": "code",
   "execution_count": 7,
   "metadata": {},
   "outputs": [],
   "source": [
    "X_train = X_train / 255.\n",
    "X_valid = X_valid / 255.\n",
    "X_test = X_test / 255."
   ]
  },
  {
   "cell_type": "markdown",
   "metadata": {},
   "source": [
    "Z (instance, 28, 28) potřebujeme udělat (instance, 28, 28, 1)"
   ]
  },
  {
   "cell_type": "code",
   "execution_count": 8,
   "metadata": {},
   "outputs": [],
   "source": [
    "import numpy as np \n",
    "\n",
    "X_train = X_train[..., np.newaxis]\n",
    "X_valid = X_valid[..., np.newaxis]\n",
    "X_test = X_test[..., np.newaxis]"
   ]
  },
  {
   "cell_type": "code",
   "execution_count": 9,
   "metadata": {},
   "outputs": [
    {
     "data": {
      "text/plain": [
       "(55000, 28, 28, 1)"
      ]
     },
     "execution_count": 9,
     "metadata": {},
     "output_type": "execute_result"
    }
   ],
   "source": [
    "X_train.shape"
   ]
  },
  {
   "cell_type": "markdown",
   "metadata": {},
   "source": [
    "### Vytvoříme model"
   ]
  },
  {
   "cell_type": "code",
   "execution_count": 17,
   "metadata": {},
   "outputs": [],
   "source": [
    "model = keras.models.Sequential([\n",
    "    keras.layers.Conv2D(32, kernel_size=3, activation='relu', input_shape=(28,28,1)),\n",
    "    keras.layers.MaxPooling2D(),\n",
    "    keras.layers.Conv2D(64, kernel_size=3, activation='relu'),\n",
    "    keras.layers.MaxPooling2D(),\n",
    "    keras.layers.Conv2D(128, kernel_size=3, activation='relu'),\n",
    "    keras.layers.Flatten(),\n",
    "    keras.layers.Dropout(0.5),\n",
    "    keras.layers.Dense(128, activation='relu'),\n",
    "    keras.layers.Dropout(0.5),\n",
    "    keras.layers.Dense(10, activation=\"softmax\"),\n",
    "])"
   ]
  },
  {
   "cell_type": "code",
   "execution_count": 18,
   "metadata": {},
   "outputs": [
    {
     "name": "stdout",
     "output_type": "stream",
     "text": [
      "Model: \"sequential_1\"\n",
      "_________________________________________________________________\n",
      "Layer (type)                 Output Shape              Param #   \n",
      "=================================================================\n",
      "conv2d_3 (Conv2D)            (None, 26, 26, 32)        320       \n",
      "_________________________________________________________________\n",
      "max_pooling2d_2 (MaxPooling2 (None, 13, 13, 32)        0         \n",
      "_________________________________________________________________\n",
      "conv2d_4 (Conv2D)            (None, 11, 11, 64)        18496     \n",
      "_________________________________________________________________\n",
      "max_pooling2d_3 (MaxPooling2 (None, 5, 5, 64)          0         \n",
      "_________________________________________________________________\n",
      "conv2d_5 (Conv2D)            (None, 3, 3, 128)         73856     \n",
      "_________________________________________________________________\n",
      "flatten_1 (Flatten)          (None, 1152)              0         \n",
      "_________________________________________________________________\n",
      "dropout (Dropout)            (None, 1152)              0         \n",
      "_________________________________________________________________\n",
      "dense_1 (Dense)              (None, 128)               147584    \n",
      "_________________________________________________________________\n",
      "dropout_1 (Dropout)          (None, 128)               0         \n",
      "_________________________________________________________________\n",
      "dense_2 (Dense)              (None, 10)                1290      \n",
      "=================================================================\n",
      "Total params: 241,546\n",
      "Trainable params: 241,546\n",
      "Non-trainable params: 0\n",
      "_________________________________________________________________\n"
     ]
    }
   ],
   "source": [
    "model.summary()"
   ]
  },
  {
   "cell_type": "code",
   "execution_count": 20,
   "metadata": {},
   "outputs": [],
   "source": [
    "model.compile(loss=\"sparse_categorical_crossentropy\", optimizer=\"nadam\",\n",
    "              metrics=[\"accuracy\"])"
   ]
  },
  {
   "cell_type": "code",
   "execution_count": 21,
   "metadata": {},
   "outputs": [],
   "source": [
    "early_stopping = keras.callbacks.EarlyStopping(patience=5, restore_best_weights=True)"
   ]
  },
  {
   "cell_type": "code",
   "execution_count": 22,
   "metadata": {},
   "outputs": [
    {
     "name": "stdout",
     "output_type": "stream",
     "text": [
      "Epoch 1/20\n",
      "1719/1719 [==============================] - 15s 8ms/step - loss: 0.8189 - accuracy: 0.6954 - val_loss: 0.3454 - val_accuracy: 0.8722\n",
      "Epoch 2/20\n",
      "1719/1719 [==============================] - 14s 8ms/step - loss: 0.4081 - accuracy: 0.8543 - val_loss: 0.2976 - val_accuracy: 0.8924\n",
      "Epoch 3/20\n",
      "1719/1719 [==============================] - 14s 8ms/step - loss: 0.3441 - accuracy: 0.8765 - val_loss: 0.2686 - val_accuracy: 0.8980\n",
      "Epoch 4/20\n",
      "1719/1719 [==============================] - 14s 8ms/step - loss: 0.3068 - accuracy: 0.8899 - val_loss: 0.2520 - val_accuracy: 0.9068\n",
      "Epoch 5/20\n",
      "1719/1719 [==============================] - 14s 8ms/step - loss: 0.2888 - accuracy: 0.8943 - val_loss: 0.2444 - val_accuracy: 0.9064\n",
      "Epoch 6/20\n",
      "1719/1719 [==============================] - 14s 8ms/step - loss: 0.2804 - accuracy: 0.8986 - val_loss: 0.2444 - val_accuracy: 0.9104\n",
      "Epoch 7/20\n",
      "1719/1719 [==============================] - 14s 8ms/step - loss: 0.2603 - accuracy: 0.9045 - val_loss: 0.2484 - val_accuracy: 0.9072ss: 0.2\n",
      "Epoch 8/20\n",
      "1719/1719 [==============================] - 14s 8ms/step - loss: 0.2538 - accuracy: 0.9059 - val_loss: 0.2308 - val_accuracy: 0.9144\n",
      "Epoch 9/20\n",
      "1719/1719 [==============================] - 14s 8ms/step - loss: 0.2399 - accuracy: 0.9120 - val_loss: 0.2334 - val_accuracy: 0.9136\n",
      "Epoch 10/20\n",
      "1719/1719 [==============================] - 14s 8ms/step - loss: 0.2333 - accuracy: 0.9148 - val_loss: 0.2387 - val_accuracy: 0.9096\n",
      "Epoch 11/20\n",
      "1719/1719 [==============================] - 14s 8ms/step - loss: 0.2292 - accuracy: 0.9156 - val_loss: 0.2389 - val_accuracy: 0.9150\n",
      "Epoch 12/20\n",
      "1719/1719 [==============================] - 14s 8ms/step - loss: 0.2205 - accuracy: 0.9195 - val_loss: 0.2239 - val_accuracy: 0.9186\n",
      "Epoch 13/20\n",
      "1719/1719 [==============================] - 14s 8ms/step - loss: 0.2146 - accuracy: 0.9232 - val_loss: 0.2212 - val_accuracy: 0.9194\n",
      "Epoch 14/20\n",
      "1719/1719 [==============================] - 14s 8ms/step - loss: 0.2063 - accuracy: 0.9224 - val_loss: 0.2284 - val_accuracy: 0.9170\n",
      "Epoch 15/20\n",
      "1719/1719 [==============================] - 14s 8ms/step - loss: 0.2092 - accuracy: 0.9219 - val_loss: 0.2292 - val_accuracy: 0.9108\n",
      "Epoch 16/20\n",
      "1719/1719 [==============================] - 14s 8ms/step - loss: 0.1966 - accuracy: 0.9266 - val_loss: 0.2323 - val_accuracy: 0.9134\n",
      "Epoch 17/20\n",
      "1719/1719 [==============================] - 14s 8ms/step - loss: 0.1942 - accuracy: 0.9289 - val_loss: 0.2284 - val_accuracy: 0.9148\n",
      "Epoch 18/20\n",
      "1719/1719 [==============================] - 14s 8ms/step - loss: 0.1915 - accuracy: 0.9276 - val_loss: 0.2376 - val_accuracy: 0.9160\n"
     ]
    }
   ],
   "source": [
    "history = model.fit(X_train, y_train, epochs=20, validation_data=(X_valid, y_valid),\n",
    "                     callbacks=[early_stopping])"
   ]
  },
  {
   "cell_type": "code",
   "execution_count": 23,
   "metadata": {},
   "outputs": [
    {
     "data": {
      "image/png": "[encoded data removed]",
      "text/plain": [
       "<Figure size 432x288 with 1 Axes>"
      ]
     },
     "metadata": {
      "needs_background": "light"
     },
     "output_type": "display_data"
    }
   ],
   "source": [
    "import pandas as pd\n",
    "pd.DataFrame(history.history)[['loss', 'val_loss']].plot()\n",
    "plt.grid(True)"
   ]
  },
  {
   "cell_type": "code",
   "execution_count": 24,
   "metadata": {},
   "outputs": [
    {
     "data": {
      "image/png": "[encoded data removed]",
      "text/plain": [
       "<Figure size 432x288 with 1 Axes>"
      ]
     },
     "metadata": {
      "needs_background": "light"
     },
     "output_type": "display_data"
    }
   ],
   "source": [
    "pd.DataFrame(history.history)[['accuracy', 'val_accuracy']].plot()\n",
    "plt.grid(True)"
   ]
  },
  {
   "cell_type": "markdown",
   "metadata": {},
   "source": [
    "### Vyzkoušíme na testovacích datech"
   ]
  },
  {
   "cell_type": "code",
   "execution_count": 25,
   "metadata": {},
   "outputs": [
    {
     "name": "stdout",
     "output_type": "stream",
     "text": [
      "313/313 [==============================] - 1s 2ms/step - loss: 0.2507 - accuracy: 0.9135\n"
     ]
    },
    {
     "data": {
      "text/plain": [
       "[0.2507065534591675, 0.9135000109672546]"
      ]
     },
     "execution_count": 25,
     "metadata": {},
     "output_type": "execute_result"
    }
   ],
   "source": [
    "model.evaluate(X_test, y_test)"
   ]
  },
  {
   "cell_type": "markdown",
   "metadata": {},
   "source": [
    "**Pomocí DNN nebo SVM jsme se dostali na 88% správnost, zde jsme na 91,4 %. Chyba se tedy zmenšila relativně o zhruba 30 %.**"
   ]
  },
  {
   "cell_type": "code",
   "execution_count": null,
   "metadata": {},
   "outputs": [],
   "source": []
  }
 ],
 "metadata": {
  "kernelspec": {
   "display_name": "Python 3",
   "language": "python",
   "name": "python3"
  },
  "language_info": {
   "codemirror_mode": {
    "name": "ipython",
    "version": 3
   },
   "file_extension": ".py",
   "mimetype": "text/x-python",
   "name": "python",
   "nbconvert_exporter": "python",
   "pygments_lexer": "ipython3",
   "version": "3.8.7"
  }
 },
 "nbformat": 4,
 "nbformat_minor": 4
}
