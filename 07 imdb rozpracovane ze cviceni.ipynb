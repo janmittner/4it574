{
 "cells": [
  {
   "cell_type": "code",
   "execution_count": 1,
   "metadata": {},
   "outputs": [],
   "source": [
    "import os\n",
    "os.environ[\"CUDA_VISIBLE_DEVICES\"] = \"-1\""
   ]
  },
  {
   "cell_type": "code",
   "execution_count": 2,
   "metadata": {},
   "outputs": [],
   "source": [
    "import pandas as pd"
   ]
  },
  {
   "cell_type": "code",
   "execution_count": 3,
   "metadata": {},
   "outputs": [],
   "source": [
    "data = pd.read_csv(\"datasets/07/imdb/IMDB Dataset.csv\")"
   ]
  },
  {
   "cell_type": "code",
   "execution_count": 4,
   "metadata": {},
   "outputs": [
    {
     "data": {
      "text/html": [
       "<div>\n",
       "<style scoped>\n",
       "    .dataframe tbody tr th:only-of-type {\n",
       "        vertical-align: middle;\n",
       "    }\n",
       "\n",
       "    .dataframe tbody tr th {\n",
       "        vertical-align: top;\n",
       "    }\n",
       "\n",
       "    .dataframe thead th {\n",
       "        text-align: right;\n",
       "    }\n",
       "</style>\n",
       "<table border=\"1\" class=\"dataframe\">\n",
       "  <thead>\n",
       "    <tr style=\"text-align: right;\">\n",
       "      <th></th>\n",
       "      <th>review</th>\n",
       "      <th>sentiment</th>\n",
       "    </tr>\n",
       "  </thead>\n",
       "  <tbody>\n",
       "    <tr>\n",
       "      <th>0</th>\n",
       "      <td>One of the other reviewers has mentioned that ...</td>\n",
       "      <td>positive</td>\n",
       "    </tr>\n",
       "    <tr>\n",
       "      <th>1</th>\n",
       "      <td>A wonderful little production. &lt;br /&gt;&lt;br /&gt;The...</td>\n",
       "      <td>positive</td>\n",
       "    </tr>\n",
       "    <tr>\n",
       "      <th>2</th>\n",
       "      <td>I thought this was a wonderful way to spend ti...</td>\n",
       "      <td>positive</td>\n",
       "    </tr>\n",
       "    <tr>\n",
       "      <th>3</th>\n",
       "      <td>Basically there's a family where a little boy ...</td>\n",
       "      <td>negative</td>\n",
       "    </tr>\n",
       "    <tr>\n",
       "      <th>4</th>\n",
       "      <td>Petter Mattei's \"Love in the Time of Money\" is...</td>\n",
       "      <td>positive</td>\n",
       "    </tr>\n",
       "    <tr>\n",
       "      <th>...</th>\n",
       "      <td>...</td>\n",
       "      <td>...</td>\n",
       "    </tr>\n",
       "    <tr>\n",
       "      <th>49995</th>\n",
       "      <td>I thought this movie did a down right good job...</td>\n",
       "      <td>positive</td>\n",
       "    </tr>\n",
       "    <tr>\n",
       "      <th>49996</th>\n",
       "      <td>Bad plot, bad dialogue, bad acting, idiotic di...</td>\n",
       "      <td>negative</td>\n",
       "    </tr>\n",
       "    <tr>\n",
       "      <th>49997</th>\n",
       "      <td>I am a Catholic taught in parochial elementary...</td>\n",
       "      <td>negative</td>\n",
       "    </tr>\n",
       "    <tr>\n",
       "      <th>49998</th>\n",
       "      <td>I'm going to have to disagree with the previou...</td>\n",
       "      <td>negative</td>\n",
       "    </tr>\n",
       "    <tr>\n",
       "      <th>49999</th>\n",
       "      <td>No one expects the Star Trek movies to be high...</td>\n",
       "      <td>negative</td>\n",
       "    </tr>\n",
       "  </tbody>\n",
       "</table>\n",
       "<p>50000 rows × 2 columns</p>\n",
       "</div>"
      ],
      "text/plain": [
       "                                                  review sentiment\n",
       "0      One of the other reviewers has mentioned that ...  positive\n",
       "1      A wonderful little production. <br /><br />The...  positive\n",
       "2      I thought this was a wonderful way to spend ti...  positive\n",
       "3      Basically there's a family where a little boy ...  negative\n",
       "4      Petter Mattei's \"Love in the Time of Money\" is...  positive\n",
       "...                                                  ...       ...\n",
       "49995  I thought this movie did a down right good job...  positive\n",
       "49996  Bad plot, bad dialogue, bad acting, idiotic di...  negative\n",
       "49997  I am a Catholic taught in parochial elementary...  negative\n",
       "49998  I'm going to have to disagree with the previou...  negative\n",
       "49999  No one expects the Star Trek movies to be high...  negative\n",
       "\n",
       "[50000 rows x 2 columns]"
      ]
     },
     "execution_count": 4,
     "metadata": {},
     "output_type": "execute_result"
    }
   ],
   "source": [
    "data"
   ]
  },
  {
   "cell_type": "code",
   "execution_count": 5,
   "metadata": {},
   "outputs": [],
   "source": [
    "data[\"label\"] = (data[\"sentiment\"] == \"positive\").astype(int)"
   ]
  },
  {
   "cell_type": "code",
   "execution_count": 6,
   "metadata": {},
   "outputs": [
    {
     "data": {
      "text/html": [
       "<div>\n",
       "<style scoped>\n",
       "    .dataframe tbody tr th:only-of-type {\n",
       "        vertical-align: middle;\n",
       "    }\n",
       "\n",
       "    .dataframe tbody tr th {\n",
       "        vertical-align: top;\n",
       "    }\n",
       "\n",
       "    .dataframe thead th {\n",
       "        text-align: right;\n",
       "    }\n",
       "</style>\n",
       "<table border=\"1\" class=\"dataframe\">\n",
       "  <thead>\n",
       "    <tr style=\"text-align: right;\">\n",
       "      <th></th>\n",
       "      <th>review</th>\n",
       "      <th>sentiment</th>\n",
       "      <th>label</th>\n",
       "    </tr>\n",
       "  </thead>\n",
       "  <tbody>\n",
       "    <tr>\n",
       "      <th>0</th>\n",
       "      <td>One of the other reviewers has mentioned that ...</td>\n",
       "      <td>positive</td>\n",
       "      <td>1</td>\n",
       "    </tr>\n",
       "    <tr>\n",
       "      <th>1</th>\n",
       "      <td>A wonderful little production. &lt;br /&gt;&lt;br /&gt;The...</td>\n",
       "      <td>positive</td>\n",
       "      <td>1</td>\n",
       "    </tr>\n",
       "    <tr>\n",
       "      <th>2</th>\n",
       "      <td>I thought this was a wonderful way to spend ti...</td>\n",
       "      <td>positive</td>\n",
       "      <td>1</td>\n",
       "    </tr>\n",
       "    <tr>\n",
       "      <th>3</th>\n",
       "      <td>Basically there's a family where a little boy ...</td>\n",
       "      <td>negative</td>\n",
       "      <td>0</td>\n",
       "    </tr>\n",
       "    <tr>\n",
       "      <th>4</th>\n",
       "      <td>Petter Mattei's \"Love in the Time of Money\" is...</td>\n",
       "      <td>positive</td>\n",
       "      <td>1</td>\n",
       "    </tr>\n",
       "    <tr>\n",
       "      <th>...</th>\n",
       "      <td>...</td>\n",
       "      <td>...</td>\n",
       "      <td>...</td>\n",
       "    </tr>\n",
       "    <tr>\n",
       "      <th>49995</th>\n",
       "      <td>I thought this movie did a down right good job...</td>\n",
       "      <td>positive</td>\n",
       "      <td>1</td>\n",
       "    </tr>\n",
       "    <tr>\n",
       "      <th>49996</th>\n",
       "      <td>Bad plot, bad dialogue, bad acting, idiotic di...</td>\n",
       "      <td>negative</td>\n",
       "      <td>0</td>\n",
       "    </tr>\n",
       "    <tr>\n",
       "      <th>49997</th>\n",
       "      <td>I am a Catholic taught in parochial elementary...</td>\n",
       "      <td>negative</td>\n",
       "      <td>0</td>\n",
       "    </tr>\n",
       "    <tr>\n",
       "      <th>49998</th>\n",
       "      <td>I'm going to have to disagree with the previou...</td>\n",
       "      <td>negative</td>\n",
       "      <td>0</td>\n",
       "    </tr>\n",
       "    <tr>\n",
       "      <th>49999</th>\n",
       "      <td>No one expects the Star Trek movies to be high...</td>\n",
       "      <td>negative</td>\n",
       "      <td>0</td>\n",
       "    </tr>\n",
       "  </tbody>\n",
       "</table>\n",
       "<p>50000 rows × 3 columns</p>\n",
       "</div>"
      ],
      "text/plain": [
       "                                                  review sentiment  label\n",
       "0      One of the other reviewers has mentioned that ...  positive      1\n",
       "1      A wonderful little production. <br /><br />The...  positive      1\n",
       "2      I thought this was a wonderful way to spend ti...  positive      1\n",
       "3      Basically there's a family where a little boy ...  negative      0\n",
       "4      Petter Mattei's \"Love in the Time of Money\" is...  positive      1\n",
       "...                                                  ...       ...    ...\n",
       "49995  I thought this movie did a down right good job...  positive      1\n",
       "49996  Bad plot, bad dialogue, bad acting, idiotic di...  negative      0\n",
       "49997  I am a Catholic taught in parochial elementary...  negative      0\n",
       "49998  I'm going to have to disagree with the previou...  negative      0\n",
       "49999  No one expects the Star Trek movies to be high...  negative      0\n",
       "\n",
       "[50000 rows x 3 columns]"
      ]
     },
     "execution_count": 6,
     "metadata": {},
     "output_type": "execute_result"
    }
   ],
   "source": [
    "data"
   ]
  },
  {
   "cell_type": "code",
   "execution_count": 7,
   "metadata": {},
   "outputs": [],
   "source": [
    "from sklearn.model_selection import train_test_split\n",
    "train_full, test = train_test_split(data, test_size=0.2, random_state=42)"
   ]
  },
  {
   "cell_type": "code",
   "execution_count": 8,
   "metadata": {},
   "outputs": [],
   "source": [
    "train, valid = train_test_split(train_full, test_size=0.2, random_state=42)"
   ]
  },
  {
   "cell_type": "code",
   "execution_count": 9,
   "metadata": {},
   "outputs": [
    {
     "data": {
      "text/plain": [
       "(32000, 3)"
      ]
     },
     "execution_count": 9,
     "metadata": {},
     "output_type": "execute_result"
    }
   ],
   "source": [
    "train.shape"
   ]
  },
  {
   "cell_type": "code",
   "execution_count": 10,
   "metadata": {},
   "outputs": [
    {
     "data": {
      "text/plain": [
       "(8000, 3)"
      ]
     },
     "execution_count": 10,
     "metadata": {},
     "output_type": "execute_result"
    }
   ],
   "source": [
    "valid.shape"
   ]
  },
  {
   "cell_type": "code",
   "execution_count": 11,
   "metadata": {},
   "outputs": [
    {
     "data": {
      "text/plain": [
       "(10000, 3)"
      ]
     },
     "execution_count": 11,
     "metadata": {},
     "output_type": "execute_result"
    }
   ],
   "source": [
    "test.shape"
   ]
  },
  {
   "cell_type": "code",
   "execution_count": 12,
   "metadata": {},
   "outputs": [],
   "source": [
    "from sklearn.feature_extraction.text import CountVectorizer\n",
    "from sklearn.feature_extraction.text import TfidfTransformer\n",
    "from sklearn.pipeline import Pipeline"
   ]
  },
  {
   "cell_type": "code",
   "execution_count": 13,
   "metadata": {},
   "outputs": [],
   "source": [
    "pipeline = Pipeline([\n",
    "    ('bow', CountVectorizer(max_features=10000)),\n",
    "    ('tfidf', TfidfTransformer()),\n",
    "])"
   ]
  },
  {
   "cell_type": "code",
   "execution_count": 14,
   "metadata": {},
   "outputs": [],
   "source": [
    "X_train = pipeline.fit_transform(train[\"review\"]).todense()"
   ]
  },
  {
   "cell_type": "code",
   "execution_count": 15,
   "metadata": {},
   "outputs": [],
   "source": [
    "y_train = train[\"label\"]"
   ]
  },
  {
   "cell_type": "code",
   "execution_count": 16,
   "metadata": {},
   "outputs": [],
   "source": [
    "X_valid = pipeline.transform(valid[\"review\"]).todense()\n",
    "y_valid = valid[\"label\"]"
   ]
  },
  {
   "cell_type": "code",
   "execution_count": 17,
   "metadata": {},
   "outputs": [],
   "source": [
    "X_test = pipeline.transform(test[\"review\"]).todense()\n",
    "y_test = test[\"label\"]"
   ]
  },
  {
   "cell_type": "markdown",
   "metadata": {},
   "source": [
    "### Model "
   ]
  },
  {
   "cell_type": "code",
   "execution_count": 18,
   "metadata": {},
   "outputs": [],
   "source": [
    "import tensorflow as tf\n",
    "from tensorflow import keras"
   ]
  },
  {
   "cell_type": "code",
   "execution_count": 19,
   "metadata": {},
   "outputs": [],
   "source": [
    "model = keras.models.Sequential([\n",
    "    keras.layers.Dense(16, activation='relu'),\n",
    "    keras.layers.Dense(16, activation='relu'),\n",
    "    keras.layers.Dense(1, activation='sigmoid'),\n",
    "])"
   ]
  },
  {
   "cell_type": "code",
   "execution_count": 20,
   "metadata": {},
   "outputs": [],
   "source": [
    "model.compile(optimizer=keras.optimizers.RMSprop(lr=0.001),\n",
    "             loss='binary_crossentropy',\n",
    "             metrics=['accuracy'])"
   ]
  },
  {
   "cell_type": "code",
   "execution_count": 21,
   "metadata": {},
   "outputs": [
    {
     "name": "stdout",
     "output_type": "stream",
     "text": [
      "Epoch 1/100\n",
      "1000/1000 [==============================] - 4s 3ms/step - loss: 0.4649 - accuracy: 0.7967 - val_loss: 0.2515 - val_accuracy: 0.8994\n",
      "Epoch 2/100\n",
      "1000/1000 [==============================] - 2s 2ms/step - loss: 0.1996 - accuracy: 0.9220 - val_loss: 0.2601 - val_accuracy: 0.8976\n",
      "Epoch 3/100\n",
      "1000/1000 [==============================] - 2s 2ms/step - loss: 0.1822 - accuracy: 0.9302 - val_loss: 0.2589 - val_accuracy: 0.8989\n",
      "Epoch 4/100\n",
      "1000/1000 [==============================] - 2s 2ms/step - loss: 0.1720 - accuracy: 0.9359 - val_loss: 0.2665 - val_accuracy: 0.8957\n",
      "Epoch 5/100\n",
      "1000/1000 [==============================] - 2s 2ms/step - loss: 0.1613 - accuracy: 0.9407 - val_loss: 0.2766 - val_accuracy: 0.8930\n",
      "Epoch 6/100\n",
      "1000/1000 [==============================] - 2s 2ms/step - loss: 0.1566 - accuracy: 0.9430 - val_loss: 0.2816 - val_accuracy: 0.8907\n",
      "Epoch 7/100\n",
      "1000/1000 [==============================] - 2s 2ms/step - loss: 0.1533 - accuracy: 0.9445 - val_loss: 0.2874 - val_accuracy: 0.8909\n",
      "Epoch 8/100\n",
      "1000/1000 [==============================] - 2s 2ms/step - loss: 0.1446 - accuracy: 0.9490 - val_loss: 0.2840 - val_accuracy: 0.8919\n",
      "Epoch 9/100\n",
      "1000/1000 [==============================] - 2s 2ms/step - loss: 0.1455 - accuracy: 0.9465 - val_loss: 0.2943 - val_accuracy: 0.8938\n",
      "Epoch 10/100\n",
      "1000/1000 [==============================] - 2s 2ms/step - loss: 0.1409 - accuracy: 0.9481 - val_loss: 0.3007 - val_accuracy: 0.8932\n",
      "Epoch 11/100\n",
      "1000/1000 [==============================] - 2s 2ms/step - loss: 0.1392 - accuracy: 0.9495 - val_loss: 0.3055 - val_accuracy: 0.8923\n",
      "Epoch 12/100\n",
      "1000/1000 [==============================] - 2s 2ms/step - loss: 0.1286 - accuracy: 0.9534 - val_loss: 0.3124 - val_accuracy: 0.8890\n",
      "Epoch 13/100\n",
      "1000/1000 [==============================] - 2s 2ms/step - loss: 0.1284 - accuracy: 0.9527 - val_loss: 0.3159 - val_accuracy: 0.8903\n",
      "Epoch 14/100\n",
      "1000/1000 [==============================] - 2s 2ms/step - loss: 0.1244 - accuracy: 0.9563 - val_loss: 0.3271 - val_accuracy: 0.8891\n",
      "Epoch 15/100\n",
      "1000/1000 [==============================] - 2s 2ms/step - loss: 0.1224 - accuracy: 0.9581 - val_loss: 0.3461 - val_accuracy: 0.8860\n",
      "Epoch 16/100\n",
      "1000/1000 [==============================] - 2s 2ms/step - loss: 0.1201 - accuracy: 0.9577 - val_loss: 0.3347 - val_accuracy: 0.8878\n",
      "Epoch 17/100\n",
      "1000/1000 [==============================] - 2s 2ms/step - loss: 0.1143 - accuracy: 0.9598 - val_loss: 0.3473 - val_accuracy: 0.8876\n",
      "Epoch 18/100\n",
      "1000/1000 [==============================] - 2s 2ms/step - loss: 0.1142 - accuracy: 0.9596 - val_loss: 0.3478 - val_accuracy: 0.8863\n",
      "Epoch 19/100\n",
      "1000/1000 [==============================] - 2s 2ms/step - loss: 0.1145 - accuracy: 0.9602 - val_loss: 0.3569 - val_accuracy: 0.8860\n",
      "Epoch 20/100\n",
      "1000/1000 [==============================] - 2s 2ms/step - loss: 0.1048 - accuracy: 0.9648 - val_loss: 0.3652 - val_accuracy: 0.8845\n",
      "Epoch 21/100\n",
      "1000/1000 [==============================] - 2s 2ms/step - loss: 0.1065 - accuracy: 0.9638 - val_loss: 0.3595 - val_accuracy: 0.8855\n",
      "Epoch 22/100\n",
      "1000/1000 [==============================] - 2s 2ms/step - loss: 0.1019 - accuracy: 0.9654 - val_loss: 0.3650 - val_accuracy: 0.8844\n",
      "Epoch 23/100\n",
      "1000/1000 [==============================] - 3s 3ms/step - loss: 0.0954 - accuracy: 0.9682 - val_loss: 0.3828 - val_accuracy: 0.8831\n",
      "Epoch 24/100\n",
      "1000/1000 [==============================] - 3s 3ms/step - loss: 0.0919 - accuracy: 0.9703 - val_loss: 0.3920 - val_accuracy: 0.8835\n",
      "Epoch 25/100\n",
      "1000/1000 [==============================] - 3s 3ms/step - loss: 0.0892 - accuracy: 0.9716 - val_loss: 0.4331 - val_accuracy: 0.8754\n",
      "Epoch 26/100\n",
      "1000/1000 [==============================] - 3s 3ms/step - loss: 0.0859 - accuracy: 0.9723 - val_loss: 0.4082 - val_accuracy: 0.8815\n",
      "Epoch 27/100\n",
      "1000/1000 [==============================] - 3s 3ms/step - loss: 0.0808 - accuracy: 0.9750 - val_loss: 0.4282 - val_accuracy: 0.8799\n",
      "Epoch 28/100\n",
      "1000/1000 [==============================] - 3s 3ms/step - loss: 0.0754 - accuracy: 0.9767 - val_loss: 0.4453 - val_accuracy: 0.8784\n",
      "Epoch 29/100\n",
      "1000/1000 [==============================] - 3s 3ms/step - loss: 0.0726 - accuracy: 0.9773 - val_loss: 0.4468 - val_accuracy: 0.8771\n",
      "Epoch 30/100\n",
      "1000/1000 [==============================] - 3s 3ms/step - loss: 0.0664 - accuracy: 0.9797 - val_loss: 0.4633 - val_accuracy: 0.8773\n",
      "Epoch 31/100\n",
      "1000/1000 [==============================] - 3s 3ms/step - loss: 0.0617 - accuracy: 0.9816 - val_loss: 0.4741 - val_accuracy: 0.8742\n",
      "Epoch 32/100\n",
      "1000/1000 [==============================] - 3s 3ms/step - loss: 0.0606 - accuracy: 0.9816 - val_loss: 0.5101 - val_accuracy: 0.8745\n",
      "Epoch 33/100\n",
      "1000/1000 [==============================] - 3s 3ms/step - loss: 0.0539 - accuracy: 0.9837 - val_loss: 0.5286 - val_accuracy: 0.8740\n",
      "Epoch 34/100\n",
      "1000/1000 [==============================] - 3s 3ms/step - loss: 0.0522 - accuracy: 0.9850 - val_loss: 0.5415 - val_accuracy: 0.8712\n",
      "Epoch 35/100\n",
      "1000/1000 [==============================] - 3s 3ms/step - loss: 0.0505 - accuracy: 0.9869 - val_loss: 0.5569 - val_accuracy: 0.8704\n",
      "Epoch 36/100\n",
      "1000/1000 [==============================] - 3s 3ms/step - loss: 0.0425 - accuracy: 0.9867 - val_loss: 0.5756 - val_accuracy: 0.8692\n",
      "Epoch 37/100\n",
      "1000/1000 [==============================] - 2s 2ms/step - loss: 0.0413 - accuracy: 0.9879 - val_loss: 0.5872 - val_accuracy: 0.8640\n",
      "Epoch 38/100\n",
      "1000/1000 [==============================] - 2s 2ms/step - loss: 0.0408 - accuracy: 0.9888 - val_loss: 0.6407 - val_accuracy: 0.8648\n",
      "Epoch 39/100\n",
      "1000/1000 [==============================] - 2s 2ms/step - loss: 0.0388 - accuracy: 0.9887 - val_loss: 0.6538 - val_accuracy: 0.8644\n",
      "Epoch 40/100\n",
      "1000/1000 [==============================] - 2s 2ms/step - loss: 0.0324 - accuracy: 0.9911 - val_loss: 0.6682 - val_accuracy: 0.8606\n",
      "Epoch 41/100\n",
      "1000/1000 [==============================] - 2s 2ms/step - loss: 0.0341 - accuracy: 0.9908 - val_loss: 0.7235 - val_accuracy: 0.8609\n",
      "Epoch 42/100\n",
      "1000/1000 [==============================] - 2s 2ms/step - loss: 0.0306 - accuracy: 0.9913 - val_loss: 0.7524 - val_accuracy: 0.8615\n",
      "Epoch 43/100\n",
      "1000/1000 [==============================] - 2s 2ms/step - loss: 0.0312 - accuracy: 0.9917 - val_loss: 0.7985 - val_accuracy: 0.8608\n",
      "Epoch 44/100\n",
      "1000/1000 [==============================] - 2s 2ms/step - loss: 0.0284 - accuracy: 0.9927 - val_loss: 0.8015 - val_accuracy: 0.8575\n",
      "Epoch 45/100\n",
      "1000/1000 [==============================] - 2s 2ms/step - loss: 0.0291 - accuracy: 0.9920 - val_loss: 0.8740 - val_accuracy: 0.8545\n",
      "Epoch 46/100\n",
      "1000/1000 [==============================] - 2s 2ms/step - loss: 0.0278 - accuracy: 0.9929 - val_loss: 0.9323 - val_accuracy: 0.8537\n",
      "Epoch 47/100\n",
      "1000/1000 [==============================] - 2s 2ms/step - loss: 0.0251 - accuracy: 0.9937 - val_loss: 0.9691 - val_accuracy: 0.8551\n",
      "Epoch 48/100\n",
      "1000/1000 [==============================] - 2s 2ms/step - loss: 0.0228 - accuracy: 0.9940 - val_loss: 0.9707 - val_accuracy: 0.8575\n",
      "Epoch 49/100\n",
      "1000/1000 [==============================] - 2s 2ms/step - loss: 0.0238 - accuracy: 0.9937 - val_loss: 1.0275 - val_accuracy: 0.8572\n",
      "Epoch 50/100\n",
      "1000/1000 [==============================] - 2s 2ms/step - loss: 0.0197 - accuracy: 0.9945 - val_loss: 1.0411 - val_accuracy: 0.8544\n",
      "Epoch 51/100\n",
      "1000/1000 [==============================] - 2s 2ms/step - loss: 0.0204 - accuracy: 0.9946 - val_loss: 1.1328 - val_accuracy: 0.8508\n",
      "Epoch 52/100\n",
      "1000/1000 [==============================] - 2s 2ms/step - loss: 0.0187 - accuracy: 0.9949 - val_loss: 1.1116 - val_accuracy: 0.8570\n",
      "Epoch 53/100\n",
      "1000/1000 [==============================] - 2s 2ms/step - loss: 0.0184 - accuracy: 0.9955 - val_loss: 1.2091 - val_accuracy: 0.8510\n",
      "Epoch 54/100\n",
      "1000/1000 [==============================] - 3s 3ms/step - loss: 0.0146 - accuracy: 0.9964 - val_loss: 1.1817 - val_accuracy: 0.8514\n",
      "Epoch 55/100\n",
      "1000/1000 [==============================] - 2s 2ms/step - loss: 0.0187 - accuracy: 0.9950 - val_loss: 1.3123 - val_accuracy: 0.8545\n",
      "Epoch 56/100\n",
      "1000/1000 [==============================] - 2s 2ms/step - loss: 0.0144 - accuracy: 0.9965 - val_loss: 1.3143 - val_accuracy: 0.8537\n",
      "Epoch 57/100\n"
     ]
    },
    {
     "name": "stdout",
     "output_type": "stream",
     "text": [
      "1000/1000 [==============================] - 2s 2ms/step - loss: 0.0159 - accuracy: 0.9960 - val_loss: 1.4245 - val_accuracy: 0.8500\n",
      "Epoch 58/100\n",
      "1000/1000 [==============================] - 2s 2ms/step - loss: 0.0112 - accuracy: 0.9972 - val_loss: 1.4448 - val_accuracy: 0.8506\n",
      "Epoch 59/100\n",
      "1000/1000 [==============================] - 2s 2ms/step - loss: 0.0148 - accuracy: 0.9963 - val_loss: 1.5151 - val_accuracy: 0.8551\n",
      "Epoch 60/100\n",
      "1000/1000 [==============================] - 2s 2ms/step - loss: 0.0124 - accuracy: 0.9970 - val_loss: 1.5894 - val_accuracy: 0.8528\n",
      "Epoch 61/100\n",
      "1000/1000 [==============================] - 2s 2ms/step - loss: 0.0103 - accuracy: 0.9970 - val_loss: 1.6036 - val_accuracy: 0.8525\n",
      "Epoch 62/100\n",
      "1000/1000 [==============================] - 2s 2ms/step - loss: 0.0112 - accuracy: 0.9970 - val_loss: 1.7054 - val_accuracy: 0.8547\n",
      "Epoch 63/100\n",
      "1000/1000 [==============================] - 2s 2ms/step - loss: 0.0097 - accuracy: 0.9977 - val_loss: 1.7735 - val_accuracy: 0.8534\n",
      "Epoch 64/100\n",
      "1000/1000 [==============================] - 2s 2ms/step - loss: 0.0084 - accuracy: 0.9978 - val_loss: 1.7797 - val_accuracy: 0.8512\n",
      "Epoch 65/100\n",
      "1000/1000 [==============================] - 2s 2ms/step - loss: 0.0083 - accuracy: 0.9979 - val_loss: 1.8625 - val_accuracy: 0.8569\n",
      "Epoch 66/100\n",
      "1000/1000 [==============================] - 2s 2ms/step - loss: 0.0082 - accuracy: 0.9980 - val_loss: 1.8999 - val_accuracy: 0.8558\n",
      "Epoch 67/100\n",
      "1000/1000 [==============================] - 2s 2ms/step - loss: 0.0073 - accuracy: 0.9982 - val_loss: 1.9936 - val_accuracy: 0.8515\n",
      "Epoch 68/100\n",
      "1000/1000 [==============================] - 2s 2ms/step - loss: 0.0081 - accuracy: 0.9984 - val_loss: 2.1051 - val_accuracy: 0.8554\n",
      "Epoch 69/100\n",
      "1000/1000 [==============================] - 2s 2ms/step - loss: 0.0058 - accuracy: 0.9984 - val_loss: 2.1007 - val_accuracy: 0.8521\n",
      "Epoch 70/100\n",
      "1000/1000 [==============================] - 2s 2ms/step - loss: 0.0062 - accuracy: 0.9985 - val_loss: 2.1896 - val_accuracy: 0.8516\n",
      "Epoch 71/100\n",
      "1000/1000 [==============================] - 2s 2ms/step - loss: 0.0053 - accuracy: 0.9986 - val_loss: 2.1690 - val_accuracy: 0.8505\n",
      "Epoch 72/100\n",
      "1000/1000 [==============================] - 2s 2ms/step - loss: 0.0054 - accuracy: 0.9989 - val_loss: 2.2961 - val_accuracy: 0.8494\n",
      "Epoch 73/100\n",
      "1000/1000 [==============================] - 2s 2ms/step - loss: 0.0055 - accuracy: 0.9989 - val_loss: 2.3088 - val_accuracy: 0.8569\n",
      "Epoch 74/100\n",
      "1000/1000 [==============================] - 2s 2ms/step - loss: 0.0041 - accuracy: 0.9990 - val_loss: 2.3562 - val_accuracy: 0.8519\n",
      "Epoch 75/100\n",
      "1000/1000 [==============================] - 3s 3ms/step - loss: 0.0066 - accuracy: 0.9987 - val_loss: 2.4978 - val_accuracy: 0.8546\n",
      "Epoch 76/100\n",
      "1000/1000 [==============================] - 3s 3ms/step - loss: 0.0034 - accuracy: 0.9992 - val_loss: 2.5039 - val_accuracy: 0.8530\n",
      "Epoch 77/100\n",
      "1000/1000 [==============================] - 3s 3ms/step - loss: 0.0047 - accuracy: 0.9987 - val_loss: 2.6954 - val_accuracy: 0.8541\n",
      "Epoch 78/100\n",
      "1000/1000 [==============================] - 3s 3ms/step - loss: 0.0043 - accuracy: 0.9993 - val_loss: 2.6764 - val_accuracy: 0.8516\n",
      "Epoch 79/100\n",
      "1000/1000 [==============================] - 3s 3ms/step - loss: 0.0046 - accuracy: 0.9990 - val_loss: 2.7616 - val_accuracy: 0.8530\n",
      "Epoch 80/100\n",
      "1000/1000 [==============================] - 3s 3ms/step - loss: 0.0018 - accuracy: 0.9995 - val_loss: 2.7775 - val_accuracy: 0.8511\n",
      "Epoch 81/100\n",
      "1000/1000 [==============================] - 3s 3ms/step - loss: 0.0046 - accuracy: 0.9993 - val_loss: 2.8254 - val_accuracy: 0.8572\n",
      "Epoch 82/100\n",
      "1000/1000 [==============================] - 3s 3ms/step - loss: 0.0017 - accuracy: 0.9994 - val_loss: 2.9038 - val_accuracy: 0.8580\n",
      "Epoch 83/100\n",
      "1000/1000 [==============================] - 3s 3ms/step - loss: 0.0021 - accuracy: 0.9997 - val_loss: 2.9804 - val_accuracy: 0.8512\n",
      "Epoch 84/100\n",
      "1000/1000 [==============================] - 3s 3ms/step - loss: 0.0017 - accuracy: 0.9997 - val_loss: 3.0371 - val_accuracy: 0.8540\n",
      "Epoch 85/100\n",
      "1000/1000 [==============================] - 3s 3ms/step - loss: 0.0025 - accuracy: 0.9996 - val_loss: 3.1468 - val_accuracy: 0.8577\n",
      "Epoch 86/100\n",
      "1000/1000 [==============================] - 3s 3ms/step - loss: 0.0020 - accuracy: 0.9995 - val_loss: 3.1516 - val_accuracy: 0.8555\n",
      "Epoch 87/100\n",
      "1000/1000 [==============================] - 3s 3ms/step - loss: 0.0039 - accuracy: 0.9997 - val_loss: 3.2615 - val_accuracy: 0.8555\n",
      "Epoch 88/100\n",
      "1000/1000 [==============================] - 2s 2ms/step - loss: 0.0015 - accuracy: 0.9997 - val_loss: 3.2601 - val_accuracy: 0.8543\n",
      "Epoch 89/100\n",
      "1000/1000 [==============================] - 2s 2ms/step - loss: 0.0032 - accuracy: 0.9997 - val_loss: 3.3437 - val_accuracy: 0.8524\n",
      "Epoch 90/100\n",
      "1000/1000 [==============================] - 2s 2ms/step - loss: 9.7876e-04 - accuracy: 0.9998 - val_loss: 3.3214 - val_accuracy: 0.8556\n",
      "Epoch 91/100\n",
      "1000/1000 [==============================] - 2s 2ms/step - loss: 0.0018 - accuracy: 0.9997 - val_loss: 3.4468 - val_accuracy: 0.8576\n",
      "Epoch 92/100\n",
      "1000/1000 [==============================] - 2s 2ms/step - loss: 7.0002e-04 - accuracy: 0.9999 - val_loss: 3.4719 - val_accuracy: 0.8511\n",
      "Epoch 93/100\n",
      "1000/1000 [==============================] - 2s 2ms/step - loss: 5.2265e-04 - accuracy: 0.9999 - val_loss: 3.4915 - val_accuracy: 0.8531\n",
      "Epoch 94/100\n",
      "1000/1000 [==============================] - 2s 2ms/step - loss: 0.0010 - accuracy: 0.9999 - val_loss: 3.4995 - val_accuracy: 0.8539\n",
      "Epoch 95/100\n",
      "1000/1000 [==============================] - 2s 2ms/step - loss: 0.0013 - accuracy: 0.9999 - val_loss: 3.6438 - val_accuracy: 0.8518\n",
      "Epoch 96/100\n",
      "1000/1000 [==============================] - 2s 2ms/step - loss: 0.0019 - accuracy: 0.9998 - val_loss: 3.6165 - val_accuracy: 0.8562\n",
      "Epoch 97/100\n",
      "1000/1000 [==============================] - 2s 2ms/step - loss: 7.1776e-04 - accuracy: 0.9999 - val_loss: 3.6515 - val_accuracy: 0.8546\n",
      "Epoch 98/100\n",
      "1000/1000 [==============================] - 2s 2ms/step - loss: 5.9735e-04 - accuracy: 0.9999 - val_loss: 3.7314 - val_accuracy: 0.8545\n",
      "Epoch 99/100\n",
      "1000/1000 [==============================] - 2s 2ms/step - loss: 0.0015 - accuracy: 0.9999 - val_loss: 3.7777 - val_accuracy: 0.8553\n",
      "Epoch 100/100\n",
      "1000/1000 [==============================] - 2s 2ms/step - loss: 0.0014 - accuracy: 0.9999 - val_loss: 3.7964 - val_accuracy: 0.8559\n"
     ]
    }
   ],
   "source": [
    "history = model.fit(X_train, y_train, batch_size=32, epochs=100, validation_data=(X_valid, y_valid))"
   ]
  },
  {
   "cell_type": "code",
   "execution_count": 22,
   "metadata": {},
   "outputs": [
    {
     "data": {
      "text/plain": [
       "<AxesSubplot:>"
      ]
     },
     "execution_count": 22,
     "metadata": {},
     "output_type": "execute_result"
    },
    {
     "data": {
      "image/png": "[encoded data removed]",
      "text/plain": [
       "<Figure size 432x288 with 1 Axes>"
      ]
     },
     "metadata": {
      "needs_background": "light"
     },
     "output_type": "display_data"
    }
   ],
   "source": [
    "pd.DataFrame(history.history)[['loss', 'val_loss']].plot()"
   ]
  },
  {
   "cell_type": "code",
   "execution_count": null,
   "metadata": {},
   "outputs": [],
   "source": []
  }
 ],
 "metadata": {
  "kernelspec": {
   "display_name": "Python 3",
   "language": "python",
   "name": "python3"
  },
  "language_info": {
   "codemirror_mode": {
    "name": "ipython",
    "version": 3
   },
   "file_extension": ".py",
   "mimetype": "text/x-python",
   "name": "python",
   "nbconvert_exporter": "python",
   "pygments_lexer": "ipython3",
   "version": "3.8.7"
  }
 },
 "nbformat": 4,
 "nbformat_minor": 4
}
