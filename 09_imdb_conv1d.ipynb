{
 "cells": [
  {
   "cell_type": "markdown",
   "metadata": {},
   "source": [
    "### Načteme data"
   ]
  },
  {
   "cell_type": "code",
   "execution_count": 1,
   "metadata": {},
   "outputs": [],
   "source": [
    "import numpy as np\n",
    "import os\n",
    "\n",
    "PATH = os.path.join(\"datasets\", \"07\", \"imdb\")"
   ]
  },
  {
   "cell_type": "code",
   "execution_count": 2,
   "metadata": {},
   "outputs": [],
   "source": [
    "import pandas as pd\n",
    "\n",
    "def load_data(file, path=PATH):\n",
    "    csv = os.path.join(path, file)\n",
    "    return pd.read_csv(csv)"
   ]
  },
  {
   "cell_type": "code",
   "execution_count": 3,
   "metadata": {},
   "outputs": [],
   "source": [
    "data = load_data(\"IMDB Dataset.csv\")"
   ]
  },
  {
   "cell_type": "markdown",
   "metadata": {},
   "source": [
    "### Prozkoumáme a předpřipravíme data"
   ]
  },
  {
   "cell_type": "code",
   "execution_count": 4,
   "metadata": {},
   "outputs": [
    {
     "data": {
      "text/html": [
       "<div>\n",
       "<style scoped>\n",
       "    .dataframe tbody tr th:only-of-type {\n",
       "        vertical-align: middle;\n",
       "    }\n",
       "\n",
       "    .dataframe tbody tr th {\n",
       "        vertical-align: top;\n",
       "    }\n",
       "\n",
       "    .dataframe thead th {\n",
       "        text-align: right;\n",
       "    }\n",
       "</style>\n",
       "<table border=\"1\" class=\"dataframe\">\n",
       "  <thead>\n",
       "    <tr style=\"text-align: right;\">\n",
       "      <th></th>\n",
       "      <th>review</th>\n",
       "      <th>sentiment</th>\n",
       "    </tr>\n",
       "  </thead>\n",
       "  <tbody>\n",
       "    <tr>\n",
       "      <th>0</th>\n",
       "      <td>One of the other reviewers has mentioned that ...</td>\n",
       "      <td>positive</td>\n",
       "    </tr>\n",
       "    <tr>\n",
       "      <th>1</th>\n",
       "      <td>A wonderful little production. &lt;br /&gt;&lt;br /&gt;The...</td>\n",
       "      <td>positive</td>\n",
       "    </tr>\n",
       "    <tr>\n",
       "      <th>2</th>\n",
       "      <td>I thought this was a wonderful way to spend ti...</td>\n",
       "      <td>positive</td>\n",
       "    </tr>\n",
       "    <tr>\n",
       "      <th>3</th>\n",
       "      <td>Basically there's a family where a little boy ...</td>\n",
       "      <td>negative</td>\n",
       "    </tr>\n",
       "    <tr>\n",
       "      <th>4</th>\n",
       "      <td>Petter Mattei's \"Love in the Time of Money\" is...</td>\n",
       "      <td>positive</td>\n",
       "    </tr>\n",
       "  </tbody>\n",
       "</table>\n",
       "</div>"
      ],
      "text/plain": [
       "                                              review sentiment\n",
       "0  One of the other reviewers has mentioned that ...  positive\n",
       "1  A wonderful little production. <br /><br />The...  positive\n",
       "2  I thought this was a wonderful way to spend ti...  positive\n",
       "3  Basically there's a family where a little boy ...  negative\n",
       "4  Petter Mattei's \"Love in the Time of Money\" is...  positive"
      ]
     },
     "execution_count": 4,
     "metadata": {},
     "output_type": "execute_result"
    }
   ],
   "source": [
    "data.head()"
   ]
  },
  {
   "cell_type": "code",
   "execution_count": 5,
   "metadata": {},
   "outputs": [
    {
     "name": "stdout",
     "output_type": "stream",
     "text": [
      "<class 'pandas.core.frame.DataFrame'>\n",
      "RangeIndex: 50000 entries, 0 to 49999\n",
      "Data columns (total 2 columns):\n",
      " #   Column     Non-Null Count  Dtype \n",
      "---  ------     --------------  ----- \n",
      " 0   review     50000 non-null  object\n",
      " 1   sentiment  50000 non-null  object\n",
      "dtypes: object(2)\n",
      "memory usage: 781.4+ KB\n"
     ]
    }
   ],
   "source": [
    "data.info()"
   ]
  },
  {
   "cell_type": "code",
   "execution_count": 4,
   "metadata": {},
   "outputs": [],
   "source": [
    "data[\"label\"] = (data[\"sentiment\"] == \"positive\").astype(int)\n",
    "data = data.rename(columns={\"review\":\"text\"})"
   ]
  },
  {
   "cell_type": "code",
   "execution_count": 7,
   "metadata": {},
   "outputs": [
    {
     "data": {
      "text/html": [
       "<div>\n",
       "<style scoped>\n",
       "    .dataframe tbody tr th:only-of-type {\n",
       "        vertical-align: middle;\n",
       "    }\n",
       "\n",
       "    .dataframe tbody tr th {\n",
       "        vertical-align: top;\n",
       "    }\n",
       "\n",
       "    .dataframe thead th {\n",
       "        text-align: right;\n",
       "    }\n",
       "</style>\n",
       "<table border=\"1\" class=\"dataframe\">\n",
       "  <thead>\n",
       "    <tr style=\"text-align: right;\">\n",
       "      <th></th>\n",
       "      <th>text</th>\n",
       "      <th>sentiment</th>\n",
       "      <th>label</th>\n",
       "    </tr>\n",
       "  </thead>\n",
       "  <tbody>\n",
       "    <tr>\n",
       "      <th>0</th>\n",
       "      <td>One of the other reviewers has mentioned that ...</td>\n",
       "      <td>positive</td>\n",
       "      <td>1</td>\n",
       "    </tr>\n",
       "    <tr>\n",
       "      <th>1</th>\n",
       "      <td>A wonderful little production. &lt;br /&gt;&lt;br /&gt;The...</td>\n",
       "      <td>positive</td>\n",
       "      <td>1</td>\n",
       "    </tr>\n",
       "    <tr>\n",
       "      <th>2</th>\n",
       "      <td>I thought this was a wonderful way to spend ti...</td>\n",
       "      <td>positive</td>\n",
       "      <td>1</td>\n",
       "    </tr>\n",
       "    <tr>\n",
       "      <th>3</th>\n",
       "      <td>Basically there's a family where a little boy ...</td>\n",
       "      <td>negative</td>\n",
       "      <td>0</td>\n",
       "    </tr>\n",
       "    <tr>\n",
       "      <th>4</th>\n",
       "      <td>Petter Mattei's \"Love in the Time of Money\" is...</td>\n",
       "      <td>positive</td>\n",
       "      <td>1</td>\n",
       "    </tr>\n",
       "  </tbody>\n",
       "</table>\n",
       "</div>"
      ],
      "text/plain": [
       "                                                text sentiment  label\n",
       "0  One of the other reviewers has mentioned that ...  positive      1\n",
       "1  A wonderful little production. <br /><br />The...  positive      1\n",
       "2  I thought this was a wonderful way to spend ti...  positive      1\n",
       "3  Basically there's a family where a little boy ...  negative      0\n",
       "4  Petter Mattei's \"Love in the Time of Money\" is...  positive      1"
      ]
     },
     "execution_count": 7,
     "metadata": {},
     "output_type": "execute_result"
    }
   ],
   "source": [
    "data.head()"
   ]
  },
  {
   "cell_type": "markdown",
   "metadata": {},
   "source": [
    "### Rozdělíme dataset na trénovací, testovací a validační"
   ]
  },
  {
   "cell_type": "code",
   "execution_count": 5,
   "metadata": {},
   "outputs": [],
   "source": [
    "from sklearn.model_selection import train_test_split\n",
    "train_full, test = train_test_split(data, test_size=0.2, random_state=42)"
   ]
  },
  {
   "cell_type": "code",
   "execution_count": 6,
   "metadata": {},
   "outputs": [],
   "source": [
    "train, valid = train_test_split(train_full, test_size=0.2, random_state=42)"
   ]
  },
  {
   "cell_type": "code",
   "execution_count": 10,
   "metadata": {},
   "outputs": [
    {
     "data": {
      "text/plain": [
       "(32000, 3)"
      ]
     },
     "execution_count": 10,
     "metadata": {},
     "output_type": "execute_result"
    }
   ],
   "source": [
    "train.shape"
   ]
  },
  {
   "cell_type": "code",
   "execution_count": 11,
   "metadata": {},
   "outputs": [
    {
     "data": {
      "text/plain": [
       "(8000, 3)"
      ]
     },
     "execution_count": 11,
     "metadata": {},
     "output_type": "execute_result"
    }
   ],
   "source": [
    "valid.shape"
   ]
  },
  {
   "cell_type": "code",
   "execution_count": 12,
   "metadata": {},
   "outputs": [
    {
     "data": {
      "text/plain": [
       "(10000, 3)"
      ]
     },
     "execution_count": 12,
     "metadata": {},
     "output_type": "execute_result"
    }
   ],
   "source": [
    "test.shape"
   ]
  },
  {
   "cell_type": "markdown",
   "metadata": {},
   "source": [
    "### Převod textu na vektor"
   ]
  },
  {
   "cell_type": "code",
   "execution_count": 7,
   "metadata": {},
   "outputs": [],
   "source": [
    "import tensorflow as tf\n",
    "from tensorflow import keras\n",
    "from tensorflow.keras import layers"
   ]
  },
  {
   "cell_type": "code",
   "execution_count": 8,
   "metadata": {},
   "outputs": [],
   "source": [
    "# Hack pro GPU na Windows\n",
    "for gpu in tf.config.experimental.list_physical_devices('GPU'):\n",
    "    tf.config.experimental.set_memory_growth(gpu, True)"
   ]
  },
  {
   "cell_type": "markdown",
   "metadata": {},
   "source": [
    "Tokenizer převede slova na celočíselné indexy"
   ]
  },
  {
   "cell_type": "code",
   "execution_count": 9,
   "metadata": {},
   "outputs": [],
   "source": [
    "num_words = 10000\n",
    "tokenizer = keras.preprocessing.text.Tokenizer(num_words)\n",
    "tokenizer.fit_on_texts(train[\"text\"])"
   ]
  },
  {
   "cell_type": "code",
   "execution_count": 10,
   "metadata": {},
   "outputs": [],
   "source": [
    "X_train = tokenizer.texts_to_sequences(train[\"text\"])\n",
    "X_valid = tokenizer.texts_to_sequences(valid[\"text\"])\n",
    "X_test = tokenizer.texts_to_sequences(test[\"text\"])"
   ]
  },
  {
   "cell_type": "code",
   "execution_count": 17,
   "metadata": {
    "scrolled": false
   },
   "outputs": [
    {
     "data": {
      "text/plain": [
       "\"With no fault to the actors (they all put on great performances), the overall story was not very well executed. The movie opens with a great zinger: a crazy old guy forces a young Aborigine girl's car off the road. But then, we're forced to endure 40 minutes of character development with an entirely new group of characters ... and we don't know why until the 40 minutes are up. It turns out that they are the ones who eventually discover the girl's body ... and the story progresses from there.<br /><br />While the story does pick up at that point, it really goes nowhere. After 2 hours, I asked myself: was there a point to this, or was it just to see the characters struggle with accusations of racism and stupidity of how they handled the discovery? The story was ultimately unsatisfying and felt unfinished. While it is well acted, there's not a strong enough backbone in the film to warrant recommending it.\""
      ]
     },
     "execution_count": 17,
     "metadata": {},
     "output_type": "execute_result"
    }
   ],
   "source": [
    "train.iloc[0,0]"
   ]
  },
  {
   "cell_type": "code",
   "execution_count": 18,
   "metadata": {},
   "outputs": [
    {
     "data": {
      "text/plain": [
       "[17,\n",
       " 54,\n",
       " 2171,\n",
       " 5,\n",
       " 1,\n",
       " 149,\n",
       " 33,\n",
       " 29,\n",
       " 264,\n",
       " 20,\n",
       " 77,\n",
       " 366,\n",
       " 1,\n",
       " 437,\n",
       " 62,\n",
       " 13,\n",
       " 21,\n",
       " 51,\n",
       " 70,\n",
       " 2207,\n",
       " 1,\n",
       " 16,\n",
       " 2101,\n",
       " 17,\n",
       " 3,\n",
       " 77,\n",
       " 3,\n",
       " 1004,\n",
       " 156,\n",
       " 222,\n",
       " 1918,\n",
       " 3,\n",
       " 192,\n",
       " 4131,\n",
       " 526,\n",
       " 123,\n",
       " 1,\n",
       " 1207,\n",
       " 18,\n",
       " 91,\n",
       " 1041,\n",
       " 885,\n",
       " 5,\n",
       " 4708,\n",
       " 1904,\n",
       " 227,\n",
       " 4,\n",
       " 108,\n",
       " 958,\n",
       " 17,\n",
       " 32,\n",
       " 1079,\n",
       " 168,\n",
       " 544,\n",
       " 4,\n",
       " 102,\n",
       " 2,\n",
       " 71,\n",
       " 89,\n",
       " 118,\n",
       " 135,\n",
       " 363,\n",
       " 1,\n",
       " 1904,\n",
       " 227,\n",
       " 23,\n",
       " 53,\n",
       " 9,\n",
       " 519,\n",
       " 42,\n",
       " 12,\n",
       " 33,\n",
       " 23,\n",
       " 1,\n",
       " 680,\n",
       " 36,\n",
       " 874,\n",
       " 1827,\n",
       " 1,\n",
       " 4131,\n",
       " 660,\n",
       " 2,\n",
       " 1,\n",
       " 62,\n",
       " 4331,\n",
       " 34,\n",
       " 46,\n",
       " 7,\n",
       " 7,\n",
       " 136,\n",
       " 1,\n",
       " 62,\n",
       " 124,\n",
       " 1230,\n",
       " 53,\n",
       " 30,\n",
       " 12,\n",
       " 215,\n",
       " 9,\n",
       " 63,\n",
       " 272,\n",
       " 1285,\n",
       " 100,\n",
       " 228,\n",
       " 620,\n",
       " 10,\n",
       " 1711,\n",
       " 543,\n",
       " 13,\n",
       " 46,\n",
       " 3,\n",
       " 215,\n",
       " 5,\n",
       " 11,\n",
       " 38,\n",
       " 13,\n",
       " 9,\n",
       " 39,\n",
       " 5,\n",
       " 64,\n",
       " 1,\n",
       " 102,\n",
       " 1650,\n",
       " 17,\n",
       " 4,\n",
       " 2706,\n",
       " 2,\n",
       " 2722,\n",
       " 4,\n",
       " 86,\n",
       " 33,\n",
       " 2365,\n",
       " 1,\n",
       " 3415,\n",
       " 1,\n",
       " 62,\n",
       " 13,\n",
       " 1159,\n",
       " 6983,\n",
       " 2,\n",
       " 443,\n",
       " 7373,\n",
       " 136,\n",
       " 9,\n",
       " 6,\n",
       " 70,\n",
       " 889,\n",
       " 224,\n",
       " 21,\n",
       " 3,\n",
       " 565,\n",
       " 190,\n",
       " 8,\n",
       " 1,\n",
       " 19,\n",
       " 5,\n",
       " 7062,\n",
       " 9]"
      ]
     },
     "execution_count": 18,
     "metadata": {},
     "output_type": "execute_result"
    }
   ],
   "source": [
    "X_train[0]"
   ]
  },
  {
   "cell_type": "code",
   "execution_count": 19,
   "metadata": {
    "scrolled": true
   },
   "outputs": [
    {
     "data": {
      "text/plain": [
       "[\"with no fault to the actors they all put on great performances the overall story was not very well executed the movie opens with a great a crazy old guy forces a young girl's car off the road but then we're forced to endure 40 minutes of character development with an entirely new group of characters and we don't know why until the 40 minutes are up it turns out that they are the ones who eventually discover the girl's body and the story progresses from there br br while the story does pick up at that point it really goes nowhere after 2 hours i asked myself was there a point to this or was it just to see the characters struggle with of racism and stupidity of how they handled the discovery the story was ultimately unsatisfying and felt unfinished while it is well acted there's not a strong enough in the film to warrant it\"]"
      ]
     },
     "execution_count": 19,
     "metadata": {},
     "output_type": "execute_result"
    }
   ],
   "source": [
    "tokenizer.sequences_to_texts([X_train[0]])"
   ]
  },
  {
   "cell_type": "markdown",
   "metadata": {},
   "source": [
    "Nyní musíme sekvence zarovnat na stejnou délku. Defaultně je padding i truncating 'pre'"
   ]
  },
  {
   "cell_type": "code",
   "execution_count": 11,
   "metadata": {},
   "outputs": [],
   "source": [
    "maxlen = 500\n",
    "X_train = keras.preprocessing.sequence.pad_sequences(X_train, padding='post', truncating='post', maxlen=maxlen)\n",
    "X_valid = keras.preprocessing.sequence.pad_sequences(X_valid, padding='post', truncating='post', maxlen=maxlen)\n",
    "X_test = keras.preprocessing.sequence.pad_sequences(X_test, padding='post', truncating='post', maxlen=maxlen)"
   ]
  },
  {
   "cell_type": "code",
   "execution_count": 12,
   "metadata": {},
   "outputs": [],
   "source": [
    "y_train = train[\"label\"]\n",
    "y_valid = valid[\"label\"]\n",
    "y_test = test[\"label\"]"
   ]
  },
  {
   "cell_type": "code",
   "execution_count": 22,
   "metadata": {},
   "outputs": [
    {
     "data": {
      "text/plain": [
       "(32000, 500)"
      ]
     },
     "execution_count": 22,
     "metadata": {},
     "output_type": "execute_result"
    }
   ],
   "source": [
    "X_train.shape"
   ]
  },
  {
   "cell_type": "markdown",
   "metadata": {},
   "source": [
    "### Vytvoření modelu"
   ]
  },
  {
   "cell_type": "code",
   "execution_count": 20,
   "metadata": {},
   "outputs": [],
   "source": [
    "model = keras.models.Sequential([\n",
    "    layers.Embedding(num_words, 128, input_length=maxlen, mask_zero=True),\n",
    "    layers.Conv1D(32, 7, activation='relu'),\n",
    "    layers.MaxPooling1D(5),\n",
    "    layers.Conv1D(32, 7, activation='relu'),\n",
    "    layers.GlobalMaxPooling1D(),\n",
    "    layers.Dense(1, activation='sigmoid'),  \n",
    "])"
   ]
  },
  {
   "cell_type": "code",
   "execution_count": 16,
   "metadata": {},
   "outputs": [
    {
     "name": "stdout",
     "output_type": "stream",
     "text": [
      "Model: \"sequential_1\"\n",
      "_________________________________________________________________\n",
      "Layer (type)                 Output Shape              Param #   \n",
      "=================================================================\n",
      "embedding_1 (Embedding)      (None, 500, 128)          1280000   \n",
      "_________________________________________________________________\n",
      "conv1d_2 (Conv1D)            (None, 494, 32)           28704     \n",
      "_________________________________________________________________\n",
      "max_pooling1d_1 (MaxPooling1 (None, 98, 32)            0         \n",
      "_________________________________________________________________\n",
      "conv1d_3 (Conv1D)            (None, 92, 32)            7200      \n",
      "_________________________________________________________________\n",
      "global_max_pooling1d_1 (Glob (None, 32)                0         \n",
      "_________________________________________________________________\n",
      "dense_1 (Dense)              (None, 1)                 33        \n",
      "=================================================================\n",
      "Total params: 1,315,937\n",
      "Trainable params: 1,315,937\n",
      "Non-trainable params: 0\n",
      "_________________________________________________________________\n"
     ]
    }
   ],
   "source": [
    "model.summary()"
   ]
  },
  {
   "cell_type": "code",
   "execution_count": 21,
   "metadata": {},
   "outputs": [],
   "source": [
    "model.compile(optimizer=keras.optimizers.RMSprop(lr=0.0001),\n",
    "              loss='binary_crossentropy',\n",
    "              metrics=['accuracy'])"
   ]
  },
  {
   "cell_type": "code",
   "execution_count": 23,
   "metadata": {},
   "outputs": [],
   "source": [
    "early_stopping = keras.callbacks.EarlyStopping(patience=10, restore_best_weights=True)"
   ]
  },
  {
   "cell_type": "code",
   "execution_count": 24,
   "metadata": {
    "scrolled": false
   },
   "outputs": [
    {
     "name": "stdout",
     "output_type": "stream",
     "text": [
      "Epoch 1/100\n",
      "1000/1000 [==============================] - 14s 13ms/step - loss: 0.6907 - accuracy: 0.5426 - val_loss: 0.6386 - val_accuracy: 0.7588\n",
      "Epoch 2/100\n",
      "1000/1000 [==============================] - 13s 13ms/step - loss: 0.5434 - accuracy: 0.7920 - val_loss: 0.3445 - val_accuracy: 0.8558\n",
      "Epoch 3/100\n",
      "1000/1000 [==============================] - 13s 13ms/step - loss: 0.3114 - accuracy: 0.8723 - val_loss: 0.2976 - val_accuracy: 0.8756\n",
      "Epoch 4/100\n",
      "1000/1000 [==============================] - 13s 13ms/step - loss: 0.2579 - accuracy: 0.8965 - val_loss: 0.2775 - val_accuracy: 0.8832\n",
      "Epoch 5/100\n",
      "1000/1000 [==============================] - 13s 13ms/step - loss: 0.2258 - accuracy: 0.9089 - val_loss: 0.2729 - val_accuracy: 0.8885\n",
      "Epoch 6/100\n",
      "1000/1000 [==============================] - 13s 13ms/step - loss: 0.2059 - accuracy: 0.9200 - val_loss: 0.2727 - val_accuracy: 0.8861\n",
      "Epoch 7/100\n",
      "1000/1000 [==============================] - 13s 13ms/step - loss: 0.1985 - accuracy: 0.9235 - val_loss: 0.2668 - val_accuracy: 0.8938\n",
      "Epoch 8/100\n",
      "1000/1000 [==============================] - 13s 13ms/step - loss: 0.1863 - accuracy: 0.9288 - val_loss: 0.2675 - val_accuracy: 0.8932\n",
      "Epoch 9/100\n",
      "1000/1000 [==============================] - 15s 15ms/step - loss: 0.1739 - accuracy: 0.9349 - val_loss: 0.2680 - val_accuracy: 0.8981\n",
      "Epoch 10/100\n",
      "1000/1000 [==============================] - 16s 16ms/step - loss: 0.1625 - accuracy: 0.9415 - val_loss: 0.2654 - val_accuracy: 0.8965\n",
      "Epoch 11/100\n",
      "1000/1000 [==============================] - 15s 15ms/step - loss: 0.1571 - accuracy: 0.9429 - val_loss: 0.2679 - val_accuracy: 0.8969\n",
      "Epoch 12/100\n",
      "1000/1000 [==============================] - 15s 15ms/step - loss: 0.1514 - accuracy: 0.9460 - val_loss: 0.2650 - val_accuracy: 0.8981\n",
      "Epoch 13/100\n",
      "1000/1000 [==============================] - 14s 14ms/step - loss: 0.1452 - accuracy: 0.9491 - val_loss: 0.2713 - val_accuracy: 0.8965\n",
      "Epoch 14/100\n",
      "1000/1000 [==============================] - 14s 14ms/step - loss: 0.1348 - accuracy: 0.9524 - val_loss: 0.2690 - val_accuracy: 0.8991\n",
      "Epoch 15/100\n",
      "1000/1000 [==============================] - 13s 13ms/step - loss: 0.1322 - accuracy: 0.9536 - val_loss: 0.2698 - val_accuracy: 0.8991\n",
      "Epoch 16/100\n",
      "1000/1000 [==============================] - 13s 13ms/step - loss: 0.1188 - accuracy: 0.9588 - val_loss: 0.2705 - val_accuracy: 0.8986\n",
      "Epoch 17/100\n",
      "1000/1000 [==============================] - 13s 13ms/step - loss: 0.1191 - accuracy: 0.9596 - val_loss: 0.2728 - val_accuracy: 0.8978\n",
      "Epoch 18/100\n",
      "1000/1000 [==============================] - 13s 13ms/step - loss: 0.1093 - accuracy: 0.9632 - val_loss: 0.2794 - val_accuracy: 0.8953\n",
      "Epoch 19/100\n",
      "1000/1000 [==============================] - 13s 13ms/step - loss: 0.1018 - accuracy: 0.9660 - val_loss: 0.2795 - val_accuracy: 0.8954\n",
      "Epoch 20/100\n",
      "1000/1000 [==============================] - 13s 13ms/step - loss: 0.0925 - accuracy: 0.9707 - val_loss: 0.2775 - val_accuracy: 0.8960\n",
      "Epoch 21/100\n",
      "1000/1000 [==============================] - 13s 13ms/step - loss: 0.0870 - accuracy: 0.9727 - val_loss: 0.2802 - val_accuracy: 0.8979\n",
      "Epoch 22/100\n",
      "1000/1000 [==============================] - 13s 13ms/step - loss: 0.0812 - accuracy: 0.9757 - val_loss: 0.2847 - val_accuracy: 0.8974\n"
     ]
    }
   ],
   "source": [
    "history = model.fit(X_train,\n",
    "                    y_train,\n",
    "                    epochs=100,\n",
    "                    validation_data=(X_valid, y_valid),\n",
    "                    callbacks=[early_stopping])"
   ]
  },
  {
   "cell_type": "markdown",
   "metadata": {},
   "source": [
    "### Zobrazíme křivky "
   ]
  },
  {
   "cell_type": "code",
   "execution_count": 28,
   "metadata": {
    "scrolled": true
   },
   "outputs": [
    {
     "data": {
      "image/png": "[encoded data removed]",
      "text/plain": [
       "<Figure size 432x288 with 1 Axes>"
      ]
     },
     "metadata": {
      "needs_background": "light"
     },
     "output_type": "display_data"
    }
   ],
   "source": [
    "import matplotlib.pyplot as plt\n",
    "import pandas as pd\n",
    "pd.DataFrame(history.history)[['loss', 'val_loss']].plot()\n",
    "plt.grid(True)"
   ]
  },
  {
   "cell_type": "code",
   "execution_count": 29,
   "metadata": {},
   "outputs": [
    {
     "data": {
      "image/png": "[encoded data removed]",
      "text/plain": [
       "<Figure size 432x288 with 1 Axes>"
      ]
     },
     "metadata": {
      "needs_background": "light"
     },
     "output_type": "display_data"
    }
   ],
   "source": [
    "pd.DataFrame(history.history)[['accuracy', 'val_accuracy']].plot()\n",
    "plt.grid(True)"
   ]
  },
  {
   "cell_type": "markdown",
   "metadata": {},
   "source": [
    "### Vyzkoušíme na testovacích datech"
   ]
  },
  {
   "cell_type": "code",
   "execution_count": 30,
   "metadata": {
    "scrolled": true
   },
   "outputs": [
    {
     "name": "stdout",
     "output_type": "stream",
     "text": [
      "313/313 [==============================] - 2s 6ms/step - loss: 0.2613 - accuracy: 0.8924\n"
     ]
    },
    {
     "data": {
      "text/plain": [
       "[0.2613072693347931, 0.8924000263214111]"
      ]
     },
     "execution_count": 30,
     "metadata": {},
     "output_type": "execute_result"
    }
   ],
   "source": [
    "model.evaluate(X_test, y_test)"
   ]
  }
 ],
 "metadata": {
  "kernelspec": {
   "display_name": "Python 3",
   "language": "python",
   "name": "python3"
  },
  "language_info": {
   "codemirror_mode": {
    "name": "ipython",
    "version": 3
   },
   "file_extension": ".py",
   "mimetype": "text/x-python",
   "name": "python",
   "nbconvert_exporter": "python",
   "pygments_lexer": "ipython3",
   "version": "3.8.7"
  }
 },
 "nbformat": 4,
 "nbformat_minor": 4
}
