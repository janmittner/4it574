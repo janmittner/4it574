{
 "cells": [
  {
   "cell_type": "markdown",
   "metadata": {},
   "source": [
    "### Načteme data"
   ]
  },
  {
   "cell_type": "code",
   "execution_count": 1,
   "metadata": {},
   "outputs": [],
   "source": [
    "import numpy as np\n",
    "import os\n",
    "\n",
    "PATH = os.path.join(\"datasets\", \"07\", \"imdb\")"
   ]
  },
  {
   "cell_type": "code",
   "execution_count": 2,
   "metadata": {},
   "outputs": [],
   "source": [
    "import pandas as pd\n",
    "\n",
    "def load_data(file, path=PATH):\n",
    "    csv = os.path.join(path, file)\n",
    "    return pd.read_csv(csv)"
   ]
  },
  {
   "cell_type": "code",
   "execution_count": 3,
   "metadata": {},
   "outputs": [],
   "source": [
    "data = load_data(\"IMDB Dataset.csv\")"
   ]
  },
  {
   "cell_type": "markdown",
   "metadata": {},
   "source": [
    "### Prozkoumáme a předpřipravíme data"
   ]
  },
  {
   "cell_type": "code",
   "execution_count": 4,
   "metadata": {},
   "outputs": [
    {
     "data": {
      "text/html": [
       "<div>\n",
       "<style scoped>\n",
       "    .dataframe tbody tr th:only-of-type {\n",
       "        vertical-align: middle;\n",
       "    }\n",
       "\n",
       "    .dataframe tbody tr th {\n",
       "        vertical-align: top;\n",
       "    }\n",
       "\n",
       "    .dataframe thead th {\n",
       "        text-align: right;\n",
       "    }\n",
       "</style>\n",
       "<table border=\"1\" class=\"dataframe\">\n",
       "  <thead>\n",
       "    <tr style=\"text-align: right;\">\n",
       "      <th></th>\n",
       "      <th>review</th>\n",
       "      <th>sentiment</th>\n",
       "    </tr>\n",
       "  </thead>\n",
       "  <tbody>\n",
       "    <tr>\n",
       "      <th>0</th>\n",
       "      <td>One of the other reviewers has mentioned that ...</td>\n",
       "      <td>positive</td>\n",
       "    </tr>\n",
       "    <tr>\n",
       "      <th>1</th>\n",
       "      <td>A wonderful little production. &lt;br /&gt;&lt;br /&gt;The...</td>\n",
       "      <td>positive</td>\n",
       "    </tr>\n",
       "    <tr>\n",
       "      <th>2</th>\n",
       "      <td>I thought this was a wonderful way to spend ti...</td>\n",
       "      <td>positive</td>\n",
       "    </tr>\n",
       "    <tr>\n",
       "      <th>3</th>\n",
       "      <td>Basically there's a family where a little boy ...</td>\n",
       "      <td>negative</td>\n",
       "    </tr>\n",
       "    <tr>\n",
       "      <th>4</th>\n",
       "      <td>Petter Mattei's \"Love in the Time of Money\" is...</td>\n",
       "      <td>positive</td>\n",
       "    </tr>\n",
       "  </tbody>\n",
       "</table>\n",
       "</div>"
      ],
      "text/plain": [
       "                                              review sentiment\n",
       "0  One of the other reviewers has mentioned that ...  positive\n",
       "1  A wonderful little production. <br /><br />The...  positive\n",
       "2  I thought this was a wonderful way to spend ti...  positive\n",
       "3  Basically there's a family where a little boy ...  negative\n",
       "4  Petter Mattei's \"Love in the Time of Money\" is...  positive"
      ]
     },
     "execution_count": 4,
     "metadata": {},
     "output_type": "execute_result"
    }
   ],
   "source": [
    "data.head()"
   ]
  },
  {
   "cell_type": "code",
   "execution_count": 5,
   "metadata": {},
   "outputs": [
    {
     "name": "stdout",
     "output_type": "stream",
     "text": [
      "<class 'pandas.core.frame.DataFrame'>\n",
      "RangeIndex: 50000 entries, 0 to 49999\n",
      "Data columns (total 2 columns):\n",
      " #   Column     Non-Null Count  Dtype \n",
      "---  ------     --------------  ----- \n",
      " 0   review     50000 non-null  object\n",
      " 1   sentiment  50000 non-null  object\n",
      "dtypes: object(2)\n",
      "memory usage: 781.4+ KB\n"
     ]
    }
   ],
   "source": [
    "data.info()"
   ]
  },
  {
   "cell_type": "code",
   "execution_count": 6,
   "metadata": {},
   "outputs": [],
   "source": [
    "data[\"label\"] = (data[\"sentiment\"] == \"positive\").astype(int)\n",
    "data = data.rename(columns={\"review\":\"text\"})"
   ]
  },
  {
   "cell_type": "code",
   "execution_count": 7,
   "metadata": {},
   "outputs": [
    {
     "data": {
      "text/html": [
       "<div>\n",
       "<style scoped>\n",
       "    .dataframe tbody tr th:only-of-type {\n",
       "        vertical-align: middle;\n",
       "    }\n",
       "\n",
       "    .dataframe tbody tr th {\n",
       "        vertical-align: top;\n",
       "    }\n",
       "\n",
       "    .dataframe thead th {\n",
       "        text-align: right;\n",
       "    }\n",
       "</style>\n",
       "<table border=\"1\" class=\"dataframe\">\n",
       "  <thead>\n",
       "    <tr style=\"text-align: right;\">\n",
       "      <th></th>\n",
       "      <th>text</th>\n",
       "      <th>sentiment</th>\n",
       "      <th>label</th>\n",
       "    </tr>\n",
       "  </thead>\n",
       "  <tbody>\n",
       "    <tr>\n",
       "      <th>0</th>\n",
       "      <td>One of the other reviewers has mentioned that ...</td>\n",
       "      <td>positive</td>\n",
       "      <td>1</td>\n",
       "    </tr>\n",
       "    <tr>\n",
       "      <th>1</th>\n",
       "      <td>A wonderful little production. &lt;br /&gt;&lt;br /&gt;The...</td>\n",
       "      <td>positive</td>\n",
       "      <td>1</td>\n",
       "    </tr>\n",
       "    <tr>\n",
       "      <th>2</th>\n",
       "      <td>I thought this was a wonderful way to spend ti...</td>\n",
       "      <td>positive</td>\n",
       "      <td>1</td>\n",
       "    </tr>\n",
       "    <tr>\n",
       "      <th>3</th>\n",
       "      <td>Basically there's a family where a little boy ...</td>\n",
       "      <td>negative</td>\n",
       "      <td>0</td>\n",
       "    </tr>\n",
       "    <tr>\n",
       "      <th>4</th>\n",
       "      <td>Petter Mattei's \"Love in the Time of Money\" is...</td>\n",
       "      <td>positive</td>\n",
       "      <td>1</td>\n",
       "    </tr>\n",
       "  </tbody>\n",
       "</table>\n",
       "</div>"
      ],
      "text/plain": [
       "                                                text sentiment  label\n",
       "0  One of the other reviewers has mentioned that ...  positive      1\n",
       "1  A wonderful little production. <br /><br />The...  positive      1\n",
       "2  I thought this was a wonderful way to spend ti...  positive      1\n",
       "3  Basically there's a family where a little boy ...  negative      0\n",
       "4  Petter Mattei's \"Love in the Time of Money\" is...  positive      1"
      ]
     },
     "execution_count": 7,
     "metadata": {},
     "output_type": "execute_result"
    }
   ],
   "source": [
    "data.head()"
   ]
  },
  {
   "cell_type": "markdown",
   "metadata": {},
   "source": [
    "### Rozdělíme dataset na trénovací, testovací a validační"
   ]
  },
  {
   "cell_type": "code",
   "execution_count": 8,
   "metadata": {},
   "outputs": [],
   "source": [
    "from sklearn.model_selection import train_test_split\n",
    "train_full, test = train_test_split(data, test_size=0.2, random_state=42)"
   ]
  },
  {
   "cell_type": "code",
   "execution_count": 9,
   "metadata": {},
   "outputs": [],
   "source": [
    "train, valid = train_test_split(train_full, test_size=0.2, random_state=42)"
   ]
  },
  {
   "cell_type": "code",
   "execution_count": 10,
   "metadata": {},
   "outputs": [
    {
     "data": {
      "text/plain": [
       "(32000, 3)"
      ]
     },
     "execution_count": 10,
     "metadata": {},
     "output_type": "execute_result"
    }
   ],
   "source": [
    "train.shape"
   ]
  },
  {
   "cell_type": "code",
   "execution_count": 11,
   "metadata": {},
   "outputs": [
    {
     "data": {
      "text/plain": [
       "(8000, 3)"
      ]
     },
     "execution_count": 11,
     "metadata": {},
     "output_type": "execute_result"
    }
   ],
   "source": [
    "valid.shape"
   ]
  },
  {
   "cell_type": "code",
   "execution_count": 12,
   "metadata": {},
   "outputs": [
    {
     "data": {
      "text/plain": [
       "(10000, 3)"
      ]
     },
     "execution_count": 12,
     "metadata": {},
     "output_type": "execute_result"
    }
   ],
   "source": [
    "test.shape"
   ]
  },
  {
   "cell_type": "markdown",
   "metadata": {},
   "source": [
    "### Převod textu na vektor"
   ]
  },
  {
   "cell_type": "code",
   "execution_count": 13,
   "metadata": {},
   "outputs": [],
   "source": [
    "import tensorflow as tf\n",
    "from tensorflow import keras\n",
    "from tensorflow.keras import layers"
   ]
  },
  {
   "cell_type": "code",
   "execution_count": 14,
   "metadata": {},
   "outputs": [],
   "source": [
    "# Hack pro GPU na Windows\n",
    "for gpu in tf.config.experimental.list_physical_devices('GPU'):\n",
    "    tf.config.experimental.set_memory_growth(gpu, True)"
   ]
  },
  {
   "cell_type": "markdown",
   "metadata": {},
   "source": [
    "Tokenizer převede slova na celočíselné indexy"
   ]
  },
  {
   "cell_type": "code",
   "execution_count": 15,
   "metadata": {},
   "outputs": [],
   "source": [
    "num_words = 10000\n",
    "tokenizer = keras.preprocessing.text.Tokenizer(num_words)\n",
    "tokenizer.fit_on_texts(train[\"text\"])"
   ]
  },
  {
   "cell_type": "code",
   "execution_count": 16,
   "metadata": {},
   "outputs": [],
   "source": [
    "X_train = tokenizer.texts_to_sequences(train[\"text\"])\n",
    "X_valid = tokenizer.texts_to_sequences(valid[\"text\"])\n",
    "X_test = tokenizer.texts_to_sequences(test[\"text\"])"
   ]
  },
  {
   "cell_type": "code",
   "execution_count": 17,
   "metadata": {
    "scrolled": false
   },
   "outputs": [
    {
     "data": {
      "text/plain": [
       "\"With no fault to the actors (they all put on great performances), the overall story was not very well executed. The movie opens with a great zinger: a crazy old guy forces a young Aborigine girl's car off the road. But then, we're forced to endure 40 minutes of character development with an entirely new group of characters ... and we don't know why until the 40 minutes are up. It turns out that they are the ones who eventually discover the girl's body ... and the story progresses from there.<br /><br />While the story does pick up at that point, it really goes nowhere. After 2 hours, I asked myself: was there a point to this, or was it just to see the characters struggle with accusations of racism and stupidity of how they handled the discovery? The story was ultimately unsatisfying and felt unfinished. While it is well acted, there's not a strong enough backbone in the film to warrant recommending it.\""
      ]
     },
     "execution_count": 17,
     "metadata": {},
     "output_type": "execute_result"
    }
   ],
   "source": [
    "train.iloc[0,0]"
   ]
  },
  {
   "cell_type": "code",
   "execution_count": 18,
   "metadata": {},
   "outputs": [
    {
     "data": {
      "text/plain": [
       "[17,\n",
       " 54,\n",
       " 2171,\n",
       " 5,\n",
       " 1,\n",
       " 149,\n",
       " 33,\n",
       " 29,\n",
       " 264,\n",
       " 20,\n",
       " 77,\n",
       " 366,\n",
       " 1,\n",
       " 437,\n",
       " 62,\n",
       " 13,\n",
       " 21,\n",
       " 51,\n",
       " 70,\n",
       " 2207,\n",
       " 1,\n",
       " 16,\n",
       " 2101,\n",
       " 17,\n",
       " 3,\n",
       " 77,\n",
       " 3,\n",
       " 1004,\n",
       " 156,\n",
       " 222,\n",
       " 1918,\n",
       " 3,\n",
       " 192,\n",
       " 4131,\n",
       " 526,\n",
       " 123,\n",
       " 1,\n",
       " 1207,\n",
       " 18,\n",
       " 91,\n",
       " 1041,\n",
       " 885,\n",
       " 5,\n",
       " 4708,\n",
       " 1904,\n",
       " 227,\n",
       " 4,\n",
       " 108,\n",
       " 958,\n",
       " 17,\n",
       " 32,\n",
       " 1079,\n",
       " 168,\n",
       " 544,\n",
       " 4,\n",
       " 102,\n",
       " 2,\n",
       " 71,\n",
       " 89,\n",
       " 118,\n",
       " 135,\n",
       " 363,\n",
       " 1,\n",
       " 1904,\n",
       " 227,\n",
       " 23,\n",
       " 53,\n",
       " 9,\n",
       " 519,\n",
       " 42,\n",
       " 12,\n",
       " 33,\n",
       " 23,\n",
       " 1,\n",
       " 680,\n",
       " 36,\n",
       " 874,\n",
       " 1827,\n",
       " 1,\n",
       " 4131,\n",
       " 660,\n",
       " 2,\n",
       " 1,\n",
       " 62,\n",
       " 4331,\n",
       " 34,\n",
       " 46,\n",
       " 7,\n",
       " 7,\n",
       " 136,\n",
       " 1,\n",
       " 62,\n",
       " 124,\n",
       " 1230,\n",
       " 53,\n",
       " 30,\n",
       " 12,\n",
       " 215,\n",
       " 9,\n",
       " 63,\n",
       " 272,\n",
       " 1285,\n",
       " 100,\n",
       " 228,\n",
       " 620,\n",
       " 10,\n",
       " 1711,\n",
       " 543,\n",
       " 13,\n",
       " 46,\n",
       " 3,\n",
       " 215,\n",
       " 5,\n",
       " 11,\n",
       " 38,\n",
       " 13,\n",
       " 9,\n",
       " 39,\n",
       " 5,\n",
       " 64,\n",
       " 1,\n",
       " 102,\n",
       " 1650,\n",
       " 17,\n",
       " 4,\n",
       " 2706,\n",
       " 2,\n",
       " 2722,\n",
       " 4,\n",
       " 86,\n",
       " 33,\n",
       " 2365,\n",
       " 1,\n",
       " 3415,\n",
       " 1,\n",
       " 62,\n",
       " 13,\n",
       " 1159,\n",
       " 6983,\n",
       " 2,\n",
       " 443,\n",
       " 7373,\n",
       " 136,\n",
       " 9,\n",
       " 6,\n",
       " 70,\n",
       " 889,\n",
       " 224,\n",
       " 21,\n",
       " 3,\n",
       " 565,\n",
       " 190,\n",
       " 8,\n",
       " 1,\n",
       " 19,\n",
       " 5,\n",
       " 7062,\n",
       " 9]"
      ]
     },
     "execution_count": 18,
     "metadata": {},
     "output_type": "execute_result"
    }
   ],
   "source": [
    "X_train[0]"
   ]
  },
  {
   "cell_type": "code",
   "execution_count": 19,
   "metadata": {
    "scrolled": true
   },
   "outputs": [
    {
     "data": {
      "text/plain": [
       "[\"with no fault to the actors they all put on great performances the overall story was not very well executed the movie opens with a great a crazy old guy forces a young girl's car off the road but then we're forced to endure 40 minutes of character development with an entirely new group of characters and we don't know why until the 40 minutes are up it turns out that they are the ones who eventually discover the girl's body and the story progresses from there br br while the story does pick up at that point it really goes nowhere after 2 hours i asked myself was there a point to this or was it just to see the characters struggle with of racism and stupidity of how they handled the discovery the story was ultimately unsatisfying and felt unfinished while it is well acted there's not a strong enough in the film to warrant it\"]"
      ]
     },
     "execution_count": 19,
     "metadata": {},
     "output_type": "execute_result"
    }
   ],
   "source": [
    "tokenizer.sequences_to_texts([X_train[0]])"
   ]
  },
  {
   "cell_type": "markdown",
   "metadata": {},
   "source": [
    "Nyní musíme sekvence zarovnat na stejnou délku. Defaultně je padding i truncating 'pre'"
   ]
  },
  {
   "cell_type": "code",
   "execution_count": 20,
   "metadata": {},
   "outputs": [],
   "source": [
    "maxlen = 500\n",
    "X_train = keras.preprocessing.sequence.pad_sequences(X_train, padding='post', truncating='post', maxlen=maxlen)\n",
    "X_valid = keras.preprocessing.sequence.pad_sequences(X_valid, padding='post', truncating='post', maxlen=maxlen)\n",
    "X_test = keras.preprocessing.sequence.pad_sequences(X_test, padding='post', truncating='post', maxlen=maxlen)"
   ]
  },
  {
   "cell_type": "code",
   "execution_count": 21,
   "metadata": {},
   "outputs": [],
   "source": [
    "y_train = train[\"label\"]\n",
    "y_valid = valid[\"label\"]\n",
    "y_test = test[\"label\"]"
   ]
  },
  {
   "cell_type": "code",
   "execution_count": 22,
   "metadata": {},
   "outputs": [
    {
     "data": {
      "text/plain": [
       "(32000, 500)"
      ]
     },
     "execution_count": 22,
     "metadata": {},
     "output_type": "execute_result"
    }
   ],
   "source": [
    "X_train.shape"
   ]
  },
  {
   "cell_type": "markdown",
   "metadata": {},
   "source": [
    "### Vytvoření modelu"
   ]
  },
  {
   "cell_type": "code",
   "execution_count": 23,
   "metadata": {},
   "outputs": [],
   "source": [
    "model = keras.models.Sequential([\n",
    "    layers.Embedding(num_words, 32, input_length=maxlen, mask_zero=True),\n",
    "    layers.Flatten(),\n",
    "    layers.Dropout(0.5),\n",
    "    layers.Dense(16, activation='relu'),\n",
    "    layers.Dropout(0.5),\n",
    "    layers.Dense(1, activation='sigmoid'),  \n",
    "])"
   ]
  },
  {
   "cell_type": "code",
   "execution_count": 24,
   "metadata": {},
   "outputs": [
    {
     "name": "stdout",
     "output_type": "stream",
     "text": [
      "Model: \"sequential\"\n",
      "_________________________________________________________________\n",
      "Layer (type)                 Output Shape              Param #   \n",
      "=================================================================\n",
      "embedding (Embedding)        (None, 500, 32)           320000    \n",
      "_________________________________________________________________\n",
      "flatten (Flatten)            (None, 16000)             0         \n",
      "_________________________________________________________________\n",
      "dropout (Dropout)            (None, 16000)             0         \n",
      "_________________________________________________________________\n",
      "dense (Dense)                (None, 16)                256016    \n",
      "_________________________________________________________________\n",
      "dropout_1 (Dropout)          (None, 16)                0         \n",
      "_________________________________________________________________\n",
      "dense_1 (Dense)              (None, 1)                 17        \n",
      "=================================================================\n",
      "Total params: 576,033\n",
      "Trainable params: 576,033\n",
      "Non-trainable params: 0\n",
      "_________________________________________________________________\n"
     ]
    }
   ],
   "source": [
    "model.summary()"
   ]
  },
  {
   "cell_type": "code",
   "execution_count": 25,
   "metadata": {},
   "outputs": [],
   "source": [
    "model.compile(optimizer=keras.optimizers.RMSprop(lr=0.0002),\n",
    "              loss='binary_crossentropy',\n",
    "              metrics=['accuracy'])"
   ]
  },
  {
   "cell_type": "code",
   "execution_count": 26,
   "metadata": {},
   "outputs": [],
   "source": [
    "early_stopping = keras.callbacks.EarlyStopping(patience=5, restore_best_weights=True)"
   ]
  },
  {
   "cell_type": "code",
   "execution_count": 27,
   "metadata": {
    "scrolled": false
   },
   "outputs": [
    {
     "name": "stdout",
     "output_type": "stream",
     "text": [
      "Epoch 1/100\n",
      "1000/1000 [==============================] - 8s 7ms/step - loss: 0.6938 - accuracy: 0.5106 - val_loss: 0.6698 - val_accuracy: 0.6478\n",
      "Epoch 2/100\n",
      "1000/1000 [==============================] - 6s 6ms/step - loss: 0.6212 - accuracy: 0.6718 - val_loss: 0.4376 - val_accuracy: 0.8282\n",
      "Epoch 3/100\n",
      "1000/1000 [==============================] - 6s 6ms/step - loss: 0.4105 - accuracy: 0.8333 - val_loss: 0.3224 - val_accuracy: 0.8731\n",
      "Epoch 4/100\n",
      "1000/1000 [==============================] - 6s 6ms/step - loss: 0.3236 - accuracy: 0.8715 - val_loss: 0.2939 - val_accuracy: 0.8792\n",
      "Epoch 5/100\n",
      "1000/1000 [==============================] - 6s 6ms/step - loss: 0.2763 - accuracy: 0.8955 - val_loss: 0.2809 - val_accuracy: 0.8878\n",
      "Epoch 6/100\n",
      "1000/1000 [==============================] - 6s 6ms/step - loss: 0.2492 - accuracy: 0.9092 - val_loss: 0.2756 - val_accuracy: 0.8885\n",
      "Epoch 7/100\n",
      "1000/1000 [==============================] - 6s 6ms/step - loss: 0.2184 - accuracy: 0.9241 - val_loss: 0.2749 - val_accuracy: 0.8913\n",
      "Epoch 8/100\n",
      "1000/1000 [==============================] - 6s 6ms/step - loss: 0.2050 - accuracy: 0.9280 - val_loss: 0.2788 - val_accuracy: 0.8910\n",
      "Epoch 9/100\n",
      "1000/1000 [==============================] - 6s 6ms/step - loss: 0.1987 - accuracy: 0.9329 - val_loss: 0.2898 - val_accuracy: 0.8898\n",
      "Epoch 10/100\n",
      "1000/1000 [==============================] - 6s 6ms/step - loss: 0.1810 - accuracy: 0.9388 - val_loss: 0.2926 - val_accuracy: 0.8904\n",
      "Epoch 11/100\n",
      "1000/1000 [==============================] - 6s 6ms/step - loss: 0.1717 - accuracy: 0.9406 - val_loss: 0.3207 - val_accuracy: 0.8831\n",
      "Epoch 12/100\n",
      "1000/1000 [==============================] - 6s 6ms/step - loss: 0.1682 - accuracy: 0.9444 - val_loss: 0.3138 - val_accuracy: 0.8885\n"
     ]
    }
   ],
   "source": [
    "history = model.fit(X_train,\n",
    "                    y_train,\n",
    "                    epochs=100,\n",
    "                    validation_data=(X_valid, y_valid),\n",
    "                    callbacks=[early_stopping])"
   ]
  },
  {
   "cell_type": "markdown",
   "metadata": {},
   "source": [
    "### Zobrazíme křivky "
   ]
  },
  {
   "cell_type": "code",
   "execution_count": 28,
   "metadata": {
    "scrolled": true
   },
   "outputs": [
    {
     "data": {
      "image/png": "[encoded data removed]",
      "text/plain": [
       "<Figure size 432x288 with 1 Axes>"
      ]
     },
     "metadata": {
      "needs_background": "light"
     },
     "output_type": "display_data"
    }
   ],
   "source": [
    "import matplotlib.pyplot as plt\n",
    "import pandas as pd\n",
    "pd.DataFrame(history.history)[['loss', 'val_loss']].plot()\n",
    "plt.grid(True)"
   ]
  },
  {
   "cell_type": "code",
   "execution_count": 29,
   "metadata": {},
   "outputs": [
    {
     "data": {
      "image/png": "[encoded data removed]",
      "text/plain": [
       "<Figure size 432x288 with 1 Axes>"
      ]
     },
     "metadata": {
      "needs_background": "light"
     },
     "output_type": "display_data"
    }
   ],
   "source": [
    "pd.DataFrame(history.history)[['accuracy', 'val_accuracy']].plot()\n",
    "plt.grid(True)"
   ]
  },
  {
   "cell_type": "markdown",
   "metadata": {},
   "source": [
    "### Vyzkoušíme na testovacích datech"
   ]
  },
  {
   "cell_type": "code",
   "execution_count": 30,
   "metadata": {
    "scrolled": true
   },
   "outputs": [
    {
     "name": "stdout",
     "output_type": "stream",
     "text": [
      "313/313 [==============================] - 1s 3ms/step - loss: 0.2725 - accuracy: 0.8901\n"
     ]
    },
    {
     "data": {
      "text/plain": [
       "[0.2724933624267578, 0.8901000022888184]"
      ]
     },
     "execution_count": 30,
     "metadata": {},
     "output_type": "execute_result"
    }
   ],
   "source": [
    "model.evaluate(X_test, y_test)"
   ]
  },
  {
   "cell_type": "markdown",
   "metadata": {},
   "source": [
    "### Použití předtrénovaného word embedding"
   ]
  },
  {
   "cell_type": "markdown",
   "metadata": {},
   "source": [
    "Viz prezentace"
   ]
  },
  {
   "cell_type": "markdown",
   "metadata": {},
   "source": [
    "Zkusíme řešit situaci, kdy máme velmi málo trénovacích dat"
   ]
  },
  {
   "cell_type": "code",
   "execution_count": 31,
   "metadata": {},
   "outputs": [],
   "source": [
    "X_train_small = X_train[0:500]\n",
    "y_train_small = y_train[0:500]"
   ]
  },
  {
   "cell_type": "markdown",
   "metadata": {},
   "source": [
    "**Varianta bez předtrénovaného embeddingu**"
   ]
  },
  {
   "cell_type": "code",
   "execution_count": 32,
   "metadata": {},
   "outputs": [],
   "source": [
    "model = keras.models.Sequential([\n",
    "    layers.Embedding(num_words, 32, input_length=maxlen, mask_zero=True),\n",
    "    layers.Flatten(),\n",
    "    layers.Dropout(0.5),\n",
    "    layers.Dense(16, activation='relu'),\n",
    "    layers.Dropout(0.5),\n",
    "    layers.Dense(1, activation='sigmoid'),  \n",
    "])"
   ]
  },
  {
   "cell_type": "code",
   "execution_count": 33,
   "metadata": {},
   "outputs": [],
   "source": [
    "model.compile(optimizer=keras.optimizers.RMSprop(lr=0.0002),\n",
    "              loss='binary_crossentropy',\n",
    "              metrics=['accuracy'])\n",
    "early_stopping = keras.callbacks.EarlyStopping(patience=5, restore_best_weights=True)"
   ]
  },
  {
   "cell_type": "code",
   "execution_count": 34,
   "metadata": {},
   "outputs": [
    {
     "name": "stdout",
     "output_type": "stream",
     "text": [
      "Epoch 1/100\n",
      "16/16 [==============================] - 1s 51ms/step - loss: 0.6941 - accuracy: 0.5006 - val_loss: 0.6933 - val_accuracy: 0.5009\n",
      "Epoch 2/100\n",
      "16/16 [==============================] - 1s 42ms/step - loss: 0.6930 - accuracy: 0.5419 - val_loss: 0.6949 - val_accuracy: 0.4918\n",
      "Epoch 3/100\n",
      "16/16 [==============================] - 1s 44ms/step - loss: 0.6875 - accuracy: 0.5529 - val_loss: 0.6947 - val_accuracy: 0.4958\n",
      "Epoch 4/100\n",
      "16/16 [==============================] - 1s 42ms/step - loss: 0.6799 - accuracy: 0.5760 - val_loss: 0.6983 - val_accuracy: 0.4947\n",
      "Epoch 5/100\n",
      "16/16 [==============================] - 1s 42ms/step - loss: 0.6734 - accuracy: 0.6260 - val_loss: 0.6927 - val_accuracy: 0.5178\n",
      "Epoch 6/100\n",
      "16/16 [==============================] - 1s 41ms/step - loss: 0.6605 - accuracy: 0.6572 - val_loss: 0.6947 - val_accuracy: 0.4966\n",
      "Epoch 7/100\n",
      "16/16 [==============================] - 1s 41ms/step - loss: 0.6604 - accuracy: 0.6578 - val_loss: 0.6945 - val_accuracy: 0.4960\n",
      "Epoch 8/100\n",
      "16/16 [==============================] - 1s 41ms/step - loss: 0.6464 - accuracy: 0.6747 - val_loss: 0.6934 - val_accuracy: 0.5079\n",
      "Epoch 9/100\n",
      "16/16 [==============================] - 1s 41ms/step - loss: 0.6404 - accuracy: 0.6882 - val_loss: 0.6970 - val_accuracy: 0.4945\n",
      "Epoch 10/100\n",
      "16/16 [==============================] - 1s 41ms/step - loss: 0.6329 - accuracy: 0.6906 - val_loss: 0.6954 - val_accuracy: 0.4996\n"
     ]
    }
   ],
   "source": [
    "history = model.fit(X_train_small,\n",
    "                    y_train_small,\n",
    "                    epochs=100,\n",
    "                    validation_data=(X_valid, y_valid),\n",
    "                    callbacks=[early_stopping])"
   ]
  },
  {
   "cell_type": "code",
   "execution_count": 35,
   "metadata": {
    "scrolled": true
   },
   "outputs": [
    {
     "name": "stdout",
     "output_type": "stream",
     "text": [
      "313/313 [==============================] - 1s 3ms/step - loss: 0.6926 - accuracy: 0.5163\n"
     ]
    },
    {
     "data": {
      "text/plain": [
       "[0.6925994157791138, 0.5163000226020813]"
      ]
     },
     "execution_count": 35,
     "metadata": {},
     "output_type": "execute_result"
    }
   ],
   "source": [
    "model.evaluate(X_test, y_test)"
   ]
  },
  {
   "cell_type": "markdown",
   "metadata": {},
   "source": [
    "**Varianta s předtrénovaným embeddingem**"
   ]
  },
  {
   "cell_type": "markdown",
   "metadata": {},
   "source": [
    "pip install tensorflow_hub"
   ]
  },
  {
   "cell_type": "code",
   "execution_count": 36,
   "metadata": {},
   "outputs": [],
   "source": [
    "import tensorflow_hub as hub"
   ]
  },
  {
   "cell_type": "code",
   "execution_count": 37,
   "metadata": {},
   "outputs": [],
   "source": [
    "model = keras.models.Sequential([\n",
    "    hub.KerasLayer(\"https://tfhub.dev/google/tf2-preview/nnlm-en-dim50/1\",\n",
    "                   dtype=tf.string, input_shape=[], output_shape=[50]),\n",
    "    layers.Dense(16, activation='relu'),\n",
    "    layers.Dropout(0.5),\n",
    "    layers.Dense(1, activation='sigmoid'),  \n",
    "])"
   ]
  },
  {
   "cell_type": "code",
   "execution_count": 38,
   "metadata": {},
   "outputs": [],
   "source": [
    "model.compile(optimizer=keras.optimizers.RMSprop(lr=0.002),\n",
    "              loss='binary_crossentropy',\n",
    "              metrics=['accuracy'])\n",
    "early_stopping = keras.callbacks.EarlyStopping(patience=10, restore_best_weights=True)"
   ]
  },
  {
   "cell_type": "code",
   "execution_count": 39,
   "metadata": {},
   "outputs": [
    {
     "name": "stdout",
     "output_type": "stream",
     "text": [
      "Epoch 1/100\n",
      "16/16 [==============================] - 2s 86ms/step - loss: 0.7310 - accuracy: 0.5276 - val_loss: 0.6889 - val_accuracy: 0.5113\n",
      "Epoch 2/100\n",
      "16/16 [==============================] - 1s 66ms/step - loss: 0.7010 - accuracy: 0.4985 - val_loss: 0.6811 - val_accuracy: 0.5486\n",
      "Epoch 3/100\n",
      "16/16 [==============================] - 1s 62ms/step - loss: 0.6677 - accuracy: 0.6212 - val_loss: 0.6737 - val_accuracy: 0.5907\n",
      "Epoch 4/100\n",
      "16/16 [==============================] - 1s 58ms/step - loss: 0.6893 - accuracy: 0.5373 - val_loss: 0.6695 - val_accuracy: 0.5746\n",
      "Epoch 5/100\n",
      "16/16 [==============================] - 1s 59ms/step - loss: 0.6709 - accuracy: 0.5898 - val_loss: 0.6650 - val_accuracy: 0.6112\n",
      "Epoch 6/100\n",
      "16/16 [==============================] - 1s 57ms/step - loss: 0.6659 - accuracy: 0.6001 - val_loss: 0.6628 - val_accuracy: 0.6380\n",
      "Epoch 7/100\n",
      "16/16 [==============================] - 1s 59ms/step - loss: 0.6700 - accuracy: 0.6166 - val_loss: 0.6589 - val_accuracy: 0.6326\n",
      "Epoch 8/100\n",
      "16/16 [==============================] - 1s 59ms/step - loss: 0.6401 - accuracy: 0.6542 - val_loss: 0.6545 - val_accuracy: 0.6405\n",
      "Epoch 9/100\n",
      "16/16 [==============================] - 1s 58ms/step - loss: 0.6634 - accuracy: 0.6189 - val_loss: 0.6474 - val_accuracy: 0.6536\n",
      "Epoch 10/100\n",
      "16/16 [==============================] - 1s 69ms/step - loss: 0.6487 - accuracy: 0.6438 - val_loss: 0.6429 - val_accuracy: 0.6564\n",
      "Epoch 11/100\n",
      "16/16 [==============================] - 1s 67ms/step - loss: 0.6417 - accuracy: 0.6398 - val_loss: 0.6398 - val_accuracy: 0.6544\n",
      "Epoch 12/100\n",
      "16/16 [==============================] - 1s 58ms/step - loss: 0.6300 - accuracy: 0.6436 - val_loss: 0.6354 - val_accuracy: 0.6715\n",
      "Epoch 13/100\n",
      "16/16 [==============================] - 1s 66ms/step - loss: 0.6337 - accuracy: 0.6545 - val_loss: 0.6299 - val_accuracy: 0.6741\n",
      "Epoch 14/100\n",
      "16/16 [==============================] - 1s 58ms/step - loss: 0.6254 - accuracy: 0.6673 - val_loss: 0.6272 - val_accuracy: 0.6768\n",
      "Epoch 15/100\n",
      "16/16 [==============================] - 1s 61ms/step - loss: 0.6404 - accuracy: 0.6239 - val_loss: 0.6258 - val_accuracy: 0.6745\n",
      "Epoch 16/100\n",
      "16/16 [==============================] - 1s 58ms/step - loss: 0.6231 - accuracy: 0.6223 - val_loss: 0.6220 - val_accuracy: 0.6798\n",
      "Epoch 17/100\n",
      "16/16 [==============================] - 1s 60ms/step - loss: 0.6289 - accuracy: 0.6447 - val_loss: 0.6198 - val_accuracy: 0.6811\n",
      "Epoch 18/100\n",
      "16/16 [==============================] - 1s 58ms/step - loss: 0.6271 - accuracy: 0.6381 - val_loss: 0.6161 - val_accuracy: 0.6894\n",
      "Epoch 19/100\n",
      "16/16 [==============================] - 1s 59ms/step - loss: 0.6197 - accuracy: 0.6838 - val_loss: 0.6157 - val_accuracy: 0.6930\n",
      "Epoch 20/100\n",
      "16/16 [==============================] - 1s 60ms/step - loss: 0.6021 - accuracy: 0.7116 - val_loss: 0.6140 - val_accuracy: 0.6774\n",
      "Epoch 21/100\n",
      "16/16 [==============================] - 1s 60ms/step - loss: 0.5963 - accuracy: 0.6962 - val_loss: 0.6069 - val_accuracy: 0.6945\n",
      "Epoch 22/100\n",
      "16/16 [==============================] - 1s 58ms/step - loss: 0.6032 - accuracy: 0.6593 - val_loss: 0.6072 - val_accuracy: 0.6895\n",
      "Epoch 23/100\n",
      "16/16 [==============================] - 1s 62ms/step - loss: 0.5973 - accuracy: 0.6771 - val_loss: 0.6089 - val_accuracy: 0.6839\n",
      "Epoch 24/100\n",
      "16/16 [==============================] - 1s 59ms/step - loss: 0.6023 - accuracy: 0.6817 - val_loss: 0.6045 - val_accuracy: 0.6996\n",
      "Epoch 25/100\n",
      "16/16 [==============================] - 1s 62ms/step - loss: 0.5946 - accuracy: 0.6831 - val_loss: 0.6005 - val_accuracy: 0.7007\n",
      "Epoch 26/100\n",
      "16/16 [==============================] - 1s 63ms/step - loss: 0.5842 - accuracy: 0.6727 - val_loss: 0.5982 - val_accuracy: 0.7014\n",
      "Epoch 27/100\n",
      "16/16 [==============================] - 1s 58ms/step - loss: 0.5891 - accuracy: 0.6793 - val_loss: 0.5956 - val_accuracy: 0.7036\n",
      "Epoch 28/100\n",
      "16/16 [==============================] - 1s 58ms/step - loss: 0.5896 - accuracy: 0.7129 - val_loss: 0.5961 - val_accuracy: 0.6944\n",
      "Epoch 29/100\n",
      "16/16 [==============================] - 1s 57ms/step - loss: 0.5866 - accuracy: 0.6862 - val_loss: 0.5936 - val_accuracy: 0.7049\n",
      "Epoch 30/100\n",
      "16/16 [==============================] - 1s 58ms/step - loss: 0.5451 - accuracy: 0.7398 - val_loss: 0.5892 - val_accuracy: 0.7064\n",
      "Epoch 31/100\n",
      "16/16 [==============================] - 1s 58ms/step - loss: 0.5938 - accuracy: 0.6882 - val_loss: 0.5893 - val_accuracy: 0.7046\n",
      "Epoch 32/100\n",
      "16/16 [==============================] - 1s 58ms/step - loss: 0.5852 - accuracy: 0.6852 - val_loss: 0.5875 - val_accuracy: 0.7101\n",
      "Epoch 33/100\n",
      "16/16 [==============================] - 1s 57ms/step - loss: 0.5893 - accuracy: 0.6825 - val_loss: 0.5843 - val_accuracy: 0.7089\n",
      "Epoch 34/100\n",
      "16/16 [==============================] - 1s 59ms/step - loss: 0.5692 - accuracy: 0.7273 - val_loss: 0.5845 - val_accuracy: 0.7089\n",
      "Epoch 35/100\n",
      "16/16 [==============================] - 1s 59ms/step - loss: 0.5778 - accuracy: 0.6813 - val_loss: 0.5853 - val_accuracy: 0.7110\n",
      "Epoch 36/100\n",
      "16/16 [==============================] - 1s 60ms/step - loss: 0.5785 - accuracy: 0.7065 - val_loss: 0.5841 - val_accuracy: 0.7128\n",
      "Epoch 37/100\n",
      "16/16 [==============================] - 1s 66ms/step - loss: 0.5715 - accuracy: 0.7296 - val_loss: 0.5811 - val_accuracy: 0.7128\n",
      "Epoch 38/100\n",
      "16/16 [==============================] - 1s 59ms/step - loss: 0.5738 - accuracy: 0.6686 - val_loss: 0.5812 - val_accuracy: 0.7099\n",
      "Epoch 39/100\n",
      "16/16 [==============================] - 1s 67ms/step - loss: 0.5776 - accuracy: 0.6970 - val_loss: 0.5790 - val_accuracy: 0.7113\n",
      "Epoch 40/100\n",
      "16/16 [==============================] - 1s 64ms/step - loss: 0.5860 - accuracy: 0.6778 - val_loss: 0.5753 - val_accuracy: 0.7150\n",
      "Epoch 41/100\n",
      "16/16 [==============================] - 1s 59ms/step - loss: 0.5512 - accuracy: 0.7111 - val_loss: 0.5771 - val_accuracy: 0.7099\n",
      "Epoch 42/100\n",
      "16/16 [==============================] - 1s 60ms/step - loss: 0.5443 - accuracy: 0.7470 - val_loss: 0.5722 - val_accuracy: 0.7188\n",
      "Epoch 43/100\n",
      "16/16 [==============================] - 1s 59ms/step - loss: 0.5551 - accuracy: 0.7166 - val_loss: 0.5744 - val_accuracy: 0.7153\n",
      "Epoch 44/100\n",
      "16/16 [==============================] - 1s 59ms/step - loss: 0.5554 - accuracy: 0.7263 - val_loss: 0.5747 - val_accuracy: 0.7088\n",
      "Epoch 45/100\n",
      "16/16 [==============================] - 1s 58ms/step - loss: 0.5528 - accuracy: 0.7055 - val_loss: 0.5716 - val_accuracy: 0.7124\n",
      "Epoch 46/100\n",
      "16/16 [==============================] - 1s 60ms/step - loss: 0.5563 - accuracy: 0.7141 - val_loss: 0.5720 - val_accuracy: 0.7154\n",
      "Epoch 47/100\n",
      "16/16 [==============================] - 1s 60ms/step - loss: 0.5468 - accuracy: 0.7401 - val_loss: 0.5738 - val_accuracy: 0.7131\n",
      "Epoch 48/100\n",
      "16/16 [==============================] - 1s 59ms/step - loss: 0.5670 - accuracy: 0.7085 - val_loss: 0.5690 - val_accuracy: 0.7140\n",
      "Epoch 49/100\n",
      "16/16 [==============================] - 1s 59ms/step - loss: 0.5718 - accuracy: 0.7037 - val_loss: 0.5768 - val_accuracy: 0.7060\n",
      "Epoch 50/100\n",
      "16/16 [==============================] - 1s 59ms/step - loss: 0.5543 - accuracy: 0.6860 - val_loss: 0.5758 - val_accuracy: 0.7099\n",
      "Epoch 51/100\n",
      "16/16 [==============================] - 1s 59ms/step - loss: 0.5238 - accuracy: 0.7196 - val_loss: 0.5658 - val_accuracy: 0.7188\n",
      "Epoch 52/100\n",
      "16/16 [==============================] - 1s 59ms/step - loss: 0.5416 - accuracy: 0.7153 - val_loss: 0.5655 - val_accuracy: 0.7204\n",
      "Epoch 53/100\n",
      "16/16 [==============================] - 1s 62ms/step - loss: 0.5542 - accuracy: 0.7156 - val_loss: 0.5705 - val_accuracy: 0.7141\n",
      "Epoch 54/100\n",
      "16/16 [==============================] - 1s 59ms/step - loss: 0.5232 - accuracy: 0.7591 - val_loss: 0.5688 - val_accuracy: 0.7147\n",
      "Epoch 55/100\n",
      "16/16 [==============================] - 1s 58ms/step - loss: 0.5261 - accuracy: 0.7395 - val_loss: 0.5694 - val_accuracy: 0.7124\n",
      "Epoch 56/100\n",
      "16/16 [==============================] - 1s 58ms/step - loss: 0.5250 - accuracy: 0.7540 - val_loss: 0.5652 - val_accuracy: 0.7181\n",
      "Epoch 57/100\n",
      "16/16 [==============================] - 1s 57ms/step - loss: 0.5290 - accuracy: 0.7512 - val_loss: 0.5675 - val_accuracy: 0.7157\n",
      "Epoch 58/100\n"
     ]
    },
    {
     "name": "stdout",
     "output_type": "stream",
     "text": [
      "16/16 [==============================] - 1s 60ms/step - loss: 0.5373 - accuracy: 0.7584 - val_loss: 0.5675 - val_accuracy: 0.7153\n",
      "Epoch 59/100\n",
      "16/16 [==============================] - 1s 59ms/step - loss: 0.5343 - accuracy: 0.7690 - val_loss: 0.5642 - val_accuracy: 0.7169\n",
      "Epoch 60/100\n",
      "16/16 [==============================] - 1s 59ms/step - loss: 0.5118 - accuracy: 0.7591 - val_loss: 0.5645 - val_accuracy: 0.7159\n",
      "Epoch 61/100\n",
      "16/16 [==============================] - 1s 59ms/step - loss: 0.5587 - accuracy: 0.7135 - val_loss: 0.5643 - val_accuracy: 0.7153\n",
      "Epoch 62/100\n",
      "16/16 [==============================] - 1s 57ms/step - loss: 0.5352 - accuracy: 0.7305 - val_loss: 0.5697 - val_accuracy: 0.7139\n",
      "Epoch 63/100\n",
      "16/16 [==============================] - 1s 58ms/step - loss: 0.5125 - accuracy: 0.7520 - val_loss: 0.5613 - val_accuracy: 0.7210\n",
      "Epoch 64/100\n",
      "16/16 [==============================] - 1s 58ms/step - loss: 0.5088 - accuracy: 0.7609 - val_loss: 0.5598 - val_accuracy: 0.7225\n",
      "Epoch 65/100\n",
      "16/16 [==============================] - 1s 58ms/step - loss: 0.5500 - accuracy: 0.7104 - val_loss: 0.5628 - val_accuracy: 0.7201\n",
      "Epoch 66/100\n",
      "16/16 [==============================] - 1s 57ms/step - loss: 0.5046 - accuracy: 0.7721 - val_loss: 0.5578 - val_accuracy: 0.7197\n",
      "Epoch 67/100\n",
      "16/16 [==============================] - 1s 57ms/step - loss: 0.5430 - accuracy: 0.7113 - val_loss: 0.5701 - val_accuracy: 0.7128\n",
      "Epoch 68/100\n",
      "16/16 [==============================] - 1s 60ms/step - loss: 0.5217 - accuracy: 0.7499 - val_loss: 0.5583 - val_accuracy: 0.7234\n",
      "Epoch 69/100\n",
      "16/16 [==============================] - 1s 58ms/step - loss: 0.5360 - accuracy: 0.7399 - val_loss: 0.5655 - val_accuracy: 0.7145\n",
      "Epoch 70/100\n",
      "16/16 [==============================] - 1s 57ms/step - loss: 0.5179 - accuracy: 0.7563 - val_loss: 0.5604 - val_accuracy: 0.7197\n",
      "Epoch 71/100\n",
      "16/16 [==============================] - 1s 57ms/step - loss: 0.5297 - accuracy: 0.7319 - val_loss: 0.5613 - val_accuracy: 0.7200\n",
      "Epoch 72/100\n",
      "16/16 [==============================] - 1s 58ms/step - loss: 0.5048 - accuracy: 0.7573 - val_loss: 0.5600 - val_accuracy: 0.7196\n",
      "Epoch 73/100\n",
      "16/16 [==============================] - 1s 57ms/step - loss: 0.4956 - accuracy: 0.7599 - val_loss: 0.5601 - val_accuracy: 0.7178\n",
      "Epoch 74/100\n",
      "16/16 [==============================] - 1s 57ms/step - loss: 0.4875 - accuracy: 0.7683 - val_loss: 0.5619 - val_accuracy: 0.7190\n",
      "Epoch 75/100\n",
      "16/16 [==============================] - 1s 57ms/step - loss: 0.4900 - accuracy: 0.7798 - val_loss: 0.5629 - val_accuracy: 0.7185\n",
      "Epoch 76/100\n",
      "16/16 [==============================] - 1s 57ms/step - loss: 0.5102 - accuracy: 0.7579 - val_loss: 0.5633 - val_accuracy: 0.7199\n"
     ]
    }
   ],
   "source": [
    "history = model.fit(train[\"text\"][0:500],\n",
    "                    y_train_small,\n",
    "                    epochs=100,\n",
    "                    validation_data=(valid[\"text\"], y_valid),\n",
    "                    callbacks=[early_stopping])"
   ]
  },
  {
   "cell_type": "code",
   "execution_count": 40,
   "metadata": {},
   "outputs": [
    {
     "name": "stdout",
     "output_type": "stream",
     "text": [
      "313/313 [==============================] - 1s 4ms/step - loss: 0.5599 - accuracy: 0.7206\n"
     ]
    },
    {
     "data": {
      "text/plain": [
       "[0.5599139928817749, 0.7206000089645386]"
      ]
     },
     "execution_count": 40,
     "metadata": {},
     "output_type": "execute_result"
    }
   ],
   "source": [
    "model.evaluate(test[\"text\"], y_test)"
   ]
  },
  {
   "cell_type": "markdown",
   "metadata": {},
   "source": [
    "**Původní varianta s bag-of-words**"
   ]
  },
  {
   "cell_type": "code",
   "execution_count": 41,
   "metadata": {},
   "outputs": [],
   "source": [
    "from sklearn.feature_extraction.text import TfidfVectorizer\n",
    "bow = TfidfVectorizer(max_features=num_words)\n",
    "X_train_small_bow = bow.fit_transform(train[\"text\"][0:500]).todense()\n",
    "X_valid_bow = bow.transform(valid[\"text\"]).todense()\n",
    "X_test_bow = bow.transform(test[\"text\"]).todense()"
   ]
  },
  {
   "cell_type": "code",
   "execution_count": 42,
   "metadata": {},
   "outputs": [
    {
     "data": {
      "text/plain": [
       "(500, 10000)"
      ]
     },
     "execution_count": 42,
     "metadata": {},
     "output_type": "execute_result"
    }
   ],
   "source": [
    "X_train_small_bow.shape"
   ]
  },
  {
   "cell_type": "code",
   "execution_count": 43,
   "metadata": {},
   "outputs": [],
   "source": [
    "model = keras.models.Sequential([\n",
    "  layers.Dense(16, activation='relu'),\n",
    "  layers.Dropout(0.5),\n",
    "  layers.Dense(1, activation='sigmoid'),  \n",
    "])"
   ]
  },
  {
   "cell_type": "code",
   "execution_count": 44,
   "metadata": {},
   "outputs": [],
   "source": [
    "model.compile(optimizer=keras.optimizers.RMSprop(lr=0.001),\n",
    "              loss='binary_crossentropy',\n",
    "              metrics=['accuracy'])\n",
    "early_stopping = keras.callbacks.EarlyStopping(patience=5, restore_best_weights=True)"
   ]
  },
  {
   "cell_type": "code",
   "execution_count": 45,
   "metadata": {},
   "outputs": [
    {
     "name": "stdout",
     "output_type": "stream",
     "text": [
      "Epoch 1/100\n",
      "16/16 [==============================] - 1s 49ms/step - loss: 0.6923 - accuracy: 0.5193 - val_loss: 0.6877 - val_accuracy: 0.5123\n",
      "Epoch 2/100\n",
      "16/16 [==============================] - 1s 34ms/step - loss: 0.6770 - accuracy: 0.6953 - val_loss: 0.6795 - val_accuracy: 0.6528\n",
      "Epoch 3/100\n",
      "16/16 [==============================] - 1s 33ms/step - loss: 0.6582 - accuracy: 0.8202 - val_loss: 0.6720 - val_accuracy: 0.6485\n",
      "Epoch 4/100\n",
      "16/16 [==============================] - 1s 34ms/step - loss: 0.6354 - accuracy: 0.8494 - val_loss: 0.6640 - val_accuracy: 0.6839\n",
      "Epoch 5/100\n",
      "16/16 [==============================] - 1s 34ms/step - loss: 0.6103 - accuracy: 0.9168 - val_loss: 0.6569 - val_accuracy: 0.6290\n",
      "Epoch 6/100\n",
      "16/16 [==============================] - 1s 35ms/step - loss: 0.5984 - accuracy: 0.8726 - val_loss: 0.6474 - val_accuracy: 0.6911\n",
      "Epoch 7/100\n",
      "16/16 [==============================] - 1s 35ms/step - loss: 0.5687 - accuracy: 0.8939 - val_loss: 0.6393 - val_accuracy: 0.6836\n",
      "Epoch 8/100\n",
      "16/16 [==============================] - 1s 34ms/step - loss: 0.5455 - accuracy: 0.9321 - val_loss: 0.6291 - val_accuracy: 0.7249\n",
      "Epoch 9/100\n",
      "16/16 [==============================] - 1s 35ms/step - loss: 0.5182 - accuracy: 0.9607 - val_loss: 0.6188 - val_accuracy: 0.7694\n",
      "Epoch 10/100\n",
      "16/16 [==============================] - 1s 34ms/step - loss: 0.4947 - accuracy: 0.9658 - val_loss: 0.6110 - val_accuracy: 0.7452\n",
      "Epoch 11/100\n",
      "16/16 [==============================] - 1s 34ms/step - loss: 0.4687 - accuracy: 0.9630 - val_loss: 0.6011 - val_accuracy: 0.7596\n",
      "Epoch 12/100\n",
      "16/16 [==============================] - 1s 34ms/step - loss: 0.4478 - accuracy: 0.9703 - val_loss: 0.5908 - val_accuracy: 0.7772\n",
      "Epoch 13/100\n",
      "16/16 [==============================] - 1s 34ms/step - loss: 0.4270 - accuracy: 0.9688 - val_loss: 0.5801 - val_accuracy: 0.7954\n",
      "Epoch 14/100\n",
      "16/16 [==============================] - 1s 33ms/step - loss: 0.4042 - accuracy: 0.9791 - val_loss: 0.5725 - val_accuracy: 0.7850\n",
      "Epoch 15/100\n",
      "16/16 [==============================] - 1s 35ms/step - loss: 0.3766 - accuracy: 0.9814 - val_loss: 0.5635 - val_accuracy: 0.7866\n",
      "Epoch 16/100\n",
      "16/16 [==============================] - 1s 34ms/step - loss: 0.3686 - accuracy: 0.9809 - val_loss: 0.5549 - val_accuracy: 0.7883\n",
      "Epoch 17/100\n",
      "16/16 [==============================] - 1s 34ms/step - loss: 0.3356 - accuracy: 0.9797 - val_loss: 0.5451 - val_accuracy: 0.7949\n",
      "Epoch 18/100\n",
      "16/16 [==============================] - 1s 35ms/step - loss: 0.3121 - accuracy: 0.9917 - val_loss: 0.5373 - val_accuracy: 0.7922\n",
      "Epoch 19/100\n",
      "16/16 [==============================] - 1s 33ms/step - loss: 0.2904 - accuracy: 0.9865 - val_loss: 0.5295 - val_accuracy: 0.7914\n",
      "Epoch 20/100\n",
      "16/16 [==============================] - 1s 34ms/step - loss: 0.2822 - accuracy: 0.9930 - val_loss: 0.5205 - val_accuracy: 0.7977\n",
      "Epoch 21/100\n",
      "16/16 [==============================] - 1s 35ms/step - loss: 0.2631 - accuracy: 0.9875 - val_loss: 0.5155 - val_accuracy: 0.7906\n",
      "Epoch 22/100\n",
      "16/16 [==============================] - 1s 34ms/step - loss: 0.2487 - accuracy: 0.9888 - val_loss: 0.5078 - val_accuracy: 0.7943\n",
      "Epoch 23/100\n",
      "16/16 [==============================] - 1s 34ms/step - loss: 0.2395 - accuracy: 0.9867 - val_loss: 0.5021 - val_accuracy: 0.7926\n",
      "Epoch 24/100\n",
      "16/16 [==============================] - 1s 34ms/step - loss: 0.2085 - accuracy: 0.9919 - val_loss: 0.4928 - val_accuracy: 0.8008\n",
      "Epoch 25/100\n",
      "16/16 [==============================] - 1s 35ms/step - loss: 0.1945 - accuracy: 0.9969 - val_loss: 0.4903 - val_accuracy: 0.7931\n",
      "Epoch 26/100\n",
      "16/16 [==============================] - 1s 34ms/step - loss: 0.1908 - accuracy: 0.9968 - val_loss: 0.4785 - val_accuracy: 0.8071\n",
      "Epoch 27/100\n",
      "16/16 [==============================] - 1s 36ms/step - loss: 0.1839 - accuracy: 1.0000 - val_loss: 0.4775 - val_accuracy: 0.7983\n",
      "Epoch 28/100\n",
      "16/16 [==============================] - 1s 36ms/step - loss: 0.1588 - accuracy: 0.9970 - val_loss: 0.4671 - val_accuracy: 0.8087\n",
      "Epoch 29/100\n",
      "16/16 [==============================] - 1s 36ms/step - loss: 0.1516 - accuracy: 0.9894 - val_loss: 0.4637 - val_accuracy: 0.8050\n",
      "Epoch 30/100\n",
      "16/16 [==============================] - 1s 36ms/step - loss: 0.1414 - accuracy: 1.0000 - val_loss: 0.4615 - val_accuracy: 0.8021\n",
      "Epoch 31/100\n",
      "16/16 [==============================] - 1s 37ms/step - loss: 0.1384 - accuracy: 0.9960 - val_loss: 0.4559 - val_accuracy: 0.8034\n",
      "Epoch 32/100\n",
      "16/16 [==============================] - 1s 36ms/step - loss: 0.1228 - accuracy: 0.9967 - val_loss: 0.4520 - val_accuracy: 0.8040\n",
      "Epoch 33/100\n",
      "16/16 [==============================] - 1s 35ms/step - loss: 0.1236 - accuracy: 0.9914 - val_loss: 0.4477 - val_accuracy: 0.8050\n",
      "Epoch 34/100\n",
      "16/16 [==============================] - 1s 35ms/step - loss: 0.1163 - accuracy: 0.9914 - val_loss: 0.4461 - val_accuracy: 0.8036\n",
      "Epoch 35/100\n",
      "16/16 [==============================] - 1s 36ms/step - loss: 0.1058 - accuracy: 0.9990 - val_loss: 0.4508 - val_accuracy: 0.7943\n",
      "Epoch 36/100\n",
      "16/16 [==============================] - 1s 35ms/step - loss: 0.1058 - accuracy: 0.9982 - val_loss: 0.4426 - val_accuracy: 0.8016\n",
      "Epoch 37/100\n",
      "16/16 [==============================] - 1s 36ms/step - loss: 0.0962 - accuracy: 0.9951 - val_loss: 0.4387 - val_accuracy: 0.8031\n",
      "Epoch 38/100\n",
      "16/16 [==============================] - 1s 35ms/step - loss: 0.0755 - accuracy: 0.9984 - val_loss: 0.4382 - val_accuracy: 0.8026\n",
      "Epoch 39/100\n",
      "16/16 [==============================] - 1s 35ms/step - loss: 0.0783 - accuracy: 1.0000 - val_loss: 0.4372 - val_accuracy: 0.8012\n",
      "Epoch 40/100\n",
      "16/16 [==============================] - 1s 37ms/step - loss: 0.0771 - accuracy: 0.9994 - val_loss: 0.4323 - val_accuracy: 0.8051\n",
      "Epoch 41/100\n",
      "16/16 [==============================] - 1s 37ms/step - loss: 0.0795 - accuracy: 0.9981 - val_loss: 0.4367 - val_accuracy: 0.7986\n",
      "Epoch 42/100\n",
      "16/16 [==============================] - 1s 37ms/step - loss: 0.0700 - accuracy: 0.9994 - val_loss: 0.4293 - val_accuracy: 0.8051\n",
      "Epoch 43/100\n",
      "16/16 [==============================] - 1s 37ms/step - loss: 0.0687 - accuracy: 0.9970 - val_loss: 0.4352 - val_accuracy: 0.7986\n",
      "Epoch 44/100\n",
      "16/16 [==============================] - 1s 36ms/step - loss: 0.0476 - accuracy: 1.0000 - val_loss: 0.4283 - val_accuracy: 0.8051\n",
      "Epoch 45/100\n",
      "16/16 [==============================] - 1s 35ms/step - loss: 0.0578 - accuracy: 0.9994 - val_loss: 0.4284 - val_accuracy: 0.8041\n",
      "Epoch 46/100\n",
      "16/16 [==============================] - 1s 39ms/step - loss: 0.0553 - accuracy: 0.9987 - val_loss: 0.4323 - val_accuracy: 0.8000\n",
      "Epoch 47/100\n",
      "16/16 [==============================] - 1s 38ms/step - loss: 0.0475 - accuracy: 1.0000 - val_loss: 0.4331 - val_accuracy: 0.7986\n",
      "Epoch 48/100\n",
      "16/16 [==============================] - 1s 40ms/step - loss: 0.0387 - accuracy: 0.9994 - val_loss: 0.4301 - val_accuracy: 0.8012\n",
      "Epoch 49/100\n",
      "16/16 [==============================] - 1s 43ms/step - loss: 0.0398 - accuracy: 0.9990 - val_loss: 0.4289 - val_accuracy: 0.8025\n"
     ]
    }
   ],
   "source": [
    "history = model.fit(X_train_small_bow,\n",
    "                    y_train_small,\n",
    "                    epochs=100,\n",
    "                    validation_data=(X_valid_bow, y_valid),\n",
    "                    callbacks=[early_stopping])"
   ]
  },
  {
   "cell_type": "code",
   "execution_count": 46,
   "metadata": {},
   "outputs": [
    {
     "name": "stdout",
     "output_type": "stream",
     "text": [
      "313/313 [==============================] - 1s 3ms/step - loss: 0.4227 - accuracy: 0.8034\n"
     ]
    },
    {
     "data": {
      "text/plain": [
       "[0.42270728945732117, 0.8033999800682068]"
      ]
     },
     "execution_count": 46,
     "metadata": {},
     "output_type": "execute_result"
    }
   ],
   "source": [
    "model.evaluate(X_test_bow, y_test)"
   ]
  }
 ],
 "metadata": {
  "kernelspec": {
   "display_name": "Python 3",
   "language": "python",
   "name": "python3"
  },
  "language_info": {
   "codemirror_mode": {
    "name": "ipython",
    "version": 3
   },
   "file_extension": ".py",
   "mimetype": "text/x-python",
   "name": "python",
   "nbconvert_exporter": "python",
   "pygments_lexer": "ipython3",
   "version": "3.8.7"
  }
 },
 "nbformat": 4,
 "nbformat_minor": 4
}
