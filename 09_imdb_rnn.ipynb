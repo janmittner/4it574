{
 "cells": [
  {
   "cell_type": "markdown",
   "metadata": {},
   "source": [
    "### Načteme data"
   ]
  },
  {
   "cell_type": "code",
   "execution_count": 1,
   "metadata": {},
   "outputs": [],
   "source": [
    "import numpy as np\n",
    "import os\n",
    "\n",
    "PATH = os.path.join(\"datasets\", \"07\", \"imdb\")"
   ]
  },
  {
   "cell_type": "code",
   "execution_count": 2,
   "metadata": {},
   "outputs": [],
   "source": [
    "import pandas as pd\n",
    "\n",
    "def load_data(file, path=PATH):\n",
    "    csv = os.path.join(path, file)\n",
    "    return pd.read_csv(csv)"
   ]
  },
  {
   "cell_type": "code",
   "execution_count": 3,
   "metadata": {},
   "outputs": [],
   "source": [
    "data = load_data(\"IMDB Dataset.csv\")"
   ]
  },
  {
   "cell_type": "markdown",
   "metadata": {},
   "source": [
    "### Prozkoumáme a předpřipravíme data"
   ]
  },
  {
   "cell_type": "code",
   "execution_count": 4,
   "metadata": {},
   "outputs": [
    {
     "data": {
      "text/html": [
       "<div>\n",
       "<style scoped>\n",
       "    .dataframe tbody tr th:only-of-type {\n",
       "        vertical-align: middle;\n",
       "    }\n",
       "\n",
       "    .dataframe tbody tr th {\n",
       "        vertical-align: top;\n",
       "    }\n",
       "\n",
       "    .dataframe thead th {\n",
       "        text-align: right;\n",
       "    }\n",
       "</style>\n",
       "<table border=\"1\" class=\"dataframe\">\n",
       "  <thead>\n",
       "    <tr style=\"text-align: right;\">\n",
       "      <th></th>\n",
       "      <th>review</th>\n",
       "      <th>sentiment</th>\n",
       "    </tr>\n",
       "  </thead>\n",
       "  <tbody>\n",
       "    <tr>\n",
       "      <th>0</th>\n",
       "      <td>One of the other reviewers has mentioned that ...</td>\n",
       "      <td>positive</td>\n",
       "    </tr>\n",
       "    <tr>\n",
       "      <th>1</th>\n",
       "      <td>A wonderful little production. &lt;br /&gt;&lt;br /&gt;The...</td>\n",
       "      <td>positive</td>\n",
       "    </tr>\n",
       "    <tr>\n",
       "      <th>2</th>\n",
       "      <td>I thought this was a wonderful way to spend ti...</td>\n",
       "      <td>positive</td>\n",
       "    </tr>\n",
       "    <tr>\n",
       "      <th>3</th>\n",
       "      <td>Basically there's a family where a little boy ...</td>\n",
       "      <td>negative</td>\n",
       "    </tr>\n",
       "    <tr>\n",
       "      <th>4</th>\n",
       "      <td>Petter Mattei's \"Love in the Time of Money\" is...</td>\n",
       "      <td>positive</td>\n",
       "    </tr>\n",
       "  </tbody>\n",
       "</table>\n",
       "</div>"
      ],
      "text/plain": [
       "                                              review sentiment\n",
       "0  One of the other reviewers has mentioned that ...  positive\n",
       "1  A wonderful little production. <br /><br />The...  positive\n",
       "2  I thought this was a wonderful way to spend ti...  positive\n",
       "3  Basically there's a family where a little boy ...  negative\n",
       "4  Petter Mattei's \"Love in the Time of Money\" is...  positive"
      ]
     },
     "execution_count": 4,
     "metadata": {},
     "output_type": "execute_result"
    }
   ],
   "source": [
    "data.head()"
   ]
  },
  {
   "cell_type": "code",
   "execution_count": 5,
   "metadata": {},
   "outputs": [
    {
     "name": "stdout",
     "output_type": "stream",
     "text": [
      "<class 'pandas.core.frame.DataFrame'>\n",
      "RangeIndex: 50000 entries, 0 to 49999\n",
      "Data columns (total 2 columns):\n",
      " #   Column     Non-Null Count  Dtype \n",
      "---  ------     --------------  ----- \n",
      " 0   review     50000 non-null  object\n",
      " 1   sentiment  50000 non-null  object\n",
      "dtypes: object(2)\n",
      "memory usage: 781.4+ KB\n"
     ]
    }
   ],
   "source": [
    "data.info()"
   ]
  },
  {
   "cell_type": "code",
   "execution_count": 4,
   "metadata": {},
   "outputs": [],
   "source": [
    "data[\"label\"] = (data[\"sentiment\"] == \"positive\").astype(int)\n",
    "data = data.rename(columns={\"review\":\"text\"})"
   ]
  },
  {
   "cell_type": "code",
   "execution_count": 7,
   "metadata": {},
   "outputs": [
    {
     "data": {
      "text/html": [
       "<div>\n",
       "<style scoped>\n",
       "    .dataframe tbody tr th:only-of-type {\n",
       "        vertical-align: middle;\n",
       "    }\n",
       "\n",
       "    .dataframe tbody tr th {\n",
       "        vertical-align: top;\n",
       "    }\n",
       "\n",
       "    .dataframe thead th {\n",
       "        text-align: right;\n",
       "    }\n",
       "</style>\n",
       "<table border=\"1\" class=\"dataframe\">\n",
       "  <thead>\n",
       "    <tr style=\"text-align: right;\">\n",
       "      <th></th>\n",
       "      <th>text</th>\n",
       "      <th>sentiment</th>\n",
       "      <th>label</th>\n",
       "    </tr>\n",
       "  </thead>\n",
       "  <tbody>\n",
       "    <tr>\n",
       "      <th>0</th>\n",
       "      <td>One of the other reviewers has mentioned that ...</td>\n",
       "      <td>positive</td>\n",
       "      <td>1</td>\n",
       "    </tr>\n",
       "    <tr>\n",
       "      <th>1</th>\n",
       "      <td>A wonderful little production. &lt;br /&gt;&lt;br /&gt;The...</td>\n",
       "      <td>positive</td>\n",
       "      <td>1</td>\n",
       "    </tr>\n",
       "    <tr>\n",
       "      <th>2</th>\n",
       "      <td>I thought this was a wonderful way to spend ti...</td>\n",
       "      <td>positive</td>\n",
       "      <td>1</td>\n",
       "    </tr>\n",
       "    <tr>\n",
       "      <th>3</th>\n",
       "      <td>Basically there's a family where a little boy ...</td>\n",
       "      <td>negative</td>\n",
       "      <td>0</td>\n",
       "    </tr>\n",
       "    <tr>\n",
       "      <th>4</th>\n",
       "      <td>Petter Mattei's \"Love in the Time of Money\" is...</td>\n",
       "      <td>positive</td>\n",
       "      <td>1</td>\n",
       "    </tr>\n",
       "  </tbody>\n",
       "</table>\n",
       "</div>"
      ],
      "text/plain": [
       "                                                text sentiment  label\n",
       "0  One of the other reviewers has mentioned that ...  positive      1\n",
       "1  A wonderful little production. <br /><br />The...  positive      1\n",
       "2  I thought this was a wonderful way to spend ti...  positive      1\n",
       "3  Basically there's a family where a little boy ...  negative      0\n",
       "4  Petter Mattei's \"Love in the Time of Money\" is...  positive      1"
      ]
     },
     "execution_count": 7,
     "metadata": {},
     "output_type": "execute_result"
    }
   ],
   "source": [
    "data.head()"
   ]
  },
  {
   "cell_type": "markdown",
   "metadata": {},
   "source": [
    "### Rozdělíme dataset na trénovací, testovací a validační"
   ]
  },
  {
   "cell_type": "code",
   "execution_count": 5,
   "metadata": {},
   "outputs": [],
   "source": [
    "from sklearn.model_selection import train_test_split\n",
    "train_full, test = train_test_split(data, test_size=0.2, random_state=42)"
   ]
  },
  {
   "cell_type": "code",
   "execution_count": 6,
   "metadata": {},
   "outputs": [],
   "source": [
    "train, valid = train_test_split(train_full, test_size=0.2, random_state=42)"
   ]
  },
  {
   "cell_type": "code",
   "execution_count": 7,
   "metadata": {},
   "outputs": [
    {
     "data": {
      "text/plain": [
       "(32000, 3)"
      ]
     },
     "execution_count": 7,
     "metadata": {},
     "output_type": "execute_result"
    }
   ],
   "source": [
    "train.shape"
   ]
  },
  {
   "cell_type": "code",
   "execution_count": 11,
   "metadata": {},
   "outputs": [
    {
     "data": {
      "text/plain": [
       "(8000, 3)"
      ]
     },
     "execution_count": 11,
     "metadata": {},
     "output_type": "execute_result"
    }
   ],
   "source": [
    "valid.shape"
   ]
  },
  {
   "cell_type": "code",
   "execution_count": 12,
   "metadata": {},
   "outputs": [
    {
     "data": {
      "text/plain": [
       "(10000, 3)"
      ]
     },
     "execution_count": 12,
     "metadata": {},
     "output_type": "execute_result"
    }
   ],
   "source": [
    "test.shape"
   ]
  },
  {
   "cell_type": "markdown",
   "metadata": {},
   "source": [
    "### Převod textu na vektor"
   ]
  },
  {
   "cell_type": "code",
   "execution_count": 7,
   "metadata": {},
   "outputs": [],
   "source": [
    "import tensorflow as tf\n",
    "from tensorflow import keras\n",
    "from tensorflow.keras import layers"
   ]
  },
  {
   "cell_type": "code",
   "execution_count": 8,
   "metadata": {},
   "outputs": [],
   "source": [
    "# Hack pro GPU na Windows\n",
    "for gpu in tf.config.experimental.list_physical_devices('GPU'):\n",
    "    tf.config.experimental.set_memory_growth(gpu, True)"
   ]
  },
  {
   "cell_type": "markdown",
   "metadata": {},
   "source": [
    "Tokenizer převede slova na celočíselné indexy"
   ]
  },
  {
   "cell_type": "code",
   "execution_count": 9,
   "metadata": {},
   "outputs": [],
   "source": [
    "num_words = 10000\n",
    "tokenizer = keras.preprocessing.text.Tokenizer(num_words)\n",
    "tokenizer.fit_on_texts(train[\"text\"])"
   ]
  },
  {
   "cell_type": "code",
   "execution_count": 10,
   "metadata": {},
   "outputs": [],
   "source": [
    "X_train = tokenizer.texts_to_sequences(train[\"text\"])\n",
    "X_valid = tokenizer.texts_to_sequences(valid[\"text\"])\n",
    "X_test = tokenizer.texts_to_sequences(test[\"text\"])"
   ]
  },
  {
   "cell_type": "code",
   "execution_count": 12,
   "metadata": {
    "scrolled": false
   },
   "outputs": [
    {
     "data": {
      "text/plain": [
       "\"With no fault to the actors (they all put on great performances), the overall story was not very well executed. The movie opens with a great zinger: a crazy old guy forces a young Aborigine girl's car off the road. But then, we're forced to endure 40 minutes of character development with an entirely new group of characters ... and we don't know why until the 40 minutes are up. It turns out that they are the ones who eventually discover the girl's body ... and the story progresses from there.<br /><br />While the story does pick up at that point, it really goes nowhere. After 2 hours, I asked myself: was there a point to this, or was it just to see the characters struggle with accusations of racism and stupidity of how they handled the discovery? The story was ultimately unsatisfying and felt unfinished. While it is well acted, there's not a strong enough backbone in the film to warrant recommending it.\""
      ]
     },
     "execution_count": 12,
     "metadata": {},
     "output_type": "execute_result"
    }
   ],
   "source": [
    "train.iloc[0,0]"
   ]
  },
  {
   "cell_type": "code",
   "execution_count": 13,
   "metadata": {},
   "outputs": [
    {
     "data": {
      "text/plain": [
       "[17,\n",
       " 54,\n",
       " 2171,\n",
       " 5,\n",
       " 1,\n",
       " 149,\n",
       " 33,\n",
       " 29,\n",
       " 264,\n",
       " 20,\n",
       " 77,\n",
       " 366,\n",
       " 1,\n",
       " 437,\n",
       " 62,\n",
       " 13,\n",
       " 21,\n",
       " 51,\n",
       " 70,\n",
       " 2207,\n",
       " 1,\n",
       " 16,\n",
       " 2101,\n",
       " 17,\n",
       " 3,\n",
       " 77,\n",
       " 3,\n",
       " 1004,\n",
       " 156,\n",
       " 222,\n",
       " 1918,\n",
       " 3,\n",
       " 192,\n",
       " 4131,\n",
       " 526,\n",
       " 123,\n",
       " 1,\n",
       " 1207,\n",
       " 18,\n",
       " 91,\n",
       " 1041,\n",
       " 885,\n",
       " 5,\n",
       " 4708,\n",
       " 1904,\n",
       " 227,\n",
       " 4,\n",
       " 108,\n",
       " 958,\n",
       " 17,\n",
       " 32,\n",
       " 1079,\n",
       " 168,\n",
       " 544,\n",
       " 4,\n",
       " 102,\n",
       " 2,\n",
       " 71,\n",
       " 89,\n",
       " 118,\n",
       " 135,\n",
       " 363,\n",
       " 1,\n",
       " 1904,\n",
       " 227,\n",
       " 23,\n",
       " 53,\n",
       " 9,\n",
       " 519,\n",
       " 42,\n",
       " 12,\n",
       " 33,\n",
       " 23,\n",
       " 1,\n",
       " 680,\n",
       " 36,\n",
       " 874,\n",
       " 1827,\n",
       " 1,\n",
       " 4131,\n",
       " 660,\n",
       " 2,\n",
       " 1,\n",
       " 62,\n",
       " 4331,\n",
       " 34,\n",
       " 46,\n",
       " 7,\n",
       " 7,\n",
       " 136,\n",
       " 1,\n",
       " 62,\n",
       " 124,\n",
       " 1230,\n",
       " 53,\n",
       " 30,\n",
       " 12,\n",
       " 215,\n",
       " 9,\n",
       " 63,\n",
       " 272,\n",
       " 1285,\n",
       " 100,\n",
       " 228,\n",
       " 620,\n",
       " 10,\n",
       " 1711,\n",
       " 543,\n",
       " 13,\n",
       " 46,\n",
       " 3,\n",
       " 215,\n",
       " 5,\n",
       " 11,\n",
       " 38,\n",
       " 13,\n",
       " 9,\n",
       " 39,\n",
       " 5,\n",
       " 64,\n",
       " 1,\n",
       " 102,\n",
       " 1650,\n",
       " 17,\n",
       " 4,\n",
       " 2706,\n",
       " 2,\n",
       " 2722,\n",
       " 4,\n",
       " 86,\n",
       " 33,\n",
       " 2365,\n",
       " 1,\n",
       " 3415,\n",
       " 1,\n",
       " 62,\n",
       " 13,\n",
       " 1159,\n",
       " 6983,\n",
       " 2,\n",
       " 443,\n",
       " 7373,\n",
       " 136,\n",
       " 9,\n",
       " 6,\n",
       " 70,\n",
       " 889,\n",
       " 224,\n",
       " 21,\n",
       " 3,\n",
       " 565,\n",
       " 190,\n",
       " 8,\n",
       " 1,\n",
       " 19,\n",
       " 5,\n",
       " 7062,\n",
       " 9]"
      ]
     },
     "execution_count": 13,
     "metadata": {},
     "output_type": "execute_result"
    }
   ],
   "source": [
    "X_train[0]"
   ]
  },
  {
   "cell_type": "code",
   "execution_count": 14,
   "metadata": {
    "scrolled": true
   },
   "outputs": [
    {
     "data": {
      "text/plain": [
       "[\"with no fault to the actors they all put on great performances the overall story was not very well executed the movie opens with a great a crazy old guy forces a young girl's car off the road but then we're forced to endure 40 minutes of character development with an entirely new group of characters and we don't know why until the 40 minutes are up it turns out that they are the ones who eventually discover the girl's body and the story progresses from there br br while the story does pick up at that point it really goes nowhere after 2 hours i asked myself was there a point to this or was it just to see the characters struggle with of racism and stupidity of how they handled the discovery the story was ultimately unsatisfying and felt unfinished while it is well acted there's not a strong enough in the film to warrant it\"]"
      ]
     },
     "execution_count": 14,
     "metadata": {},
     "output_type": "execute_result"
    }
   ],
   "source": [
    "tokenizer.sequences_to_texts([X_train[0]])"
   ]
  },
  {
   "cell_type": "markdown",
   "metadata": {},
   "source": [
    "Nyní musíme sekvence zarovnat na stejnou délku. Defaultně je padding i truncating 'pre'"
   ]
  },
  {
   "cell_type": "code",
   "execution_count": 11,
   "metadata": {},
   "outputs": [],
   "source": [
    "maxlen = 500\n",
    "X_train = keras.preprocessing.sequence.pad_sequences(X_train, padding='post', truncating='post', maxlen=maxlen)\n",
    "X_valid = keras.preprocessing.sequence.pad_sequences(X_valid, padding='post', truncating='post', maxlen=maxlen)\n",
    "X_test = keras.preprocessing.sequence.pad_sequences(X_test, padding='post', truncating='post', maxlen=maxlen)"
   ]
  },
  {
   "cell_type": "code",
   "execution_count": 9,
   "metadata": {},
   "outputs": [],
   "source": [
    "y_train = train[\"label\"]\n",
    "y_valid = valid[\"label\"]\n",
    "y_test = test[\"label\"]"
   ]
  },
  {
   "cell_type": "code",
   "execution_count": 17,
   "metadata": {},
   "outputs": [
    {
     "data": {
      "text/plain": [
       "(32000, 500)"
      ]
     },
     "execution_count": 17,
     "metadata": {},
     "output_type": "execute_result"
    }
   ],
   "source": [
    "X_train.shape"
   ]
  },
  {
   "cell_type": "markdown",
   "metadata": {},
   "source": [
    "### SimpleRNN"
   ]
  },
  {
   "cell_type": "code",
   "execution_count": 28,
   "metadata": {},
   "outputs": [],
   "source": [
    "model = keras.models.Sequential([\n",
    "    layers.Embedding(num_words, 32, input_length=maxlen, mask_zero=True),\n",
    "    layers.SimpleRNN(32),\n",
    "    layers.Dense(1, activation='sigmoid'),  \n",
    "])"
   ]
  },
  {
   "cell_type": "code",
   "execution_count": 29,
   "metadata": {},
   "outputs": [
    {
     "name": "stdout",
     "output_type": "stream",
     "text": [
      "Model: \"sequential_3\"\n",
      "_________________________________________________________________\n",
      "Layer (type)                 Output Shape              Param #   \n",
      "=================================================================\n",
      "embedding_3 (Embedding)      (None, 500, 32)           320000    \n",
      "_________________________________________________________________\n",
      "simple_rnn_3 (SimpleRNN)     (None, 32)                2080      \n",
      "_________________________________________________________________\n",
      "dense_4 (Dense)              (None, 1)                 33        \n",
      "=================================================================\n",
      "Total params: 322,113\n",
      "Trainable params: 322,113\n",
      "Non-trainable params: 0\n",
      "_________________________________________________________________\n"
     ]
    }
   ],
   "source": [
    "model.summary()"
   ]
  },
  {
   "cell_type": "code",
   "execution_count": 30,
   "metadata": {},
   "outputs": [],
   "source": [
    "model.compile(optimizer='rmsprop',\n",
    "              loss='binary_crossentropy',\n",
    "              metrics=['accuracy'])"
   ]
  },
  {
   "cell_type": "code",
   "execution_count": 20,
   "metadata": {},
   "outputs": [],
   "source": [
    "early_stopping = keras.callbacks.EarlyStopping(patience=5, restore_best_weights=True)"
   ]
  },
  {
   "cell_type": "code",
   "execution_count": 33,
   "metadata": {
    "scrolled": false
   },
   "outputs": [
    {
     "name": "stdout",
     "output_type": "stream",
     "text": [
      "Epoch 1/5\n",
      "250/250 [==============================] - 154s 615ms/step - loss: 0.6098 - accuracy: 0.6646 - val_loss: 0.4078 - val_accuracy: 0.8353\n",
      "Epoch 2/5\n",
      "250/250 [==============================] - 153s 613ms/step - loss: 0.3589 - accuracy: 0.8541 - val_loss: 0.3462 - val_accuracy: 0.8629\n",
      "Epoch 3/5\n",
      "250/250 [==============================] - 155s 619ms/step - loss: 0.2701 - accuracy: 0.8956 - val_loss: 0.4301 - val_accuracy: 0.8497\n",
      "Epoch 4/5\n",
      "250/250 [==============================] - 154s 617ms/step - loss: 0.2181 - accuracy: 0.9175 - val_loss: 0.3680 - val_accuracy: 0.8673\n",
      "Epoch 5/5\n",
      "250/250 [==============================] - 155s 621ms/step - loss: 0.1698 - accuracy: 0.9377 - val_loss: 0.3773 - val_accuracy: 0.8494\n"
     ]
    }
   ],
   "source": [
    "history = model.fit(X_train,\n",
    "                    y_train,\n",
    "                    batch_size=128,\n",
    "                    epochs=5,\n",
    "                    validation_data=(X_valid, y_valid),\n",
    "                    callbacks=[early_stopping])"
   ]
  },
  {
   "cell_type": "markdown",
   "metadata": {},
   "source": [
    "### Zobrazíme křivky "
   ]
  },
  {
   "cell_type": "code",
   "execution_count": 34,
   "metadata": {
    "scrolled": true
   },
   "outputs": [
    {
     "data": {
      "image/png": "[encoded data removed]",
      "text/plain": [
       "<Figure size 432x288 with 1 Axes>"
      ]
     },
     "metadata": {
      "needs_background": "light"
     },
     "output_type": "display_data"
    }
   ],
   "source": [
    "import matplotlib.pyplot as plt\n",
    "import pandas as pd\n",
    "pd.DataFrame(history.history)[['loss', 'val_loss']].plot()\n",
    "plt.grid(True)"
   ]
  },
  {
   "cell_type": "code",
   "execution_count": 35,
   "metadata": {},
   "outputs": [
    {
     "data": {
      "image/png": "[encoded data removed]",
      "text/plain": [
       "<Figure size 432x288 with 1 Axes>"
      ]
     },
     "metadata": {
      "needs_background": "light"
     },
     "output_type": "display_data"
    }
   ],
   "source": [
    "pd.DataFrame(history.history)[['accuracy', 'val_accuracy']].plot()\n",
    "plt.grid(True)"
   ]
  },
  {
   "cell_type": "markdown",
   "metadata": {},
   "source": [
    "### Vyzkoušíme na testovacích datech"
   ]
  },
  {
   "cell_type": "code",
   "execution_count": 36,
   "metadata": {
    "scrolled": false
   },
   "outputs": [
    {
     "name": "stdout",
     "output_type": "stream",
     "text": [
      "313/313 [==============================] - 23s 74ms/step - loss: 0.3805 - accuracy: 0.8396: 1 - ETA: 0s - loss: 0.3811 - accura\n"
     ]
    },
    {
     "data": {
      "text/plain": [
       "[0.380497008562088, 0.8396000266075134]"
      ]
     },
     "execution_count": 36,
     "metadata": {},
     "output_type": "execute_result"
    }
   ],
   "source": [
    "model.evaluate(X_test, y_test)"
   ]
  },
  {
   "cell_type": "markdown",
   "metadata": {},
   "source": [
    "SimpleRNN není dobrá ve zpracovávání dlouhých sekvencí, proto horší výsledek než doposud ukázané modely.\n"
   ]
  },
  {
   "cell_type": "markdown",
   "metadata": {},
   "source": [
    "Pokračování viz prezentace"
   ]
  },
  {
   "cell_type": "markdown",
   "metadata": {},
   "source": [
    "### LSTM"
   ]
  },
  {
   "cell_type": "code",
   "execution_count": 21,
   "metadata": {},
   "outputs": [],
   "source": [
    "model = keras.models.Sequential([\n",
    "    layers.Embedding(num_words, 128, input_length=maxlen, mask_zero=True),\n",
    "    layers.LSTM(128),\n",
    "    layers.Dense(1, activation='sigmoid'),  \n",
    "])"
   ]
  },
  {
   "cell_type": "code",
   "execution_count": 22,
   "metadata": {},
   "outputs": [],
   "source": [
    "model.compile(optimizer='rmsprop',\n",
    "              loss='binary_crossentropy',\n",
    "              metrics=['accuracy'])"
   ]
  },
  {
   "cell_type": "code",
   "execution_count": 23,
   "metadata": {},
   "outputs": [],
   "source": [
    "early_stopping = keras.callbacks.EarlyStopping(patience=5, restore_best_weights=True)"
   ]
  },
  {
   "cell_type": "code",
   "execution_count": 24,
   "metadata": {},
   "outputs": [
    {
     "name": "stdout",
     "output_type": "stream",
     "text": [
      "Epoch 1/5\n",
      "1000/1000 [==============================] - 33s 30ms/step - loss: 0.4890 - accuracy: 0.7689 - val_loss: 0.2891 - val_accuracy: 0.8866\n",
      "Epoch 2/5\n",
      "1000/1000 [==============================] - 29s 29ms/step - loss: 0.2860 - accuracy: 0.8888 - val_loss: 0.2630 - val_accuracy: 0.8936\n",
      "Epoch 3/5\n",
      "1000/1000 [==============================] - 30s 30ms/step - loss: 0.2301 - accuracy: 0.9150 - val_loss: 0.2622 - val_accuracy: 0.9026\n",
      "Epoch 4/5\n",
      "1000/1000 [==============================] - 29s 29ms/step - loss: 0.1939 - accuracy: 0.9289 - val_loss: 0.2519 - val_accuracy: 0.9009\n",
      "Epoch 5/5\n",
      "1000/1000 [==============================] - 29s 29ms/step - loss: 0.1752 - accuracy: 0.9385 - val_loss: 0.2657 - val_accuracy: 0.9047\n"
     ]
    }
   ],
   "source": [
    "history = model.fit(X_train,\n",
    "                    y_train,\n",
    "                    epochs=5,\n",
    "                    validation_data=(X_valid, y_valid),\n",
    "                    callbacks=[early_stopping])"
   ]
  },
  {
   "cell_type": "code",
   "execution_count": 25,
   "metadata": {},
   "outputs": [
    {
     "data": {
      "image/png": "[encoded data removed]",
      "text/plain": [
       "<Figure size 432x288 with 1 Axes>"
      ]
     },
     "metadata": {
      "needs_background": "light"
     },
     "output_type": "display_data"
    }
   ],
   "source": [
    "import matplotlib.pyplot as plt\n",
    "import pandas as pd\n",
    "pd.DataFrame(history.history)[['loss', 'val_loss']].plot()\n",
    "plt.grid(True)"
   ]
  },
  {
   "cell_type": "code",
   "execution_count": 26,
   "metadata": {},
   "outputs": [
    {
     "data": {
      "image/png": "[encoded data removed]",
      "text/plain": [
       "<Figure size 432x288 with 1 Axes>"
      ]
     },
     "metadata": {
      "needs_background": "light"
     },
     "output_type": "display_data"
    }
   ],
   "source": [
    "pd.DataFrame(history.history)[['accuracy', 'val_accuracy']].plot()\n",
    "plt.grid(True)"
   ]
  },
  {
   "cell_type": "code",
   "execution_count": 27,
   "metadata": {},
   "outputs": [
    {
     "name": "stdout",
     "output_type": "stream",
     "text": [
      "313/313 [==============================] - 4s 11ms/step - loss: 0.2543 - accuracy: 0.9098\n"
     ]
    },
    {
     "data": {
      "text/plain": [
       "[0.25433316826820374, 0.9097999930381775]"
      ]
     },
     "execution_count": 27,
     "metadata": {},
     "output_type": "execute_result"
    }
   ],
   "source": [
    "model.evaluate(X_test, y_test)"
   ]
  },
  {
   "cell_type": "markdown",
   "metadata": {},
   "source": [
    "**Zkusíme model ještě rozšířit**"
   ]
  },
  {
   "cell_type": "code",
   "execution_count": 29,
   "metadata": {},
   "outputs": [],
   "source": [
    "model = keras.models.Sequential([\n",
    "    layers.Embedding(num_words, 128, input_length=maxlen, mask_zero=True),\n",
    "    layers.LSTM(128, return_sequences=True),\n",
    "    layers.LSTM(128),\n",
    "    layers.Dense(128, activation='relu'),\n",
    "    layers.Dropout(0.5),\n",
    "    layers.Dense(1, activation='sigmoid'),  \n",
    "])"
   ]
  },
  {
   "cell_type": "code",
   "execution_count": 30,
   "metadata": {},
   "outputs": [],
   "source": [
    "model.compile(optimizer='rmsprop',\n",
    "              loss='binary_crossentropy',\n",
    "              metrics=['accuracy'])"
   ]
  },
  {
   "cell_type": "code",
   "execution_count": 31,
   "metadata": {},
   "outputs": [
    {
     "name": "stdout",
     "output_type": "stream",
     "text": [
      "Epoch 1/10\n",
      "1000/1000 [==============================] - 56s 51ms/step - loss: 0.5869 - accuracy: 0.6750 - val_loss: 0.3269 - val_accuracy: 0.8767\n",
      "Epoch 2/10\n",
      "1000/1000 [==============================] - 49s 49ms/step - loss: 0.2934 - accuracy: 0.8863 - val_loss: 0.3979 - val_accuracy: 0.8556\n",
      "Epoch 3/10\n",
      "1000/1000 [==============================] - 49s 49ms/step - loss: 0.2453 - accuracy: 0.9088 - val_loss: 0.2635 - val_accuracy: 0.8986\n",
      "Epoch 4/10\n",
      "1000/1000 [==============================] - 48s 48ms/step - loss: 0.2072 - accuracy: 0.9262 - val_loss: 0.2831 - val_accuracy: 0.8994\n",
      "Epoch 5/10\n",
      "1000/1000 [==============================] - 49s 49ms/step - loss: 0.2114 - accuracy: 0.9208 - val_loss: 0.2524 - val_accuracy: 0.9035\n",
      "Epoch 6/10\n",
      "1000/1000 [==============================] - 50s 50ms/step - loss: 0.1591 - accuracy: 0.9450 - val_loss: 0.2885 - val_accuracy: 0.9020\n",
      "Epoch 7/10\n",
      "1000/1000 [==============================] - 51s 51ms/step - loss: 0.1429 - accuracy: 0.9516 - val_loss: 0.2949 - val_accuracy: 0.8995\n",
      "Epoch 8/10\n",
      "1000/1000 [==============================] - 50s 50ms/step - loss: 0.1216 - accuracy: 0.9611 - val_loss: 0.2899 - val_accuracy: 0.8986\n",
      "Epoch 9/10\n",
      "1000/1000 [==============================] - 49s 49ms/step - loss: 0.1016 - accuracy: 0.9663 - val_loss: 0.2901 - val_accuracy: 0.8926\n",
      "Epoch 10/10\n",
      "1000/1000 [==============================] - 49s 49ms/step - loss: 0.0885 - accuracy: 0.9731 - val_loss: 0.3416 - val_accuracy: 0.8880\n"
     ]
    }
   ],
   "source": [
    "history = model.fit(X_train,\n",
    "                    y_train,\n",
    "                    epochs=10,\n",
    "                    validation_data=(X_valid, y_valid),\n",
    "                    callbacks=[early_stopping])"
   ]
  },
  {
   "cell_type": "code",
   "execution_count": 32,
   "metadata": {
    "scrolled": true
   },
   "outputs": [
    {
     "data": {
      "image/png": "[encoded data removed]",
      "text/plain": [
       "<Figure size 432x288 with 1 Axes>"
      ]
     },
     "metadata": {
      "needs_background": "light"
     },
     "output_type": "display_data"
    }
   ],
   "source": [
    "pd.DataFrame(history.history)[['loss', 'val_loss']].plot()\n",
    "plt.grid(True)"
   ]
  },
  {
   "cell_type": "code",
   "execution_count": 33,
   "metadata": {},
   "outputs": [
    {
     "data": {
      "image/png": "[encoded data removed]",
      "text/plain": [
       "<Figure size 432x288 with 1 Axes>"
      ]
     },
     "metadata": {
      "needs_background": "light"
     },
     "output_type": "display_data"
    }
   ],
   "source": [
    "pd.DataFrame(history.history)[['accuracy', 'val_accuracy']].plot()\n",
    "plt.grid(True)"
   ]
  },
  {
   "cell_type": "code",
   "execution_count": 34,
   "metadata": {},
   "outputs": [
    {
     "name": "stdout",
     "output_type": "stream",
     "text": [
      "313/313 [==============================] - 8s 18ms/step - loss: 0.2417 - accuracy: 0.9042\n"
     ]
    },
    {
     "data": {
      "text/plain": [
       "[0.24173666536808014, 0.90420001745224]"
      ]
     },
     "execution_count": 34,
     "metadata": {},
     "output_type": "execute_result"
    }
   ],
   "source": [
    "model.evaluate(X_test, y_test)"
   ]
  },
  {
   "cell_type": "markdown",
   "metadata": {},
   "source": [
    "Vyzkoušíme další úpravy modelu"
   ]
  },
  {
   "cell_type": "code",
   "execution_count": 54,
   "metadata": {},
   "outputs": [],
   "source": [
    "model = keras.models.Sequential([\n",
    "    layers.Embedding(num_words, 128, input_length=maxlen, mask_zero=True),\n",
    "    layers.LSTM(128, return_sequences=True),\n",
    "    layers.LSTM(128, return_sequences=True),\n",
    "    layers.Dense(128, activation='relu'),\n",
    "    layers.Dropout(0.5),\n",
    "    layers.Flatten(),\n",
    "    layers.Dense(1, activation='sigmoid'),  \n",
    "])"
   ]
  },
  {
   "cell_type": "code",
   "execution_count": 55,
   "metadata": {},
   "outputs": [
    {
     "name": "stdout",
     "output_type": "stream",
     "text": [
      "Model: \"sequential_11\"\n",
      "_________________________________________________________________\n",
      "Layer (type)                 Output Shape              Param #   \n",
      "=================================================================\n",
      "embedding_11 (Embedding)     (None, 500, 128)          1280000   \n",
      "_________________________________________________________________\n",
      "lstm_20 (LSTM)               (None, 500, 128)          131584    \n",
      "_________________________________________________________________\n",
      "lstm_21 (LSTM)               (None, 500, 128)          131584    \n",
      "_________________________________________________________________\n",
      "dense_20 (Dense)             (None, 500, 128)          16512     \n",
      "_________________________________________________________________\n",
      "dropout_13 (Dropout)         (None, 500, 128)          0         \n",
      "_________________________________________________________________\n",
      "flatten (Flatten)            (None, 64000)             0         \n",
      "_________________________________________________________________\n",
      "dense_21 (Dense)             (None, 1)                 64001     \n",
      "=================================================================\n",
      "Total params: 1,623,681\n",
      "Trainable params: 1,623,681\n",
      "Non-trainable params: 0\n",
      "_________________________________________________________________\n"
     ]
    }
   ],
   "source": [
    "model.summary()"
   ]
  },
  {
   "cell_type": "code",
   "execution_count": 56,
   "metadata": {},
   "outputs": [],
   "source": [
    "model.compile(optimizer='rmsprop',\n",
    "              loss='binary_crossentropy',\n",
    "              metrics=['accuracy'])"
   ]
  },
  {
   "cell_type": "code",
   "execution_count": 57,
   "metadata": {},
   "outputs": [
    {
     "name": "stdout",
     "output_type": "stream",
     "text": [
      "Epoch 1/10\n",
      "1000/1000 [==============================] - 58s 53ms/step - loss: 0.4832 - accuracy: 0.7699 - val_loss: 0.2600 - val_accuracy: 0.8969\n",
      "Epoch 2/10\n",
      "1000/1000 [==============================] - 51s 51ms/step - loss: 0.2311 - accuracy: 0.9112 - val_loss: 0.2413 - val_accuracy: 0.9032\n",
      "Epoch 3/10\n",
      "1000/1000 [==============================] - 52s 52ms/step - loss: 0.1935 - accuracy: 0.9270 - val_loss: 0.2499 - val_accuracy: 0.9040\n",
      "Epoch 4/10\n",
      "1000/1000 [==============================] - 51s 51ms/step - loss: 0.1586 - accuracy: 0.9437 - val_loss: 0.2623 - val_accuracy: 0.9045\n",
      "Epoch 5/10\n",
      "1000/1000 [==============================] - 51s 51ms/step - loss: 0.1272 - accuracy: 0.9549 - val_loss: 0.3049 - val_accuracy: 0.9019\n",
      "Epoch 6/10\n",
      "1000/1000 [==============================] - 51s 51ms/step - loss: 0.0945 - accuracy: 0.9685 - val_loss: 0.2890 - val_accuracy: 0.9021\n",
      "Epoch 7/10\n",
      "1000/1000 [==============================] - 51s 51ms/step - loss: 0.0729 - accuracy: 0.9768 - val_loss: 0.3217 - val_accuracy: 0.8936\n"
     ]
    }
   ],
   "source": [
    "history = model.fit(X_train,\n",
    "                    y_train,\n",
    "                    epochs=10,\n",
    "                    validation_data=(X_valid, y_valid),\n",
    "                    callbacks=[early_stopping])"
   ]
  },
  {
   "cell_type": "code",
   "execution_count": 59,
   "metadata": {},
   "outputs": [
    {
     "data": {
      "image/png": "[encoded data removed]",
      "text/plain": [
       "<Figure size 432x288 with 1 Axes>"
      ]
     },
     "metadata": {
      "needs_background": "light"
     },
     "output_type": "display_data"
    }
   ],
   "source": [
    "pd.DataFrame(history.history)[['loss', 'val_loss']].plot()\n",
    "plt.grid(True)"
   ]
  },
  {
   "cell_type": "code",
   "execution_count": 60,
   "metadata": {},
   "outputs": [
    {
     "data": {
      "image/png": "[encoded data removed]",
      "text/plain": [
       "<Figure size 432x288 with 1 Axes>"
      ]
     },
     "metadata": {
      "needs_background": "light"
     },
     "output_type": "display_data"
    }
   ],
   "source": [
    "pd.DataFrame(history.history)[['accuracy', 'val_accuracy']].plot()\n",
    "plt.grid(True)"
   ]
  },
  {
   "cell_type": "code",
   "execution_count": 61,
   "metadata": {},
   "outputs": [
    {
     "name": "stdout",
     "output_type": "stream",
     "text": [
      "313/313 [==============================] - 9s 19ms/step - loss: 0.2376 - accuracy: 0.9064\n"
     ]
    },
    {
     "data": {
      "text/plain": [
       "[0.23759961128234863, 0.9064000248908997]"
      ]
     },
     "execution_count": 61,
     "metadata": {},
     "output_type": "execute_result"
    }
   ],
   "source": [
    "model.evaluate(X_test, y_test)"
   ]
  },
  {
   "cell_type": "markdown",
   "metadata": {},
   "source": [
    "### GRU"
   ]
  },
  {
   "cell_type": "code",
   "execution_count": 62,
   "metadata": {},
   "outputs": [],
   "source": [
    "model = keras.models.Sequential([\n",
    "    layers.Embedding(num_words, 128, input_length=maxlen, mask_zero=True),\n",
    "    layers.GRU(128, return_sequences=True),\n",
    "    layers.GRU(128),\n",
    "    layers.Dense(1, activation=\"sigmoid\"),\n",
    "])"
   ]
  },
  {
   "cell_type": "code",
   "execution_count": 63,
   "metadata": {},
   "outputs": [],
   "source": [
    "model.compile(optimizer='rmsprop',\n",
    "              loss='binary_crossentropy',\n",
    "              metrics=['accuracy'])"
   ]
  },
  {
   "cell_type": "code",
   "execution_count": 64,
   "metadata": {},
   "outputs": [
    {
     "name": "stdout",
     "output_type": "stream",
     "text": [
      "Epoch 1/10\n",
      "1000/1000 [==============================] - 52s 47ms/step - loss: 0.4898 - accuracy: 0.7543 - val_loss: 0.3413 - val_accuracy: 0.8521\n",
      "Epoch 2/10\n",
      "1000/1000 [==============================] - 46s 46ms/step - loss: 0.2445 - accuracy: 0.9036 - val_loss: 0.2287 - val_accuracy: 0.9093\n",
      "Epoch 3/10\n",
      "1000/1000 [==============================] - 45s 45ms/step - loss: 0.1867 - accuracy: 0.9289 - val_loss: 0.2372 - val_accuracy: 0.9086\n",
      "Epoch 4/10\n",
      "1000/1000 [==============================] - 45s 45ms/step - loss: 0.1472 - accuracy: 0.9481 - val_loss: 0.2291 - val_accuracy: 0.9126\n",
      "Epoch 5/10\n",
      "1000/1000 [==============================] - 45s 45ms/step - loss: 0.1210 - accuracy: 0.9571 - val_loss: 0.2363 - val_accuracy: 0.9068\n",
      "Epoch 6/10\n",
      "1000/1000 [==============================] - 45s 45ms/step - loss: 0.1010 - accuracy: 0.9660 - val_loss: 0.2870 - val_accuracy: 0.9050\n",
      "Epoch 7/10\n",
      "1000/1000 [==============================] - 45s 45ms/step - loss: 0.0808 - accuracy: 0.9723 - val_loss: 0.3569 - val_accuracy: 0.8791\n"
     ]
    }
   ],
   "source": [
    "history = model.fit(X_train,\n",
    "                    y_train,\n",
    "                    epochs=10,\n",
    "                    validation_data=(X_valid, y_valid),\n",
    "                    callbacks=[early_stopping])"
   ]
  },
  {
   "cell_type": "code",
   "execution_count": 68,
   "metadata": {},
   "outputs": [
    {
     "data": {
      "image/png": "[encoded data removed]",
      "text/plain": [
       "<Figure size 432x288 with 1 Axes>"
      ]
     },
     "metadata": {
      "needs_background": "light"
     },
     "output_type": "display_data"
    }
   ],
   "source": [
    "pd.DataFrame(history.history)[['loss', 'val_loss']].plot()\n",
    "plt.grid(True)"
   ]
  },
  {
   "cell_type": "code",
   "execution_count": 69,
   "metadata": {},
   "outputs": [
    {
     "data": {
      "image/png": "[encoded data removed]",
      "text/plain": [
       "<Figure size 432x288 with 1 Axes>"
      ]
     },
     "metadata": {
      "needs_background": "light"
     },
     "output_type": "display_data"
    }
   ],
   "source": [
    "pd.DataFrame(history.history)[['accuracy', 'val_accuracy']].plot()\n",
    "plt.grid(True)"
   ]
  },
  {
   "cell_type": "code",
   "execution_count": 70,
   "metadata": {},
   "outputs": [
    {
     "name": "stdout",
     "output_type": "stream",
     "text": [
      "313/313 [==============================] - 5s 17ms/step - loss: 0.2200 - accuracy: 0.9127 1s - loss: 0.2167 - accura\n"
     ]
    },
    {
     "data": {
      "text/plain": [
       "[0.2199741005897522, 0.9126999974250793]"
      ]
     },
     "execution_count": 70,
     "metadata": {},
     "output_type": "execute_result"
    }
   ],
   "source": [
    "model.evaluate(X_test, y_test)"
   ]
  },
  {
   "cell_type": "markdown",
   "metadata": {},
   "source": [
    "Rekurentní neuronové sítě jsou vhodné zejména na analýzu globální, dlouhodobé struktury dat. To není zase natolik užitečné v případě analýzy sentimentu, kde i přístup založený na BoW s dense vrstvami dokáže fungovat velmi dobře a za mnohem menších výpočetních nároků. Výhoda LSTM a GRU se ukáže zejména v případě složitějších úloh jako je např. strojový překlad nebo analýzy časových řad."
   ]
  },
  {
   "cell_type": "markdown",
   "metadata": {},
   "source": [
    "**Ještě vyzkoušíme pár modelů**"
   ]
  },
  {
   "cell_type": "markdown",
   "metadata": {},
   "source": [
    "Obousměrné RNN - viz prezentace."
   ]
  },
  {
   "cell_type": "code",
   "execution_count": 75,
   "metadata": {},
   "outputs": [],
   "source": [
    "model = keras.models.Sequential([\n",
    "    layers.Embedding(num_words, 128, input_length=maxlen, mask_zero=True),\n",
    "    layers.Bidirectional(layers.GRU(128, return_sequences=True)),\n",
    "    layers.GlobalMaxPooling1D(),\n",
    "    layers.Dense(20, activation=\"relu\"),\n",
    "    layers.Dropout(0.5),\n",
    "    layers.Dense(1, activation=\"sigmoid\"),\n",
    "])"
   ]
  },
  {
   "cell_type": "code",
   "execution_count": 76,
   "metadata": {},
   "outputs": [],
   "source": [
    "model.compile(optimizer='rmsprop',\n",
    "              loss='binary_crossentropy',\n",
    "              metrics=['accuracy'])"
   ]
  },
  {
   "cell_type": "code",
   "execution_count": 77,
   "metadata": {
    "scrolled": true
   },
   "outputs": [
    {
     "name": "stdout",
     "output_type": "stream",
     "text": [
      "Epoch 1/10\n",
      "1000/1000 [==============================] - 57s 52ms/step - loss: 0.5125 - accuracy: 0.7404 - val_loss: 0.3143 - val_accuracy: 0.8749\n",
      "Epoch 2/10\n",
      "1000/1000 [==============================] - 51s 51ms/step - loss: 0.2639 - accuracy: 0.9050 - val_loss: 0.2491 - val_accuracy: 0.9010\n",
      "Epoch 3/10\n",
      "1000/1000 [==============================] - 51s 51ms/step - loss: 0.2005 - accuracy: 0.9324 - val_loss: 0.2383 - val_accuracy: 0.9028\n",
      "Epoch 4/10\n",
      "1000/1000 [==============================] - 50s 50ms/step - loss: 0.1719 - accuracy: 0.9466 - val_loss: 0.2283 - val_accuracy: 0.9134\n",
      "Epoch 5/10\n",
      "1000/1000 [==============================] - 51s 51ms/step - loss: 0.1388 - accuracy: 0.9572 - val_loss: 0.2371 - val_accuracy: 0.9096\n",
      "Epoch 6/10\n",
      "1000/1000 [==============================] - 51s 51ms/step - loss: 0.1165 - accuracy: 0.9658 - val_loss: 0.2957 - val_accuracy: 0.9041\n",
      "Epoch 7/10\n",
      "1000/1000 [==============================] - 51s 51ms/step - loss: 0.0889 - accuracy: 0.9750 - val_loss: 0.3489 - val_accuracy: 0.9062\n",
      "Epoch 8/10\n",
      "1000/1000 [==============================] - 51s 51ms/step - loss: 0.0686 - accuracy: 0.9801 - val_loss: 0.3683 - val_accuracy: 0.9094\n",
      "Epoch 9/10\n",
      "1000/1000 [==============================] - 52s 52ms/step - loss: 0.0567 - accuracy: 0.9847 - val_loss: 0.3651 - val_accuracy: 0.9049\n"
     ]
    }
   ],
   "source": [
    "history = model.fit(X_train,\n",
    "                    y_train,\n",
    "                    epochs=10,\n",
    "                    validation_data=(X_valid, y_valid),\n",
    "                    callbacks=[early_stopping])"
   ]
  },
  {
   "cell_type": "code",
   "execution_count": 78,
   "metadata": {},
   "outputs": [
    {
     "name": "stdout",
     "output_type": "stream",
     "text": [
      "313/313 [==============================] - 9s 18ms/step - loss: 0.2324 - accuracy: 0.9052\n"
     ]
    },
    {
     "data": {
      "text/plain": [
       "[0.23240844905376434, 0.9052000045776367]"
      ]
     },
     "execution_count": 78,
     "metadata": {},
     "output_type": "execute_result"
    }
   ],
   "source": [
    "model.evaluate(X_test, y_test)"
   ]
  },
  {
   "cell_type": "markdown",
   "metadata": {},
   "source": [
    "**A poslední model**"
   ]
  },
  {
   "cell_type": "code",
   "execution_count": 79,
   "metadata": {},
   "outputs": [],
   "source": [
    "model = keras.models.Sequential([\n",
    "    layers.Embedding(num_words, 128, input_length=maxlen, mask_zero=True),\n",
    "    layers.Bidirectional(layers.LSTM(32, return_sequences=True)),\n",
    "    layers.GlobalMaxPooling1D(),\n",
    "    layers.Dense(20, activation=\"relu\"),\n",
    "    layers.Dropout(0.05),\n",
    "    layers.Dense(1, activation=\"sigmoid\"),\n",
    "])"
   ]
  },
  {
   "cell_type": "code",
   "execution_count": 80,
   "metadata": {},
   "outputs": [],
   "source": [
    "model.compile(optimizer='rmsprop',\n",
    "              loss='binary_crossentropy',\n",
    "              metrics=['accuracy'])"
   ]
  },
  {
   "cell_type": "code",
   "execution_count": 81,
   "metadata": {},
   "outputs": [
    {
     "name": "stdout",
     "output_type": "stream",
     "text": [
      "Epoch 1/10\n",
      "1000/1000 [==============================] - 48s 43ms/step - loss: 0.4584 - accuracy: 0.7738 - val_loss: 0.2511 - val_accuracy: 0.8976\n",
      "Epoch 2/10\n",
      "1000/1000 [==============================] - 41s 41ms/step - loss: 0.2233 - accuracy: 0.9153 - val_loss: 0.2398 - val_accuracy: 0.9032\n",
      "Epoch 3/10\n",
      "1000/1000 [==============================] - 41s 41ms/step - loss: 0.1747 - accuracy: 0.9325 - val_loss: 0.2330 - val_accuracy: 0.9055\n",
      "Epoch 4/10\n",
      "1000/1000 [==============================] - 41s 41ms/step - loss: 0.1423 - accuracy: 0.9505 - val_loss: 0.2326 - val_accuracy: 0.9101\n",
      "Epoch 5/10\n",
      "1000/1000 [==============================] - 41s 41ms/step - loss: 0.1128 - accuracy: 0.9614 - val_loss: 0.2438 - val_accuracy: 0.9057\n",
      "Epoch 6/10\n",
      "1000/1000 [==============================] - 41s 41ms/step - loss: 0.0901 - accuracy: 0.9696 - val_loss: 0.2990 - val_accuracy: 0.8941\n",
      "Epoch 7/10\n",
      "1000/1000 [==============================] - 41s 41ms/step - loss: 0.0636 - accuracy: 0.9795 - val_loss: 0.3401 - val_accuracy: 0.8879\n",
      "Epoch 8/10\n",
      "1000/1000 [==============================] - 41s 41ms/step - loss: 0.0470 - accuracy: 0.9856 - val_loss: 0.3232 - val_accuracy: 0.9026\n",
      "Epoch 9/10\n",
      "1000/1000 [==============================] - 41s 41ms/step - loss: 0.0305 - accuracy: 0.9908 - val_loss: 0.3294 - val_accuracy: 0.8997\n"
     ]
    }
   ],
   "source": [
    "history = model.fit(X_train,\n",
    "                    y_train,\n",
    "                    epochs=10,\n",
    "                    validation_data=(X_valid, y_valid),\n",
    "                    callbacks=[early_stopping])"
   ]
  },
  {
   "cell_type": "code",
   "execution_count": 82,
   "metadata": {},
   "outputs": [
    {
     "name": "stdout",
     "output_type": "stream",
     "text": [
      "313/313 [==============================] - 8s 16ms/step - loss: 0.2350 - accuracy: 0.9072\n"
     ]
    },
    {
     "data": {
      "text/plain": [
       "[0.23500871658325195, 0.9071999788284302]"
      ]
     },
     "execution_count": 82,
     "metadata": {},
     "output_type": "execute_result"
    }
   ],
   "source": [
    "model.evaluate(X_test, y_test)"
   ]
  },
  {
   "cell_type": "markdown",
   "metadata": {},
   "source": [
    "**Ještě zkusíme lépe předzpracovat data**"
   ]
  },
  {
   "cell_type": "markdown",
   "metadata": {},
   "source": [
    "pip install nltk"
   ]
  },
  {
   "cell_type": "code",
   "execution_count": 88,
   "metadata": {},
   "outputs": [
    {
     "name": "stderr",
     "output_type": "stream",
     "text": [
      "[nltk_data] Downloading package stopwords to\n",
      "[nltk_data]     C:\\Users\\Admin\\AppData\\Roaming\\nltk_data...\n",
      "[nltk_data]   Package stopwords is already up-to-date!\n",
      "[nltk_data] Downloading package wordnet to\n",
      "[nltk_data]     C:\\Users\\Admin\\AppData\\Roaming\\nltk_data...\n",
      "[nltk_data]   Unzipping corpora\\wordnet.zip.\n"
     ]
    },
    {
     "data": {
      "text/plain": [
       "True"
      ]
     },
     "execution_count": 88,
     "metadata": {},
     "output_type": "execute_result"
    }
   ],
   "source": [
    "import nltk\n",
    "nltk.download('stopwords')\n",
    "nltk.download('wordnet')"
   ]
  },
  {
   "cell_type": "code",
   "execution_count": 10,
   "metadata": {},
   "outputs": [],
   "source": [
    "import re\n",
    "from nltk.stem import WordNetLemmatizer\n",
    "from nltk.corpus import stopwords\n",
    "\n",
    "stop_words = set(stopwords.words(\"english\")) \n",
    "lemmatizer = WordNetLemmatizer()\n",
    "\n",
    "\n",
    "def clean_text(text):\n",
    "    text = re.sub(r'[^\\w\\s]','',text, re.UNICODE)\n",
    "    text = text.lower()\n",
    "    text = [lemmatizer.lemmatize(token) for token in text.split(\" \")]\n",
    "    text = [lemmatizer.lemmatize(token, \"v\") for token in text]\n",
    "    text = [word for word in text if not word in stop_words]\n",
    "    text = \" \".join(text)\n",
    "    return text"
   ]
  },
  {
   "cell_type": "code",
   "execution_count": 11,
   "metadata": {},
   "outputs": [
    {
     "name": "stderr",
     "output_type": "stream",
     "text": [
      "<ipython-input-11-ce808204f63d>:1: SettingWithCopyWarning: \n",
      "A value is trying to be set on a copy of a slice from a DataFrame.\n",
      "Try using .loc[row_indexer,col_indexer] = value instead\n",
      "\n",
      "See the caveats in the documentation: https://pandas.pydata.org/pandas-docs/stable/user_guide/indexing.html#returning-a-view-versus-a-copy\n",
      "  train['processed'] = train['text'].apply(lambda x: clean_text(x))\n",
      "<ipython-input-11-ce808204f63d>:2: SettingWithCopyWarning: \n",
      "A value is trying to be set on a copy of a slice from a DataFrame.\n",
      "Try using .loc[row_indexer,col_indexer] = value instead\n",
      "\n",
      "See the caveats in the documentation: https://pandas.pydata.org/pandas-docs/stable/user_guide/indexing.html#returning-a-view-versus-a-copy\n",
      "  valid['processed'] = valid['text'].apply(lambda x: clean_text(x))\n",
      "<ipython-input-11-ce808204f63d>:3: SettingWithCopyWarning: \n",
      "A value is trying to be set on a copy of a slice from a DataFrame.\n",
      "Try using .loc[row_indexer,col_indexer] = value instead\n",
      "\n",
      "See the caveats in the documentation: https://pandas.pydata.org/pandas-docs/stable/user_guide/indexing.html#returning-a-view-versus-a-copy\n",
      "  test['processed'] = test['text'].apply(lambda x: clean_text(x))\n"
     ]
    }
   ],
   "source": [
    "train['processed'] = train['text'].apply(lambda x: clean_text(x))\n",
    "valid['processed'] = valid['text'].apply(lambda x: clean_text(x))\n",
    "test['processed'] = test['text'].apply(lambda x: clean_text(x))"
   ]
  },
  {
   "cell_type": "code",
   "execution_count": 13,
   "metadata": {},
   "outputs": [
    {
     "data": {
      "text/html": [
       "<div>\n",
       "<style scoped>\n",
       "    .dataframe tbody tr th:only-of-type {\n",
       "        vertical-align: middle;\n",
       "    }\n",
       "\n",
       "    .dataframe tbody tr th {\n",
       "        vertical-align: top;\n",
       "    }\n",
       "\n",
       "    .dataframe thead th {\n",
       "        text-align: right;\n",
       "    }\n",
       "</style>\n",
       "<table border=\"1\" class=\"dataframe\">\n",
       "  <thead>\n",
       "    <tr style=\"text-align: right;\">\n",
       "      <th></th>\n",
       "      <th>text</th>\n",
       "      <th>sentiment</th>\n",
       "      <th>label</th>\n",
       "      <th>processed</th>\n",
       "    </tr>\n",
       "  </thead>\n",
       "  <tbody>\n",
       "    <tr>\n",
       "      <th>11794</th>\n",
       "      <td>With no fault to the actors (they all put on g...</td>\n",
       "      <td>negative</td>\n",
       "      <td>0</td>\n",
       "      <td>fault actor put great performance overall stor...</td>\n",
       "    </tr>\n",
       "    <tr>\n",
       "      <th>24925</th>\n",
       "      <td>The first thing I thought when I saw this film...</td>\n",
       "      <td>positive</td>\n",
       "      <td>1</td>\n",
       "      <td>first thing think saw film wa really film leas...</td>\n",
       "    </tr>\n",
       "    <tr>\n",
       "      <th>28578</th>\n",
       "      <td>Post-feminist depiction of cruelty and sadism....</td>\n",
       "      <td>positive</td>\n",
       "      <td>1</td>\n",
       "      <td>postfeminist depiction cruelty sadismbr br spo...</td>\n",
       "    </tr>\n",
       "    <tr>\n",
       "      <th>13987</th>\n",
       "      <td>OMG this is one of the worst films iv ever see...</td>\n",
       "      <td>negative</td>\n",
       "      <td>0</td>\n",
       "      <td>omg one worst film iv ever see iv see lot im f...</td>\n",
       "    </tr>\n",
       "    <tr>\n",
       "      <th>7693</th>\n",
       "      <td>The Box is a film with great potential, but th...</td>\n",
       "      <td>negative</td>\n",
       "      <td>0</td>\n",
       "      <td>box film great potential maker totally misuse ...</td>\n",
       "    </tr>\n",
       "  </tbody>\n",
       "</table>\n",
       "</div>"
      ],
      "text/plain": [
       "                                                    text sentiment  label  \\\n",
       "11794  With no fault to the actors (they all put on g...  negative      0   \n",
       "24925  The first thing I thought when I saw this film...  positive      1   \n",
       "28578  Post-feminist depiction of cruelty and sadism....  positive      1   \n",
       "13987  OMG this is one of the worst films iv ever see...  negative      0   \n",
       "7693   The Box is a film with great potential, but th...  negative      0   \n",
       "\n",
       "                                               processed  \n",
       "11794  fault actor put great performance overall stor...  \n",
       "24925  first thing think saw film wa really film leas...  \n",
       "28578  postfeminist depiction cruelty sadismbr br spo...  \n",
       "13987  omg one worst film iv ever see iv see lot im f...  \n",
       "7693   box film great potential maker totally misuse ...  "
      ]
     },
     "execution_count": 13,
     "metadata": {},
     "output_type": "execute_result"
    }
   ],
   "source": [
    "train.head()"
   ]
  },
  {
   "cell_type": "code",
   "execution_count": 14,
   "metadata": {},
   "outputs": [],
   "source": [
    "num_words = 10000\n",
    "tokenizer = keras.preprocessing.text.Tokenizer(num_words)\n",
    "tokenizer.fit_on_texts(train[\"processed\"])"
   ]
  },
  {
   "cell_type": "code",
   "execution_count": 15,
   "metadata": {},
   "outputs": [],
   "source": [
    "X_train_prepr = tokenizer.texts_to_sequences(train[\"processed\"])\n",
    "X_valid_prepr = tokenizer.texts_to_sequences(valid[\"processed\"])\n",
    "X_test_prepr = tokenizer.texts_to_sequences(test[\"processed\"])"
   ]
  },
  {
   "cell_type": "code",
   "execution_count": 16,
   "metadata": {},
   "outputs": [],
   "source": [
    "maxlen = 500\n",
    "X_train_prepr = keras.preprocessing.sequence.pad_sequences(X_train_prepr, padding='post', truncating='post', maxlen=maxlen)\n",
    "X_valid_prepr = keras.preprocessing.sequence.pad_sequences(X_valid_prepr, padding='post', truncating='post', maxlen=maxlen)\n",
    "X_test_prepr = keras.preprocessing.sequence.pad_sequences(X_test_prepr, padding='post', truncating='post', maxlen=maxlen)"
   ]
  },
  {
   "cell_type": "code",
   "execution_count": 26,
   "metadata": {},
   "outputs": [],
   "source": [
    "model = keras.models.Sequential([\n",
    "    layers.Embedding(num_words, 128, input_length=maxlen, mask_zero=True),\n",
    "    layers.Bidirectional(layers.LSTM(32, return_sequences=True)),\n",
    "    layers.GlobalMaxPooling1D(),\n",
    "    layers.Dense(20, activation=\"relu\"),\n",
    "    layers.Dropout(0.5),\n",
    "    layers.Dense(1, activation=\"sigmoid\"),\n",
    "])"
   ]
  },
  {
   "cell_type": "code",
   "execution_count": 27,
   "metadata": {},
   "outputs": [],
   "source": [
    "model.compile(optimizer='adam',\n",
    "              loss='binary_crossentropy',\n",
    "              metrics=['accuracy'])"
   ]
  },
  {
   "cell_type": "code",
   "execution_count": 28,
   "metadata": {
    "scrolled": true
   },
   "outputs": [
    {
     "name": "stdout",
     "output_type": "stream",
     "text": [
      "Epoch 1/5\n",
      "1000/1000 [==============================] - 47s 42ms/step - loss: 0.4686 - accuracy: 0.7663 - val_loss: 0.2706 - val_accuracy: 0.8860\n",
      "Epoch 2/5\n",
      "1000/1000 [==============================] - 40s 40ms/step - loss: 0.2318 - accuracy: 0.9186 - val_loss: 0.2881 - val_accuracy: 0.8907\n",
      "Epoch 3/5\n",
      "1000/1000 [==============================] - 40s 40ms/step - loss: 0.1662 - accuracy: 0.9464 - val_loss: 0.3096 - val_accuracy: 0.8852\n",
      "Epoch 4/5\n",
      "1000/1000 [==============================] - 40s 40ms/step - loss: 0.1198 - accuracy: 0.9645 - val_loss: 0.3749 - val_accuracy: 0.8852\n",
      "Epoch 5/5\n",
      "1000/1000 [==============================] - 45s 45ms/step - loss: 0.0768 - accuracy: 0.9778 - val_loss: 0.3843 - val_accuracy: 0.8816\n"
     ]
    }
   ],
   "source": [
    "history = model.fit(X_train_prepr,\n",
    "                    y_train,\n",
    "                    epochs=5,\n",
    "                    validation_data=(X_valid_prepr, y_valid),\n",
    "                    callbacks=[early_stopping])"
   ]
  },
  {
   "cell_type": "code",
   "execution_count": 29,
   "metadata": {},
   "outputs": [
    {
     "name": "stdout",
     "output_type": "stream",
     "text": [
      "313/313 [==============================] - 7s 16ms/step - loss: 0.3887 - accuracy: 0.8747\n"
     ]
    },
    {
     "data": {
      "text/plain": [
       "[0.3886549472808838, 0.8747000098228455]"
      ]
     },
     "execution_count": 29,
     "metadata": {},
     "output_type": "execute_result"
    }
   ],
   "source": [
    "model.evaluate(X_test_prepr, y_test)"
   ]
  },
  {
   "cell_type": "markdown",
   "metadata": {},
   "source": [
    "Pokračování viz prezentace."
   ]
  }
 ],
 "metadata": {
  "kernelspec": {
   "display_name": "Python 3",
   "language": "python",
   "name": "python3"
  },
  "language_info": {
   "codemirror_mode": {
    "name": "ipython",
    "version": 3
   },
   "file_extension": ".py",
   "mimetype": "text/x-python",
   "name": "python",
   "nbconvert_exporter": "python",
   "pygments_lexer": "ipython3",
   "version": "3.8.7"
  }
 },
 "nbformat": 4,
 "nbformat_minor": 4
}
