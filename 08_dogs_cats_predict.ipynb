{
 "cells": [
  {
   "cell_type": "code",
   "execution_count": 1,
   "metadata": {},
   "outputs": [],
   "source": [
    "import tensorflow as tf\n",
    "from tensorflow import keras\n",
    "import numpy as np"
   ]
  },
  {
   "cell_type": "code",
   "execution_count": 2,
   "metadata": {},
   "outputs": [],
   "source": [
    "# Hack pro GPU na Windows\n",
    "for gpu in tf.config.experimental.list_physical_devices('GPU'):\n",
    "    tf.config.experimental.set_memory_growth(gpu, True)"
   ]
  },
  {
   "cell_type": "code",
   "execution_count": 3,
   "metadata": {},
   "outputs": [],
   "source": [
    "model_files = ['08_dogs_v1.keras', '08_dogs_v2.keras', '08_dogs_v3.keras',\n",
    "              '08_dogs_pretrained_v2_fix.keras', '08_dogs_pretrained_v3_fix.keras']"
   ]
  },
  {
   "cell_type": "code",
   "execution_count": 4,
   "metadata": {},
   "outputs": [],
   "source": [
    "models = []\n",
    "for file in model_files:\n",
    "    models.append(keras.models.load_model(file))"
   ]
  },
  {
   "cell_type": "code",
   "execution_count": 12,
   "metadata": {},
   "outputs": [],
   "source": [
    "img_path = 'datasets/08/images/dog.jpg'\n",
    "img = keras.preprocessing.image.load_img(img_path, target_size=(180,180))"
   ]
  },
  {
   "cell_type": "code",
   "execution_count": 13,
   "metadata": {},
   "outputs": [],
   "source": [
    "input_arr = keras.preprocessing.image.img_to_array(img)\n",
    "input_arr = np.array([input_arr])"
   ]
  },
  {
   "cell_type": "code",
   "execution_count": 14,
   "metadata": {},
   "outputs": [
    {
     "name": "stdout",
     "output_type": "stream",
     "text": [
      "08_dogs_v1.keras: 0.99\n",
      "08_dogs_v2.keras: 1.00\n",
      "08_dogs_v3.keras: 1.00\n",
      "08_dogs_pretrained_v2_fix.keras: 1.00\n",
      "08_dogs_pretrained_v3_fix.keras: 1.00\n"
     ]
    }
   ],
   "source": [
    "for model, name in zip(models, model_files):\n",
    "    print(\"%s: %.2f\" % (name, model.predict(input_arr)))"
   ]
  },
  {
   "cell_type": "code",
   "execution_count": null,
   "metadata": {},
   "outputs": [],
   "source": []
  }
 ],
 "metadata": {
  "kernelspec": {
   "display_name": "Python 3",
   "language": "python",
   "name": "python3"
  },
  "language_info": {
   "codemirror_mode": {
    "name": "ipython",
    "version": 3
   },
   "file_extension": ".py",
   "mimetype": "text/x-python",
   "name": "python",
   "nbconvert_exporter": "python",
   "pygments_lexer": "ipython3",
   "version": "3.8.7"
  }
 },
 "nbformat": 4,
 "nbformat_minor": 4
}
