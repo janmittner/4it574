{
 "cells": [
  {
   "cell_type": "markdown",
   "metadata": {},
   "source": [
    "# Lineární regrese"
   ]
  },
  {
   "cell_type": "markdown",
   "metadata": {},
   "source": [
    "### Import knihoven"
   ]
  },
  {
   "cell_type": "code",
   "execution_count": 2,
   "metadata": {},
   "outputs": [],
   "source": [
    "import numpy as np\n",
    "import pandas as pd\n",
    "import os"
   ]
  },
  {
   "cell_type": "markdown",
   "metadata": {},
   "source": [
    "### Načtení dat"
   ]
  },
  {
   "cell_type": "code",
   "execution_count": 3,
   "metadata": {},
   "outputs": [],
   "source": [
    "datapath = os.path.join(\"datasets\", \"01\")"
   ]
  },
  {
   "cell_type": "code",
   "execution_count": 4,
   "metadata": {},
   "outputs": [],
   "source": [
    "country_stats = pd.read_csv(os.path.join(datapath, \"gdp_satisfaction.csv\"))"
   ]
  },
  {
   "cell_type": "code",
   "execution_count": 5,
   "metadata": {},
   "outputs": [
    {
     "data": {
      "text/html": [
       "<div>\n",
       "<style scoped>\n",
       "    .dataframe tbody tr th:only-of-type {\n",
       "        vertical-align: middle;\n",
       "    }\n",
       "\n",
       "    .dataframe tbody tr th {\n",
       "        vertical-align: top;\n",
       "    }\n",
       "\n",
       "    .dataframe thead th {\n",
       "        text-align: right;\n",
       "    }\n",
       "</style>\n",
       "<table border=\"1\" class=\"dataframe\">\n",
       "  <thead>\n",
       "    <tr style=\"text-align: right;\">\n",
       "      <th></th>\n",
       "      <th>Country</th>\n",
       "      <th>GDP per capita 2015</th>\n",
       "      <th>Life satisfaction</th>\n",
       "    </tr>\n",
       "  </thead>\n",
       "  <tbody>\n",
       "    <tr>\n",
       "      <th>0</th>\n",
       "      <td>Russia</td>\n",
       "      <td>9054.914</td>\n",
       "      <td>6.0</td>\n",
       "    </tr>\n",
       "    <tr>\n",
       "      <th>1</th>\n",
       "      <td>Turkey</td>\n",
       "      <td>9437.372</td>\n",
       "      <td>5.6</td>\n",
       "    </tr>\n",
       "    <tr>\n",
       "      <th>2</th>\n",
       "      <td>Hungary</td>\n",
       "      <td>12239.894</td>\n",
       "      <td>4.9</td>\n",
       "    </tr>\n",
       "    <tr>\n",
       "      <th>3</th>\n",
       "      <td>Poland</td>\n",
       "      <td>12495.334</td>\n",
       "      <td>5.8</td>\n",
       "    </tr>\n",
       "    <tr>\n",
       "      <th>4</th>\n",
       "      <td>Slovak Republic</td>\n",
       "      <td>15991.736</td>\n",
       "      <td>6.1</td>\n",
       "    </tr>\n",
       "    <tr>\n",
       "      <th>5</th>\n",
       "      <td>Estonia</td>\n",
       "      <td>17288.083</td>\n",
       "      <td>5.6</td>\n",
       "    </tr>\n",
       "    <tr>\n",
       "      <th>6</th>\n",
       "      <td>Greece</td>\n",
       "      <td>18064.288</td>\n",
       "      <td>4.8</td>\n",
       "    </tr>\n",
       "    <tr>\n",
       "      <th>7</th>\n",
       "      <td>Portugal</td>\n",
       "      <td>19121.592</td>\n",
       "      <td>5.1</td>\n",
       "    </tr>\n",
       "    <tr>\n",
       "      <th>8</th>\n",
       "      <td>Slovenia</td>\n",
       "      <td>20732.482</td>\n",
       "      <td>5.7</td>\n",
       "    </tr>\n",
       "    <tr>\n",
       "      <th>9</th>\n",
       "      <td>Spain</td>\n",
       "      <td>25864.721</td>\n",
       "      <td>6.5</td>\n",
       "    </tr>\n",
       "    <tr>\n",
       "      <th>10</th>\n",
       "      <td>Korea</td>\n",
       "      <td>27195.197</td>\n",
       "      <td>5.8</td>\n",
       "    </tr>\n",
       "    <tr>\n",
       "      <th>11</th>\n",
       "      <td>Italy</td>\n",
       "      <td>29866.581</td>\n",
       "      <td>6.0</td>\n",
       "    </tr>\n",
       "    <tr>\n",
       "      <th>12</th>\n",
       "      <td>Japan</td>\n",
       "      <td>32485.545</td>\n",
       "      <td>5.9</td>\n",
       "    </tr>\n",
       "    <tr>\n",
       "      <th>13</th>\n",
       "      <td>Israel</td>\n",
       "      <td>35343.336</td>\n",
       "      <td>7.4</td>\n",
       "    </tr>\n",
       "    <tr>\n",
       "      <th>14</th>\n",
       "      <td>New Zealand</td>\n",
       "      <td>37044.891</td>\n",
       "      <td>7.3</td>\n",
       "    </tr>\n",
       "    <tr>\n",
       "      <th>15</th>\n",
       "      <td>France</td>\n",
       "      <td>37675.006</td>\n",
       "      <td>6.5</td>\n",
       "    </tr>\n",
       "    <tr>\n",
       "      <th>16</th>\n",
       "      <td>Belgium</td>\n",
       "      <td>40106.632</td>\n",
       "      <td>6.9</td>\n",
       "    </tr>\n",
       "    <tr>\n",
       "      <th>17</th>\n",
       "      <td>Germany</td>\n",
       "      <td>40996.511</td>\n",
       "      <td>7.0</td>\n",
       "    </tr>\n",
       "    <tr>\n",
       "      <th>18</th>\n",
       "      <td>Finland</td>\n",
       "      <td>41973.988</td>\n",
       "      <td>7.4</td>\n",
       "    </tr>\n",
       "    <tr>\n",
       "      <th>19</th>\n",
       "      <td>Canada</td>\n",
       "      <td>43331.961</td>\n",
       "      <td>7.3</td>\n",
       "    </tr>\n",
       "    <tr>\n",
       "      <th>20</th>\n",
       "      <td>Netherlands</td>\n",
       "      <td>43603.115</td>\n",
       "      <td>7.3</td>\n",
       "    </tr>\n",
       "    <tr>\n",
       "      <th>21</th>\n",
       "      <td>Austria</td>\n",
       "      <td>43724.031</td>\n",
       "      <td>6.9</td>\n",
       "    </tr>\n",
       "    <tr>\n",
       "      <th>22</th>\n",
       "      <td>United Kingdom</td>\n",
       "      <td>43770.688</td>\n",
       "      <td>6.8</td>\n",
       "    </tr>\n",
       "    <tr>\n",
       "      <th>23</th>\n",
       "      <td>Sweden</td>\n",
       "      <td>49866.266</td>\n",
       "      <td>7.2</td>\n",
       "    </tr>\n",
       "    <tr>\n",
       "      <th>24</th>\n",
       "      <td>Iceland</td>\n",
       "      <td>50854.583</td>\n",
       "      <td>7.5</td>\n",
       "    </tr>\n",
       "    <tr>\n",
       "      <th>25</th>\n",
       "      <td>Australia</td>\n",
       "      <td>50961.865</td>\n",
       "      <td>7.3</td>\n",
       "    </tr>\n",
       "    <tr>\n",
       "      <th>26</th>\n",
       "      <td>Ireland</td>\n",
       "      <td>51350.744</td>\n",
       "      <td>7.0</td>\n",
       "    </tr>\n",
       "    <tr>\n",
       "      <th>27</th>\n",
       "      <td>Denmark</td>\n",
       "      <td>52114.165</td>\n",
       "      <td>7.5</td>\n",
       "    </tr>\n",
       "    <tr>\n",
       "      <th>28</th>\n",
       "      <td>United States</td>\n",
       "      <td>55805.204</td>\n",
       "      <td>7.2</td>\n",
       "    </tr>\n",
       "  </tbody>\n",
       "</table>\n",
       "</div>"
      ],
      "text/plain": [
       "            Country  GDP per capita 2015  Life satisfaction\n",
       "0            Russia             9054.914                6.0\n",
       "1            Turkey             9437.372                5.6\n",
       "2           Hungary            12239.894                4.9\n",
       "3            Poland            12495.334                5.8\n",
       "4   Slovak Republic            15991.736                6.1\n",
       "5           Estonia            17288.083                5.6\n",
       "6            Greece            18064.288                4.8\n",
       "7          Portugal            19121.592                5.1\n",
       "8          Slovenia            20732.482                5.7\n",
       "9             Spain            25864.721                6.5\n",
       "10            Korea            27195.197                5.8\n",
       "11            Italy            29866.581                6.0\n",
       "12            Japan            32485.545                5.9\n",
       "13           Israel            35343.336                7.4\n",
       "14      New Zealand            37044.891                7.3\n",
       "15           France            37675.006                6.5\n",
       "16          Belgium            40106.632                6.9\n",
       "17          Germany            40996.511                7.0\n",
       "18          Finland            41973.988                7.4\n",
       "19           Canada            43331.961                7.3\n",
       "20      Netherlands            43603.115                7.3\n",
       "21          Austria            43724.031                6.9\n",
       "22   United Kingdom            43770.688                6.8\n",
       "23           Sweden            49866.266                7.2\n",
       "24          Iceland            50854.583                7.5\n",
       "25        Australia            50961.865                7.3\n",
       "26          Ireland            51350.744                7.0\n",
       "27          Denmark            52114.165                7.5\n",
       "28    United States            55805.204                7.2"
      ]
     },
     "execution_count": 5,
     "metadata": {},
     "output_type": "execute_result"
    }
   ],
   "source": [
    "country_stats"
   ]
  },
  {
   "cell_type": "markdown",
   "metadata": {},
   "source": [
    "### Vizualizace dat"
   ]
  },
  {
   "cell_type": "code",
   "execution_count": 6,
   "metadata": {},
   "outputs": [],
   "source": [
    "import matplotlib.pyplot as plt"
   ]
  },
  {
   "cell_type": "markdown",
   "metadata": {},
   "source": [
    "Jednoduše skrz Pandas DataFrame objekt"
   ]
  },
  {
   "cell_type": "code",
   "execution_count": 8,
   "metadata": {},
   "outputs": [
    {
     "data": {
      "text/plain": [
       "<AxesSubplot:xlabel='GDP per capita 2015', ylabel='Life satisfaction'>"
      ]
     },
     "execution_count": 8,
     "metadata": {},
     "output_type": "execute_result"
    },
    {
     "data": {
      "image/png": "[encoded data removed]",
      "text/plain": [
       "<Figure size 432x288 with 1 Axes>"
      ]
     },
     "metadata": {
      "needs_background": "light"
     },
     "output_type": "display_data"
    }
   ],
   "source": [
    "country_stats.plot(kind='scatter', x=\"GDP per capita 2015\", y='Life satisfaction')"
   ]
  },
  {
   "cell_type": "markdown",
   "metadata": {},
   "source": [
    "Nebo ručně skrz matplotlib"
   ]
  },
  {
   "cell_type": "code",
   "execution_count": 9,
   "metadata": {},
   "outputs": [],
   "source": [
    "X = country_stats[\"GDP per capita 2015\"].to_numpy()\n",
    "y = country_stats[\"Life satisfaction\"].to_numpy()"
   ]
  },
  {
   "cell_type": "code",
   "execution_count": 12,
   "metadata": {},
   "outputs": [
    {
     "data": {
      "text/plain": [
       "[<matplotlib.lines.Line2D at 0x1bdfd50aa60>]"
      ]
     },
     "execution_count": 12,
     "metadata": {},
     "output_type": "execute_result"
    },
    {
     "data": {
      "image/png": "[encoded data removed]",
      "text/plain": [
       "<Figure size 432x288 with 1 Axes>"
      ]
     },
     "metadata": {
      "needs_background": "light"
     },
     "output_type": "display_data"
    }
   ],
   "source": [
    "plt.plot(X, y, marker='o', ls='')"
   ]
  },
  {
   "cell_type": "markdown",
   "metadata": {},
   "source": [
    "### Vytvoření a natrénování modelu"
   ]
  },
  {
   "cell_type": "code",
   "execution_count": 13,
   "metadata": {},
   "outputs": [],
   "source": [
    "import sklearn.linear_model"
   ]
  },
  {
   "cell_type": "markdown",
   "metadata": {},
   "source": [
    "Potřebujeme z 1D pole ve tvaru [příznaky] udělat 2D pole ve tvaru [příklady, příznaky]"
   ]
  },
  {
   "cell_type": "code",
   "execution_count": 14,
   "metadata": {},
   "outputs": [
    {
     "data": {
      "text/plain": [
       "array([ 9054.914,  9437.372, 12239.894, 12495.334, 15991.736, 17288.083,\n",
       "       18064.288, 19121.592, 20732.482, 25864.721, 27195.197, 29866.581,\n",
       "       32485.545, 35343.336, 37044.891, 37675.006, 40106.632, 40996.511,\n",
       "       41973.988, 43331.961, 43603.115, 43724.031, 43770.688, 49866.266,\n",
       "       50854.583, 50961.865, 51350.744, 52114.165, 55805.204])"
      ]
     },
     "execution_count": 14,
     "metadata": {},
     "output_type": "execute_result"
    }
   ],
   "source": [
    "X"
   ]
  },
  {
   "cell_type": "code",
   "execution_count": 15,
   "metadata": {},
   "outputs": [
    {
     "data": {
      "text/plain": [
       "array([[ 9054.914],\n",
       "       [ 9437.372],\n",
       "       [12239.894],\n",
       "       [12495.334],\n",
       "       [15991.736],\n",
       "       [17288.083],\n",
       "       [18064.288],\n",
       "       [19121.592],\n",
       "       [20732.482],\n",
       "       [25864.721],\n",
       "       [27195.197],\n",
       "       [29866.581],\n",
       "       [32485.545],\n",
       "       [35343.336],\n",
       "       [37044.891],\n",
       "       [37675.006],\n",
       "       [40106.632],\n",
       "       [40996.511],\n",
       "       [41973.988],\n",
       "       [43331.961],\n",
       "       [43603.115],\n",
       "       [43724.031],\n",
       "       [43770.688],\n",
       "       [49866.266],\n",
       "       [50854.583],\n",
       "       [50961.865],\n",
       "       [51350.744],\n",
       "       [52114.165],\n",
       "       [55805.204]])"
      ]
     },
     "execution_count": 15,
     "metadata": {},
     "output_type": "execute_result"
    }
   ],
   "source": [
    "X_train = X.reshape(-1,1)\n",
    "X_train"
   ]
  },
  {
   "cell_type": "code",
   "execution_count": 16,
   "metadata": {},
   "outputs": [
    {
     "data": {
      "text/plain": [
       "LinearRegression()"
      ]
     },
     "execution_count": 16,
     "metadata": {},
     "output_type": "execute_result"
    }
   ],
   "source": [
    "model = sklearn.linear_model.LinearRegression()\n",
    "\n",
    "model.fit(X_train, y)"
   ]
  },
  {
   "cell_type": "markdown",
   "metadata": {},
   "source": [
    "### Prohlédneme si výsledek modelu"
   ]
  },
  {
   "cell_type": "markdown",
   "metadata": {},
   "source": [
    "y = ax + b"
   ]
  },
  {
   "cell_type": "code",
   "execution_count": 17,
   "metadata": {},
   "outputs": [],
   "source": [
    "b, a = model.intercept_, model.coef_[0]"
   ]
  },
  {
   "cell_type": "code",
   "execution_count": 18,
   "metadata": {},
   "outputs": [
    {
     "data": {
      "text/plain": [
       "(4.853052800266436, 4.911544589158484e-05)"
      ]
     },
     "execution_count": 18,
     "metadata": {},
     "output_type": "execute_result"
    }
   ],
   "source": [
    "b, a"
   ]
  },
  {
   "cell_type": "code",
   "execution_count": 19,
   "metadata": {},
   "outputs": [
    {
     "data": {
      "text/plain": [
       "[<matplotlib.lines.Line2D at 0x1bd8dd29a30>]"
      ]
     },
     "execution_count": 19,
     "metadata": {},
     "output_type": "execute_result"
    },
    {
     "data": {
      "image/png": "[encoded data removed]",
      "text/plain": [
       "<Figure size 432x288 with 1 Axes>"
      ]
     },
     "metadata": {
      "needs_background": "light"
     },
     "output_type": "display_data"
    }
   ],
   "source": [
    "country_stats.plot(kind='scatter', x=\"GDP per capita 2015\", y='Life satisfaction')\n",
    "plt.plot(X, a*X + b)"
   ]
  },
  {
   "cell_type": "markdown",
   "metadata": {},
   "source": [
    "### Zkusíme predikovat Life satisfaction např. pro Česko"
   ]
  },
  {
   "cell_type": "code",
   "execution_count": null,
   "metadata": {},
   "outputs": [],
   "source": [
    "czech_gdp = 17715 # https://www.google.com/search?q=czech+republic+gdp+per+caipta+2015"
   ]
  },
  {
   "cell_type": "code",
   "execution_count": null,
   "metadata": {},
   "outputs": [],
   "source": [
    "czech_life_satisfaction = model.predict([[czech_gdp]])[0]\n",
    "czech_life_satisfaction"
   ]
  },
  {
   "cell_type": "markdown",
   "metadata": {},
   "source": [
    "Ještě si to prohlédneme v grafu"
   ]
  },
  {
   "cell_type": "code",
   "execution_count": null,
   "metadata": {},
   "outputs": [],
   "source": [
    "country_stats.plot(kind='scatter', x=\"GDP per capita 2015\", y='Life satisfaction')\n",
    "plt.plot(X, a*X + b)\n",
    "plt.plot([czech_gdp, czech_gdp], [0, czech_life_satisfaction], \"r--\")\n",
    "plt.text(25000, 5.0, \"Prediction = {0:.2f}\".format(czech_life_satisfaction), fontsize=14, color=\"b\")\n",
    "plt.plot(czech_gdp, czech_life_satisfaction, \"ro\")\n",
    "plt.axis(ymin=0)\n",
    "plt.show()\n"
   ]
  },
  {
   "cell_type": "code",
   "execution_count": null,
   "metadata": {},
   "outputs": [],
   "source": [
    "score = model.score(X_train, y)\n",
    "print(\"Score: {0:.2f}\".format(score))"
   ]
  },
  {
   "cell_type": "markdown",
   "metadata": {},
   "source": [
    "### Zkusíme modely s více parametry (polynomické modely) - zjevný overfitting"
   ]
  },
  {
   "cell_type": "code",
   "execution_count": null,
   "metadata": {},
   "outputs": [],
   "source": [
    "from sklearn import preprocessing\n",
    "from sklearn import pipeline\n",
    "from sklearn.metrics import mean_squared_error\n",
    "\n",
    "degrees = [2,3,5,8,13,21,34]\n",
    "\n",
    "X_axis = np.linspace(0,60000,1000)\n",
    "np.seterr(all='ignore')\n",
    "\n",
    "\n",
    "for degree in degrees:\n",
    "    poly = preprocessing.PolynomialFeatures(degree=degree, include_bias=False)\n",
    "    scaler = preprocessing.StandardScaler()\n",
    "    model = sklearn.linear_model.LinearRegression()\n",
    "    \n",
    "    pipe = pipeline.Pipeline([('poly', poly), ('scal', scaler), ('lin', model)])\n",
    "    pipe.fit(X_train, y)    \n",
    "    \n",
    "    mse = mean_squared_error(y, pipe.predict(X_train))\n",
    "    rmse = np.sqrt(mse)\n",
    "    \n",
    "    curve = pipe.predict(X_axis[:, np.newaxis])\n",
    "    \n",
    "    score = pipe.score(X_train, y)\n",
    "    print(\"N={1}, Score: {0:.2f}, RMSE: {2:.2f}\".format(score, degree, rmse))\n",
    "    \n",
    "    country_stats.plot(kind='scatter', x=\"GDP per capita 2015\", y='Life satisfaction')\n",
    "    plt.axis(ymin=0, ymax=10)\n",
    "    plt.plot(X_axis, curve)\n",
    "    plt.show()  \n",
    "    "
   ]
  },
  {
   "cell_type": "markdown",
   "metadata": {},
   "source": [
    "### Rozdělíme dataset na trénovací a testovací data"
   ]
  },
  {
   "cell_type": "code",
   "execution_count": null,
   "metadata": {},
   "outputs": [],
   "source": [
    "from sklearn.model_selection import train_test_split\n",
    "\n",
    "X_train, X_test, y_train, y_test = train_test_split(X.reshape(-1,1), y, test_size=0.2, random_state=42)"
   ]
  },
  {
   "cell_type": "code",
   "execution_count": null,
   "metadata": {},
   "outputs": [],
   "source": [
    "X_train"
   ]
  },
  {
   "cell_type": "code",
   "execution_count": null,
   "metadata": {},
   "outputs": [],
   "source": [
    "X_test"
   ]
  },
  {
   "cell_type": "code",
   "execution_count": null,
   "metadata": {},
   "outputs": [],
   "source": [
    "y_train"
   ]
  },
  {
   "cell_type": "code",
   "execution_count": null,
   "metadata": {},
   "outputs": [],
   "source": [
    "y_test"
   ]
  },
  {
   "cell_type": "markdown",
   "metadata": {},
   "source": [
    "### Opět zkusíme modely s více parametry"
   ]
  },
  {
   "cell_type": "code",
   "execution_count": null,
   "metadata": {},
   "outputs": [],
   "source": [
    "from sklearn import preprocessing\n",
    "from sklearn import pipeline\n",
    "from sklearn.metrics import mean_squared_error\n",
    "\n",
    "degrees = [2,3,5,8,13,21,34]\n",
    "\n",
    "X_axis = np.linspace(0,60000,1000)\n",
    "np.seterr(all='ignore')\n",
    "\n",
    "\n",
    "for degree in degrees:\n",
    "    poly = preprocessing.PolynomialFeatures(degree=degree, include_bias=False)\n",
    "    scaler = preprocessing.StandardScaler()\n",
    "    model = sklearn.linear_model.LinearRegression()\n",
    "    \n",
    "    pipe = pipeline.Pipeline([('poly', poly), ('scal', scaler), ('lin', model)])\n",
    "    pipe.fit(X_train, y_train)    \n",
    "    \n",
    "    mse = mean_squared_error(y_test, pipe.predict(X_test))\n",
    "    rmse = np.sqrt(mse)\n",
    "    \n",
    "    curve = pipe.predict(X_axis[:, np.newaxis])\n",
    "    \n",
    "    \n",
    "    mse = mean_squared_error(y_train, pipe.predict(X_train))\n",
    "    rmse = np.sqrt(mse)\n",
    "    score = pipe.score(X_train, y_train)\n",
    "    print(\"Trénovací:\\tN={1}\\tScore: {0:.2f}\\tRMSE: {2:.2f}\".format(score, degree, rmse))\n",
    "        \n",
    "    mse = mean_squared_error(y_test, pipe.predict(X_test))\n",
    "    rmse = np.sqrt(mse)\n",
    "    score = pipe.score(X_test, y_test)\n",
    "    print(\"Testovací:\\tN={1}\\tScore: {0:.2f}\\tRMSE: {2:.2f}\".format(score, degree, rmse))\n",
    "    \n",
    "    country_stats.plot(kind='scatter', x=\"GDP per capita 2015\", y='Life satisfaction')\n",
    "    plt.axis(ymin=0, ymax=10)\n",
    "    plt.plot(X_axis, curve)\n",
    "    plt.plot(X_test, y_test, \"ro\")\n",
    "    \n",
    "    for point_x, point_y in zip(X_test, y_test):\n",
    "        plt.plot([point_x[0], point_x[0]], [point_y, pipe.predict(point_x.reshape(-1,1))[0]], \"r--\")\n",
    "        \n",
    "    \n",
    "    plt.show()  "
   ]
  },
  {
   "cell_type": "code",
   "execution_count": null,
   "metadata": {},
   "outputs": [],
   "source": []
  }
 ],
 "metadata": {
  "kernelspec": {
   "display_name": "Python 3",
   "language": "python",
   "name": "python3"
  },
  "language_info": {
   "codemirror_mode": {
    "name": "ipython",
    "version": 3
   },
   "file_extension": ".py",
   "mimetype": "text/x-python",
   "name": "python",
   "nbconvert_exporter": "python",
   "pygments_lexer": "ipython3",
   "version": "3.8.7"
  }
 },
 "nbformat": 4,
 "nbformat_minor": 5
}
