{
 "cells": [
  {
   "cell_type": "markdown",
   "metadata": {},
   "source": [
    "### Načteme data"
   ]
  },
  {
   "cell_type": "code",
   "execution_count": 1,
   "metadata": {},
   "outputs": [],
   "source": [
    "import os\n",
    "\n",
    "PATH = os.path.join(\"datasets\", \"04\", \"titanic\")"
   ]
  },
  {
   "cell_type": "code",
   "execution_count": 2,
   "metadata": {},
   "outputs": [],
   "source": [
    "import pandas as pd\n",
    "\n",
    "def load_data(file, path=PATH):\n",
    "    csv = os.path.join(path, file)\n",
    "    return pd.read_csv(csv)\n"
   ]
  },
  {
   "cell_type": "code",
   "execution_count": 3,
   "metadata": {},
   "outputs": [],
   "source": [
    "train = load_data(\"train.csv\")\n",
    "test = load_data(\"test.csv\")"
   ]
  },
  {
   "cell_type": "markdown",
   "metadata": {},
   "source": [
    "Test data zde neobsahují cílové hodnoty - to je naším úkolem predikovat a nahrát na Kaggle. "
   ]
  },
  {
   "cell_type": "markdown",
   "metadata": {},
   "source": [
    "Trénovací data pro jistotu zamícháme"
   ]
  },
  {
   "cell_type": "code",
   "execution_count": 4,
   "metadata": {},
   "outputs": [],
   "source": [
    "import numpy as np\n",
    "np.random.shuffle(train.values)"
   ]
  },
  {
   "cell_type": "markdown",
   "metadata": {},
   "source": [
    "### Prozkoumáme data"
   ]
  },
  {
   "cell_type": "code",
   "execution_count": 5,
   "metadata": {},
   "outputs": [
    {
     "data": {
      "text/html": [
       "<div>\n",
       "<style scoped>\n",
       "    .dataframe tbody tr th:only-of-type {\n",
       "        vertical-align: middle;\n",
       "    }\n",
       "\n",
       "    .dataframe tbody tr th {\n",
       "        vertical-align: top;\n",
       "    }\n",
       "\n",
       "    .dataframe thead th {\n",
       "        text-align: right;\n",
       "    }\n",
       "</style>\n",
       "<table border=\"1\" class=\"dataframe\">\n",
       "  <thead>\n",
       "    <tr style=\"text-align: right;\">\n",
       "      <th></th>\n",
       "      <th>PassengerId</th>\n",
       "      <th>Survived</th>\n",
       "      <th>Pclass</th>\n",
       "      <th>Name</th>\n",
       "      <th>Sex</th>\n",
       "      <th>Age</th>\n",
       "      <th>SibSp</th>\n",
       "      <th>Parch</th>\n",
       "      <th>Ticket</th>\n",
       "      <th>Fare</th>\n",
       "      <th>Cabin</th>\n",
       "      <th>Embarked</th>\n",
       "    </tr>\n",
       "  </thead>\n",
       "  <tbody>\n",
       "    <tr>\n",
       "      <th>0</th>\n",
       "      <td>1</td>\n",
       "      <td>0</td>\n",
       "      <td>3</td>\n",
       "      <td>Braund, Mr. Owen Harris</td>\n",
       "      <td>male</td>\n",
       "      <td>22.0</td>\n",
       "      <td>1</td>\n",
       "      <td>0</td>\n",
       "      <td>A/5 21171</td>\n",
       "      <td>7.2500</td>\n",
       "      <td>NaN</td>\n",
       "      <td>S</td>\n",
       "    </tr>\n",
       "    <tr>\n",
       "      <th>1</th>\n",
       "      <td>2</td>\n",
       "      <td>1</td>\n",
       "      <td>1</td>\n",
       "      <td>Cumings, Mrs. John Bradley (Florence Briggs Th...</td>\n",
       "      <td>female</td>\n",
       "      <td>38.0</td>\n",
       "      <td>1</td>\n",
       "      <td>0</td>\n",
       "      <td>PC 17599</td>\n",
       "      <td>71.2833</td>\n",
       "      <td>C85</td>\n",
       "      <td>C</td>\n",
       "    </tr>\n",
       "    <tr>\n",
       "      <th>2</th>\n",
       "      <td>3</td>\n",
       "      <td>1</td>\n",
       "      <td>3</td>\n",
       "      <td>Heikkinen, Miss. Laina</td>\n",
       "      <td>female</td>\n",
       "      <td>26.0</td>\n",
       "      <td>0</td>\n",
       "      <td>0</td>\n",
       "      <td>STON/O2. 3101282</td>\n",
       "      <td>7.9250</td>\n",
       "      <td>NaN</td>\n",
       "      <td>S</td>\n",
       "    </tr>\n",
       "    <tr>\n",
       "      <th>3</th>\n",
       "      <td>4</td>\n",
       "      <td>1</td>\n",
       "      <td>1</td>\n",
       "      <td>Futrelle, Mrs. Jacques Heath (Lily May Peel)</td>\n",
       "      <td>female</td>\n",
       "      <td>35.0</td>\n",
       "      <td>1</td>\n",
       "      <td>0</td>\n",
       "      <td>113803</td>\n",
       "      <td>53.1000</td>\n",
       "      <td>C123</td>\n",
       "      <td>S</td>\n",
       "    </tr>\n",
       "    <tr>\n",
       "      <th>4</th>\n",
       "      <td>5</td>\n",
       "      <td>0</td>\n",
       "      <td>3</td>\n",
       "      <td>Allen, Mr. William Henry</td>\n",
       "      <td>male</td>\n",
       "      <td>35.0</td>\n",
       "      <td>0</td>\n",
       "      <td>0</td>\n",
       "      <td>373450</td>\n",
       "      <td>8.0500</td>\n",
       "      <td>NaN</td>\n",
       "      <td>S</td>\n",
       "    </tr>\n",
       "  </tbody>\n",
       "</table>\n",
       "</div>"
      ],
      "text/plain": [
       "   PassengerId  Survived  Pclass  \\\n",
       "0            1         0       3   \n",
       "1            2         1       1   \n",
       "2            3         1       3   \n",
       "3            4         1       1   \n",
       "4            5         0       3   \n",
       "\n",
       "                                                Name     Sex   Age  SibSp  \\\n",
       "0                            Braund, Mr. Owen Harris    male  22.0      1   \n",
       "1  Cumings, Mrs. John Bradley (Florence Briggs Th...  female  38.0      1   \n",
       "2                             Heikkinen, Miss. Laina  female  26.0      0   \n",
       "3       Futrelle, Mrs. Jacques Heath (Lily May Peel)  female  35.0      1   \n",
       "4                           Allen, Mr. William Henry    male  35.0      0   \n",
       "\n",
       "   Parch            Ticket     Fare Cabin Embarked  \n",
       "0      0         A/5 21171   7.2500   NaN        S  \n",
       "1      0          PC 17599  71.2833   C85        C  \n",
       "2      0  STON/O2. 3101282   7.9250   NaN        S  \n",
       "3      0            113803  53.1000  C123        S  \n",
       "4      0            373450   8.0500   NaN        S  "
      ]
     },
     "execution_count": 5,
     "metadata": {},
     "output_type": "execute_result"
    }
   ],
   "source": [
    "train.head()"
   ]
  },
  {
   "cell_type": "code",
   "execution_count": 6,
   "metadata": {},
   "outputs": [
    {
     "name": "stdout",
     "output_type": "stream",
     "text": [
      "<class 'pandas.core.frame.DataFrame'>\n",
      "RangeIndex: 891 entries, 0 to 890\n",
      "Data columns (total 12 columns):\n",
      " #   Column       Non-Null Count  Dtype  \n",
      "---  ------       --------------  -----  \n",
      " 0   PassengerId  891 non-null    int64  \n",
      " 1   Survived     891 non-null    int64  \n",
      " 2   Pclass       891 non-null    int64  \n",
      " 3   Name         891 non-null    object \n",
      " 4   Sex          891 non-null    object \n",
      " 5   Age          714 non-null    float64\n",
      " 6   SibSp        891 non-null    int64  \n",
      " 7   Parch        891 non-null    int64  \n",
      " 8   Ticket       891 non-null    object \n",
      " 9   Fare         891 non-null    float64\n",
      " 10  Cabin        204 non-null    object \n",
      " 11  Embarked     889 non-null    object \n",
      "dtypes: float64(2), int64(5), object(5)\n",
      "memory usage: 83.7+ KB\n"
     ]
    }
   ],
   "source": [
    "train.info()"
   ]
  },
  {
   "cell_type": "markdown",
   "metadata": {},
   "source": [
    "Význam méně jasných atributů:\n",
    "- SibSp: kolik sourozenců a manželů tohoto pasažéra bylo na palubě\n",
    "- Parch: kolik dětí a rodičů tohoto pasažéra bylo na palubě\n",
    "- Fare: cena za lístek\n",
    "- Cabin: číslo kajuty\n",
    "- Embarked: kde pasažér nastoupil na plavbu\n",
    "\n",
    "\n",
    "Vidíme, že věk, cabin a embarked nemáme u všech. S tím si budeme muset poradit.\n",
    "- věk nahradíme mediánem\n",
    "- cabin nám ve většině případů chybí, podíváme se později co s tím\n",
    "- embarked nám chybí jen v pár případech, použijeme nejčastější hodnotu"
   ]
  },
  {
   "cell_type": "code",
   "execution_count": 7,
   "metadata": {},
   "outputs": [
    {
     "data": {
      "text/html": [
       "<div>\n",
       "<style scoped>\n",
       "    .dataframe tbody tr th:only-of-type {\n",
       "        vertical-align: middle;\n",
       "    }\n",
       "\n",
       "    .dataframe tbody tr th {\n",
       "        vertical-align: top;\n",
       "    }\n",
       "\n",
       "    .dataframe thead th {\n",
       "        text-align: right;\n",
       "    }\n",
       "</style>\n",
       "<table border=\"1\" class=\"dataframe\">\n",
       "  <thead>\n",
       "    <tr style=\"text-align: right;\">\n",
       "      <th></th>\n",
       "      <th>PassengerId</th>\n",
       "      <th>Survived</th>\n",
       "      <th>Pclass</th>\n",
       "      <th>Age</th>\n",
       "      <th>SibSp</th>\n",
       "      <th>Parch</th>\n",
       "      <th>Fare</th>\n",
       "    </tr>\n",
       "  </thead>\n",
       "  <tbody>\n",
       "    <tr>\n",
       "      <th>count</th>\n",
       "      <td>891.000000</td>\n",
       "      <td>891.000000</td>\n",
       "      <td>891.000000</td>\n",
       "      <td>714.000000</td>\n",
       "      <td>891.000000</td>\n",
       "      <td>891.000000</td>\n",
       "      <td>891.000000</td>\n",
       "    </tr>\n",
       "    <tr>\n",
       "      <th>mean</th>\n",
       "      <td>446.000000</td>\n",
       "      <td>0.383838</td>\n",
       "      <td>2.308642</td>\n",
       "      <td>29.699118</td>\n",
       "      <td>0.523008</td>\n",
       "      <td>0.381594</td>\n",
       "      <td>32.204208</td>\n",
       "    </tr>\n",
       "    <tr>\n",
       "      <th>std</th>\n",
       "      <td>257.353842</td>\n",
       "      <td>0.486592</td>\n",
       "      <td>0.836071</td>\n",
       "      <td>14.526497</td>\n",
       "      <td>1.102743</td>\n",
       "      <td>0.806057</td>\n",
       "      <td>49.693429</td>\n",
       "    </tr>\n",
       "    <tr>\n",
       "      <th>min</th>\n",
       "      <td>1.000000</td>\n",
       "      <td>0.000000</td>\n",
       "      <td>1.000000</td>\n",
       "      <td>0.420000</td>\n",
       "      <td>0.000000</td>\n",
       "      <td>0.000000</td>\n",
       "      <td>0.000000</td>\n",
       "    </tr>\n",
       "    <tr>\n",
       "      <th>25%</th>\n",
       "      <td>223.500000</td>\n",
       "      <td>0.000000</td>\n",
       "      <td>2.000000</td>\n",
       "      <td>20.125000</td>\n",
       "      <td>0.000000</td>\n",
       "      <td>0.000000</td>\n",
       "      <td>7.910400</td>\n",
       "    </tr>\n",
       "    <tr>\n",
       "      <th>50%</th>\n",
       "      <td>446.000000</td>\n",
       "      <td>0.000000</td>\n",
       "      <td>3.000000</td>\n",
       "      <td>28.000000</td>\n",
       "      <td>0.000000</td>\n",
       "      <td>0.000000</td>\n",
       "      <td>14.454200</td>\n",
       "    </tr>\n",
       "    <tr>\n",
       "      <th>75%</th>\n",
       "      <td>668.500000</td>\n",
       "      <td>1.000000</td>\n",
       "      <td>3.000000</td>\n",
       "      <td>38.000000</td>\n",
       "      <td>1.000000</td>\n",
       "      <td>0.000000</td>\n",
       "      <td>31.000000</td>\n",
       "    </tr>\n",
       "    <tr>\n",
       "      <th>max</th>\n",
       "      <td>891.000000</td>\n",
       "      <td>1.000000</td>\n",
       "      <td>3.000000</td>\n",
       "      <td>80.000000</td>\n",
       "      <td>8.000000</td>\n",
       "      <td>6.000000</td>\n",
       "      <td>512.329200</td>\n",
       "    </tr>\n",
       "  </tbody>\n",
       "</table>\n",
       "</div>"
      ],
      "text/plain": [
       "       PassengerId    Survived      Pclass         Age       SibSp  \\\n",
       "count   891.000000  891.000000  891.000000  714.000000  891.000000   \n",
       "mean    446.000000    0.383838    2.308642   29.699118    0.523008   \n",
       "std     257.353842    0.486592    0.836071   14.526497    1.102743   \n",
       "min       1.000000    0.000000    1.000000    0.420000    0.000000   \n",
       "25%     223.500000    0.000000    2.000000   20.125000    0.000000   \n",
       "50%     446.000000    0.000000    3.000000   28.000000    0.000000   \n",
       "75%     668.500000    1.000000    3.000000   38.000000    1.000000   \n",
       "max     891.000000    1.000000    3.000000   80.000000    8.000000   \n",
       "\n",
       "            Parch        Fare  \n",
       "count  891.000000  891.000000  \n",
       "mean     0.381594   32.204208  \n",
       "std      0.806057   49.693429  \n",
       "min      0.000000    0.000000  \n",
       "25%      0.000000    7.910400  \n",
       "50%      0.000000   14.454200  \n",
       "75%      0.000000   31.000000  \n",
       "max      6.000000  512.329200  "
      ]
     },
     "execution_count": 7,
     "metadata": {},
     "output_type": "execute_result"
    }
   ],
   "source": [
    "train.describe()"
   ]
  },
  {
   "cell_type": "code",
   "execution_count": 8,
   "metadata": {},
   "outputs": [
    {
     "data": {
      "text/plain": [
       "array([[<AxesSubplot:title={'center':'PassengerId'}>,\n",
       "        <AxesSubplot:title={'center':'Survived'}>,\n",
       "        <AxesSubplot:title={'center':'Pclass'}>],\n",
       "       [<AxesSubplot:title={'center':'Age'}>,\n",
       "        <AxesSubplot:title={'center':'SibSp'}>,\n",
       "        <AxesSubplot:title={'center':'Parch'}>],\n",
       "       [<AxesSubplot:title={'center':'Fare'}>, <AxesSubplot:>,\n",
       "        <AxesSubplot:>]], dtype=object)"
      ]
     },
     "execution_count": 8,
     "metadata": {},
     "output_type": "execute_result"
    },
    {
     "data": {
      "image/png": "[encoded data removed]",
      "text/plain": [
       "<Figure size 1080x1080 with 9 Axes>"
      ]
     },
     "metadata": {
      "needs_background": "light"
     },
     "output_type": "display_data"
    }
   ],
   "source": [
    "train.hist(figsize=(15,15), bins=20)"
   ]
  },
  {
   "cell_type": "markdown",
   "metadata": {},
   "source": [
    "Prozkoumáme kategoriální data"
   ]
  },
  {
   "cell_type": "code",
   "execution_count": 9,
   "metadata": {},
   "outputs": [
    {
     "data": {
      "text/plain": [
       "0                               Braund, Mr. Owen Harris\n",
       "1     Cumings, Mrs. John Bradley (Florence Briggs Th...\n",
       "2                                Heikkinen, Miss. Laina\n",
       "3          Futrelle, Mrs. Jacques Heath (Lily May Peel)\n",
       "4                              Allen, Mr. William Henry\n",
       "5                                      Moran, Mr. James\n",
       "6                               McCarthy, Mr. Timothy J\n",
       "7                        Palsson, Master. Gosta Leonard\n",
       "8     Johnson, Mrs. Oscar W (Elisabeth Vilhelmina Berg)\n",
       "9                   Nasser, Mrs. Nicholas (Adele Achem)\n",
       "10                      Sandstrom, Miss. Marguerite Rut\n",
       "11                             Bonnell, Miss. Elizabeth\n",
       "12                       Saundercock, Mr. William Henry\n",
       "13                          Andersson, Mr. Anders Johan\n",
       "14                 Vestrom, Miss. Hulda Amanda Adolfina\n",
       "15                     Hewlett, Mrs. (Mary D Kingcome) \n",
       "16                                 Rice, Master. Eugene\n",
       "17                         Williams, Mr. Charles Eugene\n",
       "18    Vander Planke, Mrs. Julius (Emelia Maria Vande...\n",
       "19                              Masselmani, Mrs. Fatima\n",
       "20                                 Fynney, Mr. Joseph J\n",
       "21                                Beesley, Mr. Lawrence\n",
       "22                          McGowan, Miss. Anna \"Annie\"\n",
       "23                         Sloper, Mr. William Thompson\n",
       "24                        Palsson, Miss. Torborg Danira\n",
       "25    Asplund, Mrs. Carl Oscar (Selma Augusta Emilia...\n",
       "26                              Emir, Mr. Farred Chehab\n",
       "27                       Fortune, Mr. Charles Alexander\n",
       "28                        O'Dwyer, Miss. Ellen \"Nellie\"\n",
       "29                                  Todoroff, Mr. Lalio\n",
       "30                             Uruchurtu, Don. Manuel E\n",
       "31       Spencer, Mrs. William Augustus (Marie Eugenie)\n",
       "32                             Glynn, Miss. Mary Agatha\n",
       "33                                Wheadon, Mr. Edward H\n",
       "34                              Meyer, Mr. Edgar Joseph\n",
       "35                       Holverson, Mr. Alexander Oskar\n",
       "36                                     Mamee, Mr. Hanna\n",
       "37                             Cann, Mr. Ernest Charles\n",
       "38                   Vander Planke, Miss. Augusta Maria\n",
       "39                          Nicola-Yarred, Miss. Jamila\n",
       "40       Ahlin, Mrs. Johan (Johanna Persdotter Larsson)\n",
       "41    Turpin, Mrs. William John Robert (Dorothy Ann ...\n",
       "42                                  Kraeff, Mr. Theodor\n",
       "43             Laroche, Miss. Simonne Marie Anne Andree\n",
       "44                        Devaney, Miss. Margaret Delia\n",
       "45                             Rogers, Mr. William John\n",
       "46                                    Lennon, Mr. Denis\n",
       "47                            O'Driscoll, Miss. Bridget\n",
       "48                                  Samaan, Mr. Youssef\n",
       "49        Arnold-Franchi, Mrs. Josef (Josefine Franchi)\n",
       "Name: Name, dtype: object"
      ]
     },
     "execution_count": 9,
     "metadata": {},
     "output_type": "execute_result"
    }
   ],
   "source": [
    "train[\"Name\"][0:50]"
   ]
  },
  {
   "cell_type": "markdown",
   "metadata": {},
   "source": [
    "Převést jméno na užitečnou reprezentaci pro model bude obtížné, ale něco půjde vymyslet"
   ]
  },
  {
   "cell_type": "code",
   "execution_count": 10,
   "metadata": {},
   "outputs": [
    {
     "data": {
      "text/plain": [
       "male      577\n",
       "female    314\n",
       "Name: Sex, dtype: int64"
      ]
     },
     "execution_count": 10,
     "metadata": {},
     "output_type": "execute_result"
    }
   ],
   "source": [
    "train[\"Sex\"].value_counts()"
   ]
  },
  {
   "cell_type": "code",
   "execution_count": 11,
   "metadata": {
    "scrolled": true
   },
   "outputs": [
    {
     "data": {
      "text/plain": [
       "347082             7\n",
       "CA. 2343           7\n",
       "1601               7\n",
       "3101295            6\n",
       "CA 2144            6\n",
       "                  ..\n",
       "C.A. 29178         1\n",
       "SOTON/OQ 392090    1\n",
       "8475               1\n",
       "11813              1\n",
       "C.A. 24580         1\n",
       "Name: Ticket, Length: 681, dtype: int64"
      ]
     },
     "execution_count": 11,
     "metadata": {},
     "output_type": "execute_result"
    }
   ],
   "source": [
    "train[\"Ticket\"].value_counts()"
   ]
  },
  {
   "cell_type": "markdown",
   "metadata": {},
   "source": [
    "Číslo lístku nám asi moc neřekne, ale můžeme to zkusit."
   ]
  },
  {
   "cell_type": "code",
   "execution_count": 12,
   "metadata": {},
   "outputs": [
    {
     "data": {
      "text/plain": [
       "C23 C25 C27    4\n",
       "G6             4\n",
       "B96 B98        4\n",
       "D              3\n",
       "E101           3\n",
       "              ..\n",
       "C91            1\n",
       "B69            1\n",
       "D19            1\n",
       "B78            1\n",
       "F G63          1\n",
       "Name: Cabin, Length: 147, dtype: int64"
      ]
     },
     "execution_count": 12,
     "metadata": {},
     "output_type": "execute_result"
    }
   ],
   "source": [
    "train[\"Cabin\"].value_counts()"
   ]
  },
  {
   "cell_type": "code",
   "execution_count": 13,
   "metadata": {},
   "outputs": [
    {
     "data": {
      "text/plain": [
       "S    644\n",
       "C    168\n",
       "Q     77\n",
       "Name: Embarked, dtype: int64"
      ]
     },
     "execution_count": 13,
     "metadata": {},
     "output_type": "execute_result"
    }
   ],
   "source": [
    "train[\"Embarked\"].value_counts()"
   ]
  },
  {
   "cell_type": "markdown",
   "metadata": {},
   "source": [
    "### Nachystáme Pipeline pro zpracování dat"
   ]
  },
  {
   "cell_type": "markdown",
   "metadata": {},
   "source": [
    "Začneme s tím, co je jasné a jednoduché. Pipeline budeme mít oddělenou pro číselná a kategoriální data.\n",
    "\n",
    "Poznámky\n",
    "- Pclass je sice numerická, ale reálně je to kategorie"
   ]
  },
  {
   "cell_type": "markdown",
   "metadata": {},
   "source": [
    "```\n",
    "PassengerId  891 non-null    int64  \n",
    " 1   Survived     891 non-null    int64  \n",
    " 2   Pclass       891 non-null    int64  \n",
    " 3   Name         891 non-null    object \n",
    " 4   Sex          891 non-null    object \n",
    " 5   Age          714 non-null    float64\n",
    " 6   SibSp        891 non-null    int64  \n",
    " 7   Parch        891 non-null    int64  \n",
    " 8   Ticket       891 non-null    object \n",
    " 9   Fare         891 non-null    float64\n",
    " 10  Cabin        204 non-null    object \n",
    " 11  Embarked     889 non-null    object \n",
    " ```"
   ]
  },
  {
   "cell_type": "code",
   "execution_count": 14,
   "metadata": {},
   "outputs": [],
   "source": [
    "from sklearn.pipeline import Pipeline"
   ]
  },
  {
   "cell_type": "code",
   "execution_count": 15,
   "metadata": {},
   "outputs": [],
   "source": [
    "from sklearn.impute import SimpleImputer\n",
    "from sklearn.preprocessing import StandardScaler\n",
    "\n",
    "num_pipeline = Pipeline([\n",
    "    ('imputer', SimpleImputer(strategy='median')),\n",
    "    ('scaler', StandardScaler())\n",
    "])"
   ]
  },
  {
   "cell_type": "code",
   "execution_count": 16,
   "metadata": {},
   "outputs": [],
   "source": [
    "from sklearn.compose import ColumnTransformer\n",
    "\n",
    "full_pipeline = ColumnTransformer([\n",
    "    ('num', num_pipeline, ['Age', 'SibSp', 'Parch', 'Fare'])\n",
    "])"
   ]
  },
  {
   "cell_type": "markdown",
   "metadata": {},
   "source": [
    "### Můžeme natrénovat první model"
   ]
  },
  {
   "cell_type": "code",
   "execution_count": 17,
   "metadata": {},
   "outputs": [],
   "source": [
    "X_train = full_pipeline.fit_transform(train)"
   ]
  },
  {
   "cell_type": "code",
   "execution_count": 18,
   "metadata": {},
   "outputs": [
    {
     "data": {
      "text/plain": [
       "array([[-0.56573646,  0.43279337, -0.47367361, -0.50244517],\n",
       "       [ 0.66386103,  0.43279337, -0.47367361,  0.78684529],\n",
       "       [-0.25833709, -0.4745452 , -0.47367361, -0.48885426],\n",
       "       ...,\n",
       "       [-0.1046374 ,  0.43279337,  2.00893337, -0.17626324],\n",
       "       [-0.25833709, -0.4745452 , -0.47367361, -0.04438104],\n",
       "       [ 0.20276197, -0.4745452 , -0.47367361, -0.49237783]])"
      ]
     },
     "execution_count": 18,
     "metadata": {},
     "output_type": "execute_result"
    }
   ],
   "source": [
    "X_train"
   ]
  },
  {
   "cell_type": "code",
   "execution_count": 19,
   "metadata": {},
   "outputs": [
    {
     "data": {
      "text/plain": [
       "0      0\n",
       "1      1\n",
       "2      1\n",
       "3      1\n",
       "4      0\n",
       "      ..\n",
       "886    0\n",
       "887    1\n",
       "888    0\n",
       "889    1\n",
       "890    0\n",
       "Name: Survived, Length: 891, dtype: int64"
      ]
     },
     "execution_count": 19,
     "metadata": {},
     "output_type": "execute_result"
    }
   ],
   "source": [
    "y_train = train[\"Survived\"]\n",
    "y_train"
   ]
  },
  {
   "cell_type": "markdown",
   "metadata": {},
   "source": [
    "Vyzkoušíme SGD klasifikátor"
   ]
  },
  {
   "cell_type": "code",
   "execution_count": 20,
   "metadata": {},
   "outputs": [
    {
     "data": {
      "text/plain": [
       "SGDClassifier()"
      ]
     },
     "execution_count": 20,
     "metadata": {},
     "output_type": "execute_result"
    }
   ],
   "source": [
    "from sklearn.linear_model import SGDClassifier\n",
    "\n",
    "sgd = SGDClassifier()\n",
    "sgd.fit(X_train, y_train)"
   ]
  },
  {
   "cell_type": "markdown",
   "metadata": {},
   "source": [
    "Ověříme cross validací (vyzkoušíme jak accuracy, tak f1)"
   ]
  },
  {
   "cell_type": "code",
   "execution_count": 21,
   "metadata": {},
   "outputs": [],
   "source": [
    "from sklearn.model_selection import cross_val_score, cross_val_predict"
   ]
  },
  {
   "cell_type": "code",
   "execution_count": 22,
   "metadata": {},
   "outputs": [
    {
     "data": {
      "text/plain": [
       "array([0.52513966, 0.74157303, 0.70224719, 0.68539326, 0.58426966])"
      ]
     },
     "execution_count": 22,
     "metadata": {},
     "output_type": "execute_result"
    }
   ],
   "source": [
    "cross_val_score(sgd, X_train, y_train, cv=5)"
   ]
  },
  {
   "cell_type": "code",
   "execution_count": 23,
   "metadata": {},
   "outputs": [],
   "source": [
    "y_pred = cross_val_predict(sgd, X_train, y_train, cv=5)"
   ]
  },
  {
   "cell_type": "code",
   "execution_count": 24,
   "metadata": {},
   "outputs": [
    {
     "data": {
      "text/plain": [
       "0.46909090909090906"
      ]
     },
     "execution_count": 24,
     "metadata": {},
     "output_type": "execute_result"
    }
   ],
   "source": [
    "from sklearn.metrics import f1_score\n",
    "f1_score(y_train, y_pred)"
   ]
  },
  {
   "cell_type": "code",
   "execution_count": 25,
   "metadata": {},
   "outputs": [
    {
     "data": {
      "text/plain": [
       "0.6201923076923077"
      ]
     },
     "execution_count": 25,
     "metadata": {},
     "output_type": "execute_result"
    }
   ],
   "source": [
    "from sklearn.metrics import precision_score, recall_score\n",
    "precision_score(y_train, y_pred)"
   ]
  },
  {
   "cell_type": "code",
   "execution_count": 26,
   "metadata": {},
   "outputs": [
    {
     "data": {
      "text/plain": [
       "0.37719298245614036"
      ]
     },
     "execution_count": 26,
     "metadata": {},
     "output_type": "execute_result"
    }
   ],
   "source": [
    "recall_score(y_train, y_pred)"
   ]
  },
  {
   "cell_type": "markdown",
   "metadata": {},
   "source": [
    "### Vyzkoušíme ještě Random Forest"
   ]
  },
  {
   "cell_type": "code",
   "execution_count": 27,
   "metadata": {},
   "outputs": [],
   "source": [
    "from sklearn.ensemble import RandomForestClassifier\n",
    "\n",
    "forest = RandomForestClassifier(n_estimators=100, random_state=42)"
   ]
  },
  {
   "cell_type": "code",
   "execution_count": 28,
   "metadata": {},
   "outputs": [
    {
     "data": {
      "text/plain": [
       "0.6767811185738497"
      ]
     },
     "execution_count": 28,
     "metadata": {},
     "output_type": "execute_result"
    }
   ],
   "source": [
    "cross_val_score(forest, X_train, y_train, cv=5).mean()"
   ]
  },
  {
   "cell_type": "code",
   "execution_count": 29,
   "metadata": {},
   "outputs": [
    {
     "data": {
      "text/plain": [
       "0.5596330275229358"
      ]
     },
     "execution_count": 29,
     "metadata": {},
     "output_type": "execute_result"
    }
   ],
   "source": [
    "y_pred = cross_val_predict(forest, X_train, y_train, cv=5)\n",
    "f1_score(y_train, y_pred)"
   ]
  },
  {
   "cell_type": "markdown",
   "metadata": {},
   "source": [
    "### Lepší, ale pořád nic moc. Jdeme tedy přídávat další features a udělat to znovu a lépe"
   ]
  },
  {
   "cell_type": "markdown",
   "metadata": {},
   "source": [
    "```\n",
    "x PassengerId  891 non-null    int64  \n",
    "x 1   Survived     891 non-null    int64  \n",
    "x 2   Pclass       891 non-null    int64  \n",
    " 3   Name         891 non-null    object \n",
    "x 4   Sex          891 non-null    object \n",
    "x 5   Age          714 non-null    float64\n",
    "x 6   SibSp        891 non-null    int64  \n",
    "x 7   Parch        891 non-null    int64  \n",
    " 8   Ticket       891 non-null    object \n",
    "x 9   Fare         891 non-null    float64\n",
    " 10  Cabin        204 non-null    object \n",
    "x 11  Embarked     889 non-null    object \n",
    " ```"
   ]
  },
  {
   "cell_type": "code",
   "execution_count": 30,
   "metadata": {},
   "outputs": [],
   "source": [
    "from sklearn.pipeline import Pipeline"
   ]
  },
  {
   "cell_type": "code",
   "execution_count": 31,
   "metadata": {},
   "outputs": [],
   "source": [
    "from sklearn.impute import SimpleImputer\n",
    "from sklearn.preprocessing import StandardScaler\n",
    "\n",
    "num_pipeline = Pipeline([\n",
    "    ('imputer', SimpleImputer(strategy='median')),\n",
    "    ('scaler', StandardScaler())\n",
    "])"
   ]
  },
  {
   "cell_type": "code",
   "execution_count": 32,
   "metadata": {},
   "outputs": [],
   "source": [
    "from sklearn.preprocessing import OneHotEncoder\n",
    "\n",
    "cat_pipeline = Pipeline([\n",
    "    ('imputer', SimpleImputer(strategy=\"most_frequent\")),\n",
    "    ('one_hot', OneHotEncoder(sparse=False))\n",
    "])"
   ]
  },
  {
   "cell_type": "code",
   "execution_count": 33,
   "metadata": {},
   "outputs": [],
   "source": [
    "from sklearn.compose import ColumnTransformer\n",
    "\n",
    "transformer_pipeline = ColumnTransformer([\n",
    "    ('num', num_pipeline, ['Age', 'SibSp', 'Parch', 'Fare', 'RelativesCount'\n",
    "                          ]),\n",
    "    ('cat', cat_pipeline, ['Pclass', 'Sex', 'Embarked', 'RelativesNone', 'AgeBucket'\n",
    "                          ]),\n",
    "])"
   ]
  },
  {
   "cell_type": "code",
   "execution_count": 34,
   "metadata": {},
   "outputs": [],
   "source": [
    "from sklearn.base import BaseEstimator, TransformerMixin\n",
    "\n",
    "class NewAttribsAdder(BaseEstimator, TransformerMixin):\n",
    "    def fit(self, X, y=None):\n",
    "        return self  \n",
    "    def transform(self, X): \n",
    "        X[\"RelativesCount\"] = X[\"SibSp\"] + X[\"Parch\"]\n",
    "        X[\"RelativesNone\"] = X[\"RelativesCount\"] > 0\n",
    "        X[\"AgeBucket\"] = X[\"Age\"] // 15 * 15\n",
    "        return X"
   ]
  },
  {
   "cell_type": "code",
   "execution_count": 35,
   "metadata": {},
   "outputs": [],
   "source": [
    "full_pipeline = Pipeline([\n",
    "    ('new', NewAttribsAdder()),\n",
    "    ('transformer', transformer_pipeline)\n",
    "])"
   ]
  },
  {
   "cell_type": "code",
   "execution_count": 36,
   "metadata": {},
   "outputs": [],
   "source": [
    "X_train = full_pipeline.fit_transform(train.copy())\n",
    "y_train = train[\"Survived\"]"
   ]
  },
  {
   "cell_type": "code",
   "execution_count": 37,
   "metadata": {},
   "outputs": [
    {
     "data": {
      "text/plain": [
       "array([-0.56573646,  0.43279337, -0.47367361, -0.50244517,  0.05915988,\n",
       "        0.        ,  0.        ,  1.        ,  0.        ,  1.        ,\n",
       "        0.        ,  0.        ,  1.        ,  0.        ,  1.        ,\n",
       "        0.        ,  1.        ,  0.        ,  0.        ,  0.        ,\n",
       "        0.        ])"
      ]
     },
     "execution_count": 37,
     "metadata": {},
     "output_type": "execute_result"
    }
   ],
   "source": [
    "X_train[0]"
   ]
  },
  {
   "cell_type": "markdown",
   "metadata": {},
   "source": [
    "Vyzkoušíme, jak si vedeme"
   ]
  },
  {
   "cell_type": "code",
   "execution_count": 38,
   "metadata": {},
   "outputs": [
    {
     "data": {
      "text/plain": [
       "0.8036155922415416"
      ]
     },
     "execution_count": 38,
     "metadata": {},
     "output_type": "execute_result"
    }
   ],
   "source": [
    "cross_val_score(forest, X_train, y_train, cv=5).mean()"
   ]
  },
  {
   "cell_type": "code",
   "execution_count": 39,
   "metadata": {},
   "outputs": [
    {
     "data": {
      "text/plain": [
       "0.7407407407407407"
      ]
     },
     "execution_count": 39,
     "metadata": {},
     "output_type": "execute_result"
    }
   ],
   "source": [
    "y_pred = cross_val_predict(forest, X_train, y_train, cv=5)\n",
    "f1_score(y_train, y_pred)"
   ]
  },
  {
   "cell_type": "code",
   "execution_count": 40,
   "metadata": {},
   "outputs": [
    {
     "data": {
      "text/plain": [
       "0                  NaN\n",
       "1                  C85\n",
       "2                  NaN\n",
       "3                 C123\n",
       "4                  NaN\n",
       "5                  NaN\n",
       "6                  E46\n",
       "7                  NaN\n",
       "8                  NaN\n",
       "9                  NaN\n",
       "10                  G6\n",
       "11                C103\n",
       "12                 NaN\n",
       "13                 NaN\n",
       "14                 NaN\n",
       "15                 NaN\n",
       "16                 NaN\n",
       "17                 NaN\n",
       "18                 NaN\n",
       "19                 NaN\n",
       "20                 NaN\n",
       "21                 D56\n",
       "22                 NaN\n",
       "23                  A6\n",
       "24                 NaN\n",
       "25                 NaN\n",
       "26                 NaN\n",
       "27         C23 C25 C27\n",
       "28                 NaN\n",
       "29                 NaN\n",
       "30                 NaN\n",
       "31                 B78\n",
       "32                 NaN\n",
       "33                 NaN\n",
       "34                 NaN\n",
       "35                 NaN\n",
       "36                 NaN\n",
       "37                 NaN\n",
       "38                 NaN\n",
       "39                 NaN\n",
       "40                 NaN\n",
       "41                 NaN\n",
       "42                 NaN\n",
       "43                 NaN\n",
       "44                 NaN\n",
       "45                 NaN\n",
       "46                 NaN\n",
       "47                 NaN\n",
       "48                 NaN\n",
       "49                 NaN\n",
       "50                 NaN\n",
       "51                 NaN\n",
       "52                 D33\n",
       "53                 NaN\n",
       "54                 B30\n",
       "55                 C52\n",
       "56                 NaN\n",
       "57                 NaN\n",
       "58                 NaN\n",
       "59                 NaN\n",
       "60                 NaN\n",
       "61                 B28\n",
       "62                 C83\n",
       "63                 NaN\n",
       "64                 NaN\n",
       "65                 NaN\n",
       "66                 F33\n",
       "67                 NaN\n",
       "68                 NaN\n",
       "69                 NaN\n",
       "70                 NaN\n",
       "71                 NaN\n",
       "72                 NaN\n",
       "73                 NaN\n",
       "74                 NaN\n",
       "75               F G73\n",
       "76                 NaN\n",
       "77                 NaN\n",
       "78                 NaN\n",
       "79                 NaN\n",
       "80                 NaN\n",
       "81                 NaN\n",
       "82                 NaN\n",
       "83                 NaN\n",
       "84                 NaN\n",
       "85                 NaN\n",
       "86                 NaN\n",
       "87                 NaN\n",
       "88         C23 C25 C27\n",
       "89                 NaN\n",
       "90                 NaN\n",
       "91                 NaN\n",
       "92                 E31\n",
       "93                 NaN\n",
       "94                 NaN\n",
       "95                 NaN\n",
       "96                  A5\n",
       "97             D10 D12\n",
       "98                 NaN\n",
       "99                 NaN\n",
       "100                NaN\n",
       "101                NaN\n",
       "102                D26\n",
       "103                NaN\n",
       "104                NaN\n",
       "105                NaN\n",
       "106                NaN\n",
       "107                NaN\n",
       "108                NaN\n",
       "109                NaN\n",
       "110               C110\n",
       "111                NaN\n",
       "112                NaN\n",
       "113                NaN\n",
       "114                NaN\n",
       "115                NaN\n",
       "116                NaN\n",
       "117                NaN\n",
       "118            B58 B60\n",
       "119                NaN\n",
       "120                NaN\n",
       "121                NaN\n",
       "122                NaN\n",
       "123               E101\n",
       "124                D26\n",
       "125                NaN\n",
       "126                NaN\n",
       "127                NaN\n",
       "128              F E69\n",
       "129                NaN\n",
       "130                NaN\n",
       "131                NaN\n",
       "132                NaN\n",
       "133                NaN\n",
       "134                NaN\n",
       "135                NaN\n",
       "136                D47\n",
       "137               C123\n",
       "138                NaN\n",
       "139                B86\n",
       "140                NaN\n",
       "141                NaN\n",
       "142                NaN\n",
       "143                NaN\n",
       "144                NaN\n",
       "145                NaN\n",
       "146                NaN\n",
       "147                NaN\n",
       "148                 F2\n",
       "149                NaN\n",
       "150                NaN\n",
       "151                 C2\n",
       "152                NaN\n",
       "153                NaN\n",
       "154                NaN\n",
       "155                NaN\n",
       "156                NaN\n",
       "157                NaN\n",
       "158                NaN\n",
       "159                NaN\n",
       "160                NaN\n",
       "161                NaN\n",
       "162                NaN\n",
       "163                NaN\n",
       "164                NaN\n",
       "165                NaN\n",
       "166                E33\n",
       "167                NaN\n",
       "168                NaN\n",
       "169                NaN\n",
       "170                B19\n",
       "171                NaN\n",
       "172                NaN\n",
       "173                NaN\n",
       "174                 A7\n",
       "175                NaN\n",
       "176                NaN\n",
       "177                C49\n",
       "178                NaN\n",
       "179                NaN\n",
       "180                NaN\n",
       "181                NaN\n",
       "182                NaN\n",
       "183                 F4\n",
       "184                NaN\n",
       "185                A32\n",
       "186                NaN\n",
       "187                NaN\n",
       "188                NaN\n",
       "189                NaN\n",
       "190                NaN\n",
       "191                NaN\n",
       "192                NaN\n",
       "193                 F2\n",
       "194                 B4\n",
       "195                B80\n",
       "196                NaN\n",
       "197                NaN\n",
       "198                NaN\n",
       "199                NaN\n",
       "200                NaN\n",
       "201                NaN\n",
       "202                NaN\n",
       "203                NaN\n",
       "204                NaN\n",
       "205                 G6\n",
       "206                NaN\n",
       "207                NaN\n",
       "208                NaN\n",
       "209                A31\n",
       "210                NaN\n",
       "211                NaN\n",
       "212                NaN\n",
       "213                NaN\n",
       "214                NaN\n",
       "215                D36\n",
       "216                NaN\n",
       "217                NaN\n",
       "218                D15\n",
       "219                NaN\n",
       "220                NaN\n",
       "221                NaN\n",
       "222                NaN\n",
       "223                NaN\n",
       "224                C93\n",
       "225                NaN\n",
       "226                NaN\n",
       "227                NaN\n",
       "228                NaN\n",
       "229                NaN\n",
       "230                C83\n",
       "231                NaN\n",
       "232                NaN\n",
       "233                NaN\n",
       "234                NaN\n",
       "235                NaN\n",
       "236                NaN\n",
       "237                NaN\n",
       "238                NaN\n",
       "239                NaN\n",
       "240                NaN\n",
       "241                NaN\n",
       "242                NaN\n",
       "243                NaN\n",
       "244                NaN\n",
       "245                C78\n",
       "246                NaN\n",
       "247                NaN\n",
       "248                D35\n",
       "249                NaN\n",
       "250                NaN\n",
       "251                 G6\n",
       "252                C87\n",
       "253                NaN\n",
       "254                NaN\n",
       "255                NaN\n",
       "256                NaN\n",
       "257                B77\n",
       "258                NaN\n",
       "259                NaN\n",
       "260                NaN\n",
       "261                NaN\n",
       "262                E67\n",
       "263                B94\n",
       "264                NaN\n",
       "265                NaN\n",
       "266                NaN\n",
       "267                NaN\n",
       "268               C125\n",
       "269                C99\n",
       "270                NaN\n",
       "271                NaN\n",
       "272                NaN\n",
       "273               C118\n",
       "274                NaN\n",
       "275                 D7\n",
       "276                NaN\n",
       "277                NaN\n",
       "278                NaN\n",
       "279                NaN\n",
       "280                NaN\n",
       "281                NaN\n",
       "282                NaN\n",
       "283                NaN\n",
       "284                A19\n",
       "285                NaN\n",
       "286                NaN\n",
       "287                NaN\n",
       "288                NaN\n",
       "289                NaN\n",
       "290                NaN\n",
       "291                B49\n",
       "292                  D\n",
       "293                NaN\n",
       "294                NaN\n",
       "295                NaN\n",
       "296                NaN\n",
       "297            C22 C26\n",
       "298               C106\n",
       "299            B58 B60\n",
       "300                NaN\n",
       "301                NaN\n",
       "302                NaN\n",
       "303               E101\n",
       "304                NaN\n",
       "305            C22 C26\n",
       "306                NaN\n",
       "307                C65\n",
       "308                NaN\n",
       "309                E36\n",
       "310                C54\n",
       "311    B57 B59 B63 B66\n",
       "312                NaN\n",
       "313                NaN\n",
       "314                NaN\n",
       "315                NaN\n",
       "316                NaN\n",
       "317                NaN\n",
       "318                 C7\n",
       "319                E34\n",
       "320                NaN\n",
       "321                NaN\n",
       "322                NaN\n",
       "323                NaN\n",
       "324                NaN\n",
       "325                C32\n",
       "326                NaN\n",
       "327                  D\n",
       "328                NaN\n",
       "329                B18\n",
       "330                NaN\n",
       "331               C124\n",
       "332                C91\n",
       "333                NaN\n",
       "334                NaN\n",
       "335                NaN\n",
       "336                 C2\n",
       "337                E40\n",
       "338                NaN\n",
       "339                  T\n",
       "340                 F2\n",
       "341        C23 C25 C27\n",
       "342                NaN\n",
       "343                NaN\n",
       "344                NaN\n",
       "345                F33\n",
       "346                NaN\n",
       "347                NaN\n",
       "348                NaN\n",
       "349                NaN\n",
       "350                NaN\n",
       "351               C128\n",
       "352                NaN\n",
       "353                NaN\n",
       "354                NaN\n",
       "355                NaN\n",
       "356                E33\n",
       "357                NaN\n",
       "358                NaN\n",
       "359                NaN\n",
       "360                NaN\n",
       "361                NaN\n",
       "362                NaN\n",
       "363                NaN\n",
       "364                NaN\n",
       "365                NaN\n",
       "366                D37\n",
       "367                NaN\n",
       "368                NaN\n",
       "369                B35\n",
       "370                E50\n",
       "371                NaN\n",
       "372                NaN\n",
       "373                NaN\n",
       "374                NaN\n",
       "375                NaN\n",
       "376                NaN\n",
       "377                C82\n",
       "378                NaN\n",
       "379                NaN\n",
       "380                NaN\n",
       "381                NaN\n",
       "382                NaN\n",
       "383                NaN\n",
       "384                NaN\n",
       "385                NaN\n",
       "386                NaN\n",
       "387                NaN\n",
       "388                NaN\n",
       "389                NaN\n",
       "390            B96 B98\n",
       "391                NaN\n",
       "392                NaN\n",
       "393                D36\n",
       "394                 G6\n",
       "395                NaN\n",
       "396                NaN\n",
       "397                NaN\n",
       "398                NaN\n",
       "399                NaN\n",
       "400                NaN\n",
       "401                NaN\n",
       "402                NaN\n",
       "403                NaN\n",
       "404                NaN\n",
       "405                NaN\n",
       "406                NaN\n",
       "407                NaN\n",
       "408                NaN\n",
       "409                NaN\n",
       "410                NaN\n",
       "411                NaN\n",
       "412                C78\n",
       "413                NaN\n",
       "414                NaN\n",
       "415                NaN\n",
       "416                NaN\n",
       "417                NaN\n",
       "418                NaN\n",
       "419                NaN\n",
       "420                NaN\n",
       "421                NaN\n",
       "422                NaN\n",
       "423                NaN\n",
       "424                NaN\n",
       "425                NaN\n",
       "426                NaN\n",
       "427                NaN\n",
       "428                NaN\n",
       "429                E10\n",
       "430                C52\n",
       "431                NaN\n",
       "432                NaN\n",
       "433                NaN\n",
       "434                E44\n",
       "435            B96 B98\n",
       "436                NaN\n",
       "437                NaN\n",
       "438        C23 C25 C27\n",
       "439                NaN\n",
       "440                NaN\n",
       "441                NaN\n",
       "442                NaN\n",
       "443                NaN\n",
       "444                NaN\n",
       "445                A34\n",
       "446                NaN\n",
       "447                NaN\n",
       "448                NaN\n",
       "449               C104\n",
       "450                NaN\n",
       "451                NaN\n",
       "452               C111\n",
       "453                C92\n",
       "454                NaN\n",
       "455                NaN\n",
       "456                E38\n",
       "457                D21\n",
       "458                NaN\n",
       "459                NaN\n",
       "460                E12\n",
       "461                NaN\n",
       "462                E63\n",
       "463                NaN\n",
       "464                NaN\n",
       "465                NaN\n",
       "466                NaN\n",
       "467                NaN\n",
       "468                NaN\n",
       "469                NaN\n",
       "470                NaN\n",
       "471                NaN\n",
       "472                NaN\n",
       "473                  D\n",
       "474                NaN\n",
       "475                A14\n",
       "476                NaN\n",
       "477                NaN\n",
       "478                NaN\n",
       "479                NaN\n",
       "480                NaN\n",
       "481                NaN\n",
       "482                NaN\n",
       "483                NaN\n",
       "484                B49\n",
       "485                NaN\n",
       "486                C93\n",
       "487                B37\n",
       "488                NaN\n",
       "489                NaN\n",
       "490                NaN\n",
       "491                NaN\n",
       "492                C30\n",
       "493                NaN\n",
       "494                NaN\n",
       "495                NaN\n",
       "496                D20\n",
       "497                NaN\n",
       "498            C22 C26\n",
       "499                NaN\n",
       "500                NaN\n",
       "501                NaN\n",
       "502                NaN\n",
       "503                NaN\n",
       "504                B79\n",
       "505                C65\n",
       "506                NaN\n",
       "507                NaN\n",
       "508                NaN\n",
       "509                NaN\n",
       "510                NaN\n",
       "511                NaN\n",
       "512                E25\n",
       "513                NaN\n",
       "514                NaN\n",
       "515                D46\n",
       "516                F33\n",
       "517                NaN\n",
       "518                NaN\n",
       "519                NaN\n",
       "520                B73\n",
       "521                NaN\n",
       "522                NaN\n",
       "523                B18\n",
       "524                NaN\n",
       "525                NaN\n",
       "526                NaN\n",
       "527                C95\n",
       "528                NaN\n",
       "529                NaN\n",
       "530                NaN\n",
       "531                NaN\n",
       "532                NaN\n",
       "533                NaN\n",
       "534                NaN\n",
       "535                NaN\n",
       "536                B38\n",
       "537                NaN\n",
       "538                NaN\n",
       "539                B39\n",
       "540                B22\n",
       "541                NaN\n",
       "542                NaN\n",
       "543                NaN\n",
       "544                C86\n",
       "545                NaN\n",
       "546                NaN\n",
       "547                NaN\n",
       "548                NaN\n",
       "549                NaN\n",
       "550                C70\n",
       "551                NaN\n",
       "552                NaN\n",
       "553                NaN\n",
       "554                NaN\n",
       "555                NaN\n",
       "556                A16\n",
       "557                NaN\n",
       "558                E67\n",
       "559                NaN\n",
       "560                NaN\n",
       "561                NaN\n",
       "562                NaN\n",
       "563                NaN\n",
       "564                NaN\n",
       "565                NaN\n",
       "566                NaN\n",
       "567                NaN\n",
       "568                NaN\n",
       "569                NaN\n",
       "570                NaN\n",
       "571               C101\n",
       "572                E25\n",
       "573                NaN\n",
       "574                NaN\n",
       "575                NaN\n",
       "576                NaN\n",
       "577                E44\n",
       "578                NaN\n",
       "579                NaN\n",
       "580                NaN\n",
       "581                C68\n",
       "582                NaN\n",
       "583                A10\n",
       "584                NaN\n",
       "585                E68\n",
       "586                NaN\n",
       "587                B41\n",
       "588                NaN\n",
       "589                NaN\n",
       "590                NaN\n",
       "591                D20\n",
       "592                NaN\n",
       "593                NaN\n",
       "594                NaN\n",
       "595                NaN\n",
       "596                NaN\n",
       "597                NaN\n",
       "598                NaN\n",
       "599                A20\n",
       "600                NaN\n",
       "601                NaN\n",
       "602                NaN\n",
       "603                NaN\n",
       "604                NaN\n",
       "605                NaN\n",
       "606                NaN\n",
       "607                NaN\n",
       "608                NaN\n",
       "609               C125\n",
       "610                NaN\n",
       "611                NaN\n",
       "612                NaN\n",
       "613                NaN\n",
       "614                NaN\n",
       "615                NaN\n",
       "616                NaN\n",
       "617                NaN\n",
       "618                 F4\n",
       "619                NaN\n",
       "620                NaN\n",
       "621                D19\n",
       "622                NaN\n",
       "623                NaN\n",
       "624                NaN\n",
       "625                D50\n",
       "626                NaN\n",
       "627                 D9\n",
       "628                NaN\n",
       "629                NaN\n",
       "630                A23\n",
       "631                NaN\n",
       "632                B50\n",
       "633                NaN\n",
       "634                NaN\n",
       "635                NaN\n",
       "636                NaN\n",
       "637                NaN\n",
       "638                NaN\n",
       "639                NaN\n",
       "640                NaN\n",
       "641                B35\n",
       "642                NaN\n",
       "643                NaN\n",
       "644                NaN\n",
       "645                D33\n",
       "646                NaN\n",
       "647                A26\n",
       "648                NaN\n",
       "649                NaN\n",
       "650                NaN\n",
       "651                NaN\n",
       "652                NaN\n",
       "653                NaN\n",
       "654                NaN\n",
       "655                NaN\n",
       "656                NaN\n",
       "657                NaN\n",
       "658                NaN\n",
       "659                D48\n",
       "660                NaN\n",
       "661                NaN\n",
       "662                E58\n",
       "663                NaN\n",
       "664                NaN\n",
       "665                NaN\n",
       "666                NaN\n",
       "667                NaN\n",
       "668                NaN\n",
       "669               C126\n",
       "670                NaN\n",
       "671                B71\n",
       "672                NaN\n",
       "673                NaN\n",
       "674                NaN\n",
       "675                NaN\n",
       "676                NaN\n",
       "677                NaN\n",
       "678                NaN\n",
       "679        B51 B53 B55\n",
       "680                NaN\n",
       "681                D49\n",
       "682                NaN\n",
       "683                NaN\n",
       "684                NaN\n",
       "685                NaN\n",
       "686                NaN\n",
       "687                NaN\n",
       "688                NaN\n",
       "689                 B5\n",
       "690                B20\n",
       "691                NaN\n",
       "692                NaN\n",
       "693                NaN\n",
       "694                NaN\n",
       "695                NaN\n",
       "696                NaN\n",
       "697                NaN\n",
       "698                C68\n",
       "699              F G63\n",
       "700            C62 C64\n",
       "701                E24\n",
       "702                NaN\n",
       "703                NaN\n",
       "704                NaN\n",
       "705                NaN\n",
       "706                NaN\n",
       "707                E24\n",
       "708                NaN\n",
       "709                NaN\n",
       "710                C90\n",
       "711               C124\n",
       "712               C126\n",
       "713                NaN\n",
       "714                NaN\n",
       "715              F G73\n",
       "716                C45\n",
       "717               E101\n",
       "718                NaN\n",
       "719                NaN\n",
       "720                NaN\n",
       "721                NaN\n",
       "722                NaN\n",
       "723                NaN\n",
       "724                 E8\n",
       "725                NaN\n",
       "726                NaN\n",
       "727                NaN\n",
       "728                NaN\n",
       "729                NaN\n",
       "730                 B5\n",
       "731                NaN\n",
       "732                NaN\n",
       "733                NaN\n",
       "734                NaN\n",
       "735                NaN\n",
       "736                NaN\n",
       "737               B101\n",
       "738                NaN\n",
       "739                NaN\n",
       "740                D45\n",
       "741                C46\n",
       "742    B57 B59 B63 B66\n",
       "743                NaN\n",
       "744                NaN\n",
       "745                B22\n",
       "746                NaN\n",
       "747                NaN\n",
       "748                D30\n",
       "749                NaN\n",
       "750                NaN\n",
       "751               E121\n",
       "752                NaN\n",
       "753                NaN\n",
       "754                NaN\n",
       "755                NaN\n",
       "756                NaN\n",
       "757                NaN\n",
       "758                NaN\n",
       "759                B77\n",
       "760                NaN\n",
       "761                NaN\n",
       "762                NaN\n",
       "763            B96 B98\n",
       "764                NaN\n",
       "765                D11\n",
       "766                NaN\n",
       "767                NaN\n",
       "768                NaN\n",
       "769                NaN\n",
       "770                NaN\n",
       "771                NaN\n",
       "772                E77\n",
       "773                NaN\n",
       "774                NaN\n",
       "775                NaN\n",
       "776                F38\n",
       "777                NaN\n",
       "778                NaN\n",
       "779                 B3\n",
       "780                NaN\n",
       "781                B20\n",
       "782                 D6\n",
       "783                NaN\n",
       "784                NaN\n",
       "785                NaN\n",
       "786                NaN\n",
       "787                NaN\n",
       "788                NaN\n",
       "789            B82 B84\n",
       "790                NaN\n",
       "791                NaN\n",
       "792                NaN\n",
       "793                NaN\n",
       "794                NaN\n",
       "795                NaN\n",
       "796                D17\n",
       "797                NaN\n",
       "798                NaN\n",
       "799                NaN\n",
       "800                NaN\n",
       "801                NaN\n",
       "802            B96 B98\n",
       "803                NaN\n",
       "804                NaN\n",
       "805                NaN\n",
       "806                A36\n",
       "807                NaN\n",
       "808                NaN\n",
       "809                 E8\n",
       "810                NaN\n",
       "811                NaN\n",
       "812                NaN\n",
       "813                NaN\n",
       "814                NaN\n",
       "815               B102\n",
       "816                NaN\n",
       "817                NaN\n",
       "818                NaN\n",
       "819                NaN\n",
       "820                B69\n",
       "821                NaN\n",
       "822                NaN\n",
       "823               E121\n",
       "824                NaN\n",
       "825                NaN\n",
       "826                NaN\n",
       "827                NaN\n",
       "828                NaN\n",
       "829                B28\n",
       "830                NaN\n",
       "831                NaN\n",
       "832                NaN\n",
       "833                NaN\n",
       "834                NaN\n",
       "835                E49\n",
       "836                NaN\n",
       "837                NaN\n",
       "838                NaN\n",
       "839                C47\n",
       "840                NaN\n",
       "841                NaN\n",
       "842                NaN\n",
       "843                NaN\n",
       "844                NaN\n",
       "845                NaN\n",
       "846                NaN\n",
       "847                NaN\n",
       "848                NaN\n",
       "849                C92\n",
       "850                NaN\n",
       "851                NaN\n",
       "852                NaN\n",
       "853                D28\n",
       "854                NaN\n",
       "855                NaN\n",
       "856                NaN\n",
       "857                E17\n",
       "858                NaN\n",
       "859                NaN\n",
       "860                NaN\n",
       "861                NaN\n",
       "862                D17\n",
       "863                NaN\n",
       "864                NaN\n",
       "865                NaN\n",
       "866                NaN\n",
       "867                A24\n",
       "868                NaN\n",
       "869                NaN\n",
       "870                NaN\n",
       "871                D35\n",
       "872        B51 B53 B55\n",
       "873                NaN\n",
       "874                NaN\n",
       "875                NaN\n",
       "876                NaN\n",
       "877                NaN\n",
       "878                NaN\n",
       "879                C50\n",
       "880                NaN\n",
       "881                NaN\n",
       "882                NaN\n",
       "883                NaN\n",
       "884                NaN\n",
       "885                NaN\n",
       "886                NaN\n",
       "887                B42\n",
       "888                NaN\n",
       "889               C148\n",
       "890                NaN\n",
       "Name: Cabin, dtype: object"
      ]
     },
     "execution_count": 40,
     "metadata": {},
     "output_type": "execute_result"
    }
   ],
   "source": [
    "pd.set_option(\"display.max_rows\", None, \"display.max_columns\", None)\n",
    "train[\"Cabin\"]"
   ]
  },
  {
   "cell_type": "markdown",
   "metadata": {},
   "source": [
    "**XGBoost**"
   ]
  },
  {
   "cell_type": "code",
   "execution_count": 41,
   "metadata": {},
   "outputs": [],
   "source": [
    "from xgboost import XGBClassifier"
   ]
  },
  {
   "cell_type": "code",
   "execution_count": 42,
   "metadata": {},
   "outputs": [],
   "source": [
    "xgb = XGBClassifier(use_label_encoder=False, eval_metric='logloss')"
   ]
  },
  {
   "cell_type": "code",
   "execution_count": 43,
   "metadata": {},
   "outputs": [
    {
     "data": {
      "text/plain": [
       "0.8069926558282594"
      ]
     },
     "execution_count": 43,
     "metadata": {},
     "output_type": "execute_result"
    }
   ],
   "source": [
    "cross_val_score(xgb, X_train, y_train, cv=5).mean()"
   ]
  },
  {
   "cell_type": "code",
   "execution_count": 44,
   "metadata": {},
   "outputs": [
    {
     "data": {
      "text/plain": [
       "0.7417417417417417"
      ]
     },
     "execution_count": 44,
     "metadata": {},
     "output_type": "execute_result"
    }
   ],
   "source": [
    "y_pred = cross_val_predict(xgb, X_train, y_train, cv=5)\n",
    "f1_score(y_train, y_pred)"
   ]
  },
  {
   "cell_type": "markdown",
   "metadata": {},
   "source": [
    "**SGD**"
   ]
  },
  {
   "cell_type": "code",
   "execution_count": 45,
   "metadata": {},
   "outputs": [],
   "source": [
    "sgd = SGDClassifier(class_weight='balanced', penalty='l2', loss='log', random_state=42)"
   ]
  },
  {
   "cell_type": "code",
   "execution_count": 46,
   "metadata": {
    "scrolled": true
   },
   "outputs": [
    {
     "data": {
      "text/plain": [
       "0.7452576737179084"
      ]
     },
     "execution_count": 46,
     "metadata": {},
     "output_type": "execute_result"
    }
   ],
   "source": [
    "cross_val_score(sgd, X_train, y_train, cv=5).mean()"
   ]
  },
  {
   "cell_type": "code",
   "execution_count": 47,
   "metadata": {},
   "outputs": [
    {
     "data": {
      "text/plain": [
       "0.6761768901569187"
      ]
     },
     "execution_count": 47,
     "metadata": {},
     "output_type": "execute_result"
    }
   ],
   "source": [
    "y_pred = cross_val_predict(sgd, X_train, y_train, cv=5)\n",
    "f1_score(y_train, y_pred)"
   ]
  },
  {
   "cell_type": "markdown",
   "metadata": {},
   "source": [
    "**Logistická regrese**"
   ]
  },
  {
   "cell_type": "code",
   "execution_count": 48,
   "metadata": {},
   "outputs": [],
   "source": [
    "from sklearn.linear_model import LogisticRegression"
   ]
  },
  {
   "cell_type": "code",
   "execution_count": 49,
   "metadata": {},
   "outputs": [],
   "source": [
    "logistic = LogisticRegression()"
   ]
  },
  {
   "cell_type": "code",
   "execution_count": 50,
   "metadata": {},
   "outputs": [
    {
     "data": {
      "text/plain": [
       "0.8069612704789405"
      ]
     },
     "execution_count": 50,
     "metadata": {},
     "output_type": "execute_result"
    }
   ],
   "source": [
    "cross_val_score(logistic, X_train, y_train, cv=5).mean()"
   ]
  },
  {
   "cell_type": "code",
   "execution_count": 51,
   "metadata": {},
   "outputs": [
    {
     "data": {
      "text/plain": [
       "0.7401812688821753"
      ]
     },
     "execution_count": 51,
     "metadata": {},
     "output_type": "execute_result"
    }
   ],
   "source": [
    "y_pred = cross_val_predict(logistic, X_train, y_train, cv=5)\n",
    "f1_score(y_train, y_pred)"
   ]
  },
  {
   "cell_type": "markdown",
   "metadata": {},
   "source": [
    "**SVM**"
   ]
  },
  {
   "cell_type": "code",
   "execution_count": 52,
   "metadata": {},
   "outputs": [],
   "source": [
    "from sklearn.svm import SVC"
   ]
  },
  {
   "cell_type": "code",
   "execution_count": 53,
   "metadata": {},
   "outputs": [],
   "source": [
    "svc = SVC(kernel=\"rbf\", probability=True)"
   ]
  },
  {
   "cell_type": "code",
   "execution_count": 54,
   "metadata": {},
   "outputs": [
    {
     "data": {
      "text/plain": [
       "0.8293892411022534"
      ]
     },
     "execution_count": 54,
     "metadata": {},
     "output_type": "execute_result"
    }
   ],
   "source": [
    "cross_val_score(svc, X_train, y_train, cv=5).mean()"
   ]
  },
  {
   "cell_type": "code",
   "execution_count": 55,
   "metadata": {},
   "outputs": [
    {
     "data": {
      "text/plain": [
       "0.7640868536581398"
      ]
     },
     "execution_count": 55,
     "metadata": {},
     "output_type": "execute_result"
    }
   ],
   "source": [
    "cross_val_score(svc, X_train, y_train, cv=5, scoring='f1').mean()"
   ]
  },
  {
   "cell_type": "markdown",
   "metadata": {},
   "source": [
    "**Grid Search pro nalezení nejlepších hyperparametrů SVM**"
   ]
  },
  {
   "cell_type": "code",
   "execution_count": 71,
   "metadata": {},
   "outputs": [
    {
     "name": "stdout",
     "output_type": "stream",
     "text": [
      "Fitting 5 folds for each of 48 candidates, totalling 240 fits\n"
     ]
    },
    {
     "data": {
      "text/plain": [
       "GridSearchCV(cv=5, estimator=SVC(probability=True), n_jobs=-1,\n",
       "             param_grid=[{'C': [1, 3, 5, 10], 'gamma': ['scale', 'auto'],\n",
       "                          'kernel': ['linear', 'rbf']},\n",
       "                         {'C': [1, 3, 5, 10], 'degree': [1, 3, 5, 10],\n",
       "                          'gamma': ['scale', 'auto'], 'kernel': ['poly']}],\n",
       "             return_train_score=True, scoring='accuracy', verbose=1)"
      ]
     },
     "execution_count": 71,
     "metadata": {},
     "output_type": "execute_result"
    }
   ],
   "source": [
    "from sklearn.model_selection import GridSearchCV\n",
    "\n",
    "parameters = [\n",
    "    {'kernel': ['linear', 'rbf'], 'gamma': ['scale', 'auto'], 'C': [1, 3, 5, 10],},\n",
    "    {'kernel': ['poly'], 'gamma': ['scale', 'auto'], 'degree':[1, 3, 5, 10], 'C': [1, 3, 5, 10],},\n",
    "]\n",
    "\n",
    "grid = GridSearchCV(SVC(probability=True), parameters, cv=5, scoring='accuracy', return_train_score=True, verbose=1, n_jobs=-1)\n",
    "grid.fit(X_train, y_train)"
   ]
  },
  {
   "cell_type": "code",
   "execution_count": 72,
   "metadata": {},
   "outputs": [
    {
     "data": {
      "text/plain": [
       "{'C': 5, 'gamma': 'auto', 'kernel': 'rbf'}"
      ]
     },
     "execution_count": 72,
     "metadata": {},
     "output_type": "execute_result"
    }
   ],
   "source": [
    "grid.best_params_"
   ]
  },
  {
   "cell_type": "code",
   "execution_count": 73,
   "metadata": {},
   "outputs": [
    {
     "data": {
      "text/plain": [
       "0.8327663046889711"
      ]
     },
     "execution_count": 73,
     "metadata": {},
     "output_type": "execute_result"
    }
   ],
   "source": [
    "grid.best_score_"
   ]
  },
  {
   "cell_type": "code",
   "execution_count": 74,
   "metadata": {},
   "outputs": [],
   "source": [
    "svc = grid.best_estimator_"
   ]
  },
  {
   "cell_type": "markdown",
   "metadata": {},
   "source": [
    "**Ensemble metoda - Voting classifier**"
   ]
  },
  {
   "cell_type": "code",
   "execution_count": 75,
   "metadata": {},
   "outputs": [],
   "source": [
    "from sklearn.ensemble import VotingClassifier\n",
    "voting = VotingClassifier(\n",
    "    estimators=[('lr', logistic), ('rf', forest), ('xgb', xgb),  ('svc', svc)],\n",
    "    voting='soft'\n",
    ")"
   ]
  },
  {
   "cell_type": "code",
   "execution_count": 76,
   "metadata": {},
   "outputs": [
    {
     "data": {
      "text/plain": [
       "0.8383905592869247"
      ]
     },
     "execution_count": 76,
     "metadata": {},
     "output_type": "execute_result"
    }
   ],
   "source": [
    "cross_val_score(voting, X_train, y_train, cv=5).mean()"
   ]
  },
  {
   "cell_type": "code",
   "execution_count": 77,
   "metadata": {},
   "outputs": [
    {
     "data": {
      "text/plain": [
       "0.775442273821795"
      ]
     },
     "execution_count": 77,
     "metadata": {},
     "output_type": "execute_result"
    }
   ],
   "source": [
    "cross_val_score(voting, X_train, y_train, cv=5, scoring='f1').mean()"
   ]
  },
  {
   "cell_type": "markdown",
   "metadata": {},
   "source": [
    "**Feature Importance u Random Forest**"
   ]
  },
  {
   "cell_type": "code",
   "execution_count": 60,
   "metadata": {},
   "outputs": [
    {
     "data": {
      "text/plain": [
       "[0.2363591779055148,\n",
       " 0.19680450966248372,\n",
       " 0.1408736703019815,\n",
       " 0.13033851488368908,\n",
       " 0.04767555035301391,\n",
       " 0.04725531549753643,\n",
       " 0.02504768651145073,\n",
       " 0.02317194984663674,\n",
       " 0.02066647023396213,\n",
       " 0.017125556329957606,\n",
       " 0.017030489807722596,\n",
       " 0.015392711896572413,\n",
       " 0.013903896195689795,\n",
       " 0.013469375040243172,\n",
       " 0.0132910163325436,\n",
       " 0.009621425644204198,\n",
       " 0.009396965786938513,\n",
       " 0.007872697317323337,\n",
       " 0.007158304795004778,\n",
       " 0.005938109774979547,\n",
       " 0.0016066058825513316]"
      ]
     },
     "execution_count": 60,
     "metadata": {},
     "output_type": "execute_result"
    }
   ],
   "source": [
    "forest.fit(X_train, y_train)\n",
    "sorted(forest.feature_importances_, reverse=True)"
   ]
  },
  {
   "cell_type": "code",
   "execution_count": 61,
   "metadata": {},
   "outputs": [
    {
     "data": {
      "text/plain": [
       "[3, 0, 8, 9, 4, 7, 5, 1, 2, 15, 12, 6, 16, 10, 17, 14, 11, 13, 18, 19, 20]"
      ]
     },
     "execution_count": 61,
     "metadata": {},
     "output_type": "execute_result"
    }
   ],
   "source": [
    "[i[0] for i in sorted(enumerate(forest.feature_importances_), key=lambda x:x[1], reverse=True)]"
   ]
  },
  {
   "cell_type": "markdown",
   "metadata": {},
   "source": [
    "Fare, Age, Sex M/F, ostatní už mnohem méně významné"
   ]
  },
  {
   "cell_type": "code",
   "execution_count": null,
   "metadata": {},
   "outputs": [],
   "source": []
  }
 ],
 "metadata": {
  "kernelspec": {
   "display_name": "Python 3",
   "language": "python",
   "name": "python3"
  },
  "language_info": {
   "codemirror_mode": {
    "name": "ipython",
    "version": 3
   },
   "file_extension": ".py",
   "mimetype": "text/x-python",
   "name": "python",
   "nbconvert_exporter": "python",
   "pygments_lexer": "ipython3",
   "version": "3.8.7"
  }
 },
 "nbformat": 4,
 "nbformat_minor": 4
}
