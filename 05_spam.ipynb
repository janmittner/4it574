{
 "cells": [
  {
   "cell_type": "markdown",
   "metadata": {},
   "source": [
    "### Načteme data"
   ]
  },
  {
   "cell_type": "code",
   "execution_count": 1,
   "metadata": {},
   "outputs": [],
   "source": [
    "import numpy as np\n",
    "import os\n",
    "\n",
    "PATH = os.path.join(\"datasets\", \"05\", \"spam\")"
   ]
  },
  {
   "cell_type": "code",
   "execution_count": 2,
   "metadata": {},
   "outputs": [],
   "source": [
    "import pandas as pd\n",
    "\n",
    "def load_data(file, path=PATH, encoding='latin-1'):\n",
    "    csv = os.path.join(path, file)\n",
    "    return pd.read_csv(csv, encoding=encoding)\n"
   ]
  },
  {
   "cell_type": "code",
   "execution_count": 3,
   "metadata": {},
   "outputs": [],
   "source": [
    "data = load_data(\"spam.csv\")"
   ]
  },
  {
   "cell_type": "markdown",
   "metadata": {},
   "source": [
    "### Prozkoumáme a předpřipravíme data"
   ]
  },
  {
   "cell_type": "code",
   "execution_count": 4,
   "metadata": {},
   "outputs": [
    {
     "data": {
      "text/html": [
       "<div>\n",
       "<style scoped>\n",
       "    .dataframe tbody tr th:only-of-type {\n",
       "        vertical-align: middle;\n",
       "    }\n",
       "\n",
       "    .dataframe tbody tr th {\n",
       "        vertical-align: top;\n",
       "    }\n",
       "\n",
       "    .dataframe thead th {\n",
       "        text-align: right;\n",
       "    }\n",
       "</style>\n",
       "<table border=\"1\" class=\"dataframe\">\n",
       "  <thead>\n",
       "    <tr style=\"text-align: right;\">\n",
       "      <th></th>\n",
       "      <th>v1</th>\n",
       "      <th>v2</th>\n",
       "      <th>Unnamed: 2</th>\n",
       "      <th>Unnamed: 3</th>\n",
       "      <th>Unnamed: 4</th>\n",
       "    </tr>\n",
       "  </thead>\n",
       "  <tbody>\n",
       "    <tr>\n",
       "      <th>0</th>\n",
       "      <td>ham</td>\n",
       "      <td>Go until jurong point, crazy.. Available only ...</td>\n",
       "      <td>NaN</td>\n",
       "      <td>NaN</td>\n",
       "      <td>NaN</td>\n",
       "    </tr>\n",
       "    <tr>\n",
       "      <th>1</th>\n",
       "      <td>ham</td>\n",
       "      <td>Ok lar... Joking wif u oni...</td>\n",
       "      <td>NaN</td>\n",
       "      <td>NaN</td>\n",
       "      <td>NaN</td>\n",
       "    </tr>\n",
       "    <tr>\n",
       "      <th>2</th>\n",
       "      <td>spam</td>\n",
       "      <td>Free entry in 2 a wkly comp to win FA Cup fina...</td>\n",
       "      <td>NaN</td>\n",
       "      <td>NaN</td>\n",
       "      <td>NaN</td>\n",
       "    </tr>\n",
       "    <tr>\n",
       "      <th>3</th>\n",
       "      <td>ham</td>\n",
       "      <td>U dun say so early hor... U c already then say...</td>\n",
       "      <td>NaN</td>\n",
       "      <td>NaN</td>\n",
       "      <td>NaN</td>\n",
       "    </tr>\n",
       "    <tr>\n",
       "      <th>4</th>\n",
       "      <td>ham</td>\n",
       "      <td>Nah I don't think he goes to usf, he lives aro...</td>\n",
       "      <td>NaN</td>\n",
       "      <td>NaN</td>\n",
       "      <td>NaN</td>\n",
       "    </tr>\n",
       "  </tbody>\n",
       "</table>\n",
       "</div>"
      ],
      "text/plain": [
       "     v1                                                 v2 Unnamed: 2  \\\n",
       "0   ham  Go until jurong point, crazy.. Available only ...        NaN   \n",
       "1   ham                      Ok lar... Joking wif u oni...        NaN   \n",
       "2  spam  Free entry in 2 a wkly comp to win FA Cup fina...        NaN   \n",
       "3   ham  U dun say so early hor... U c already then say...        NaN   \n",
       "4   ham  Nah I don't think he goes to usf, he lives aro...        NaN   \n",
       "\n",
       "  Unnamed: 3 Unnamed: 4  \n",
       "0        NaN        NaN  \n",
       "1        NaN        NaN  \n",
       "2        NaN        NaN  \n",
       "3        NaN        NaN  \n",
       "4        NaN        NaN  "
      ]
     },
     "execution_count": 4,
     "metadata": {},
     "output_type": "execute_result"
    }
   ],
   "source": [
    "data.head()"
   ]
  },
  {
   "cell_type": "code",
   "execution_count": 5,
   "metadata": {
    "scrolled": true
   },
   "outputs": [
    {
     "name": "stdout",
     "output_type": "stream",
     "text": [
      "<class 'pandas.core.frame.DataFrame'>\n",
      "RangeIndex: 5572 entries, 0 to 5571\n",
      "Data columns (total 5 columns):\n",
      " #   Column      Non-Null Count  Dtype \n",
      "---  ------      --------------  ----- \n",
      " 0   v1          5572 non-null   object\n",
      " 1   v2          5572 non-null   object\n",
      " 2   Unnamed: 2  50 non-null     object\n",
      " 3   Unnamed: 3  12 non-null     object\n",
      " 4   Unnamed: 4  6 non-null      object\n",
      "dtypes: object(5)\n",
      "memory usage: 217.8+ KB\n"
     ]
    }
   ],
   "source": [
    "data.info()"
   ]
  },
  {
   "cell_type": "markdown",
   "metadata": {},
   "source": [
    "Odstraníme zbytečné sloupečky a přejmenujeme užitečné"
   ]
  },
  {
   "cell_type": "code",
   "execution_count": 6,
   "metadata": {},
   "outputs": [],
   "source": [
    "data = data.drop([\"Unnamed: 2\", \"Unnamed: 3\", \"Unnamed: 4\"], axis=1)\n",
    "data = data.rename(columns={\"v1\":\"label\", \"v2\":\"text\"})"
   ]
  },
  {
   "cell_type": "code",
   "execution_count": 7,
   "metadata": {
    "scrolled": false
   },
   "outputs": [
    {
     "data": {
      "text/html": [
       "<div>\n",
       "<style scoped>\n",
       "    .dataframe tbody tr th:only-of-type {\n",
       "        vertical-align: middle;\n",
       "    }\n",
       "\n",
       "    .dataframe tbody tr th {\n",
       "        vertical-align: top;\n",
       "    }\n",
       "\n",
       "    .dataframe thead tr th {\n",
       "        text-align: left;\n",
       "    }\n",
       "\n",
       "    .dataframe thead tr:last-of-type th {\n",
       "        text-align: right;\n",
       "    }\n",
       "</style>\n",
       "<table border=\"1\" class=\"dataframe\">\n",
       "  <thead>\n",
       "    <tr>\n",
       "      <th></th>\n",
       "      <th colspan=\"4\" halign=\"left\">text</th>\n",
       "    </tr>\n",
       "    <tr>\n",
       "      <th></th>\n",
       "      <th>count</th>\n",
       "      <th>unique</th>\n",
       "      <th>top</th>\n",
       "      <th>freq</th>\n",
       "    </tr>\n",
       "    <tr>\n",
       "      <th>label</th>\n",
       "      <th></th>\n",
       "      <th></th>\n",
       "      <th></th>\n",
       "      <th></th>\n",
       "    </tr>\n",
       "  </thead>\n",
       "  <tbody>\n",
       "    <tr>\n",
       "      <th>ham</th>\n",
       "      <td>4825</td>\n",
       "      <td>4516</td>\n",
       "      <td>Sorry, I'll call later</td>\n",
       "      <td>30</td>\n",
       "    </tr>\n",
       "    <tr>\n",
       "      <th>spam</th>\n",
       "      <td>747</td>\n",
       "      <td>653</td>\n",
       "      <td>Please call our customer service representativ...</td>\n",
       "      <td>4</td>\n",
       "    </tr>\n",
       "  </tbody>\n",
       "</table>\n",
       "</div>"
      ],
      "text/plain": [
       "       text                                                               \n",
       "      count unique                                                top freq\n",
       "label                                                                     \n",
       "ham    4825   4516                             Sorry, I'll call later   30\n",
       "spam    747    653  Please call our customer service representativ...    4"
      ]
     },
     "execution_count": 7,
     "metadata": {},
     "output_type": "execute_result"
    }
   ],
   "source": [
    "data.groupby(\"label\").describe()"
   ]
  },
  {
   "cell_type": "markdown",
   "metadata": {},
   "source": [
    "Cílové hodnoty"
   ]
  },
  {
   "cell_type": "code",
   "execution_count": 8,
   "metadata": {},
   "outputs": [
    {
     "data": {
      "text/plain": [
       "ham     4825\n",
       "spam     747\n",
       "Name: label, dtype: int64"
      ]
     },
     "execution_count": 8,
     "metadata": {},
     "output_type": "execute_result"
    }
   ],
   "source": [
    "data[\"label\"].value_counts()"
   ]
  },
  {
   "cell_type": "markdown",
   "metadata": {},
   "source": [
    "Cílová třída jako číselný (nebo bool) atribut"
   ]
  },
  {
   "cell_type": "code",
   "execution_count": 9,
   "metadata": {},
   "outputs": [],
   "source": [
    "data[\"spam\"] = (data[\"label\"] == \"spam\").astype(int)"
   ]
  },
  {
   "cell_type": "markdown",
   "metadata": {},
   "source": [
    "### Rozdělíme dataset na trénovací a testovací"
   ]
  },
  {
   "cell_type": "code",
   "execution_count": 10,
   "metadata": {},
   "outputs": [],
   "source": [
    "from sklearn.model_selection import train_test_split\n",
    "train, test = train_test_split(data, test_size=0.2, random_state=42)"
   ]
  },
  {
   "cell_type": "markdown",
   "metadata": {},
   "source": [
    "### Převod textu na vektor"
   ]
  },
  {
   "cell_type": "markdown",
   "metadata": {},
   "source": [
    "Klíčovým problémem je jak převést text na reprezentaci, kterou můžeme použít pro ML modely.\n",
    "Základní způsoby:\n",
    "- bag of words\n",
    "- TF/IDF\n",
    "- word embeddings"
   ]
  },
  {
   "cell_type": "markdown",
   "metadata": {},
   "source": [
    "**Ukážeme si bag of words**"
   ]
  },
  {
   "cell_type": "code",
   "execution_count": 11,
   "metadata": {},
   "outputs": [],
   "source": [
    "from sklearn.feature_extraction.text import CountVectorizer"
   ]
  },
  {
   "cell_type": "code",
   "execution_count": 12,
   "metadata": {},
   "outputs": [],
   "source": [
    "bow = CountVectorizer()"
   ]
  },
  {
   "cell_type": "code",
   "execution_count": 13,
   "metadata": {},
   "outputs": [
    {
     "data": {
      "text/plain": [
       "CountVectorizer()"
      ]
     },
     "execution_count": 13,
     "metadata": {},
     "output_type": "execute_result"
    }
   ],
   "source": [
    "bow.fit(train[\"text\"])"
   ]
  },
  {
   "cell_type": "code",
   "execution_count": 14,
   "metadata": {},
   "outputs": [
    {
     "data": {
      "text/plain": [
       "7735"
      ]
     },
     "execution_count": 14,
     "metadata": {},
     "output_type": "execute_result"
    }
   ],
   "source": [
    "len(bow.vocabulary_)"
   ]
  },
  {
   "cell_type": "code",
   "execution_count": 15,
   "metadata": {},
   "outputs": [
    {
     "data": {
      "text/plain": [
       "{'no': 4773,\n",
       " 'in': 3637,\n",
       " 'the': 6786,\n",
       " 'same': 5872,\n",
       " 'boat': 1415,\n",
       " 'still': 6455,\n",
       " 'here': 3416,\n",
       " 'at': 1105,\n",
       " 'my': 4646,\n",
       " 'moms': 4549,\n",
       " 'check': 1758,\n",
       " 'me': 4390,\n",
       " 'out': 4988,\n",
       " 'on': 4912,\n",
       " 'yo': 7674,\n",
       " 'half': 3308,\n",
       " 'naked': 4661,\n",
       " 'bank': 1218,\n",
       " 'of': 4869,\n",
       " 'granite': 3237,\n",
       " 'issues': 3749,\n",
       " 'strong': 6494,\n",
       " 'buy': 1580,\n",
       " 'explosive': 2741,\n",
       " 'pick': 5178,\n",
       " 'for': 2954,\n",
       " 'our': 4986,\n",
       " 'members': 4423,\n",
       " 'up': 7152,\n",
       " 'over': 5003,\n",
       " '300': 419,\n",
       " 'nasdaq': 4675,\n",
       " 'symbol': 6639,\n",
       " 'cdgt': 1701,\n",
       " 'that': 6781,\n",
       " 'is': 3739,\n",
       " '00': 0,\n",
       " 'per': 5126,\n",
       " 'they': 6809,\n",
       " 'giving': 3157,\n",
       " 'second': 5948,\n",
       " 'chance': 1726,\n",
       " 'to': 6906,\n",
       " 'rahul': 5526,\n",
       " 'dengra': 2246,\n",
       " 'played': 5221,\n",
       " 'smash': 6217,\n",
       " 'bros': 1522,\n",
       " 'lt': 4234,\n",
       " 'gt': 3271,\n",
       " 'religiously': 5661,\n",
       " 'private': 5399,\n",
       " 'your': 7685,\n",
       " '2003': 345,\n",
       " 'account': 783,\n",
       " 'statement': 6429,\n",
       " '07973788240': 45,\n",
       " 'shows': 6108,\n",
       " '800': 630,\n",
       " 'un': 7099,\n",
       " 'redeemed': 5630,\n",
       " 'points': 5270,\n",
       " 'call': 1608,\n",
       " '08715203649': 122,\n",
       " 'identifier': 3593,\n",
       " 'code': 1884,\n",
       " '40533': 476,\n",
       " 'expires': 2736,\n",
       " '31': 430,\n",
       " '10': 255,\n",
       " '04': 15,\n",
       " 'says': 5906,\n",
       " 'you': 7679,\n",
       " 'never': 4732,\n",
       " 'answer': 975,\n",
       " 'texts': 6768,\n",
       " 'confirm': 1965,\n",
       " 'deny': 2252,\n",
       " '88066': 695,\n",
       " 'from': 3038,\n",
       " 'lost': 4198,\n",
       " '3pound': 463,\n",
       " 'help': 3402,\n",
       " 'okey': 4898,\n",
       " 'dokey': 2405,\n",
       " 'll': 4147,\n",
       " 'be': 1271,\n",
       " 'bit': 1367,\n",
       " 'just': 3873,\n",
       " 'sorting': 6303,\n",
       " 'some': 6265,\n",
       " 'stuff': 6509,\n",
       " 'why': 7475,\n",
       " 'come': 1911,\n",
       " 'between': 1334,\n",
       " 'people': 5124,\n",
       " 'wah': 7318,\n",
       " 'lucky': 4241,\n",
       " 'man': 4317,\n",
       " 'then': 6798,\n",
       " 'can': 1632,\n",
       " 'save': 5899,\n",
       " 'money': 4552,\n",
       " 'hee': 3391,\n",
       " 'much': 4614,\n",
       " 'better': 1331,\n",
       " 'now': 4823,\n",
       " 'thanks': 6775,\n",
       " 'lol': 4170,\n",
       " 'madam': 4285,\n",
       " 'regret': 5649,\n",
       " 'disturbance': 2361,\n",
       " 'might': 4456,\n",
       " 'receive': 5606,\n",
       " 'reference': 5634,\n",
       " 'dlf': 2371,\n",
       " 'premarica': 5359,\n",
       " 'kindly': 3939,\n",
       " 'informed': 3672,\n",
       " 'rgds': 5756,\n",
       " 'rakhesh': 5538,\n",
       " 'kerala': 3914,\n",
       " 'coming': 1917,\n",
       " 'home': 3474,\n",
       " 'dinner': 2329,\n",
       " 'ok': 4894,\n",
       " 'ì_': 7722,\n",
       " 'all': 910,\n",
       " 'decide': 2201,\n",
       " 'faster': 2798,\n",
       " 'cos': 2021,\n",
       " 'sis': 6157,\n",
       " 'going': 3182,\n",
       " 'liao': 4081,\n",
       " 'hi': 3427,\n",
       " 'mate': 4364,\n",
       " 'its': 3757,\n",
       " 'rv': 5841,\n",
       " 'did': 2304,\n",
       " 'hav': 3359,\n",
       " 'nice': 4747,\n",
       " 'hol': 3464,\n",
       " 'message': 4439,\n",
       " 'say': 5903,\n",
       " 'hello': 3399,\n",
       " 'coz': 2050,\n",
       " 'havenåõt': 3365,\n",
       " 'sent': 5994,\n",
       " 'ages': 867,\n",
       " 'started': 6422,\n",
       " 'driving': 2467,\n",
       " 'so': 6251,\n",
       " 'stay': 6433,\n",
       " 'off': 4871,\n",
       " 'roads': 5781,\n",
       " 'rvx': 5842,\n",
       " 'amazing': 932,\n",
       " 'if': 3600,\n",
       " 'rearrange': 5592,\n",
       " 'these': 6805,\n",
       " 'letters': 4078,\n",
       " 'it': 3750,\n",
       " 'gives': 3156,\n",
       " 'meaning': 4394,\n",
       " 'dormitory': 2425,\n",
       " 'dirty': 2339,\n",
       " 'room': 5798,\n",
       " 'astronomer': 1102,\n",
       " 'moon': 4564,\n",
       " 'starer': 6416,\n",
       " 'eyes': 2752,\n",
       " 'see': 5960,\n",
       " 'election': 2572,\n",
       " 'results': 5737,\n",
       " 'lies': 4089,\n",
       " 'lets': 4076,\n",
       " 'recount': 5624,\n",
       " 'mother': 4575,\n",
       " 'law': 4030,\n",
       " 'woman': 7541,\n",
       " 'hitler': 3446,\n",
       " 'eleven': 2576,\n",
       " 'plus': 5242,\n",
       " 'two': 7064,\n",
       " 'twelve': 7057,\n",
       " 'one': 4918,\n",
       " 'good': 3193,\n",
       " 'morning': 4569,\n",
       " 'plz': 5244,\n",
       " 'sir': 6155,\n",
       " 'actually': 806,\n",
       " 'guys': 3290,\n",
       " 'meet': 4408,\n",
       " 'sunoco': 6577,\n",
       " 'howard': 3523,\n",
       " 'should': 6094,\n",
       " 'right': 5764,\n",
       " 'way': 7381,\n",
       " 'new': 4735,\n",
       " 'theory': 6801,\n",
       " 'argument': 1043,\n",
       " 'wins': 7504,\n",
       " 'situation': 6165,\n",
       " 'but': 1575,\n",
       " 'loses': 4195,\n",
       " 'person': 5141,\n",
       " 'dont': 2416,\n",
       " 'argue': 1042,\n",
       " 'with': 7516,\n",
       " 'ur': 7170,\n",
       " 'friends': 3023,\n",
       " 'kick': 3925,\n",
       " 'them': 6794,\n",
       " 'amp': 945,\n",
       " 'always': 929,\n",
       " 'correct': 2017,\n",
       " 'oh': 4890,\n",
       " 'yeah': 7650,\n",
       " 'and': 955,\n",
       " 'diet': 2312,\n",
       " 'flew': 2909,\n",
       " 'window': 7495,\n",
       " 'watching': 7371,\n",
       " 'cartoon': 1676,\n",
       " 'listening': 4135,\n",
       " 'music': 4636,\n",
       " 'eve': 2671,\n",
       " 'had': 3298,\n",
       " 'go': 3169,\n",
       " 'temple': 6736,\n",
       " 'church': 1819,\n",
       " 'what': 7447,\n",
       " 'about': 759,\n",
       " 'india': 3660,\n",
       " 'win': 7493,\n",
       " 'or': 4954,\n",
       " 'level': 4079,\n",
       " 'series': 6000,\n",
       " 'means': 4396,\n",
       " 'this': 6825,\n",
       " 'record': 5620,\n",
       " 'armand': 1049,\n",
       " 'get': 3129,\n",
       " 'ass': 1089,\n",
       " 'epsilon': 2637,\n",
       " 'tell': 6726,\n",
       " 'her': 3415,\n",
       " 'said': 5859,\n",
       " 'eat': 2526,\n",
       " 'shit': 6067,\n",
       " 'phone': 5164,\n",
       " 'phoned': 5167,\n",
       " 'disconnected': 2349,\n",
       " 'please': 5229,\n",
       " 'customer': 2126,\n",
       " 'service': 6004,\n",
       " 'representative': 5702,\n",
       " 'freephone': 3008,\n",
       " '0808': 58,\n",
       " '145': 298,\n",
       " '4742': 501,\n",
       " '9am': 735,\n",
       " '11pm': 277,\n",
       " 'as': 1071,\n",
       " 'have': 3361,\n",
       " 'won': 7544,\n",
       " 'guaranteed': 3273,\n",
       " '1000': 257,\n",
       " 'cash': 1678,\n",
       " '5000': 531,\n",
       " 'prize': 5402,\n",
       " 'hey': 3423,\n",
       " 'sweet': 6623,\n",
       " 'was': 7359,\n",
       " 'wondering': 7548,\n",
       " 'when': 7454,\n",
       " 'moment': 4547,\n",
       " 'want': 7348,\n",
       " 'send': 5985,\n",
       " 'file': 2853,\n",
       " 'someone': 6269,\n",
       " 'yahoo': 7638,\n",
       " 'because': 1281,\n",
       " 'their': 6791,\n",
       " 'connection': 1976,\n",
       " 'sucks': 6543,\n",
       " 'remember': 5667,\n",
       " 'set': 6007,\n",
       " 'page': 5029,\n",
       " 'download': 2437,\n",
       " 'format': 2972,\n",
       " 'disc': 2346,\n",
       " 'could': 2031,\n",
       " 'how': 3522,\n",
       " 'do': 2375,\n",
       " 'know': 3957,\n",
       " 'other': 4978,\n",
       " 'big': 1348,\n",
       " 'files': 2854,\n",
       " 'directly': 2335,\n",
       " 'internet': 3706,\n",
       " 'any': 985,\n",
       " 'would': 7578,\n",
       " 'great': 3247,\n",
       " 'prey': 5384,\n",
       " 'teasing': 6714,\n",
       " 'kiss': 3944,\n",
       " 'purity': 5477,\n",
       " 'friendship': 3025,\n",
       " 'not': 4809,\n",
       " 'smiling': 6224,\n",
       " 'after': 852,\n",
       " 'reading': 5579,\n",
       " 'forwarded': 2980,\n",
       " 'by': 1590,\n",
       " 'seeing': 5962,\n",
       " 'name': 4664,\n",
       " 'gud': 3275,\n",
       " 'evng': 2695,\n",
       " 'heard': 3382,\n",
       " 'u4': 7082,\n",
       " 'while': 7463,\n",
       " 'am': 931,\n",
       " 'night': 4755,\n",
       " 'knickers': 3954,\n",
       " 'make': 4309,\n",
       " 'beg': 1300,\n",
       " 'like': 4100,\n",
       " 'last': 4013,\n",
       " 'time': 6875,\n",
       " '01223585236': 6,\n",
       " 'xx': 7625,\n",
       " 'luv': 4249,\n",
       " 'nikiyu4': 4760,\n",
       " 'net': 4722,\n",
       " 'will': 7490,\n",
       " 'place': 5206,\n",
       " 'welp': 7426,\n",
       " 'apparently': 1008,\n",
       " 'he': 3371,\n",
       " 'retired': 5741,\n",
       " 'haha': 3300,\n",
       " 'leh': 4062,\n",
       " 'later': 4019,\n",
       " 'got': 3211,\n",
       " 'tuition': 7047,\n",
       " 'looking': 4184,\n",
       " 'empty': 2594,\n",
       " 'slots': 6205,\n",
       " 'lessons': 4074,\n",
       " 'aiyar': 888,\n",
       " 'hard': 3342,\n",
       " 'type': 7078,\n",
       " 'free': 3000,\n",
       " 'scold': 5919,\n",
       " 'close': 1851,\n",
       " 'wat': 7366,\n",
       " 'late': 4016,\n",
       " 'early': 2515,\n",
       " 'mah': 4296,\n",
       " 'we': 7386,\n",
       " 'juz': 3877,\n",
       " 'lor': 4192,\n",
       " 'aiya': 886,\n",
       " 'dunno': 2497,\n",
       " 'yup': 7705,\n",
       " 'paragon': 5058,\n",
       " 'havent': 3363,\n",
       " 'decided': 2202,\n",
       " 'whether': 7461,\n",
       " 'cut': 2129,\n",
       " 'yet': 7665,\n",
       " 'tv': 7055,\n",
       " 'job': 3828,\n",
       " '2004': 346,\n",
       " '07742676969': 30,\n",
       " '786': 618,\n",
       " 'unredeemed': 7143,\n",
       " 'bonus': 1425,\n",
       " 'claim': 1827,\n",
       " '08719180248': 152,\n",
       " '45239': 498,\n",
       " 'run': 5835,\n",
       " 'ttyl': 7042,\n",
       " 'love': 4212,\n",
       " 'goes': 3177,\n",
       " 'day': 2179,\n",
       " 'wish': 7509,\n",
       " 'well': 7425,\n",
       " 'fine': 2871,\n",
       " 'babe': 1183,\n",
       " 'hope': 3492,\n",
       " 'find': 2869,\n",
       " 'prospects': 5445,\n",
       " 'miss': 4491,\n",
       " 'boytoy': 1475,\n",
       " 'zoe': 7714,\n",
       " 'hit': 3445,\n",
       " 'im': 3615,\n",
       " 'fucking': 3049,\n",
       " 'shitin': 6069,\n",
       " 'myself': 4650,\n",
       " 'il': 3610,\n",
       " 'defo': 2225,\n",
       " 'try': 7031,\n",
       " 'hardest': 3345,\n",
       " 'cum': 2115,\n",
       " '2morow': 393,\n",
       " 'millions': 4463,\n",
       " 'lekdog': 4064,\n",
       " 'text': 6758,\n",
       " 'cup': 2117,\n",
       " 'stop': 6467,\n",
       " 'work': 7558,\n",
       " 'bus': 1568,\n",
       " 'congratulations': 1973,\n",
       " 'ore': 4963,\n",
       " 'mo': 4521,\n",
       " 'owo': 5018,\n",
       " 're': 5569,\n",
       " 'wa': 7314,\n",
       " 'enjoy': 2610,\n",
       " 'many': 4331,\n",
       " 'happy': 3341,\n",
       " 'moments': 4548,\n",
       " 'fro': 3036,\n",
       " 'wherever': 7459,\n",
       " 'suffering': 6548,\n",
       " 'fever': 2835,\n",
       " 'dysentry': 2508,\n",
       " 'able': 757,\n",
       " 'office': 4879,\n",
       " 'today': 6912,\n",
       " 'pa': 5022,\n",
       " 'pain': 5033,\n",
       " 'de': 2186,\n",
       " 'seventeen': 6014,\n",
       " 'pounds': 5323,\n",
       " 'seven': 6013,\n",
       " 'hundred': 3549,\n",
       " 'ml': 4511,\n",
       " 'ûò': 7733,\n",
       " 'complain': 1934,\n",
       " 'num': 4834,\n",
       " 'only': 4924,\n",
       " 'bettr': 1333,\n",
       " 'bsnl': 1537,\n",
       " 'offc': 4872,\n",
       " 'nd': 4693,\n",
       " 'apply': 1013,\n",
       " 'kate': 3899,\n",
       " 'jackson': 3780,\n",
       " 'rec': 5602,\n",
       " 'center': 1711,\n",
       " 'before': 1298,\n",
       " '7ish': 623,\n",
       " 'congratulation': 1972,\n",
       " 'whatsup': 7450,\n",
       " 'there': 6803,\n",
       " 'sleep': 6188,\n",
       " '12': 278,\n",
       " 'japanese': 3796,\n",
       " 'proverb': 5447,\n",
       " 'too': 6943,\n",
       " 'none': 4790,\n",
       " 'must': 4639,\n",
       " 'indian': 3661,\n",
       " 'version': 7241,\n",
       " 'let': 4075,\n",
       " 'him': 3437,\n",
       " 'leave': 4051,\n",
       " 'finally': 2866,\n",
       " 'doing': 2402,\n",
       " 'strike': 6490,\n",
       " 'against': 860,\n",
       " 'search': 5943,\n",
       " 'happiness': 3340,\n",
       " 'main': 4305,\n",
       " 'sources': 6316,\n",
       " 'unhappiness': 7123,\n",
       " 'accept': 771,\n",
       " 'life': 4090,\n",
       " 'comes': 1913,\n",
       " 'every': 2679,\n",
       " 'live': 4140,\n",
       " 'faith': 2771,\n",
       " 'makes': 4310,\n",
       " 'things': 6815,\n",
       " 'possible': 5308,\n",
       " 'beautiful': 1277,\n",
       " 'may': 4383,\n",
       " 'three': 6842,\n",
       " 'christmas': 1815,\n",
       " 'merry': 4436,\n",
       " 'ya': 7637,\n",
       " 'class': 1833,\n",
       " 'holla': 3470,\n",
       " 'space': 6322,\n",
       " 'invaders': 3713,\n",
       " 'orig': 4970,\n",
       " 'arcade': 1034,\n",
       " 'game': 3083,\n",
       " 'console': 1984,\n",
       " 'press': 5373,\n",
       " 'games': 3084,\n",
       " 'std': 6438,\n",
       " 'wap': 7353,\n",
       " 'charge': 1737,\n",
       " 'o2': 4852,\n",
       " 'co': 1875,\n",
       " 'uk': 7090,\n",
       " 'terms': 6744,\n",
       " 'settings': 6009,\n",
       " 'purchase': 5474,\n",
       " 'house': 3519,\n",
       " 'water': 7373,\n",
       " 'dock': 2379,\n",
       " 'rolled': 5793,\n",
       " 'newscaster': 4741,\n",
       " 'who': 7468,\n",
       " 'dabbles': 2143,\n",
       " 'jazz': 3804,\n",
       " 'flute': 2927,\n",
       " 'behind': 1306,\n",
       " 'wheel': 7452,\n",
       " 'baby': 1186,\n",
       " 'pictures': 5185,\n",
       " 'facebook': 2758,\n",
       " 'thx': 6860,\n",
       " 'few': 2836,\n",
       " 'months': 4562,\n",
       " 'mrng': 4594,\n",
       " 'dear': 2192,\n",
       " 'yar': 7643,\n",
       " 'wanted': 7350,\n",
       " 'yest': 7663,\n",
       " 'already': 920,\n",
       " 'where': 7457,\n",
       " 'zhong': 7713,\n",
       " 'se': 5941,\n",
       " 'qing': 5496,\n",
       " 'ask': 1079,\n",
       " 'b4': 1174,\n",
       " 'act': 795,\n",
       " 'real': 5581,\n",
       " 'slowly': 6209,\n",
       " 'god': 3175,\n",
       " 'need': 4706,\n",
       " 'clean': 1839,\n",
       " 'heart': 3383,\n",
       " 'blood': 1401,\n",
       " 'ten': 6737,\n",
       " 'special': 6334,\n",
       " 'miracle': 4483,\n",
       " 'tomorrow': 6930,\n",
       " 'pls': 5237,\n",
       " 'yes': 7662,\n",
       " 'princess': 5392,\n",
       " 'catch': 1687,\n",
       " 'hands': 3320,\n",
       " 'wait': 7323,\n",
       " 'wesleys': 7437,\n",
       " 'town': 6974,\n",
       " 'bet': 1328,\n",
       " 'she': 6047,\n",
       " 'does': 2387,\n",
       " 'hella': 3398,\n",
       " 'drugs': 2474,\n",
       " 'problem': 5407,\n",
       " 'renewal': 5682,\n",
       " 'away': 1162,\n",
       " 'his': 3443,\n",
       " 'details': 2280,\n",
       " 'part': 5068,\n",
       " 'don': 2412,\n",
       " 'initiate': 3677,\n",
       " 'understand': 7114,\n",
       " 'has': 3352,\n",
       " 'color': 1901,\n",
       " 'dreams': 2454,\n",
       " 'stars': 6419,\n",
       " 'musical': 4637,\n",
       " 'sms': 6232,\n",
       " 'give': 3155,\n",
       " 'warm': 7354,\n",
       " 'peaceful': 5113,\n",
       " 'are': 1036,\n",
       " 'stand': 6410,\n",
       " 'doesn': 2389,\n",
       " 'ache': 788,\n",
       " 'without': 7519,\n",
       " 'wonder': 7546,\n",
       " 'crave': 2065,\n",
       " 'urgent': 7174,\n",
       " 'important': 3627,\n",
       " 'information': 3671,\n",
       " 'user': 7191,\n",
       " 'log': 4164,\n",
       " 'onto': 4927,\n",
       " 'http': 3536,\n",
       " 'www': 7611,\n",
       " 'urawinner': 7171,\n",
       " 'com': 1905,\n",
       " 'fantastic': 2791,\n",
       " 'surprise': 6602,\n",
       " 'awaiting': 1158,\n",
       " 'oz': 5021,\n",
       " 'guy': 3289,\n",
       " 'being': 1308,\n",
       " 'kinda': 3938,\n",
       " 'flaky': 2902,\n",
       " 'friend': 3022,\n",
       " 'interested': 3704,\n",
       " 'picking': 5180,\n",
       " 'worth': 7573,\n",
       " 'tonight': 6939,\n",
       " 'waiting': 7326,\n",
       " 'machan': 4279,\n",
       " 'once': 4916,\n",
       " 'honeybee': 3481,\n",
       " 'sweetest': 6624,\n",
       " 'world': 7565,\n",
       " 'laughed': 4024,\n",
       " 'havnt': 3368,\n",
       " 'met': 4445,\n",
       " 'msg': 4597,\n",
       " 'moral': 4565,\n",
       " 'even': 2673,\n",
       " 'crack': 2057,\n",
       " 'jokes': 3839,\n",
       " 'gm': 3164,\n",
       " 'gn': 3166,\n",
       " 'ge': 3111,\n",
       " 'gas': 3097,\n",
       " 'station': 6431,\n",
       " 'ammae': 940,\n",
       " 'takes': 6664,\n",
       " 'lot': 4199,\n",
       " 'turns': 7053,\n",
       " 'sit': 6160,\n",
       " 'hold': 3465,\n",
       " 'steering': 6444,\n",
       " 'hmm': 3456,\n",
       " 'shall': 6032,\n",
       " 'bring': 1509,\n",
       " 'bottle': 1448,\n",
       " 'wine': 7498,\n",
       " 'keep': 3906,\n",
       " 'us': 7183,\n",
       " 'amused': 950,\n",
       " 'joking': 3841,\n",
       " 'red': 5629,\n",
       " 'white': 7466,\n",
       " 'sorry': 6299,\n",
       " 'missed': 4493,\n",
       " 'slept': 6195,\n",
       " 'lesson': 4073,\n",
       " 'thanx': 6778,\n",
       " 'gd': 3110,\n",
       " 'nite': 4766,\n",
       " 'polyphonic': 5282,\n",
       " 'tone': 6932,\n",
       " 'mob': 4523,\n",
       " 'week': 7408,\n",
       " 'txt': 7065,\n",
       " 'pt2': 5459,\n",
       " '87575': 692,\n",
       " '1st': 332,\n",
       " 'txtin': 7070,\n",
       " '150p': 305,\n",
       " '16': 316,\n",
       " 'reply': 5697,\n",
       " 'hl': 3451,\n",
       " '4info': 516,\n",
       " 'nothing': 4813,\n",
       " 'really': 5589,\n",
       " 'making': 4312,\n",
       " 'sure': 6595,\n",
       " 'everybody': 2681,\n",
       " 'speed': 6343,\n",
       " 'holding': 3467,\n",
       " 'tightly': 6868,\n",
       " 'mean': 4393,\n",
       " 'mom': 4546,\n",
       " 'fit': 2891,\n",
       " 'whole': 7469,\n",
       " 'family': 2783,\n",
       " 'crazy': 2067,\n",
       " 'terrible': 6746,\n",
       " 'iåõm': 3772,\n",
       " 'cool': 2008,\n",
       " 'ta': 6648,\n",
       " 'tired': 6883,\n",
       " 'cause': 1692,\n",
       " 'been': 1292,\n",
       " 'doin': 2400,\n",
       " 'loads': 4153,\n",
       " 'planning': 5216,\n",
       " 'wk': 7525,\n",
       " 'social': 6253,\n",
       " 'services': 6005,\n",
       " 'inspection': 3691,\n",
       " 'nursery': 4837,\n",
       " 'take': 6661,\n",
       " 'care': 1656,\n",
       " 'spk': 6363,\n",
       " 'sn': 6238,\n",
       " 'light': 4097,\n",
       " 'turned': 7051,\n",
       " 'green': 3251,\n",
       " 'meant': 4397,\n",
       " 'another': 972,\n",
       " 'around': 1055,\n",
       " 'que': 5500,\n",
       " 'pases': 5078,\n",
       " 'buen': 1547,\n",
       " 'tiempo': 6866,\n",
       " 'something': 6275,\n",
       " 'telugu': 6732,\n",
       " 'movie': 4587,\n",
       " 'abt': 765,\n",
       " 'mm': 4512,\n",
       " 'enough': 2617,\n",
       " 'winner': 7501,\n",
       " 'valued': 7216,\n",
       " 'network': 4728,\n",
       " 'selected': 5972,\n",
       " 'receivea': 5607,\n",
       " '900': 718,\n",
       " 'reward': 5754,\n",
       " '09061701461': 192,\n",
       " 'kl341': 3949,\n",
       " 'valid': 7212,\n",
       " 'hours': 3518,\n",
       " 'raining': 5530,\n",
       " 'non': 4788,\n",
       " 'wan': 7343,\n",
       " 'elsewhere': 2580,\n",
       " 'otherwise': 4980,\n",
       " 'na': 4654,\n",
       " 'words': 7557,\n",
       " 'dismay': 2355,\n",
       " 'times': 6876,\n",
       " 'oooh': 4931,\n",
       " 'bed': 1287,\n",
       " 'ridden': 5762,\n",
       " 'ey': 2749,\n",
       " 'thinking': 6819,\n",
       " 'oclock': 4865,\n",
       " 'mine': 4470,\n",
       " 'bash': 1238,\n",
       " 'flat': 2905,\n",
       " 'plan': 5211,\n",
       " 'gsoh': 3270,\n",
       " 'spam': 6326,\n",
       " 'ladies': 3986,\n",
       " 'male': 4314,\n",
       " 'gigolo': 3145,\n",
       " 'join': 3834,\n",
       " 'fastest': 2799,\n",
       " 'growing': 3264,\n",
       " 'mens': 4429,\n",
       " 'club': 1860,\n",
       " 'oncall': 4915,\n",
       " 'mjzgroup': 4509,\n",
       " '08714342399': 117,\n",
       " '2stop': 407,\n",
       " '50rcvd': 539,\n",
       " 'gram': 3230,\n",
       " 'usually': 7199,\n",
       " 'runs': 5837,\n",
       " 'eighth': 2562,\n",
       " 'smarter': 6216,\n",
       " 'though': 6835,\n",
       " 'gets': 3132,\n",
       " 'almost': 916,\n",
       " 'crab': 2056,\n",
       " 'running': 5836,\n",
       " 'sea': 5942,\n",
       " 'shore': 6084,\n",
       " 'waves': 7380,\n",
       " 'came': 1628,\n",
       " 'cleared': 1842,\n",
       " 'footprints': 2952,\n",
       " 'asked': 1081,\n",
       " 'frnd': 3029,\n",
       " 'clearing': 1844,\n",
       " 'replied': 5695,\n",
       " 'fox': 2987,\n",
       " 'following': 2940,\n",
       " 'thats': 6783,\n",
       " 'frndsship': 3033,\n",
       " 'dwn': 2506,\n",
       " 'nyt': 4850,\n",
       " 'jus': 3872,\n",
       " 'lido': 4087,\n",
       " '930': 723,\n",
       " 'gnarls': 3167,\n",
       " 'barkleys': 1229,\n",
       " 'ringtone': 5771,\n",
       " 'totally': 6966,\n",
       " 'saying': 5905,\n",
       " 'official': 4881,\n",
       " 'england': 2608,\n",
       " 'poly': 5278,\n",
       " 'colour': 1902,\n",
       " 'flag': 2900,\n",
       " 'yer': 7661,\n",
       " 'mobile': 4525,\n",
       " 'tonights': 6940,\n",
       " '84199': 670,\n",
       " 'optout': 4953,\n",
       " 'eng': 2603,\n",
       " 'box39822': 1463,\n",
       " 'w111wx': 7305,\n",
       " '50': 529,\n",
       " 'also': 923,\n",
       " 'thk': 6826,\n",
       " 'fast': 2797,\n",
       " 'xy': 7635,\n",
       " 'suggest': 6555,\n",
       " 'dun': 2495,\n",
       " 'rain': 5529,\n",
       " 'fran': 2991,\n",
       " 'completely': 1939,\n",
       " 'broke': 1519,\n",
       " 'an': 952,\n",
       " 'knackered': 3950,\n",
       " 'bout': 1452,\n",
       " '2mrw': 398,\n",
       " 'janx': 3794,\n",
       " 'dads': 2147,\n",
       " 'fone': 2943,\n",
       " 'credit': 2073,\n",
       " 'welcome': 7423,\n",
       " 'improved': 3635,\n",
       " 'sex': 6016,\n",
       " 'dogging': 2396,\n",
       " 'unsubscribe': 7147,\n",
       " 'msgs': 4602,\n",
       " '18': 320,\n",
       " 'no1': 4774,\n",
       " 'nokia': 4783,\n",
       " '8077': 643,\n",
       " 'txting': 7071,\n",
       " 'mates': 4365,\n",
       " 'getzed': 3136,\n",
       " 'pobox': 5249,\n",
       " '36504': 443,\n",
       " 'w45wq': 7312,\n",
       " 'norm150p': 4801,\n",
       " 'swimming': 6629,\n",
       " 'pool': 5286,\n",
       " 'jacuzzi': 3781,\n",
       " 'course': 2043,\n",
       " 'guess': 3278,\n",
       " 'getting': 3135,\n",
       " 'whos': 7472,\n",
       " 'loosu': 4191,\n",
       " 'hospital': 3506,\n",
       " 'careless': 1663,\n",
       " 'roommate': 5800,\n",
       " 'wants': 7352,\n",
       " 'dubsack': 2485,\n",
       " 'bringing': 1510,\n",
       " 'extra': 2748,\n",
       " 'den': 2244,\n",
       " 'shld': 6073,\n",
       " 'went': 7430,\n",
       " 'gee': 3112,\n",
       " 'nvm': 4843,\n",
       " 'la': 3976,\n",
       " 'kaiez': 3882,\n",
       " 'mind': 4467,\n",
       " 'goin': 3180,\n",
       " 'oso': 4976,\n",
       " 'scared': 5910,\n",
       " 'hiphop': 3441,\n",
       " 'open': 4935,\n",
       " 'cant': 1643,\n",
       " 'very': 7243,\n",
       " 'woo': 7551,\n",
       " 'hoo': 3485,\n",
       " 'party': 5076,\n",
       " 'dude': 2488,\n",
       " 'allo': 913,\n",
       " 'braved': 1483,\n",
       " 'buses': 1570,\n",
       " 'taken': 6663,\n",
       " 'trains': 6984,\n",
       " 'triumphed': 7016,\n",
       " 'ham': 3313,\n",
       " 'jolly': 3842,\n",
       " 'rest': 5729,\n",
       " 'investigate': 3715,\n",
       " 'anywhere': 997,\n",
       " '0906346330': 207,\n",
       " 'abta': 766,\n",
       " 'complimentary': 1943,\n",
       " 'spanish': 6327,\n",
       " 'holiday': 3469,\n",
       " '000': 1,\n",
       " 'await': 1157,\n",
       " 'collection': 1898,\n",
       " 'sae': 5853,\n",
       " 'cs': 2092,\n",
       " 'box': 1454,\n",
       " '47': 500,\n",
       " 'po19': 5248,\n",
       " '2ez': 384,\n",
       " '150ppm': 309,\n",
       " 'awarded': 1161,\n",
       " '2000': 344,\n",
       " 'caller': 1616,\n",
       " '03': 14,\n",
       " 'final': 2864,\n",
       " 'contact': 1987,\n",
       " 'landline': 3997,\n",
       " '09064019788': 215,\n",
       " 'box42wr29c': 1466,\n",
       " 'khelate': 3923,\n",
       " 'kintu': 3942,\n",
       " 'opponenter': 4945,\n",
       " 'dhorte': 2294,\n",
       " 'lage': 3989,\n",
       " 'rule': 5829,\n",
       " 'receiving': 5609,\n",
       " 'quality': 5498,\n",
       " 'wife': 7482,\n",
       " 'knew': 3953,\n",
       " 'murder': 4631,\n",
       " 'exactly': 2706,\n",
       " 'having': 3367,\n",
       " 'lunch': 4245,\n",
       " 'alone': 917,\n",
       " 'bored': 1437,\n",
       " 'true': 7023,\n",
       " 'lov': 4210,\n",
       " 'wil': 7487,\n",
       " 'nevr': 4734,\n",
       " 'unrecognized': 7142,\n",
       " 'somone': 6283,\n",
       " 'often': 4887,\n",
       " 'mistakes': 4501,\n",
       " 'valuing': 7218,\n",
       " 'definitly': 2224,\n",
       " 'undrstnd': 7117,\n",
       " 'start': 6421,\n",
       " 'missing': 4495,\n",
       " 'thought': 6836,\n",
       " 'were': 7433,\n",
       " 'king': 3940,\n",
       " 'hill': 3434,\n",
       " 'thing': 6814,\n",
       " 'gotta': 3216,\n",
       " 'urself': 7182,\n",
       " 'shopping': 6082,\n",
       " 'frens': 3012,\n",
       " 'present': 5368,\n",
       " 'studying': 6507,\n",
       " 'next': 4744,\n",
       " 'weekend': 7410,\n",
       " 'budget': 1546,\n",
       " 'gary': 3096,\n",
       " 'freak': 2997,\n",
       " 'genius': 3120,\n",
       " 'brother': 1524,\n",
       " 'number': 4835,\n",
       " 'skype': 6183,\n",
       " 'laid': 3990,\n",
       " 'locations': 4159,\n",
       " 'direct': 2334,\n",
       " 'largest': 4011,\n",
       " 'bt': 1539,\n",
       " 'gravel': 3243,\n",
       " '69888': 586,\n",
       " 'nt': 4827,\n",
       " 'ec2a': 2531,\n",
       " '31p': 433,\n",
       " 'wishing': 7512,\n",
       " 'mas': 4354,\n",
       " 'year': 7651,\n",
       " 'advance': 832,\n",
       " 'fujitsu': 3053,\n",
       " 'lifebook': 4091,\n",
       " 'poem': 5268,\n",
       " 'near': 4696,\n",
       " 'hear': 3381,\n",
       " 'fear': 2814,\n",
       " 'cheer': 1766,\n",
       " 'more': 4566,\n",
       " 'tear': 6711,\n",
       " 'ni8': 4745,\n",
       " 'kind': 3937,\n",
       " 'shitload': 6071,\n",
       " 'girl': 3149,\n",
       " 'difficult': 2317,\n",
       " 'girls': 3152,\n",
       " 'companion': 1927,\n",
       " 'lover': 4217,\n",
       " ...}"
      ]
     },
     "execution_count": 15,
     "metadata": {},
     "output_type": "execute_result"
    }
   ],
   "source": [
    "bow.vocabulary_"
   ]
  },
  {
   "cell_type": "code",
   "execution_count": 16,
   "metadata": {},
   "outputs": [],
   "source": [
    "sample = train[\"text\"][0]"
   ]
  },
  {
   "cell_type": "code",
   "execution_count": 17,
   "metadata": {},
   "outputs": [
    {
     "data": {
      "text/plain": [
       "'Go until jurong point, crazy.. Available only in bugis n great world la e buffet... Cine there got amore wat...'"
      ]
     },
     "execution_count": 17,
     "metadata": {},
     "output_type": "execute_result"
    }
   ],
   "source": [
    "sample"
   ]
  },
  {
   "cell_type": "code",
   "execution_count": 18,
   "metadata": {},
   "outputs": [
    {
     "data": {
      "text/plain": [
       "<1x7735 sparse matrix of type '<class 'numpy.int64'>'\n",
       "\twith 18 stored elements in Compressed Sparse Row format>"
      ]
     },
     "execution_count": 18,
     "metadata": {},
     "output_type": "execute_result"
    }
   ],
   "source": [
    "vector = bow.transform([sample])\n",
    "vector"
   ]
  },
  {
   "cell_type": "code",
   "execution_count": 19,
   "metadata": {},
   "outputs": [
    {
     "name": "stdout",
     "output_type": "stream",
     "text": [
      "  (0, 943)\t1\n",
      "  (0, 1145)\t1\n",
      "  (0, 1549)\t1\n",
      "  (0, 1551)\t1\n",
      "  (0, 1821)\t1\n",
      "  (0, 2067)\t1\n",
      "  (0, 3169)\t1\n",
      "  (0, 3211)\t1\n",
      "  (0, 3247)\t1\n",
      "  (0, 3637)\t1\n",
      "  (0, 3871)\t1\n",
      "  (0, 3976)\t1\n",
      "  (0, 4924)\t1\n",
      "  (0, 5269)\t1\n",
      "  (0, 6803)\t1\n",
      "  (0, 7150)\t1\n",
      "  (0, 7366)\t1\n",
      "  (0, 7565)\t1\n"
     ]
    }
   ],
   "source": [
    "print(vector)"
   ]
  },
  {
   "cell_type": "code",
   "execution_count": 20,
   "metadata": {},
   "outputs": [
    {
     "name": "stdout",
     "output_type": "stream",
     "text": [
      "amore\n",
      "available\n",
      "buffet\n",
      "bugis\n",
      "cine\n",
      "crazy\n",
      "go\n",
      "got\n",
      "great\n",
      "in\n",
      "jurong\n",
      "la\n",
      "only\n",
      "point\n",
      "there\n",
      "until\n",
      "wat\n",
      "world\n"
     ]
    }
   ],
   "source": [
    "for col in vector.nonzero()[1]:\n",
    "    print(bow.get_feature_names()[col])"
   ]
  },
  {
   "cell_type": "markdown",
   "metadata": {},
   "source": [
    "### Nachystáme Pipeline pro zpracování dat"
   ]
  },
  {
   "cell_type": "code",
   "execution_count": 21,
   "metadata": {},
   "outputs": [],
   "source": [
    "from sklearn.pipeline import Pipeline\n",
    "from sklearn.compose import ColumnTransformer"
   ]
  },
  {
   "cell_type": "code",
   "execution_count": 60,
   "metadata": {},
   "outputs": [],
   "source": [
    "bow_transformer = ColumnTransformer([\n",
    "    ('text', CountVectorizer(), 'text')\n",
    "])"
   ]
  },
  {
   "cell_type": "code",
   "execution_count": 61,
   "metadata": {},
   "outputs": [],
   "source": [
    "pipeline = Pipeline([\n",
    "    ('bow', bow_transformer),\n",
    "])"
   ]
  },
  {
   "cell_type": "markdown",
   "metadata": {},
   "source": [
    "### Připravíme si data pro model"
   ]
  },
  {
   "cell_type": "code",
   "execution_count": 24,
   "metadata": {},
   "outputs": [],
   "source": [
    "X_train = pipeline.fit_transform(train)"
   ]
  },
  {
   "cell_type": "code",
   "execution_count": 25,
   "metadata": {},
   "outputs": [
    {
     "data": {
      "text/plain": [
       "<4457x7735 sparse matrix of type '<class 'numpy.int64'>'\n",
       "\twith 58978 stored elements in Compressed Sparse Row format>"
      ]
     },
     "execution_count": 25,
     "metadata": {},
     "output_type": "execute_result"
    }
   ],
   "source": [
    "X_train"
   ]
  },
  {
   "cell_type": "code",
   "execution_count": 26,
   "metadata": {},
   "outputs": [],
   "source": [
    "y_train = train[\"spam\"]"
   ]
  },
  {
   "cell_type": "markdown",
   "metadata": {},
   "source": [
    "### Natrénujeme první model"
   ]
  },
  {
   "cell_type": "code",
   "execution_count": 27,
   "metadata": {},
   "outputs": [
    {
     "data": {
      "text/plain": [
       "SVC()"
      ]
     },
     "execution_count": 27,
     "metadata": {},
     "output_type": "execute_result"
    }
   ],
   "source": [
    "from sklearn.svm import SVC\n",
    "\n",
    "svc = SVC(kernel=\"rbf\")\n",
    "svc.fit(X_train, y_train)"
   ]
  },
  {
   "cell_type": "code",
   "execution_count": 28,
   "metadata": {},
   "outputs": [],
   "source": [
    "from sklearn.model_selection import cross_val_score"
   ]
  },
  {
   "cell_type": "code",
   "execution_count": 29,
   "metadata": {},
   "outputs": [
    {
     "data": {
      "text/plain": [
       "0.9771129330172679"
      ]
     },
     "execution_count": 29,
     "metadata": {},
     "output_type": "execute_result"
    }
   ],
   "source": [
    "cross_val_score(svc, X_train, y_train, cv=5).mean()"
   ]
  },
  {
   "cell_type": "code",
   "execution_count": 30,
   "metadata": {},
   "outputs": [
    {
     "data": {
      "text/plain": [
       "0.9064022861105576"
      ]
     },
     "execution_count": 30,
     "metadata": {},
     "output_type": "execute_result"
    }
   ],
   "source": [
    "cross_val_score(svc, X_train, y_train, cv=5, scoring=\"f1\").mean()"
   ]
  },
  {
   "cell_type": "markdown",
   "metadata": {},
   "source": [
    "**Ověříme na testovacích datech**"
   ]
  },
  {
   "cell_type": "code",
   "execution_count": 31,
   "metadata": {},
   "outputs": [
    {
     "data": {
      "text/plain": [
       "SVC()"
      ]
     },
     "execution_count": 31,
     "metadata": {},
     "output_type": "execute_result"
    }
   ],
   "source": [
    "svc.fit(X_train, y_train)"
   ]
  },
  {
   "cell_type": "code",
   "execution_count": 32,
   "metadata": {},
   "outputs": [],
   "source": [
    "X_test = pipeline.transform(test)\n",
    "y_test = test[\"spam\"]\n",
    "\n",
    "y_pred = svc.predict(X_test)"
   ]
  },
  {
   "cell_type": "code",
   "execution_count": 33,
   "metadata": {},
   "outputs": [],
   "source": [
    "from sklearn.metrics import f1_score, precision_score, recall_score, accuracy_score"
   ]
  },
  {
   "cell_type": "code",
   "execution_count": 34,
   "metadata": {},
   "outputs": [
    {
     "data": {
      "text/plain": [
       "0.979372197309417"
      ]
     },
     "execution_count": 34,
     "metadata": {},
     "output_type": "execute_result"
    }
   ],
   "source": [
    "accuracy_score(y_pred, y_test)"
   ]
  },
  {
   "cell_type": "code",
   "execution_count": 35,
   "metadata": {},
   "outputs": [
    {
     "data": {
      "text/plain": [
       "0.9169675090252708"
      ]
     },
     "execution_count": 35,
     "metadata": {},
     "output_type": "execute_result"
    }
   ],
   "source": [
    "f1_score(y_pred, y_test)"
   ]
  },
  {
   "cell_type": "markdown",
   "metadata": {},
   "source": [
    "### Vyzkoušíme přidat TF IDF"
   ]
  },
  {
   "cell_type": "code",
   "execution_count": 36,
   "metadata": {},
   "outputs": [],
   "source": [
    "from sklearn.feature_extraction.text import TfidfTransformer"
   ]
  },
  {
   "cell_type": "code",
   "execution_count": 37,
   "metadata": {},
   "outputs": [],
   "source": [
    "bow_transformer = ColumnTransformer([\n",
    "    ('text', CountVectorizer(), 'text')\n",
    "])"
   ]
  },
  {
   "cell_type": "code",
   "execution_count": 38,
   "metadata": {},
   "outputs": [],
   "source": [
    "pipeline = Pipeline([\n",
    "    ('bow', bow_transformer),\n",
    "    ('tfidf', TfidfTransformer()),\n",
    "])"
   ]
  },
  {
   "cell_type": "code",
   "execution_count": 39,
   "metadata": {},
   "outputs": [],
   "source": [
    "X_train = pipeline.fit_transform(train)"
   ]
  },
  {
   "cell_type": "code",
   "execution_count": 40,
   "metadata": {
    "scrolled": true
   },
   "outputs": [
    {
     "data": {
      "text/plain": [
       "<4457x7735 sparse matrix of type '<class 'numpy.float64'>'\n",
       "\twith 58978 stored elements in Compressed Sparse Row format>"
      ]
     },
     "execution_count": 40,
     "metadata": {},
     "output_type": "execute_result"
    }
   ],
   "source": [
    "X_train"
   ]
  },
  {
   "cell_type": "code",
   "execution_count": 41,
   "metadata": {},
   "outputs": [
    {
     "name": "stdout",
     "output_type": "stream",
     "text": [
      "0.2780580098469636\n",
      "0.12427677819754165\n",
      "0.21083615486777574\n",
      "0.26710534096823246\n",
      "0.1903904544048287\n",
      "0.15957326527314455\n",
      "0.17659786192165677\n",
      "0.3714150879090969\n",
      "0.14901928724105368\n",
      "0.3610761139104893\n",
      "0.14278469554070108\n",
      "0.1356900314797867\n",
      "0.22465058036136068\n",
      "0.2780580098469636\n",
      "0.2736419760203263\n",
      "0.3714150879090969\n",
      "0.16911106738950407\n"
     ]
    }
   ],
   "source": [
    "for y in X_train[0].nonzero()[1]:\n",
    "    print(X_train[0,y])"
   ]
  },
  {
   "cell_type": "code",
   "execution_count": 42,
   "metadata": {},
   "outputs": [
    {
     "data": {
      "text/plain": [
       "0.9746450554372826"
      ]
     },
     "execution_count": 42,
     "metadata": {},
     "output_type": "execute_result"
    }
   ],
   "source": [
    "cross_val_score(svc, X_train, y_train, cv=5).mean()"
   ]
  },
  {
   "cell_type": "code",
   "execution_count": 43,
   "metadata": {},
   "outputs": [
    {
     "data": {
      "text/plain": [
       "0.8956291186826174"
      ]
     },
     "execution_count": 43,
     "metadata": {},
     "output_type": "execute_result"
    }
   ],
   "source": [
    "cross_val_score(svc, X_train, y_train, cv=5, scoring=\"f1\").mean()"
   ]
  },
  {
   "cell_type": "markdown",
   "metadata": {},
   "source": [
    "**Ověříme na testovacích datech**"
   ]
  },
  {
   "cell_type": "code",
   "execution_count": 44,
   "metadata": {},
   "outputs": [],
   "source": [
    "svc.fit(X_train, y_train)\n",
    "\n",
    "X_test = pipeline.transform(test)\n",
    "y_test = test[\"spam\"]\n",
    "\n",
    "y_pred = svc.predict(X_test)"
   ]
  },
  {
   "cell_type": "code",
   "execution_count": 45,
   "metadata": {},
   "outputs": [
    {
     "data": {
      "text/plain": [
       "0.9820627802690582"
      ]
     },
     "execution_count": 45,
     "metadata": {},
     "output_type": "execute_result"
    }
   ],
   "source": [
    "accuracy_score(y_pred, y_test)"
   ]
  },
  {
   "cell_type": "code",
   "execution_count": 46,
   "metadata": {},
   "outputs": [
    {
     "data": {
      "text/plain": [
       "0.9285714285714286"
      ]
     },
     "execution_count": 46,
     "metadata": {},
     "output_type": "execute_result"
    }
   ],
   "source": [
    "f1_score(y_pred, y_test)"
   ]
  },
  {
   "cell_type": "markdown",
   "metadata": {},
   "source": [
    "### Vyzkoušíme různé varianty převodu textu"
   ]
  },
  {
   "cell_type": "code",
   "execution_count": 73,
   "metadata": {},
   "outputs": [],
   "source": [
    "from sklearn.model_selection import GridSearchCV\n",
    "from sklearn.base import clone\n",
    "\n",
    "parameters = [\n",
    "   {'tfidf__use_idf': (True, False), 'bow__stop_words': (None, 'english'), 'bow__ngram_range': ((1,1), (1,3))} \n",
    "]\n",
    "\n",
    "grid_pipeline = Pipeline([\n",
    "    ('bow', CountVectorizer()),\n",
    "    ('tfidf', TfidfTransformer()),\n",
    "    ('svc', SVC())\n",
    "])\n",
    "\n",
    "grid = GridSearchCV(grid_pipeline, parameters, cv=5, scoring='f1')"
   ]
  },
  {
   "cell_type": "code",
   "execution_count": 74,
   "metadata": {
    "scrolled": true
   },
   "outputs": [
    {
     "data": {
      "text/plain": [
       "GridSearchCV(cv=5,\n",
       "             estimator=Pipeline(steps=[('bow', CountVectorizer()),\n",
       "                                       ('tfidf', TfidfTransformer()),\n",
       "                                       ('svc', SVC())]),\n",
       "             param_grid=[{'bow__ngram_range': ((1, 1), (1, 3)),\n",
       "                          'bow__stop_words': (None, 'english'),\n",
       "                          'tfidf__use_idf': (True, False)}],\n",
       "             scoring='f1')"
      ]
     },
     "execution_count": 74,
     "metadata": {},
     "output_type": "execute_result"
    }
   ],
   "source": [
    "grid.fit(train[\"text\"], y_train)"
   ]
  },
  {
   "cell_type": "code",
   "execution_count": 75,
   "metadata": {
    "scrolled": true
   },
   "outputs": [
    {
     "data": {
      "text/plain": [
       "{'bow__ngram_range': (1, 3), 'bow__stop_words': None, 'tfidf__use_idf': False}"
      ]
     },
     "execution_count": 75,
     "metadata": {},
     "output_type": "execute_result"
    }
   ],
   "source": [
    "grid.best_params_"
   ]
  },
  {
   "cell_type": "code",
   "execution_count": 76,
   "metadata": {},
   "outputs": [
    {
     "data": {
      "text/plain": [
       "0.9330436762212722"
      ]
     },
     "execution_count": 76,
     "metadata": {},
     "output_type": "execute_result"
    }
   ],
   "source": [
    "grid.best_score_"
   ]
  },
  {
   "cell_type": "markdown",
   "metadata": {},
   "source": [
    "### Upravíme pipeline podle nejlepších parametrů"
   ]
  },
  {
   "cell_type": "code",
   "execution_count": 90,
   "metadata": {},
   "outputs": [],
   "source": [
    "grid_pipeline = Pipeline([\n",
    "    ('bow', CountVectorizer(ngram_range=(1,3), stop_words=None)),\n",
    "    ('tfidf', TfidfTransformer(use_idf=False)),\n",
    "])\n",
    "\n",
    "X_train = grid_pipeline.fit_transform(train[\"text\"])"
   ]
  },
  {
   "cell_type": "markdown",
   "metadata": {},
   "source": [
    "### Vyzkoušíme grid search pro nalezení vhodných hyperparametrů SVM"
   ]
  },
  {
   "cell_type": "code",
   "execution_count": 104,
   "metadata": {
    "scrolled": true
   },
   "outputs": [
    {
     "name": "stdout",
     "output_type": "stream",
     "text": [
      "Fitting 5 folds for each of 48 candidates, totalling 240 fits\n"
     ]
    },
    {
     "data": {
      "text/plain": [
       "GridSearchCV(cv=5, estimator=SVC(probability=True), n_jobs=-1,\n",
       "             param_grid=[{'C': [1, 3, 5, 10], 'gamma': ['scale', 'auto'],\n",
       "                          'kernel': ['linear', 'rbf']},\n",
       "                         {'C': [1, 3, 5, 10], 'degree': [1, 3, 5, 10],\n",
       "                          'gamma': ['scale', 'auto'], 'kernel': ['poly']}],\n",
       "             return_train_score=True, scoring='f1', verbose=1)"
      ]
     },
     "execution_count": 104,
     "metadata": {},
     "output_type": "execute_result"
    }
   ],
   "source": [
    "parameters = [\n",
    "    {'kernel': ['linear', 'rbf'], 'gamma': ['scale', 'auto'], 'C': [1, 3, 5, 10],},\n",
    "    {'kernel': ['poly'], 'gamma': ['scale', 'auto'], 'degree':[1, 3, 5, 10], 'C': [1, 3, 5, 10],},\n",
    "]\n",
    "\n",
    "grid = GridSearchCV(SVC(probability=True), parameters, cv=5, scoring='f1', return_train_score=True, verbose=1, n_jobs=-1)\n",
    "grid.fit(X_train, y_train)"
   ]
  },
  {
   "cell_type": "code",
   "execution_count": 109,
   "metadata": {},
   "outputs": [
    {
     "data": {
      "text/plain": [
       "{'C': 3, 'gamma': 'scale', 'kernel': 'linear'}"
      ]
     },
     "execution_count": 109,
     "metadata": {},
     "output_type": "execute_result"
    }
   ],
   "source": [
    "grid.best_params_"
   ]
  },
  {
   "cell_type": "code",
   "execution_count": 110,
   "metadata": {},
   "outputs": [
    {
     "data": {
      "text/plain": [
       "0.9296113485075829"
      ]
     },
     "execution_count": 110,
     "metadata": {},
     "output_type": "execute_result"
    }
   ],
   "source": [
    "grid.best_score_"
   ]
  },
  {
   "cell_type": "code",
   "execution_count": 111,
   "metadata": {},
   "outputs": [],
   "source": [
    "svc = grid.best_estimator_"
   ]
  },
  {
   "cell_type": "markdown",
   "metadata": {},
   "source": [
    "### Vyzkoušíme další klasifikátory"
   ]
  },
  {
   "cell_type": "code",
   "execution_count": 99,
   "metadata": {},
   "outputs": [
    {
     "data": {
      "text/plain": [
       "0.8358550325796867"
      ]
     },
     "execution_count": 99,
     "metadata": {},
     "output_type": "execute_result"
    }
   ],
   "source": [
    "from sklearn.ensemble import RandomForestClassifier\n",
    "\n",
    "forest = RandomForestClassifier()\n",
    "cross_val_score(forest, X_train, y_train, scoring='f1').mean()"
   ]
  },
  {
   "cell_type": "code",
   "execution_count": 101,
   "metadata": {},
   "outputs": [
    {
     "data": {
      "text/plain": [
       "0.7613728787746228"
      ]
     },
     "execution_count": 101,
     "metadata": {},
     "output_type": "execute_result"
    }
   ],
   "source": [
    "from sklearn.linear_model import LogisticRegression\n",
    "\n",
    "logreg  = LogisticRegression()\n",
    "cross_val_score(logreg, X_train, y_train, scoring='f1').mean()"
   ]
  },
  {
   "cell_type": "markdown",
   "metadata": {},
   "source": [
    "**Ensemble metoda - Voting classifier**"
   ]
  },
  {
   "cell_type": "code",
   "execution_count": 112,
   "metadata": {},
   "outputs": [],
   "source": [
    "from sklearn.ensemble import VotingClassifier\n",
    "voting = VotingClassifier(\n",
    "    estimators=[('lr', logreg), ('rf', forest), ('svc', svc)],\n",
    "    voting='soft'\n",
    ")"
   ]
  },
  {
   "cell_type": "code",
   "execution_count": 113,
   "metadata": {},
   "outputs": [
    {
     "data": {
      "text/plain": [
       "0.9204107497264733"
      ]
     },
     "execution_count": 113,
     "metadata": {},
     "output_type": "execute_result"
    }
   ],
   "source": [
    "cross_val_score(voting, X_train, y_train, cv=5, scoring='f1').mean()"
   ]
  },
  {
   "cell_type": "code",
   "execution_count": null,
   "metadata": {},
   "outputs": [],
   "source": []
  }
 ],
 "metadata": {
  "kernelspec": {
   "display_name": "Python 3",
   "language": "python",
   "name": "python3"
  },
  "language_info": {
   "codemirror_mode": {
    "name": "ipython",
    "version": 3
   },
   "file_extension": ".py",
   "mimetype": "text/x-python",
   "name": "python",
   "nbconvert_exporter": "python",
   "pygments_lexer": "ipython3",
   "version": "3.8.7"
  }
 },
 "nbformat": 4,
 "nbformat_minor": 4
}
